{
  "nbformat": 4,
  "nbformat_minor": 0,
  "metadata": {
    "colab": {
      "private_outputs": true,
      "provenance": [],
      "toc_visible": true,
      "include_colab_link": true
    },
    "kernelspec": {
      "name": "python3",
      "display_name": "Python 3"
    },
    "language_info": {
      "name": "python"
    }
  },
  "cells": [
    {
      "cell_type": "markdown",
      "metadata": {
        "id": "view-in-github",
        "colab_type": "text"
      },
      "source": [
        "<a href=\"https://colab.research.google.com/github/yooje153/-/blob/main/Lecture10_Basic_analysis_with_Python.ipynb\" target=\"_parent\"><img src=\"https://colab.research.google.com/assets/colab-badge.svg\" alt=\"Open In Colab\"/></a>"
      ]
    },
    {
      "cell_type": "markdown",
      "metadata": {
        "id": "Pr2jPXkOaWlh"
      },
      "source": [
        "# 한국복지패널데이터\n",
        "\n",
        "* <https://www.koweps.re.kr/>\n",
        "* 주관: 한국보건사회연구원\n",
        "* 목적: 국내 가구의 경제활동을 연구하여 정책 지원에 반영할 목적으로 조사\n",
        "* 데이터 전처리 필요 -> 데이터 전처리와 시각화를 연습해봅시다\n",
        "* source: [데이터 시각화 with 파이썬](http://book.naver.com/bookdb/book_detail.naver?bid=18123838),  [데이터 다운](https://www.kaggle.com/datasets/hongsean/korea-income-and-welfare?resource=download)\n"
      ]
    },
    {
      "cell_type": "code",
      "source": [
        "!fc-list | grep \"Nanum\"\n"
      ],
      "metadata": {
        "id": "v1sfqWUla-tY"
      },
      "execution_count": null,
      "outputs": []
    },
    {
      "cell_type": "code",
      "source": [
        "!apt-get update -qq\n",
        "!apt-get install -y fonts-nanum\n",
        "!fc-cache -fv\n",
        "!rm ~/.cache/matplotlib -rf\n",
        "\n",
        "# 2. Matplotlib에 폰트 설정\n",
        "import matplotlib.pyplot as plt\n",
        "from matplotlib import font_manager, rc\n",
        "\n",
        "# NanumGothic 폰트 경로\n",
        "font_path = \"/usr/share/fonts/truetype/nanum/NanumGothic.ttf\"\n",
        "font_name = font_manager.FontProperties(fname=font_path).get_name()\n",
        "plt.rc('font', family=font_name)"
      ],
      "metadata": {
        "id": "i2dpO6MsXsZn"
      },
      "execution_count": null,
      "outputs": []
    },
    {
      "cell_type": "code",
      "metadata": {
        "id": "tr6T0BYqc3dc"
      },
      "source": [
        "import numpy as np\n",
        "import pandas as pd\n",
        "import matplotlib.pyplot as plt\n",
        "import seaborn as sns"
      ],
      "execution_count": null,
      "outputs": []
    },
    {
      "cell_type": "code",
      "metadata": {
        "id": "-T91kmPNdhcg"
      },
      "source": [
        "plt.rc('axes', unicode_minus = False)"
      ],
      "execution_count": null,
      "outputs": []
    },
    {
      "cell_type": "code",
      "metadata": {
        "id": "xA8Zj4Aib5dD"
      },
      "source": [
        "from google.colab import drive\n",
        "drive.mount(\"/content/drive\")"
      ],
      "execution_count": null,
      "outputs": []
    },
    {
      "cell_type": "code",
      "metadata": {
        "id": "-W12A_c3ekah"
      },
      "source": [
        "# data path\n",
        "dpath = \"/content/drive/MyDrive/강의/2022-2 AI를 위한 프로그래밍/data/\""
      ],
      "execution_count": null,
      "outputs": []
    },
    {
      "cell_type": "markdown",
      "metadata": {
        "id": "Pzj16BfifMTB"
      },
      "source": [
        "## 데이터 읽기\n",
        "\n",
        "* `Korea Income and Welfare.csv`\n",
        "\n",
        "variable | detail | code\n",
        ":--- | :--- | :---\n",
        "year | 연구를 수행한 연도 | YYYY\n",
        "region | 7개 권역별 지역구분 | 1=서울, 2=수도권(인천/경기), 3=부산/경남/울산, 4=대구/경북, 5=대전/충남, 6=강원/충북, 7=광주/전남/전북/제주\n",
        "income | 연소득 | float64(xxx), 단위: 만원\n",
        "family_member | 가족수 | int64(xx)\n",
        "gender | 성별 | 1=남, 2=여\n",
        "year_born | 태어난 연도 | YYYY\n",
        "education_level | 교육수준| 1=no education(under 7 yrs-old) 2=no education(7 & over 7 yrs-old) 3=elementary 4=middle school 5=high school 6=college 7=university degree 8=MA 9=doctoral degree\n",
        "marriage | 혼인상태 | 1=비해당(18세미만), 2=배우자있음, 3=사별, 4=이혼, 5=별거, 6=미혼(18세이상, 미혼모포함), 7=기타\n",
        "religion | 종교 유무 | 1=있음, 2=없음\n",
        "occupation | 직업 코드 | float64(xxx) (`job_code_translated.xlsx` 참고)\n",
        "reasonnoneworker | 직업 없는 이유 | 1=no capable 2=in military service 3=studying in school 4=prepare for school 5=preprare to apply job 6=house worker 7=caring kids at home 8=nursing 9=giving-up economic activities 10=no intention to work 11=others\n"
      ]
    },
    {
      "cell_type": "code",
      "metadata": {
        "id": "qXaW0tb7e_7K"
      },
      "source": [
        "# import data\n",
        "\n",
        "df = pd.read_csv(dpath + \"Korea Income and Welfare.csv\")\n",
        "print(df.head())\n",
        "print(df.info())"
      ],
      "execution_count": null,
      "outputs": []
    },
    {
      "cell_type": "code",
      "source": [
        "df.isnull().sum()"
      ],
      "metadata": {
        "id": "1GxqjN5z0-3N"
      },
      "execution_count": null,
      "outputs": []
    },
    {
      "cell_type": "code",
      "source": [
        "df1 = df.replace(' ', np.NaN)\n",
        "print(df1.isnull().sum())\n",
        "print(df1.info())"
      ],
      "metadata": {
        "id": "LQHK31uF1PT8"
      },
      "execution_count": null,
      "outputs": []
    },
    {
      "cell_type": "code",
      "metadata": {
        "id": "0Gr1Nt_Ke3d_"
      },
      "source": [
        "ref = pd.read_excel(dpath + \"job_code_translated.xlsx\", usecols=[3,4])\n",
        "ref.head()"
      ],
      "execution_count": null,
      "outputs": []
    },
    {
      "cell_type": "markdown",
      "metadata": {
        "id": "NEmlDq5Yf4EW"
      },
      "source": [
        "## 데이터 전처리\n",
        "\n",
        "1. gender : 1이면 '남성', 2이면 '여성'으로 변경하여 gender2로 코딩\n",
        "2. marriage : 2면 '결혼', 4이면 '이혼', 나머지는 '그외'로 변경하여 marriage2로 코딩\n",
        "3. occupation : `job_code_translated.xlsx'에서 직업이름정보(job_title)를 추출하고 df에 병합하여 job으로 코딩\n",
        "4. region : 7개 권역별 지역이름을 문자열로 변경하여 region2로 변경\n",
        "5. age : 현재 연도에서 태어난 연도를 빼서 신규컬럼 생성\n",
        "6. religion : 1이면 '종교있음', 2이면 '무교'로 religion2로 표기\n",
        "7. agegroup : 연령(age)이 30세 미만이면 '청년', 30세 이상이면서 60세 미만은 '중년', 60세 이상이면 '노년'으로 신규컬럼 코딩 후 범주형 변수로 변경하기\n",
        "8. income : 연소득이 음수인 경우 제거"
      ]
    },
    {
      "cell_type": "code",
      "metadata": {
        "id": "t-XDSl95iPoi"
      },
      "source": [
        "# 1. gender : 1이면 '남성', 2이면 '여성'으로 gender2로 코딩 (loc메소드 적용)\n",
        "df1.loc[df.gender == 1, \"gender2\"] = \"남성\"\n",
        "df1.loc[df.gender == 2, \"gender2\"] = \"여성\"\n",
        "df1.head()"
      ],
      "execution_count": null,
      "outputs": []
    },
    {
      "cell_type": "code",
      "metadata": {
        "id": "DrlBTdspjnAt"
      },
      "source": [
        "# 1. gender : 1이면 '남성', 2이면 '여성'으로 gender2로 코딩 (List Comprehension 적용: dictionary and for문 이용)\n",
        "# List Comprehension 기본구조: [표현식 for 변수 in 리스트]\n",
        "dic = {1:\"남성\", 2: \"여성\"}\n",
        "df1[\"gender2\"] = [dic[i] for i in df1.gender]\n",
        "df1.head()"
      ],
      "execution_count": null,
      "outputs": []
    },
    {
      "cell_type": "code",
      "metadata": {
        "id": "_OWC2jHViYgu"
      },
      "source": [
        "# 2. marriage : 2면 '결혼', 4이면 '이혼', 나머지는 '그외'라는 문자열로 처리하여 marriage2로 저장 (lambda함수 적용해보기)\n",
        "# lambda함수 기본구조: lambda x : 표현식\n",
        "\n",
        "def recoding(x):\n",
        "    if x == 2:\n",
        "        return \"결혼\"\n",
        "    elif x == 4:\n",
        "        return \"이혼\"\n",
        "    else:\n",
        "        return \"그외\"\n",
        "\n",
        "df1[\"marriage2\"] = df1.marriage.apply(lambda x : recoding(x))\n",
        "df1.tail()"
      ],
      "execution_count": null,
      "outputs": []
    },
    {
      "cell_type": "code",
      "metadata": {
        "id": "FJ5ycDCGiZlM"
      },
      "source": [
        "# 3. occupation : `job_code_translated.xlsx'에서 직업이름정보(job_title)를 추출하고 df1에 병합하여 job으로 코딩 (merge이용)\n",
        "df1['occupation'] = df1['occupation'].replace(np.NaN, 0).astype(int)\n",
        "df1 = pd.merge(df1,ref, how = \"left\", left_on = \"occupation\", right_on = \"job_code\")\n",
        "\n",
        "df1.tail()"
      ],
      "execution_count": null,
      "outputs": []
    },
    {
      "cell_type": "code",
      "metadata": {
        "id": "lHJOdfKTiaUb"
      },
      "source": [
        "# 4. region : 7개 권역별 지역이름을 문자열로 표기하여 region2에 저장 (함수 적용)\n",
        "# 1=서울, 2=인천/경기, 3=부산/경남/울산, 4=대구/경북, 5=대전/충남, 6=강원/충북, 7=광주/전남/전북/제주\n",
        "def recoding(x):\n",
        "    if x == 1:\n",
        "        return \"서울\"\n",
        "    elif x == 2:\n",
        "        return \"인천/경기\"\n",
        "    elif x == 3:\n",
        "        return \"부산/경남/울산\"\n",
        "    elif x == 4:\n",
        "        return \"대구/경북\"\n",
        "    elif x == 5:\n",
        "        return \"대전/충남\"\n",
        "    elif x == 6:\n",
        "        return \"강원/충북\"\n",
        "    else :\n",
        "        return \"광주/전남/전북/제주\"\n",
        "\n",
        "df1[\"region2\"] = df1.region.apply(recoding)\n",
        "df1.head()"
      ],
      "execution_count": null,
      "outputs": []
    },
    {
      "cell_type": "code",
      "metadata": {
        "id": "mb6rTLYqn0vt"
      },
      "source": [
        "# 4. region : 7개 권역별 지역이름을 문자열로 표기하여 region2에 저장 (dictionary 적용)\n",
        "# 1=서울, 2=인천/경기, 3=부산/경남/울산, 4=대구/경북, 5=대전/충남, 6=강원/충북, 7=광주/전남/전북/제주\n",
        "dic = {1:\"서울\", 2:\"인천/경기\", 3:\"부산/경남/울산\", 4:\"대구/경북\", 5:\"대전/충남\", 6:\"강원/충북\", 7:\"광주/전남/전북/제주\"}\n",
        "df1[\"region2\"] = [dic[i] for i in df1.region]\n",
        "df1.head()"
      ],
      "execution_count": null,
      "outputs": []
    },
    {
      "cell_type": "code",
      "metadata": {
        "id": "CbGDDX-gia4H"
      },
      "source": [
        "# 5. age : 현재 연도에서 태어난 연도를 빼서 신규컬럼 생성\n",
        "df1[\"age\"] = 2022 - df1.year_born\n",
        "df1.head()"
      ],
      "execution_count": null,
      "outputs": []
    },
    {
      "cell_type": "code",
      "metadata": {
        "id": "wU-HTtlEpV9w"
      },
      "source": [
        "# 5. age : 현재 연도에서 태어난 연도를 빼서 신규컬럼 생성 (현재 연도를 함수로 가져와보기)\n",
        "# 구글에서 'year in python' 검색\n",
        "from datetime import date\n",
        "\n",
        "current_year = date.today().year\n",
        "print(date.today())\n",
        "print(current_year)\n",
        "\n",
        "\n",
        "df1[\"age\"] = current_year - df1.year_born\n",
        "df1.head()"
      ],
      "execution_count": null,
      "outputs": []
    },
    {
      "cell_type": "code",
      "metadata": {
        "id": "WyOjP-DNibZM"
      },
      "source": [
        "# 6. religion : 1이면 '종교있음', 2이면 '무교'로 표기하여 religion2로 코딩 (List Comprehension사용, if else 구문 이용)\n",
        "# List Comprehension 기본구조: [표현식 for 변수 in 리스트]\n",
        "\n",
        "# 직접 코드를 구현해보세요.\n",
        "df1['religion2'] = ['종교있음' if r == 1 else '무교' for r in df1['religion']]"
      ],
      "execution_count": null,
      "outputs": []
    },
    {
      "cell_type": "code",
      "source": [
        "df1.head()"
      ],
      "metadata": {
        "id": "vNroEf6Z-J56"
      },
      "execution_count": null,
      "outputs": []
    },
    {
      "cell_type": "code",
      "metadata": {
        "id": "bAfd3H6aicur"
      },
      "source": [
        "# 7. agegroup : 연령(age)이 30세 미만이면 '청년', 30세 이상이면서 60세 미만은 '중년', 60세 이상이면 '노년'으로 신규컬럼 코딩 (함수 이용)\n",
        "\n",
        "# 직접 코드를 구현해보세요.\n",
        "\n",
        "def recoding(x):\n",
        "  if x < 30:\n",
        "    return \"청년\"\n",
        "  elif x >= 30 and x < 60:\n",
        "    return \"중년\"\n",
        "  else:\n",
        "    return \"노년\"\n",
        "\n",
        "df1['agegroup']=df1.age.apply(recoding)\n",
        "df1.head()"
      ],
      "execution_count": null,
      "outputs": []
    },
    {
      "cell_type": "code",
      "metadata": {
        "id": "dGfglquIqu98"
      },
      "source": [
        "# 7. 범주형 변수로 순서 카테고리 지정하기\n",
        "\n",
        "# 직접 코드를 구현해보세요."
      ],
      "execution_count": null,
      "outputs": []
    },
    {
      "cell_type": "code",
      "source": [
        "df1.head()"
      ],
      "metadata": {
        "id": "25SzUNXhLlwL"
      },
      "execution_count": null,
      "outputs": []
    },
    {
      "cell_type": "code",
      "source": [
        "# 8. income 변수가 음수인 경우 해당 데이터 삭제\n",
        "df1.income.describe()\n",
        "df1.drop(df1[df1.income < 0].index, inplace = True)"
      ],
      "metadata": {
        "id": "WHkTu6iOLb3f"
      },
      "execution_count": null,
      "outputs": []
    },
    {
      "cell_type": "code",
      "metadata": {
        "id": "_OaibVYzri2F"
      },
      "source": [
        "# 9. 다음 변수만 모아서 한글변수명을 붙이고 df2에 저장\n",
        "# year = 연도, age=연령, agegroup=연령대, year_born=생년, gender2=성별, marriage2=결혼상태,\n",
        "# religion2=종교유무, region=지역, occupation=직업, income=연소득\n",
        "\n",
        "df2 = df1[[\"year\",\"age\", \"agegroup\", \"year_born\", \"gender2\", \"marriage2\", \"religion2\", \"region2\", \"occupation\", \"income\"]]\n",
        "df2.head()"
      ],
      "execution_count": null,
      "outputs": []
    },
    {
      "cell_type": "code",
      "metadata": {
        "id": "qtPYVEgqvAFP"
      },
      "source": [
        " # 컬럼명 확인\n",
        " df2.columns"
      ],
      "execution_count": null,
      "outputs": []
    },
    {
      "cell_type": "code",
      "metadata": {
        "id": "apurB-Y3waXP"
      },
      "source": [
        "# 위치가 변경될 수 있으니 dictionary 이용\n",
        "dic = {\"year\":\"연도\",\"age\":\"연령\", \"agegroup\":\"연령대\", \"year_born\":\"생년\", \"gender2\":\"성별\", \"marriage2\":\"결혼상태\", \"religion2\":\"종교유무\",\n",
        "       \"region2\":\"지역\", \"occupation\":\"직업\", \"income\":\"연소득\"}\n",
        "df2 = df2.copy()\n",
        "df2.rename(columns=dic, inplace=True)\n",
        "df2.tail()"
      ],
      "execution_count": null,
      "outputs": []
    },
    {
      "cell_type": "code",
      "metadata": {
        "id": "dkR9KNa7xJST"
      },
      "source": [
        "# df2를 dpath/output/welfare_clean.csv로 저장\n",
        "df2.to_csv(dpath + \"output/welfare_clean.csv\")"
      ],
      "execution_count": null,
      "outputs": []
    },
    {
      "cell_type": "code",
      "metadata": {
        "id": "-RT0qlluxNZj"
      },
      "source": [
        "# welfare_clean.csv를 불러와서 잘 저장되었는지 확인해보기\n",
        "df = pd.read_csv(dpath + \"output/welfare_clean.csv\")\n",
        "df.head()"
      ],
      "execution_count": null,
      "outputs": []
    },
    {
      "cell_type": "code",
      "source": [],
      "metadata": {
        "id": "_Qx2gWs7UJ1W"
      },
      "execution_count": null,
      "outputs": []
    },
    {
      "cell_type": "code",
      "metadata": {
        "id": "iuWBy8muyMUK"
      },
      "source": [
        "?pd.DataFrame.to_csv"
      ],
      "execution_count": null,
      "outputs": []
    },
    {
      "cell_type": "code",
      "metadata": {
        "id": "ygcXZ-HxySOS"
      },
      "source": [
        "# df2를 dpath/output/welfare_clean.csv로 저장 (index 없이 저장하기)\n",
        "df2.to_csv(dpath + \"output/welfare_clean.csv\", index=False)\n",
        "\n",
        "# welfare_clean.csv를 불러와서 잘 저장되었는지 확인해보기\n",
        "df = pd.read_csv(dpath + \"output/welfare_clean.csv\")\n",
        "df.head()"
      ],
      "execution_count": null,
      "outputs": []
    },
    {
      "cell_type": "markdown",
      "metadata": {
        "id": "9PFCsiiCyme9"
      },
      "source": [
        "## 데이터 시각화"
      ]
    },
    {
      "cell_type": "markdown",
      "source": [
        "### 직업과 소득의 분포"
      ],
      "metadata": {
        "id": "udMyKiGqlLF1"
      }
    },
    {
      "cell_type": "code",
      "source": [
        "# 연도별 소득이 높은 직업은 무엇인가?\n",
        "# 2018년에 소득이 높은 직업이 무엇인지 막대그림으로 시각화하시오\n",
        "top_j_income = df1.groupby(['year','job_title'], sort = True, as_index=False).sum()\n",
        "top_j_income = top_j_income.sort_values(by=['year','income'],ascending = [True, False])\n",
        "top_j_income_2018 = top_j_income[top_j_income['year'] == 2018]\n",
        "top_j_income_2018 = top_j_income_2018[['job_title', 'income']].head(10)\n",
        "sns.barplot(x=\"income\",y=\"job_title\",data=top_j_income_2018);"
      ],
      "metadata": {
        "id": "T9kOF4hVihyx"
      },
      "execution_count": null,
      "outputs": []
    },
    {
      "cell_type": "code",
      "source": [
        "df1.info()"
      ],
      "metadata": {
        "id": "ceftXYxqVcuU"
      },
      "execution_count": null,
      "outputs": []
    },
    {
      "cell_type": "code",
      "source": [
        "# 숫자형 열만 선택\n",
        "numeric_columns = df1.select_dtypes(include=['number'])\n",
        "\n",
        "# 그룹화와 평균 연산\n",
        "top_j_income_job = df1.groupby(['year', 'job_title'], sort=True, as_index=False)[numeric_columns.columns].mean()\n",
        "\n",
        "# 소득 기준으로 정렬\n",
        "top_j_income_job = top_j_income_job.sort_values(by=['year', 'income'], ascending=[True, False])\n",
        "\n",
        "# 2018년 데이터 필터링 및 상위 10개 직업 추출\n",
        "top_j_income_job_2018 = top_j_income_job[top_j_income_job['year'] == 2018]\n",
        "top_j_income_job_2018 = top_j_income_job_2018[['job_title', 'income']].head(10)\n",
        "\n",
        "# 시각화\n",
        "sns.barplot(x=\"income\", y=\"job_title\", data=top_j_income_job_2018)"
      ],
      "metadata": {
        "id": "5qid6ngiVtal"
      },
      "execution_count": null,
      "outputs": []
    },
    {
      "cell_type": "code",
      "source": [
        "# 높은 임금을 받는 상위 10개 직업의 성별 확인\n",
        "top_j_income_job = df1.groupby(['year','job_title'], sort = True, as_index=False)[numeric_columns.columns].mean()\n",
        "top_j_income_job = top_j_income_job.sort_values(by=['year','income'],ascending = [True, False])\n",
        "\n",
        "\n",
        "top_j_income_job_2018 = top_j_income_job[top_j_income_job['year'] == 2018].head(10)\n",
        "top_10_job_list = top_j_income_job_2018['job_title'].to_list()\n",
        "top_10_job_list"
      ],
      "metadata": {
        "id": "5rHLhTrUtxiF"
      },
      "execution_count": null,
      "outputs": []
    },
    {
      "cell_type": "code",
      "source": [
        "df1_2018= df1[df1['year'] == 2018]\n",
        "df1_2018_job = df1_2018[df1_2018['job_title'].isin(top_10_job_list)]\n",
        "df1_2018_job = df1_2018_job.groupby(['job_title','gender'], as_index=False).sum()\n",
        "df1_2018_job\n"
      ],
      "metadata": {
        "id": "x9WJg16qt74S"
      },
      "execution_count": null,
      "outputs": []
    },
    {
      "cell_type": "code",
      "source": [
        "sns.barplot(x=\"income\",y=\"job_title\",data=df1_2018_job, hue='gender');"
      ],
      "metadata": {
        "id": "qofGJk3ux0NH"
      },
      "execution_count": null,
      "outputs": []
    },
    {
      "cell_type": "code",
      "source": [
        "# 데이터의 전체 평균 소득보다 소득이 낮은 직업은 무엇인가요?\n",
        "total_mean = df1[df1['occupation'] != 0].income.mean()\n",
        "print(total_mean)\n",
        "\n",
        "job_mean = df1.groupby('job_title')['income'].mean()\n",
        "job_over_mean = job_mean[job_mean <= total_mean].sort_values(ascending=True)\n",
        "print(job_over_mean)"
      ],
      "metadata": {
        "id": "HmXAAFoPmLjh"
      },
      "execution_count": null,
      "outputs": []
    },
    {
      "cell_type": "code",
      "source": [
        "n = 10\n",
        "job_list = job_over_mean.head(n).index.tolist()\n",
        "job_list.append('mean')\n",
        "x_pos = np.arange(n+1)\n",
        "income_list = job_over_mean.head(n).tolist()\n",
        "income_list.append(total_mean)\n",
        "\n",
        "bar_list = plt.bar(x_pos, income_list, align='center', alpha=0.5)\n",
        "bar_list[n].set_color('r')\n",
        "plt.plot([0.,n], [total_mean, total_mean], 'k--')\n",
        "plt.xticks(x_pos, labels=job_list, rotation='vertical')\n",
        "\n",
        "plt.ylabel('Income')\n",
        "plt.title('Job income list under mean')\n",
        "\n",
        "plt.show()"
      ],
      "metadata": {
        "id": "rO3XKYYEm8cm"
      },
      "execution_count": null,
      "outputs": []
    },
    {
      "cell_type": "markdown",
      "metadata": {
        "id": "MCJM020KyyOw"
      },
      "source": [
        "### 결혼상태와 종교유무의 분포"
      ]
    },
    {
      "cell_type": "code",
      "metadata": {
        "id": "E0jyPtOuzEFj"
      },
      "source": [
        "# 결혼상태별 빈도 확인\n",
        "df[\"결혼상태\"].value_counts()"
      ],
      "execution_count": null,
      "outputs": []
    },
    {
      "cell_type": "code",
      "metadata": {
        "id": "qIppfK6h0u7_"
      },
      "source": [
        "# 빈도막대그래프 그리기\n",
        "sns.catplot(kind=\"count\", x=\"결혼상태\", data=df);"
      ],
      "execution_count": null,
      "outputs": []
    },
    {
      "cell_type": "code",
      "metadata": {
        "id": "IiMCQnsVzQam"
      },
      "source": [
        "# 결혼상태 순서를 정해주기\n",
        "df[\"결혼상태\"] = pd.Categorical(df[\"결혼상태\"], categories=[\"결혼\", \"이혼\", \"그외\"])"
      ],
      "execution_count": null,
      "outputs": []
    },
    {
      "cell_type": "code",
      "metadata": {
        "id": "Ty2K6U3azh-r"
      },
      "source": [
        "sns.catplot(kind=\"count\", x=\"결혼상태\", data=df);"
      ],
      "execution_count": null,
      "outputs": []
    },
    {
      "cell_type": "code",
      "metadata": {
        "id": "6rd_qbn30UFM"
      },
      "source": [
        "# countplot()의 order 옵션 사용해서 이혼, 결혼, 그외 순으로 그림 그려보기\n",
        "sns.catplot(kind=\"count\", x=\"결혼상태\", data=df, order=[\"이혼\", \"결혼\", \"그외\"]);"
      ],
      "execution_count": null,
      "outputs": []
    },
    {
      "cell_type": "code",
      "metadata": {
        "id": "ZZX3HY5n0mx0"
      },
      "source": [
        "# 결혼상태에 따라 종교유무를 나누어 표기\n",
        "# 막대 색상을 팔레트 \"Set2\" 이용\n",
        "sns.countplot(x=\"결혼상태\", data=df, hue=\"종교유무\", palette=\"Set2\");"
      ],
      "execution_count": null,
      "outputs": []
    },
    {
      "cell_type": "code",
      "metadata": {
        "id": "u-Rf4Dv21J-o"
      },
      "source": [
        "# 결혼상태에 따라 종교유무를 나누어 표기 (종교있음 > 무교 순으로 표기)\n",
        "# 테두리 두께를 1로 지정하고, 테두리 색상을 navy로 주기\n",
        "sns.countplot(x=\"결혼상태\", data=df, hue=\"종교유무\", hue_order=[\"종교있음\", \"무교\"],\n",
        "              linewidth=1, edgecolor=\"navy\");"
      ],
      "execution_count": null,
      "outputs": []
    },
    {
      "cell_type": "code",
      "metadata": {
        "id": "2Mvpe2Uc1R1s"
      },
      "source": [
        "# 위 그림을 가로막대로 그리고, 막대 색상을 팔레트 \"Paired\"로 주고, 테두리 색상을 gray로 주기\n",
        "sns.countplot(y=\"결혼상태\", data=df, hue=\"종교유무\", hue_order=[\"종교있음\", \"무교\"], palette=\"Paired\", edgecolor=\"gray\");"
      ],
      "execution_count": null,
      "outputs": []
    },
    {
      "cell_type": "markdown",
      "metadata": {
        "id": "lMmyw1WZ2Ys_"
      },
      "source": [
        "### 연령 분포\n"
      ]
    },
    {
      "cell_type": "code",
      "metadata": {
        "id": "5aVRm0SU2qYr"
      },
      "source": [
        "# 연령에 대한 히스토그램\n",
        "sns.displot(kind=\"hist\", x=\"연령\", data=df, binwidth=5);"
      ],
      "execution_count": null,
      "outputs": []
    },
    {
      "cell_type": "code",
      "metadata": {
        "id": "3uw9aMOe2-AB"
      },
      "source": [
        "# 연령에 대한 히스토그램에 밀도곡선 얹고, 색상을 magenta로 지정하기\n",
        "sns.displot(kind=\"hist\", x=\"연령\", data=df, binwidth=5, kde=True, color=\"m\");"
      ],
      "execution_count": null,
      "outputs": []
    },
    {
      "cell_type": "markdown",
      "metadata": {
        "id": "jEB609VF3NSg"
      },
      "source": [
        "### 연령과 소득, 결혼유무 분포"
      ]
    },
    {
      "cell_type": "code",
      "metadata": {
        "id": "ysjMbXRH3t9K"
      },
      "source": [
        "# 연령과 연소득의 산점도\n",
        "sns.relplot(kind=\"scatter\", x=\"연령\", y=\"연소득\", data=df);"
      ],
      "execution_count": null,
      "outputs": []
    },
    {
      "cell_type": "code",
      "metadata": {
        "id": "u_QvR7J-30et"
      },
      "source": [
        "# 연령과 월소득의 산점도 그린 뒤, 마진에 히스토그램 얹기\n",
        "sns.jointplot(x=\"연령\", y=\"연소득\", data=df);"
      ],
      "execution_count": null,
      "outputs": []
    },
    {
      "cell_type": "code",
      "metadata": {
        "id": "RlQFLjKn375D"
      },
      "source": [
        "# pairplot으로 그림 그리기\n",
        "sns.pairplot(data=df[[\"연령\", \"연소득\"]]);"
      ],
      "execution_count": null,
      "outputs": []
    },
    {
      "cell_type": "code",
      "metadata": {
        "id": "riq2D3zN4CnR"
      },
      "source": [
        "# pairplot의 대각선은 밀도곡선으로 변경하고, 하삼각만 그리기\n",
        "sns.pairplot(data=df[[\"연령\", \"연소득\"]], diag_kind=\"kde\", corner=True);"
      ],
      "execution_count": null,
      "outputs": []
    },
    {
      "cell_type": "code",
      "metadata": {
        "id": "QGO89je84Irx"
      },
      "source": [
        "# 연령과 월소득에 대한 pairplot을 결혼상태에 따라 색상을 구분하여 그리기\n",
        "sns.pairplot(data=df[[\"연령\", \"연소득\", \"결혼상태\"]], hue=\"결혼상태\");"
      ],
      "execution_count": null,
      "outputs": []
    },
    {
      "cell_type": "code",
      "metadata": {
        "id": "sbllizlA4kQb"
      },
      "source": [
        "# 연령과 월소득에 대한 산점도를 결혼상태에 따라 나눠서 그리되, 결혼상태는 결혼과 이혼만 추출해서 그리기\n",
        "sns.relplot(kind=\"scatter\", x=\"연령\", y=\"연소득\", data=df.query(\"결혼상태 == '결혼' | 결혼상태 == '이혼'\"),\n",
        "            col=\"결혼상태\", col_order=[\"결혼\", \"이혼\"]);"
      ],
      "execution_count": null,
      "outputs": []
    },
    {
      "cell_type": "markdown",
      "metadata": {
        "id": "8UeYC0kz5l2c"
      },
      "source": [
        "### 성별과 연령 분포"
      ]
    },
    {
      "cell_type": "code",
      "metadata": {
        "id": "e_DZ07JD58Ty"
      },
      "source": [
        "# 연령에 대한 박스그림\n",
        "sns.catplot(kind=\"box\", x=\"연령\", data=df, width=0.5);"
      ],
      "execution_count": null,
      "outputs": []
    },
    {
      "cell_type": "code",
      "metadata": {
        "id": "N2Q33dJ56GJu"
      },
      "source": [
        "# 성별에 따라 연령에 대한 바이올린 그림 그리기\n",
        "sns.violinplot(x=\"성별\", y=\"연령\", data=df);"
      ],
      "execution_count": null,
      "outputs": []
    },
    {
      "cell_type": "code",
      "metadata": {
        "id": "62mQNQje6ZAk"
      },
      "source": [
        "# 성별에 따른 연령분포의 바이올린 그림을 결혼상태에 따라 나눠 그리기 (단, 결혼상태는 '결혼', '그외'만 추출하여 그리기)\n",
        "sns.violinplot(x=\"성별\", y=\"연령\", data=df.query(\"결혼상태 != '이혼'\"), hue=\"결혼상태\", hue_order=[\"결혼\", \"그외\"]);"
      ],
      "execution_count": null,
      "outputs": []
    },
    {
      "cell_type": "code",
      "metadata": {
        "id": "fwl69eQf6-mm"
      },
      "source": [
        "# 성별에 따른 연령분포의 바이올린 그림을 결혼상태에 따라 분할된(반반) 바이올린으로 그리기 (단, 결혼상태는 '결혼', '그외'만 추출하여 그리기)\n",
        "sns.violinplot(x=\"성별\", y=\"연령\", data=df.query(\"결혼상태 != '이혼'\"), hue=\"결혼상태\", hue_order=[\"결혼\", \"그외\"], split=True);"
      ],
      "execution_count": null,
      "outputs": []
    },
    {
      "cell_type": "markdown",
      "metadata": {
        "id": "9HbjPr0N7OU4"
      },
      "source": [
        "### 성별과 소득 분포"
      ]
    },
    {
      "cell_type": "code",
      "metadata": {
        "id": "NrkvxhVFKfFo"
      },
      "source": [
        "# 성별에 따른 평균 월소득 계산\n",
        "df.groupby(\"성별\")[\"연소득\"].mean()"
      ],
      "execution_count": null,
      "outputs": []
    },
    {
      "cell_type": "code",
      "metadata": {
        "id": "wC2mrbpQK6Db"
      },
      "source": [
        "df[\"연소득\"].groupby(df[\"성별\"]).mean()"
      ],
      "execution_count": null,
      "outputs": []
    },
    {
      "cell_type": "code",
      "metadata": {
        "id": "rDPPp65YK36Q"
      },
      "source": [
        "# 성별에 따른 평균 연소득에 대한 평균막대그래프 (신뢰구간 표시 안하기)\n",
        "sns.catplot(kind=\"bar\", x=\"성별\", y=\"연소득\", data=df, ci=None);"
      ],
      "execution_count": null,
      "outputs": []
    },
    {
      "cell_type": "code",
      "metadata": {
        "id": "qZ4UYC61LMrW"
      },
      "source": [
        "# 성별에 따른 평균 연소득에 대한 평균막대그래프를 결혼상태에 따라 구분하여 가로막대로 그리기\n",
        "sns.catplot(kind=\"bar\", y=\"성별\", x=\"연소득\", data=df, ci=None, hue=\"결혼상태\");"
      ],
      "execution_count": null,
      "outputs": []
    },
    {
      "cell_type": "code",
      "metadata": {
        "id": "QoZWm3yDLoHw"
      },
      "source": [
        "# 성별에 따른 연소득에 대한 박스그림 그리기\n",
        "sns.catplot(kind=\"box\", x=\"성별\", y=\"연소득\", data=df);"
      ],
      "execution_count": null,
      "outputs": []
    },
    {
      "cell_type": "code",
      "metadata": {
        "id": "W7En91OzL2wG"
      },
      "source": [
        "# 성별에 따른 연소득에 대한 박스그림 그리기 (평균 연소득이 4000 이하인 개체만 추출)\n",
        "sns.catplot(kind=\"box\", x=\"성별\", y=\"연소득\", data=df.query(\"연소득<=4000\"));"
      ],
      "execution_count": null,
      "outputs": []
    },
    {
      "cell_type": "markdown",
      "metadata": {
        "id": "IAH3-ri7ND_9"
      },
      "source": [
        "# 서울시 구별 CCTV 현황 분석\n",
        "\n",
        "* [서울시 자치구 연도별 CCTV 설치 현황 데이터](http://data.seoul.go.kr/dataList/OA-2734/F/1/datasetView.do)\n",
        "* [서울시 자치구 연도별 인구 데이터](https://data.seoul.go.kr/dataList/10790/S/2/datasetView.do)\n",
        "* 서울시 구별 CCTV 설치현황(구별 인구대비현황 등) 분석\n",
        "* source: [파이썬으로 데이터 주무르기](https://github.com/PinkWink/DataScience)\n",
        "\n"
      ]
    },
    {
      "cell_type": "markdown",
      "metadata": {
        "id": "UxaqIruzUCai"
      },
      "source": [
        "## 데이터 읽기"
      ]
    },
    {
      "cell_type": "code",
      "metadata": {
        "id": "2PAMbRflO-Cy"
      },
      "source": [
        "# df = pd.read_csv(dpath + \"서울시CCTV설치운영현황(자치구)_년도별_210731기준.csv\", encoding=\"CP949\", skiprows=1)\n",
        "\n",
        "# thousands = ',' 옵션으로 천 단위 자리수 구분 콤마 없애고 불러오기\n",
        "df = pd.read_csv(dpath + \"서울시CCTV설치운영현황(자치구)_년도별_210731기준.csv\", encoding=\"CP949\", skiprows=1, thousands=\",\")\n",
        "df.head()"
      ],
      "execution_count": null,
      "outputs": []
    },
    {
      "cell_type": "code",
      "metadata": {
        "id": "7sByWJk_XG7G"
      },
      "source": [
        "print(df.info())\n",
        "print(\"-----\")\n",
        "print(df.shape)"
      ],
      "execution_count": null,
      "outputs": []
    },
    {
      "cell_type": "code",
      "metadata": {
        "id": "vEY6FKk7SkxK"
      },
      "source": [
        "# 구분이 \"계\"인 행 삭제\n",
        "df = df[df[\"구분\"] != \"계\"]\n",
        "df.head()"
      ],
      "execution_count": null,
      "outputs": []
    },
    {
      "cell_type": "code",
      "metadata": {
        "id": "jdr_s8xrVao5"
      },
      "source": [
        "# 2021년 열 삭제\n",
        "df.drop(\"2021년\", axis=1, inplace=True)\n",
        "df.head()"
      ],
      "execution_count": null,
      "outputs": []
    },
    {
      "cell_type": "code",
      "metadata": {
        "id": "SdsZMkNOZPyM"
      },
      "source": [
        "pop = pd.read_excel(dpath + \"population_in_Seoul.xlsx\", skiprows=2,usecols=[\"기간\", \"자치구\", \"계\", \"계.1\", \"계.2\", \"65세이상고령자\"])\n",
        "pop.head()"
      ],
      "execution_count": null,
      "outputs": []
    },
    {
      "cell_type": "code",
      "metadata": {
        "id": "L3qz0D-zPked"
      },
      "source": [
        "pop.rename(columns={\"계\":\"인구수\", \"계.1\":\"한국인\", \"계.2\":\"외국인\", \"65세이상고령자\":\"고령자\"}, inplace=True)\n",
        "pop.head()"
      ],
      "execution_count": null,
      "outputs": []
    },
    {
      "cell_type": "code",
      "metadata": {
        "id": "GIed0IDwQ8h5"
      },
      "source": [
        "# 자치구가 \"합계\"인 행 삭제\n",
        "pop = pop[pop[\"자치구\"] != \"합계\"]\n",
        "pop.head()"
      ],
      "execution_count": null,
      "outputs": []
    },
    {
      "cell_type": "code",
      "metadata": {
        "id": "SkWUo-VATd9r"
      },
      "source": [
        "# 자치구별 데이터 개수 확인\n",
        "pop.groupby(\"자치구\")[\"기간\"].count()"
      ],
      "execution_count": null,
      "outputs": []
    },
    {
      "cell_type": "markdown",
      "metadata": {
        "id": "Yewgf01DUIEE"
      },
      "source": [
        "## 데이터 파악\n"
      ]
    },
    {
      "cell_type": "markdown",
      "metadata": {
        "id": "O_yV0Er5a5Fs"
      },
      "source": [
        "\n",
        "### CCTV 현황"
      ]
    },
    {
      "cell_type": "code",
      "metadata": {
        "id": "Tf83rDCyTyhU"
      },
      "source": [
        "# CCTV 데이터에서 CCTV 전체개수로 정렬해서 CCTV가 가장 적은 구부터 5개구 확인하기\n",
        "df.head()\n",
        "df.sort_values(\"총계\").head()"
      ],
      "execution_count": null,
      "outputs": []
    },
    {
      "cell_type": "code",
      "metadata": {
        "id": "gwSKt9WeUoiC"
      },
      "source": [
        "# CCTV 데이터에서 CCTV 전체개수로 정렬해서 CCTV가 가장 많은 구부터 5개구 확인하기\n",
        "df.head()\n",
        "df.sort_values(\"총계\", ascending=False).head()"
      ],
      "execution_count": null,
      "outputs": []
    },
    {
      "cell_type": "code",
      "metadata": {
        "id": "lFX9vRpUVCNE"
      },
      "source": [
        "# 최근 3년간 CCTV 증가율 계산 (최근 3년간 CCTV 수를 더하고, 최근 3년 이전 CCTV 수로 나누기)\n",
        "\n",
        "df[\"최근3년CCTV수\"] = df[[\"2018년\", \"2019년\", \"2020년\"]].sum(axis=1)  # 행별로 컬럼의 합 구하기\n",
        "df[\"최근3년이전CCTV수\"] = df.loc[:, \"2012년 이전\":\"2017년\"].sum(axis=1)\n",
        "df[\"최근3년CCTV증가율\"] = df[\"최근3년CCTV수\"] / df[\"최근3년이전CCTV수\"] * 100\n",
        "df.head()"
      ],
      "execution_count": null,
      "outputs": []
    },
    {
      "cell_type": "code",
      "metadata": {
        "id": "gx9klW0qV6xp"
      },
      "source": [
        "df.drop([\"최근3년CCTV수\", \"최근3년이전CCTV수\"], axis=1, inplace=True)\n",
        "df.head()"
      ],
      "execution_count": null,
      "outputs": []
    },
    {
      "cell_type": "code",
      "metadata": {
        "id": "XP2gkopjWbgQ"
      },
      "source": [
        "# 최근 3년 CCTV 증가율이 가장 높았던 구부터 5개구 확인\n",
        "df.sort_values(\"최근3년CCTV증가율\", ascending=False).head()"
      ],
      "execution_count": null,
      "outputs": []
    },
    {
      "cell_type": "markdown",
      "metadata": {
        "id": "QIstC5hvWoOa"
      },
      "source": [
        "### 서울시 인구현황"
      ]
    },
    {
      "cell_type": "code",
      "source": [
        "pop.head()"
      ],
      "metadata": {
        "id": "ICN74cRiZwo2"
      },
      "execution_count": null,
      "outputs": []
    },
    {
      "cell_type": "code",
      "metadata": {
        "id": "9OggHiUgY4Bm"
      },
      "source": [
        "# 구별 외국인비율과 고령자비율 계산\n",
        "\n",
        "pop[\"외국인비율\"] = pop[\"외국인\"] / pop[\"인구수\"] * 100\n",
        "pop[\"고령자비율\"] = pop[\"고령자\"] / pop[\"인구수\"] * 100\n",
        "pop.head()"
      ],
      "execution_count": null,
      "outputs": []
    },
    {
      "cell_type": "code",
      "metadata": {
        "id": "IpR_qXJHZrR5"
      },
      "source": [
        "# 인구수가 가장 많은 구부터 5개구 확인\n",
        "pop.sort_values(\"인구수\", ascending=False).head()"
      ],
      "execution_count": null,
      "outputs": []
    },
    {
      "cell_type": "code",
      "metadata": {
        "id": "nCf2qyj9aEst"
      },
      "source": [
        "# 외국인 비율이 가장 높은 구부터 5개구 확인\n",
        "pop.sort_values(\"외국인비율\", ascending=False).head()"
      ],
      "execution_count": null,
      "outputs": []
    },
    {
      "cell_type": "code",
      "metadata": {
        "id": "dcak8PTwagZk"
      },
      "source": [
        "# 고령자 비율이 가장 높은 구부터 5개구 확인\n",
        "pop.sort_values(\"고령자비율\", ascending=False).head()"
      ],
      "execution_count": null,
      "outputs": []
    },
    {
      "cell_type": "markdown",
      "metadata": {
        "id": "bulc5atqakXB"
      },
      "source": [
        "## 데이터 병합"
      ]
    },
    {
      "cell_type": "code",
      "metadata": {
        "id": "dZgoRvzLa8X9"
      },
      "source": [
        "# CCTV 데이터에서 불필요한 부분 삭제\n",
        "df.head()"
      ],
      "execution_count": null,
      "outputs": []
    },
    {
      "cell_type": "code",
      "metadata": {
        "id": "I3WDqrs-bGOc"
      },
      "source": [
        "x = df.loc[:, \"2012년 이전\":\"2020년\"].columns"
      ],
      "execution_count": null,
      "outputs": []
    },
    {
      "cell_type": "code",
      "metadata": {
        "id": "dXqFa9bDbPBb"
      },
      "source": [
        "df.drop(x, axis=1, inplace=True)\n",
        "df.head()"
      ],
      "execution_count": null,
      "outputs": []
    },
    {
      "cell_type": "code",
      "metadata": {
        "id": "ufANIc1hbiWz"
      },
      "source": [
        "# 서울시 데이터에서 불필요한 부분 삭제 (자치구, 인구수, 한국인, 외국인, 고령자, 외국인비율, 고령자비율만 남기기)\n",
        "pop.head()"
      ],
      "execution_count": null,
      "outputs": []
    },
    {
      "cell_type": "code",
      "metadata": {
        "id": "1CH801cFbtlJ"
      },
      "source": [
        "pop = pop.loc[:, \"자치구\":]\n",
        "pop.head()"
      ],
      "execution_count": null,
      "outputs": []
    },
    {
      "cell_type": "code",
      "metadata": {
        "id": "LNmz2qyxcaz1"
      },
      "source": [
        "# 두 데이터 병합 (구 이름 기준)\n",
        "final = pd.merge(df, pop, left_on=\"구분\", right_on=\"자치구\")\n",
        "final.head()"
      ],
      "execution_count": null,
      "outputs": []
    },
    {
      "cell_type": "code",
      "metadata": {
        "id": "eJ5JwYvPcrRh"
      },
      "source": [
        "# 구 이름을 index로 부여하기\n",
        "final.set_index(\"구분\", inplace=True)\n",
        "final.head()"
      ],
      "execution_count": null,
      "outputs": []
    },
    {
      "cell_type": "markdown",
      "metadata": {
        "id": "YBHwUypDdKfK"
      },
      "source": [
        "## 데이터 분석"
      ]
    },
    {
      "cell_type": "markdown",
      "metadata": {
        "id": "BOc87rOvdQVx"
      },
      "source": [
        "### 상관분석\n"
      ]
    },
    {
      "cell_type": "code",
      "metadata": {
        "id": "ZJoM5aocdkkJ"
      },
      "source": [
        "# CCTV수와 인구수, 고령자비율, 외국인비율 간의 상관관계\n",
        "# ?pd.DataFrame.corr\n",
        "idx = [\"총계\", \"인구수\", \"고령자비율\", \"외국인비율\"]\n",
        "final[idx].corr(method=\"spearman\")"
      ],
      "execution_count": null,
      "outputs": []
    },
    {
      "cell_type": "code",
      "source": [
        "# CCTV수와 인구수, 고령자비율, 외국인비율 간의 상관관계\n",
        "# ?pd.DataFrame.corr\n",
        "idx = [\"총계\", \"인구수\", \"고령자비율\", \"외국인비율\"]\n",
        "final[idx].corr()"
      ],
      "metadata": {
        "id": "jhzcoE-Xe992"
      },
      "execution_count": null,
      "outputs": []
    },
    {
      "cell_type": "code",
      "metadata": {
        "id": "SUc8OMSOd2E8"
      },
      "source": [
        "?pd.DataFrame.corrwith"
      ],
      "execution_count": null,
      "outputs": []
    },
    {
      "cell_type": "code",
      "metadata": {
        "id": "v8WH2eDYeZh_"
      },
      "source": [
        "final[idx].corrwith(final[\"총계\"])"
      ],
      "execution_count": null,
      "outputs": []
    },
    {
      "cell_type": "code",
      "metadata": {
        "id": "zWqnh1QUeejF"
      },
      "source": [
        "# heatmap으로 나타내기\n",
        "# heatmap이란? 범주형 자료의 계급(class)별로 연속형 자료를 집계한 자료를 사용하여,\n",
        "# 집계한 값에 비례하여 색깔을 다르게 해서 2차원으로 자료를 시각화하는 그림이다.\n",
        "\n",
        "?sns.heatmap"
      ],
      "execution_count": null,
      "outputs": []
    },
    {
      "cell_type": "code",
      "metadata": {
        "id": "avh0VY2_ervG"
      },
      "source": [
        "sns.heatmap(final[idx].corr(), annot=True, fmt=\".3f\", linewidth=.5, cmap=\"Blues\");"
      ],
      "execution_count": null,
      "outputs": []
    },
    {
      "cell_type": "markdown",
      "metadata": {
        "id": "Tr_-6wFBe6kL"
      },
      "source": [
        "### 구별 CCTV 현황 그래프"
      ]
    },
    {
      "cell_type": "code",
      "metadata": {
        "id": "673AFeP7fpn9"
      },
      "source": [
        "# 구별 CCTV 총계를 가로막대그래프로 그려보기\n",
        "final.head()"
      ],
      "execution_count": null,
      "outputs": []
    },
    {
      "cell_type": "code",
      "metadata": {
        "id": "ECG3HH8sf4-r"
      },
      "source": [
        "sns.barplot(x=\"총계\", y=final.index, data=final);"
      ],
      "execution_count": null,
      "outputs": []
    },
    {
      "cell_type": "code",
      "metadata": {
        "id": "agdphfhwgRTZ"
      },
      "source": [
        "# 총계가 가장 높은 구부터 차례로 도표\n",
        "final.sort_values(\"총계\", ascending=False, inplace=True)\n",
        "final.head()"
      ],
      "execution_count": null,
      "outputs": []
    },
    {
      "cell_type": "code",
      "metadata": {
        "id": "9lYdUUCmhkZG"
      },
      "source": [
        "sns.barplot(x=\"총계\", y=final.index, data=final);"
      ],
      "execution_count": null,
      "outputs": []
    },
    {
      "cell_type": "code",
      "metadata": {
        "id": "8wf6olkihm-Q"
      },
      "source": [
        "# 인구수 대비 CCTV 개수의 비율을 구하고 가장 높은 구부터 도표\n",
        "final[\"CCTV비율\"] = final[\"총계\"] / final[\"인구수\"] * 100\n",
        "final.sort_values(\"CCTV비율\", ascending=False, inplace=True)\n",
        "sns.barplot(x=\"CCTV비율\", y=final.index, data=final);"
      ],
      "execution_count": null,
      "outputs": []
    },
    {
      "cell_type": "markdown",
      "metadata": {
        "id": "TouvsX6oiAhM"
      },
      "source": [
        "### 인구수와 CCTV 관계"
      ]
    },
    {
      "cell_type": "code",
      "metadata": {
        "id": "LoVGKK-PiJ1n"
      },
      "source": [
        "# 인구수 대비 CCTV 수에 대한 산점도 그리기\n",
        "sns.relplot(kind=\"scatter\", x=\"인구수\", y=\"총계\", data=final)\n",
        "for i in range(final.shape[0]):\n",
        "    plt.text(x=final[\"인구수\"][i]*1.02, y=final[\"총계\"][i]*0.98, s=final.index[i]); # s - The text (str)"
      ],
      "execution_count": null,
      "outputs": []
    },
    {
      "cell_type": "code",
      "metadata": {
        "id": "aTxWyTZ1kz4d"
      },
      "source": [
        "# 인구수 대비 CCTV 수에 대한 산점도 그리기 (CCTV가 가장 많은 구부터 5개구만 표기하기)\n",
        "final.sort_values(\"총계\", ascending=False, inplace=True)\n",
        "sns.relplot(kind=\"scatter\", x=\"인구수\", y=\"총계\", data=final)\n",
        "for i in range(5):\n",
        "    plt.text(x=final[\"인구수\"][i]*1.02, y=final[\"총계\"][i]*0.98, s=final.index[i]);"
      ],
      "execution_count": null,
      "outputs": []
    },
    {
      "cell_type": "code",
      "metadata": {
        "id": "3IdZfTCxiQz9"
      },
      "source": [
        "# 인구수 대비 CCTV 개수에 대한 회귀도표 그리고 90% 신뢰구간 표기하기\n",
        "sns.regplot(x=\"인구수\", y=\"총계\", data=final, ci=90);"
      ],
      "execution_count": null,
      "outputs": []
    },
    {
      "cell_type": "markdown",
      "metadata": {
        "id": "JCP5q_16nQlO"
      },
      "source": [
        "# 일자리와 부동산 관계 분석\n",
        "\n",
        "* [지역별 고용노동통계 데이터](http://laborstat.moel.go.kr/hmp/index.do)\n",
        "* [KOSIS 주민등록세대수](https://kosis.kr/)\n",
        "* [KOSIS 아파트 실거래 가격 지수](https://kosis.kr/)\n",
        "\n",
        "* source: [파이썬으로 데이터 주무르기](https://www.kyobobook.co.kr/product/detailViewKor.laf?mallGb=KOR&ejkGb=KOR&barcode=9791158391546)\n"
      ]
    },
    {
      "cell_type": "markdown",
      "metadata": {
        "id": "YI-WgFgosCvo"
      },
      "source": [
        "## 데이터 읽기\n"
      ]
    },
    {
      "cell_type": "code",
      "metadata": {
        "id": "1LRE426_sMJ0"
      },
      "source": [
        "# 지역별 일자리 데이터 읽어오기\n",
        "job = pd.read_excel(dpath + \"행정구역_시도__산업별_대분류__고용_2022.xlsx\",  skiprows=1)\n",
        "job.head()"
      ],
      "execution_count": null,
      "outputs": []
    },
    {
      "cell_type": "code",
      "source": [
        "# 지역명 나누기\n",
        "job[\"지역\"] = job[\"지역별\"].str[:4]\n",
        "job[\"지역\"]"
      ],
      "metadata": {
        "id": "5FMdCw7y2dOd"
      },
      "execution_count": null,
      "outputs": []
    },
    {
      "cell_type": "code",
      "source": [
        "job[\"지역\"].value_counts()"
      ],
      "metadata": {
        "id": "8gtjO6NtuPkC"
      },
      "execution_count": null,
      "outputs": []
    },
    {
      "cell_type": "code",
      "source": [
        "job"
      ],
      "metadata": {
        "id": "5Q1l27hs-NZL"
      },
      "execution_count": null,
      "outputs": []
    },
    {
      "cell_type": "code",
      "metadata": {
        "id": "X6rPR6mcylPP"
      },
      "source": [
        "# 2022년 1월 데이터만 추출\n",
        "\n",
        "job.rename(columns={job.columns[4]:\"종사자수\"}, inplace=True)\n",
        "job1 = pd.DataFrame(job.loc[:,['종사자수','지역']])\n",
        "job1"
      ],
      "execution_count": null,
      "outputs": []
    },
    {
      "cell_type": "code",
      "metadata": {
        "id": "MYpBVLkdwUXF"
      },
      "source": [
        "# 세대수 데이터\n",
        "pop = pd.read_excel(dpath + \"행정구역_시군구_별_주민등록세대수_20221107013901.xlsx\")\n",
        "pop.head()"
      ],
      "execution_count": null,
      "outputs": []
    },
    {
      "cell_type": "code",
      "source": [
        "# 지역별 데이터만 추출하기\n",
        "pop[\"행정구역(시군구)별\"]= pop[\"행정구역(시군구)별\"].str[:4]\n",
        "pop[\"행정구역(시군구)별\"]"
      ],
      "metadata": {
        "id": "M_9-7FL95aei"
      },
      "execution_count": null,
      "outputs": []
    },
    {
      "cell_type": "code",
      "source": [
        "pop1 = pd.DataFrame(pop[pop[\"행정구역(시군구)별\"].isin(job[\"지역\"])])\n",
        "pop1"
      ],
      "metadata": {
        "id": "GqfYDPrm6yNv"
      },
      "execution_count": null,
      "outputs": []
    },
    {
      "cell_type": "code",
      "metadata": {
        "id": "ZWptvgxkxEzt"
      },
      "source": [
        "# 2022년 1월 추출\n",
        "pop1.rename(columns={pop1.columns[0]:\"지역\", pop1.columns[1]:\"세대수\"}, inplace=True)\n",
        "pop1 = pd.DataFrame.reset_index(pop1.loc[:,['지역','세대수']])\n",
        "pop1"
      ],
      "execution_count": null,
      "outputs": []
    },
    {
      "cell_type": "code",
      "metadata": {
        "id": "cnZdRXUXxRUp"
      },
      "source": [
        "## 아파트 매매가격지수\n",
        "apart = pd.read_excel(dpath + \"아파트매매가격지수_시도_시_군_구__20221107013956.xlsx\")\n",
        "apart.head()"
      ],
      "execution_count": null,
      "outputs": []
    },
    {
      "cell_type": "code",
      "metadata": {
        "id": "iFo38hE2xr1W"
      },
      "source": [
        "apart[\"지역\"] = apart[\"행정구역별\"].str[:4]\n",
        "apart.rename(columns={\"2022.01\":\"아파트매매가지수\"}, inplace=True)\n",
        "apart1 = pd.DataFrame.reset_index(apart.loc[:,['지역','아파트매매가지수']])\n",
        "apart1\n",
        "\n"
      ],
      "execution_count": null,
      "outputs": []
    },
    {
      "cell_type": "markdown",
      "metadata": {
        "id": "ybHA4VRzy5hg"
      },
      "source": [
        "## 데이터 병합"
      ]
    },
    {
      "cell_type": "code",
      "metadata": {
        "id": "RH8CoDHYy7cz"
      },
      "source": [
        "temp = pd.merge(job1, pop1, on=\"지역\")\n",
        "df = pd.merge(temp, apart1, on=\"지역\")\n",
        "df.head()"
      ],
      "execution_count": null,
      "outputs": []
    },
    {
      "cell_type": "code",
      "metadata": {
        "id": "09ItyWi2zmsh"
      },
      "source": [
        "df = df[[\"지역\", \"세대수\", \"종사자수\", \"아파트매매가지수\"]]\n",
        "df.head()"
      ],
      "execution_count": null,
      "outputs": []
    },
    {
      "cell_type": "markdown",
      "metadata": {
        "id": "z5_nxm1OyG_O"
      },
      "source": [
        "## 데이터 분석\n"
      ]
    },
    {
      "cell_type": "code",
      "metadata": {
        "id": "mVyAWZnSyVq_"
      },
      "source": [
        "# 시도별 고용자수를 막대그래프로 그리기\n",
        "sns.barplot(x=\"지역\", y=\"종사자수\", data=df);\n",
        "plt.xticks(rotation='vertical');"
      ],
      "execution_count": null,
      "outputs": []
    },
    {
      "cell_type": "code",
      "metadata": {
        "id": "tjb7qD-ryhW0"
      },
      "source": [
        "# 고용자수 높은 시도부터 도표\n",
        "df.sort_values(\"종사자수\", ascending=False, inplace=True)\n",
        "sns.barplot(x=\"지역\", y=\"종사자수\", data=df)\n",
        "plt.xticks(rotation='vertical');"
      ],
      "execution_count": null,
      "outputs": []
    },
    {
      "cell_type": "code",
      "metadata": {
        "id": "r_Mh_8Gq0LIg"
      },
      "source": [
        "# 고용자수 높은 시도부터 도표 (평균 고용자수 라인 추가)\n",
        "sns.barplot(x=\"지역\", y=\"종사자수\", data=df, color=\"steelblue\")\n",
        "plt.axhline(y=df[\"종사자수\"].mean(), c=\"orange\", linewidth=2, linestyle=\"--\")\n",
        "plt.xticks(rotation='vertical');"
      ],
      "execution_count": null,
      "outputs": []
    },
    {
      "cell_type": "code",
      "metadata": {
        "id": "tPVKNKZaz4eh"
      },
      "source": [
        "# 세대수 대비 고용비율 컬럼 추가\n",
        "df[\"세대수대비고용률\"] = df[\"종사자수\"] / df[\"세대수\"] * 100\n",
        "df.head()"
      ],
      "execution_count": null,
      "outputs": []
    },
    {
      "cell_type": "code",
      "metadata": {
        "id": "-4XEy_RW0HbG"
      },
      "source": [
        "# 시도 단위 세대수 대비 고용비율 도표\n",
        "df.sort_values(\"세대수대비고용률\", ascending=False, inplace=True)\n",
        "sns.barplot(x=\"지역\", y=\"세대수대비고용률\", data=df, color=\"seagreen\")\n",
        "plt.axhline(y=df[\"세대수대비고용률\"].mean(), c=\"orange\", lw=1.5, ls=\":\")\n",
        "plt.xticks(rotation='vertical');"
      ],
      "execution_count": null,
      "outputs": []
    },
    {
      "cell_type": "code",
      "metadata": {
        "id": "5mdgDVoU3V1q"
      },
      "source": [
        "# 세대수 대비 고용률과 아파트 매매가지수 회귀도표\n",
        "sns.lmplot(x=\"세대수대비고용률\", y=\"아파트매매가지수\", data=df)\n",
        "for i in range(df.shape[0]):\n",
        "    plt.text(x=df[\"세대수대비고용률\"][i]*1.005, y=df[\"아파트매매가지수\"][i], s=df[\"지역\"][i]);"
      ],
      "execution_count": null,
      "outputs": []
    },
    {
      "cell_type": "code",
      "metadata": {
        "id": "tlMJQDP605xu"
      },
      "source": [
        "# 시도별 고용자수, 세대수를 아파트 매매가지수와 함께 살펴보기\n",
        "sns.relplot(kind=\"scatter\", data=df, x=\"종사자수\", y=\"세대수\", hue=\"아파트매매가지수\", size=\"아파트매매가지수\", sizes=(40, 500));\n",
        "for i in range(df.shape[0]):\n",
        "    plt.text(x=df[\"종사자수\"][i]*1.06, y=df[\"세대수\"][i]*0.94, s=df[\"지역\"][i]);"
      ],
      "execution_count": null,
      "outputs": []
    },
    {
      "cell_type": "code",
      "metadata": {
        "id": "XM2gSuR515e1"
      },
      "source": [
        "# 시도별 세대수 대비 고용률, 세대수를 아파트 매매가지수와 함께 살펴보기 ()\n",
        "sns.relplot(kind=\"scatter\", data=df, x=\"세대수대비고용률\", y=\"세대수\", hue=\"아파트매매가지수\", size=\"아파트매매가지수\", sizes=(40, 500))\n",
        "for i in range(df.shape[0]):\n",
        "    plt.text(x=df[\"세대수대비고용률\"][i]*1.02, y=df[\"세대수\"][i]*0.98, s=df[\"지역\"][i]);"
      ],
      "execution_count": null,
      "outputs": []
    },
    {
      "cell_type": "markdown",
      "metadata": {
        "id": "o8_Q3C6h29p2"
      },
      "source": [
        "# THE END"
      ]
    }
  ]
}