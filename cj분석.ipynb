{
  "nbformat": 4,
  "nbformat_minor": 0,
  "metadata": {
    "colab": {
      "provenance": [],
      "authorship_tag": "ABX9TyPInnLN0kW80y7g2yoiRwIq",
      "include_colab_link": true
    },
    "kernelspec": {
      "name": "python3",
      "display_name": "Python 3"
    },
    "language_info": {
      "name": "python"
    }
  },
  "cells": [
    {
      "cell_type": "markdown",
      "metadata": {
        "id": "view-in-github",
        "colab_type": "text"
      },
      "source": [
        "<a href=\"https://colab.research.google.com/github/yooje153/-/blob/main/cj%EB%B6%84%EC%84%9D.ipynb\" target=\"_parent\"><img src=\"https://colab.research.google.com/assets/colab-badge.svg\" alt=\"Open In Colab\"/></a>"
      ]
    },
    {
      "cell_type": "code",
      "execution_count": 53,
      "metadata": {
        "colab": {
          "base_uri": "https://localhost:8080/"
        },
        "id": "NDFSeUzwAzaq",
        "outputId": "66431378-4cb0-4698-e55e-2b1798a3feac"
      },
      "outputs": [
        {
          "output_type": "stream",
          "name": "stdout",
          "text": [
            "Reading package lists... Done\n",
            "Building dependency tree       \n",
            "Reading state information... Done\n",
            "fonts-nanum is already the newest version (20170925-1).\n",
            "The following package was automatically installed and is no longer required:\n",
            "  libnvidia-common-460\n",
            "Use 'sudo apt autoremove' to remove it.\n",
            "0 upgraded, 0 newly installed, 0 to remove and 5 not upgraded.\n",
            "/usr/share/fonts: caching, new cache contents: 0 fonts, 1 dirs\n",
            "/usr/share/fonts/truetype: caching, new cache contents: 0 fonts, 3 dirs\n",
            "/usr/share/fonts/truetype/humor-sans: caching, new cache contents: 1 fonts, 0 dirs\n",
            "/usr/share/fonts/truetype/liberation: caching, new cache contents: 16 fonts, 0 dirs\n",
            "/usr/share/fonts/truetype/nanum: caching, new cache contents: 10 fonts, 0 dirs\n",
            "/usr/local/share/fonts: caching, new cache contents: 0 fonts, 0 dirs\n",
            "/root/.local/share/fonts: skipping, no such directory\n",
            "/root/.fonts: skipping, no such directory\n",
            "/var/cache/fontconfig: cleaning cache directory\n",
            "/root/.cache/fontconfig: not cleaning non-existent cache directory\n",
            "/root/.fontconfig: not cleaning non-existent cache directory\n",
            "fc-cache: succeeded\n"
          ]
        }
      ],
      "source": [
        "# 한글폰트 설치\n",
        "!sudo apt-get install -y fonts-nanum\n",
        "\n",
        "# 시스템에 있는 폰트를 읽어서 cache 정보를 만드는 유틸리티\n",
        "!sudo fc-cache -fv\n",
        "\n",
        "# removing matplotlib cache \n",
        "!rm ~/.cache/matplotlib -rf\n",
        "\n",
        "# 런타임 다시 시작\n",
        "\n",
        "#--------------------------------------------------\n",
        "# from matplotlib import font_manager, rc\n",
        "# font_path = \"/usr/share/fonts/truetype/nanum/NanumGothic.ttf\"\n",
        "# font = font_manager.FontProperties(fname=font_path).get_name()\n",
        "# plt.rc('font', family=font)"
      ]
    },
    {
      "cell_type": "code",
      "source": [
        "import numpy as np\n",
        "import pandas as pd\n",
        "import matplotlib.pyplot as plt\n",
        "import seaborn as sns"
      ],
      "metadata": {
        "id": "dfTkiEZ9A8NK"
      },
      "execution_count": 54,
      "outputs": []
    },
    {
      "cell_type": "code",
      "source": [
        "plt.rc('font', family='NanumGothic')      \n",
        "plt.rc('axes', unicode_minus = False)   "
      ],
      "metadata": {
        "id": "Hkp5BjQSA8K7"
      },
      "execution_count": 55,
      "outputs": []
    },
    {
      "cell_type": "code",
      "source": [
        "from google.colab import drive\n",
        "drive.mount(\"/content/drive\")"
      ],
      "metadata": {
        "colab": {
          "base_uri": "https://localhost:8080/"
        },
        "id": "13322TEIA8IR",
        "outputId": "bff6290c-b1b4-4cc4-dd0c-a95d94c93dd5"
      },
      "execution_count": 56,
      "outputs": [
        {
          "output_type": "stream",
          "name": "stdout",
          "text": [
            "Drive already mounted at /content/drive; to attempt to forcibly remount, call drive.mount(\"/content/drive\", force_remount=True).\n"
          ]
        }
      ]
    },
    {
      "cell_type": "code",
      "source": [
        "df = pd.read_excel('/content/drive/MyDrive/bdaa.xlsx')"
      ],
      "metadata": {
        "id": "x-ZHVtyKA8F4"
      },
      "execution_count": 57,
      "outputs": []
    },
    {
      "cell_type": "code",
      "source": [
        "df"
      ],
      "metadata": {
        "colab": {
          "base_uri": "https://localhost:8080/",
          "height": 1000
        },
        "id": "_jiHvlw5A8DI",
        "outputId": "b4b87dce-8a44-451d-bc96-0b6dd499cf63"
      },
      "execution_count": 58,
      "outputs": [
        {
          "output_type": "execute_result",
          "data": {
            "text/plain": [
              "                   주문접수일시              주문번호    유입매체  주문구분  \\\n",
              "0     2022-01-31 23:59:43  2022013116206973  MO WEB  일반주문   \n",
              "1     2022-01-31 23:44:09  2022013116204996  MO WEB  일반주문   \n",
              "2     2022-01-31 23:44:09  2022013116204996  MO WEB  일반주문   \n",
              "3     2022-01-31 23:35:27  2022013116204259     APP  일반주문   \n",
              "4     2022-01-31 23:21:06  2022013116202890     APP  일반주문   \n",
              "...                   ...               ...     ...   ...   \n",
              "3262  2022-01-01 02:56:35  2022010111873774     APP  일반주문   \n",
              "3263  2022-01-01 02:54:53  2022010111873735     APP  일반주문   \n",
              "3264  2022-01-01 00:38:42  2022010111866938     APP  일반주문   \n",
              "3265  2022-01-01 00:38:13  2022010111866837  MO WEB  일반주문   \n",
              "3266  2022-01-01 00:17:11  2022010111864975  MO WEB  일반주문   \n",
              "\n",
              "                       유입채널        회원구분       아이디     전시유입코드  \\\n",
              "0                  디폴트 채널상세  LPOINT통합회원  alls****        NaN   \n",
              "1                  디폴트 채널상세  LPOINT통합회원  okok****        CHT   \n",
              "2                  디폴트 채널상세  LPOINT통합회원  okok****        CHT   \n",
              "3                  디폴트 채널상세  LPOINT통합회원  fire****      SCH스팸   \n",
              "4                  디폴트 채널상세  LPOINT통합회원  dkfm****    SCH비비고국   \n",
              "...                     ...         ...       ...        ...   \n",
              "3262               디폴트 채널상세  LPOINT통합회원  savi****        RSI   \n",
              "3263               디폴트 채널상세  LPOINT통합회원  savi****        RSI   \n",
              "3264               디폴트 채널상세  LPOINT통합회원  ggg9****  SCH쁘띠첼복숭아   \n",
              "3265  [다음카카오] PCS 가격비교_롯데ON  LPOINT통합회원  kim6****        CHT   \n",
              "3266               디폴트 채널상세  LPOINT통합회원  jsda****  SCH비비고갈비탕   \n",
              "\n",
              "                  상품주문번호        유형  ...  \\\n",
              "0     2022013116206973_1        주문  ...   \n",
              "1     2022013116204996_1        주문  ...   \n",
              "2     2022013116204996_2        주문  ...   \n",
              "3     2022013116204259_1        주문  ...   \n",
              "4     2022013116202890_1        주문  ...   \n",
              "...                  ...       ...  ...   \n",
              "3262  2022010111873774_1        주문  ...   \n",
              "3263  2022010111873735_1        주문  ...   \n",
              "3264  2022010111866938_5  취소(주문취소)  ...   \n",
              "3265  2022010111866837_1        주문  ...   \n",
              "3266  2022010111864975_1  취소(주문취소)  ...   \n",
              "\n",
              "                                        판매자상품명                  판매자단품번호  \\\n",
              "0                   [CJ직배송]비비고 플랜테이블왕교자420gX5개  LO1661932052_1661932053   \n",
              "1     CJ 해찬들 우리쌀로만든태양초골드고추장2kgP X 2개 + 초고추장 증정  LO1501739050_1501739051   \n",
              "2                   CJ 비비고 수제고기만두x2개+수제김치만두x2개  LO1255043241_1255043242   \n",
              "3                        스팸 25% 라이트 340g x 6입   LO1135070765_1135070766   \n",
              "4                           비비고 소고기장터국 500G *5  LO1234937569_1234937574   \n",
              "...                                        ...                      ...   \n",
              "3262                          비비고 국물요리 BEST 9종  LO1495023715_1495023716   \n",
              "3263                          비비고 국물요리 BEST 9종  LO1495023715_1495023716   \n",
              "3264              [CJ제일제당] 쁘띠첼 복숭아 90g*9번들X2EA  LO1354545470_1354545471   \n",
              "3265                      CJ 다담 된장찌개양념 530G x3  LO1135162715_1135162716   \n",
              "3266                        CJ 비비고 갈비탕 400g x4  LO1031678373_1031678374   \n",
              "\n",
              "      판매자단품명 추가옵션  주문판매유형       상품유형      브랜드    판매가 수량  \\\n",
              "0       단일상품   []  일반판매상품  일반판매_일반상품  씨제이제일제당  24900  1   \n",
              "1       단일상품   []  일반판매상품  일반판매_일반상품  씨제이제일제당  26050  1   \n",
              "2       단일상품   []  일반판매상품  일반판매_일반상품  씨제이제일제당  22620  1   \n",
              "3       단일상품   []  일반판매상품  일반판매_일반상품  씨제이제일제당  40000  1   \n",
              "4       단일상품   []  일반판매상품  일반판매_일반상품  씨제이제일제당  22030  1   \n",
              "...      ...  ...     ...        ...      ...    ... ..   \n",
              "3262    단일상품   []  일반판매상품  일반판매_일반상품  씨제이제일제당  33240  1   \n",
              "3263    단일상품   []  일반판매상품  일반판매_일반상품  씨제이제일제당  33240  1   \n",
              "3264    단일상품   []  일반판매상품  일반판매_일반상품  씨제이제일제당  22300  1   \n",
              "3265    단일상품   []  일반판매상품  일반판매_일반상품  씨제이제일제당  16240  1   \n",
              "3266    단일상품   []  일반판매상품  일반판매_일반상품  씨제이제일제당  18830  1   \n",
              "\n",
              "                          표준카테고리  \n",
              "0        냉장/냉동/간편식 > 떡볶이/만두 > 만두  \n",
              "1           가공식품 > 장류 > 고추장/초고추장  \n",
              "2        냉장/냉동/간편식 > 떡볶이/만두 > 만두  \n",
              "3            가공식품 > 통조림/캔 > 햄통조림  \n",
              "4       냉장/냉동/간편식 > 국/탕/찌개 > 국/탕  \n",
              "...                          ...  \n",
              "3262  냉장/냉동/간편식 > 즉석밥/죽/스프 > 즉석밥  \n",
              "3263  냉장/냉동/간편식 > 즉석밥/죽/스프 > 즉석밥  \n",
              "3264        과자/간식 > 디저트/케이크 > 푸딩  \n",
              "3265       가공식품 > 장류 > 된장/쌈장/청국장  \n",
              "3266    냉장/냉동/간편식 > 국/탕/찌개 > 국/탕  \n",
              "\n",
              "[3267 rows x 37 columns]"
            ],
            "text/html": [
              "\n",
              "  <div id=\"df-5406e22a-2c8d-4fff-9358-06ee88e05c7f\">\n",
              "    <div class=\"colab-df-container\">\n",
              "      <div>\n",
              "<style scoped>\n",
              "    .dataframe tbody tr th:only-of-type {\n",
              "        vertical-align: middle;\n",
              "    }\n",
              "\n",
              "    .dataframe tbody tr th {\n",
              "        vertical-align: top;\n",
              "    }\n",
              "\n",
              "    .dataframe thead th {\n",
              "        text-align: right;\n",
              "    }\n",
              "</style>\n",
              "<table border=\"1\" class=\"dataframe\">\n",
              "  <thead>\n",
              "    <tr style=\"text-align: right;\">\n",
              "      <th></th>\n",
              "      <th>주문접수일시</th>\n",
              "      <th>주문번호</th>\n",
              "      <th>유입매체</th>\n",
              "      <th>주문구분</th>\n",
              "      <th>유입채널</th>\n",
              "      <th>회원구분</th>\n",
              "      <th>아이디</th>\n",
              "      <th>전시유입코드</th>\n",
              "      <th>상품주문번호</th>\n",
              "      <th>유형</th>\n",
              "      <th>...</th>\n",
              "      <th>판매자상품명</th>\n",
              "      <th>판매자단품번호</th>\n",
              "      <th>판매자단품명</th>\n",
              "      <th>추가옵션</th>\n",
              "      <th>주문판매유형</th>\n",
              "      <th>상품유형</th>\n",
              "      <th>브랜드</th>\n",
              "      <th>판매가</th>\n",
              "      <th>수량</th>\n",
              "      <th>표준카테고리</th>\n",
              "    </tr>\n",
              "  </thead>\n",
              "  <tbody>\n",
              "    <tr>\n",
              "      <th>0</th>\n",
              "      <td>2022-01-31 23:59:43</td>\n",
              "      <td>2022013116206973</td>\n",
              "      <td>MO WEB</td>\n",
              "      <td>일반주문</td>\n",
              "      <td>디폴트 채널상세</td>\n",
              "      <td>LPOINT통합회원</td>\n",
              "      <td>alls****</td>\n",
              "      <td>NaN</td>\n",
              "      <td>2022013116206973_1</td>\n",
              "      <td>주문</td>\n",
              "      <td>...</td>\n",
              "      <td>[CJ직배송]비비고 플랜테이블왕교자420gX5개</td>\n",
              "      <td>LO1661932052_1661932053</td>\n",
              "      <td>단일상품</td>\n",
              "      <td>[]</td>\n",
              "      <td>일반판매상품</td>\n",
              "      <td>일반판매_일반상품</td>\n",
              "      <td>씨제이제일제당</td>\n",
              "      <td>24900</td>\n",
              "      <td>1</td>\n",
              "      <td>냉장/냉동/간편식 &gt; 떡볶이/만두 &gt; 만두</td>\n",
              "    </tr>\n",
              "    <tr>\n",
              "      <th>1</th>\n",
              "      <td>2022-01-31 23:44:09</td>\n",
              "      <td>2022013116204996</td>\n",
              "      <td>MO WEB</td>\n",
              "      <td>일반주문</td>\n",
              "      <td>디폴트 채널상세</td>\n",
              "      <td>LPOINT통합회원</td>\n",
              "      <td>okok****</td>\n",
              "      <td>CHT</td>\n",
              "      <td>2022013116204996_1</td>\n",
              "      <td>주문</td>\n",
              "      <td>...</td>\n",
              "      <td>CJ 해찬들 우리쌀로만든태양초골드고추장2kgP X 2개 + 초고추장 증정</td>\n",
              "      <td>LO1501739050_1501739051</td>\n",
              "      <td>단일상품</td>\n",
              "      <td>[]</td>\n",
              "      <td>일반판매상품</td>\n",
              "      <td>일반판매_일반상품</td>\n",
              "      <td>씨제이제일제당</td>\n",
              "      <td>26050</td>\n",
              "      <td>1</td>\n",
              "      <td>가공식품 &gt; 장류 &gt; 고추장/초고추장</td>\n",
              "    </tr>\n",
              "    <tr>\n",
              "      <th>2</th>\n",
              "      <td>2022-01-31 23:44:09</td>\n",
              "      <td>2022013116204996</td>\n",
              "      <td>MO WEB</td>\n",
              "      <td>일반주문</td>\n",
              "      <td>디폴트 채널상세</td>\n",
              "      <td>LPOINT통합회원</td>\n",
              "      <td>okok****</td>\n",
              "      <td>CHT</td>\n",
              "      <td>2022013116204996_2</td>\n",
              "      <td>주문</td>\n",
              "      <td>...</td>\n",
              "      <td>CJ 비비고 수제고기만두x2개+수제김치만두x2개</td>\n",
              "      <td>LO1255043241_1255043242</td>\n",
              "      <td>단일상품</td>\n",
              "      <td>[]</td>\n",
              "      <td>일반판매상품</td>\n",
              "      <td>일반판매_일반상품</td>\n",
              "      <td>씨제이제일제당</td>\n",
              "      <td>22620</td>\n",
              "      <td>1</td>\n",
              "      <td>냉장/냉동/간편식 &gt; 떡볶이/만두 &gt; 만두</td>\n",
              "    </tr>\n",
              "    <tr>\n",
              "      <th>3</th>\n",
              "      <td>2022-01-31 23:35:27</td>\n",
              "      <td>2022013116204259</td>\n",
              "      <td>APP</td>\n",
              "      <td>일반주문</td>\n",
              "      <td>디폴트 채널상세</td>\n",
              "      <td>LPOINT통합회원</td>\n",
              "      <td>fire****</td>\n",
              "      <td>SCH스팸</td>\n",
              "      <td>2022013116204259_1</td>\n",
              "      <td>주문</td>\n",
              "      <td>...</td>\n",
              "      <td>스팸 25% 라이트 340g x 6입</td>\n",
              "      <td>LO1135070765_1135070766</td>\n",
              "      <td>단일상품</td>\n",
              "      <td>[]</td>\n",
              "      <td>일반판매상품</td>\n",
              "      <td>일반판매_일반상품</td>\n",
              "      <td>씨제이제일제당</td>\n",
              "      <td>40000</td>\n",
              "      <td>1</td>\n",
              "      <td>가공식품 &gt; 통조림/캔 &gt; 햄통조림</td>\n",
              "    </tr>\n",
              "    <tr>\n",
              "      <th>4</th>\n",
              "      <td>2022-01-31 23:21:06</td>\n",
              "      <td>2022013116202890</td>\n",
              "      <td>APP</td>\n",
              "      <td>일반주문</td>\n",
              "      <td>디폴트 채널상세</td>\n",
              "      <td>LPOINT통합회원</td>\n",
              "      <td>dkfm****</td>\n",
              "      <td>SCH비비고국</td>\n",
              "      <td>2022013116202890_1</td>\n",
              "      <td>주문</td>\n",
              "      <td>...</td>\n",
              "      <td>비비고 소고기장터국 500G *5</td>\n",
              "      <td>LO1234937569_1234937574</td>\n",
              "      <td>단일상품</td>\n",
              "      <td>[]</td>\n",
              "      <td>일반판매상품</td>\n",
              "      <td>일반판매_일반상품</td>\n",
              "      <td>씨제이제일제당</td>\n",
              "      <td>22030</td>\n",
              "      <td>1</td>\n",
              "      <td>냉장/냉동/간편식 &gt; 국/탕/찌개 &gt; 국/탕</td>\n",
              "    </tr>\n",
              "    <tr>\n",
              "      <th>...</th>\n",
              "      <td>...</td>\n",
              "      <td>...</td>\n",
              "      <td>...</td>\n",
              "      <td>...</td>\n",
              "      <td>...</td>\n",
              "      <td>...</td>\n",
              "      <td>...</td>\n",
              "      <td>...</td>\n",
              "      <td>...</td>\n",
              "      <td>...</td>\n",
              "      <td>...</td>\n",
              "      <td>...</td>\n",
              "      <td>...</td>\n",
              "      <td>...</td>\n",
              "      <td>...</td>\n",
              "      <td>...</td>\n",
              "      <td>...</td>\n",
              "      <td>...</td>\n",
              "      <td>...</td>\n",
              "      <td>...</td>\n",
              "      <td>...</td>\n",
              "    </tr>\n",
              "    <tr>\n",
              "      <th>3262</th>\n",
              "      <td>2022-01-01 02:56:35</td>\n",
              "      <td>2022010111873774</td>\n",
              "      <td>APP</td>\n",
              "      <td>일반주문</td>\n",
              "      <td>디폴트 채널상세</td>\n",
              "      <td>LPOINT통합회원</td>\n",
              "      <td>savi****</td>\n",
              "      <td>RSI</td>\n",
              "      <td>2022010111873774_1</td>\n",
              "      <td>주문</td>\n",
              "      <td>...</td>\n",
              "      <td>비비고 국물요리 BEST 9종</td>\n",
              "      <td>LO1495023715_1495023716</td>\n",
              "      <td>단일상품</td>\n",
              "      <td>[]</td>\n",
              "      <td>일반판매상품</td>\n",
              "      <td>일반판매_일반상품</td>\n",
              "      <td>씨제이제일제당</td>\n",
              "      <td>33240</td>\n",
              "      <td>1</td>\n",
              "      <td>냉장/냉동/간편식 &gt; 즉석밥/죽/스프 &gt; 즉석밥</td>\n",
              "    </tr>\n",
              "    <tr>\n",
              "      <th>3263</th>\n",
              "      <td>2022-01-01 02:54:53</td>\n",
              "      <td>2022010111873735</td>\n",
              "      <td>APP</td>\n",
              "      <td>일반주문</td>\n",
              "      <td>디폴트 채널상세</td>\n",
              "      <td>LPOINT통합회원</td>\n",
              "      <td>savi****</td>\n",
              "      <td>RSI</td>\n",
              "      <td>2022010111873735_1</td>\n",
              "      <td>주문</td>\n",
              "      <td>...</td>\n",
              "      <td>비비고 국물요리 BEST 9종</td>\n",
              "      <td>LO1495023715_1495023716</td>\n",
              "      <td>단일상품</td>\n",
              "      <td>[]</td>\n",
              "      <td>일반판매상품</td>\n",
              "      <td>일반판매_일반상품</td>\n",
              "      <td>씨제이제일제당</td>\n",
              "      <td>33240</td>\n",
              "      <td>1</td>\n",
              "      <td>냉장/냉동/간편식 &gt; 즉석밥/죽/스프 &gt; 즉석밥</td>\n",
              "    </tr>\n",
              "    <tr>\n",
              "      <th>3264</th>\n",
              "      <td>2022-01-01 00:38:42</td>\n",
              "      <td>2022010111866938</td>\n",
              "      <td>APP</td>\n",
              "      <td>일반주문</td>\n",
              "      <td>디폴트 채널상세</td>\n",
              "      <td>LPOINT통합회원</td>\n",
              "      <td>ggg9****</td>\n",
              "      <td>SCH쁘띠첼복숭아</td>\n",
              "      <td>2022010111866938_5</td>\n",
              "      <td>취소(주문취소)</td>\n",
              "      <td>...</td>\n",
              "      <td>[CJ제일제당] 쁘띠첼 복숭아 90g*9번들X2EA</td>\n",
              "      <td>LO1354545470_1354545471</td>\n",
              "      <td>단일상품</td>\n",
              "      <td>[]</td>\n",
              "      <td>일반판매상품</td>\n",
              "      <td>일반판매_일반상품</td>\n",
              "      <td>씨제이제일제당</td>\n",
              "      <td>22300</td>\n",
              "      <td>1</td>\n",
              "      <td>과자/간식 &gt; 디저트/케이크 &gt; 푸딩</td>\n",
              "    </tr>\n",
              "    <tr>\n",
              "      <th>3265</th>\n",
              "      <td>2022-01-01 00:38:13</td>\n",
              "      <td>2022010111866837</td>\n",
              "      <td>MO WEB</td>\n",
              "      <td>일반주문</td>\n",
              "      <td>[다음카카오] PCS 가격비교_롯데ON</td>\n",
              "      <td>LPOINT통합회원</td>\n",
              "      <td>kim6****</td>\n",
              "      <td>CHT</td>\n",
              "      <td>2022010111866837_1</td>\n",
              "      <td>주문</td>\n",
              "      <td>...</td>\n",
              "      <td>CJ 다담 된장찌개양념 530G x3</td>\n",
              "      <td>LO1135162715_1135162716</td>\n",
              "      <td>단일상품</td>\n",
              "      <td>[]</td>\n",
              "      <td>일반판매상품</td>\n",
              "      <td>일반판매_일반상품</td>\n",
              "      <td>씨제이제일제당</td>\n",
              "      <td>16240</td>\n",
              "      <td>1</td>\n",
              "      <td>가공식품 &gt; 장류 &gt; 된장/쌈장/청국장</td>\n",
              "    </tr>\n",
              "    <tr>\n",
              "      <th>3266</th>\n",
              "      <td>2022-01-01 00:17:11</td>\n",
              "      <td>2022010111864975</td>\n",
              "      <td>MO WEB</td>\n",
              "      <td>일반주문</td>\n",
              "      <td>디폴트 채널상세</td>\n",
              "      <td>LPOINT통합회원</td>\n",
              "      <td>jsda****</td>\n",
              "      <td>SCH비비고갈비탕</td>\n",
              "      <td>2022010111864975_1</td>\n",
              "      <td>취소(주문취소)</td>\n",
              "      <td>...</td>\n",
              "      <td>CJ 비비고 갈비탕 400g x4</td>\n",
              "      <td>LO1031678373_1031678374</td>\n",
              "      <td>단일상품</td>\n",
              "      <td>[]</td>\n",
              "      <td>일반판매상품</td>\n",
              "      <td>일반판매_일반상품</td>\n",
              "      <td>씨제이제일제당</td>\n",
              "      <td>18830</td>\n",
              "      <td>1</td>\n",
              "      <td>냉장/냉동/간편식 &gt; 국/탕/찌개 &gt; 국/탕</td>\n",
              "    </tr>\n",
              "  </tbody>\n",
              "</table>\n",
              "<p>3267 rows × 37 columns</p>\n",
              "</div>\n",
              "      <button class=\"colab-df-convert\" onclick=\"convertToInteractive('df-5406e22a-2c8d-4fff-9358-06ee88e05c7f')\"\n",
              "              title=\"Convert this dataframe to an interactive table.\"\n",
              "              style=\"display:none;\">\n",
              "        \n",
              "  <svg xmlns=\"http://www.w3.org/2000/svg\" height=\"24px\"viewBox=\"0 0 24 24\"\n",
              "       width=\"24px\">\n",
              "    <path d=\"M0 0h24v24H0V0z\" fill=\"none\"/>\n",
              "    <path d=\"M18.56 5.44l.94 2.06.94-2.06 2.06-.94-2.06-.94-.94-2.06-.94 2.06-2.06.94zm-11 1L8.5 8.5l.94-2.06 2.06-.94-2.06-.94L8.5 2.5l-.94 2.06-2.06.94zm10 10l.94 2.06.94-2.06 2.06-.94-2.06-.94-.94-2.06-.94 2.06-2.06.94z\"/><path d=\"M17.41 7.96l-1.37-1.37c-.4-.4-.92-.59-1.43-.59-.52 0-1.04.2-1.43.59L10.3 9.45l-7.72 7.72c-.78.78-.78 2.05 0 2.83L4 21.41c.39.39.9.59 1.41.59.51 0 1.02-.2 1.41-.59l7.78-7.78 2.81-2.81c.8-.78.8-2.07 0-2.86zM5.41 20L4 18.59l7.72-7.72 1.47 1.35L5.41 20z\"/>\n",
              "  </svg>\n",
              "      </button>\n",
              "      \n",
              "  <style>\n",
              "    .colab-df-container {\n",
              "      display:flex;\n",
              "      flex-wrap:wrap;\n",
              "      gap: 12px;\n",
              "    }\n",
              "\n",
              "    .colab-df-convert {\n",
              "      background-color: #E8F0FE;\n",
              "      border: none;\n",
              "      border-radius: 50%;\n",
              "      cursor: pointer;\n",
              "      display: none;\n",
              "      fill: #1967D2;\n",
              "      height: 32px;\n",
              "      padding: 0 0 0 0;\n",
              "      width: 32px;\n",
              "    }\n",
              "\n",
              "    .colab-df-convert:hover {\n",
              "      background-color: #E2EBFA;\n",
              "      box-shadow: 0px 1px 2px rgba(60, 64, 67, 0.3), 0px 1px 3px 1px rgba(60, 64, 67, 0.15);\n",
              "      fill: #174EA6;\n",
              "    }\n",
              "\n",
              "    [theme=dark] .colab-df-convert {\n",
              "      background-color: #3B4455;\n",
              "      fill: #D2E3FC;\n",
              "    }\n",
              "\n",
              "    [theme=dark] .colab-df-convert:hover {\n",
              "      background-color: #434B5C;\n",
              "      box-shadow: 0px 1px 3px 1px rgba(0, 0, 0, 0.15);\n",
              "      filter: drop-shadow(0px 1px 2px rgba(0, 0, 0, 0.3));\n",
              "      fill: #FFFFFF;\n",
              "    }\n",
              "  </style>\n",
              "\n",
              "      <script>\n",
              "        const buttonEl =\n",
              "          document.querySelector('#df-5406e22a-2c8d-4fff-9358-06ee88e05c7f button.colab-df-convert');\n",
              "        buttonEl.style.display =\n",
              "          google.colab.kernel.accessAllowed ? 'block' : 'none';\n",
              "\n",
              "        async function convertToInteractive(key) {\n",
              "          const element = document.querySelector('#df-5406e22a-2c8d-4fff-9358-06ee88e05c7f');\n",
              "          const dataTable =\n",
              "            await google.colab.kernel.invokeFunction('convertToInteractive',\n",
              "                                                     [key], {});\n",
              "          if (!dataTable) return;\n",
              "\n",
              "          const docLinkHtml = 'Like what you see? Visit the ' +\n",
              "            '<a target=\"_blank\" href=https://colab.research.google.com/notebooks/data_table.ipynb>data table notebook</a>'\n",
              "            + ' to learn more about interactive tables.';\n",
              "          element.innerHTML = '';\n",
              "          dataTable['output_type'] = 'display_data';\n",
              "          await google.colab.output.renderOutput(dataTable, element);\n",
              "          const docLink = document.createElement('div');\n",
              "          docLink.innerHTML = docLinkHtml;\n",
              "          element.appendChild(docLink);\n",
              "        }\n",
              "      </script>\n",
              "    </div>\n",
              "  </div>\n",
              "  "
            ]
          },
          "metadata": {},
          "execution_count": 58
        }
      ]
    },
    {
      "cell_type": "code",
      "source": [
        "df.info()"
      ],
      "metadata": {
        "colab": {
          "base_uri": "https://localhost:8080/"
        },
        "id": "phVy46fKA8Ao",
        "outputId": "57b0937d-0100-462a-e69a-7769147cbd05"
      },
      "execution_count": 59,
      "outputs": [
        {
          "output_type": "stream",
          "name": "stdout",
          "text": [
            "<class 'pandas.core.frame.DataFrame'>\n",
            "RangeIndex: 3267 entries, 0 to 3266\n",
            "Data columns (total 37 columns):\n",
            " #   Column     Non-Null Count  Dtype  \n",
            "---  ------     --------------  -----  \n",
            " 0   주문접수일시     3267 non-null   object \n",
            " 1   주문번호       3267 non-null   int64  \n",
            " 2   유입매체       3267 non-null   object \n",
            " 3   주문구분       3267 non-null   object \n",
            " 4   유입채널       3267 non-null   object \n",
            " 5   회원구분       3267 non-null   object \n",
            " 6   아이디        3034 non-null   object \n",
            " 7   전시유입코드     3219 non-null   object \n",
            " 8   상품주문번호     3267 non-null   object \n",
            " 9   유형         3267 non-null   object \n",
            " 10  배송회수구분     3267 non-null   object \n",
            " 11  진행단계       3267 non-null   object \n",
            " 12  진행상태 (약식)  0 non-null      float64\n",
            " 13  구매확정       3267 non-null   object \n",
            " 14  주문완료일시     3240 non-null   object \n",
            " 15  구매확정일시     2989 non-null   object \n",
            " 16  출고지시일      2983 non-null   object \n",
            " 17  예외처리구분     5 non-null      object \n",
            " 18  상태처리일시     3267 non-null   object \n",
            " 19  배송상품유형     3267 non-null   object \n",
            " 20  배송처리유형     3267 non-null   object \n",
            " 21  배송수단       3267 non-null   object \n",
            " 22  배송예약구분     3267 non-null   object \n",
            " 23  배송회차       0 non-null      float64\n",
            " 24  전시상품명      3267 non-null   object \n",
            " 25  전시단품명      3267 non-null   object \n",
            " 26  판매자상품번호    3267 non-null   object \n",
            " 27  판매자상품명     3267 non-null   object \n",
            " 28  판매자단품번호    3267 non-null   object \n",
            " 29  판매자단품명     3267 non-null   object \n",
            " 30  추가옵션       3267 non-null   object \n",
            " 31  주문판매유형     3267 non-null   object \n",
            " 32  상품유형       3267 non-null   object \n",
            " 33  브랜드        3267 non-null   object \n",
            " 34  판매가        3267 non-null   int64  \n",
            " 35  수량         3267 non-null   int64  \n",
            " 36  표준카테고리     3267 non-null   object \n",
            "dtypes: float64(2), int64(3), object(32)\n",
            "memory usage: 944.5+ KB\n"
          ]
        }
      ]
    },
    {
      "cell_type": "code",
      "source": [
        "df['추가옵션'].nunique()"
      ],
      "metadata": {
        "colab": {
          "base_uri": "https://localhost:8080/"
        },
        "id": "-ZFZb5V6Smvy",
        "outputId": "54f78008-7f14-4127-e253-a80b5eb5e982"
      },
      "execution_count": 60,
      "outputs": [
        {
          "output_type": "execute_result",
          "data": {
            "text/plain": [
              "1"
            ]
          },
          "metadata": {},
          "execution_count": 60
        }
      ]
    },
    {
      "cell_type": "code",
      "source": [
        "df.drop(['진행상태 (약식)','배송회차','추가옵션'],axis=1, inplace=True)"
      ],
      "metadata": {
        "id": "m0VV9wlsDJsS"
      },
      "execution_count": 61,
      "outputs": []
    },
    {
      "cell_type": "code",
      "source": [
        "df.isnull().sum()"
      ],
      "metadata": {
        "colab": {
          "base_uri": "https://localhost:8080/"
        },
        "id": "2LmyGAMDC4tG",
        "outputId": "68b161dd-e219-498f-b7a9-e7428cf06b6b"
      },
      "execution_count": 62,
      "outputs": [
        {
          "output_type": "execute_result",
          "data": {
            "text/plain": [
              "주문접수일시        0\n",
              "주문번호          0\n",
              "유입매체          0\n",
              "주문구분          0\n",
              "유입채널          0\n",
              "회원구분          0\n",
              "아이디         233\n",
              "전시유입코드       48\n",
              "상품주문번호        0\n",
              "유형            0\n",
              "배송회수구분        0\n",
              "진행단계          0\n",
              "구매확정          0\n",
              "주문완료일시       27\n",
              "구매확정일시      278\n",
              "출고지시일       284\n",
              "예외처리구분     3262\n",
              "상태처리일시        0\n",
              "배송상품유형        0\n",
              "배송처리유형        0\n",
              "배송수단          0\n",
              "배송예약구분        0\n",
              "전시상품명         0\n",
              "전시단품명         0\n",
              "판매자상품번호       0\n",
              "판매자상품명        0\n",
              "판매자단품번호       0\n",
              "판매자단품명        0\n",
              "주문판매유형        0\n",
              "상품유형          0\n",
              "브랜드           0\n",
              "판매가           0\n",
              "수량            0\n",
              "표준카테고리        0\n",
              "dtype: int64"
            ]
          },
          "metadata": {},
          "execution_count": 62
        }
      ]
    },
    {
      "cell_type": "markdown",
      "source": [
        "아이디가 없는 사람의 회원은?\n"
      ],
      "metadata": {
        "id": "H9zhYMPZEYNP"
      }
    },
    {
      "cell_type": "code",
      "source": [
        "df[df['아이디'].isnull()]['회원구분'].unique()"
      ],
      "metadata": {
        "colab": {
          "base_uri": "https://localhost:8080/"
        },
        "id": "aEvBDQBSE0Ox",
        "outputId": "ff64e31e-9c37-4fc1-97ca-8393c01fee3f"
      },
      "execution_count": 63,
      "outputs": [
        {
          "output_type": "execute_result",
          "data": {
            "text/plain": [
              "array(['소셜간편회원', '휴대폰간편회원'], dtype=object)"
            ]
          },
          "metadata": {},
          "execution_count": 63
        }
      ]
    },
    {
      "cell_type": "code",
      "source": [
        "df['회원구분'].unique()"
      ],
      "metadata": {
        "colab": {
          "base_uri": "https://localhost:8080/"
        },
        "id": "QD1UlxP2FllA",
        "outputId": "634b52ac-a8cc-409d-dacb-6654f2344ebd"
      },
      "execution_count": 64,
      "outputs": [
        {
          "output_type": "execute_result",
          "data": {
            "text/plain": [
              "array(['LPOINT통합회원', '소셜간편회원', '이메일간편회원', '법인회원', '휴대폰간편회원'], dtype=object)"
            ]
          },
          "metadata": {},
          "execution_count": 64
        }
      ]
    },
    {
      "cell_type": "markdown",
      "source": [
        "아이디가 없는 회원은 소셜간편회원, 휴대폰간편회원\n",
        "아이디가 있는 회원은 LPOINT통합회원, 이메일간편회원, 법인회원"
      ],
      "metadata": {
        "id": "y20mIPnXF_RT"
      }
    },
    {
      "cell_type": "markdown",
      "source": [
        "회원구분에 따른 배송완료 비율?"
      ],
      "metadata": {
        "id": "CLjDlwOWHRaD"
      }
    },
    {
      "cell_type": "code",
      "source": [
        "sns.countplot(x=\"회원구분\", data=df);"
      ],
      "metadata": {
        "colab": {
          "base_uri": "https://localhost:8080/",
          "height": 278
        },
        "id": "EGWnSdWzJWis",
        "outputId": "feb0f5f0-0a45-4789-86e2-63915c8c7972"
      },
      "execution_count": 65,
      "outputs": [
        {
          "output_type": "display_data",
          "data": {
            "text/plain": [
              "<Figure size 432x288 with 1 Axes>"
            ],
            "image/png": "[encoded data removed]"
          },
          "metadata": {
            "needs_background": "light"
          }
        }
      ]
    },
    {
      "cell_type": "markdown",
      "source": [
        "LPOINT통합회원이 압도적으로 많다"
      ],
      "metadata": {
        "id": "pFu3O38kJscI"
      }
    },
    {
      "cell_type": "code",
      "source": [
        "sns.catplot(x=\"진행단계\", data=df, kind=\"count\", col=\"회원구분\")"
      ],
      "metadata": {
        "colab": {
          "base_uri": "https://localhost:8080/",
          "height": 313
        },
        "id": "HsYtFBGpGrzO",
        "outputId": "74b1fc59-b749-45f1-b1c1-776d112ca912"
      },
      "execution_count": 66,
      "outputs": [
        {
          "output_type": "execute_result",
          "data": {
            "text/plain": [
              "<seaborn.axisgrid.FacetGrid at 0x7f01bdae0e90>"
            ]
          },
          "metadata": {},
          "execution_count": 66
        },
        {
          "output_type": "display_data",
          "data": {
            "text/plain": [
              "<Figure size 1800x360 with 5 Axes>"
            ],
            "image/png": "[encoded data removed]"
          },
          "metadata": {
            "needs_background": "light"
          }
        }
      ]
    },
    {
      "cell_type": "code",
      "source": [
        "sns.countplot(x=\"유입매체\", data=df,order = df['유입매체'].value_counts().index);"
      ],
      "metadata": {
        "colab": {
          "base_uri": "https://localhost:8080/",
          "height": 277
        },
        "id": "8ZAZm8EmJ8O0",
        "outputId": "dc40018a-04a2-46e5-d846-04a9dc6aa34d"
      },
      "execution_count": 67,
      "outputs": [
        {
          "output_type": "display_data",
          "data": {
            "text/plain": [
              "<Figure size 432x288 with 1 Axes>"
            ],
            "image/png": "[encoded data removed]"
          },
          "metadata": {
            "needs_background": "light"
          }
        }
      ]
    },
    {
      "cell_type": "markdown",
      "source": [
        "유입매체는 APP, Mobile web, PC, Tablet순\n",
        "Tablet은 크게 고려 안해도 될 듯"
      ],
      "metadata": {
        "id": "nyQAslQgLB2K"
      }
    },
    {
      "cell_type": "code",
      "source": [
        "sns.catplot(x=\"진행단계\", data=df, kind=\"count\", col=\"유입매체\")"
      ],
      "metadata": {
        "colab": {
          "base_uri": "https://localhost:8080/",
          "height": 383
        },
        "id": "pNZ_-cspKKSm",
        "outputId": "47b9a1f6-a8f2-45d8-b08e-517ddd9da0f5"
      },
      "execution_count": 68,
      "outputs": [
        {
          "output_type": "execute_result",
          "data": {
            "text/plain": [
              "<seaborn.axisgrid.FacetGrid at 0x7f01c90b5c90>"
            ]
          },
          "metadata": {},
          "execution_count": 68
        },
        {
          "output_type": "display_data",
          "data": {
            "text/plain": [
              "<Figure size 1440x360 with 4 Axes>"
            ],
            "image/png": "[encoded data removed]"
          },
          "metadata": {
            "needs_background": "light"
          }
        }
      ]
    },
    {
      "cell_type": "markdown",
      "source": [
        "취소를 하게 된 변수를 찾으면 좋을 듯"
      ],
      "metadata": {
        "id": "oIEOcg5vK5cs"
      }
    },
    {
      "cell_type": "code",
      "source": [
        "df['주문구분'].value_counts()"
      ],
      "metadata": {
        "colab": {
          "base_uri": "https://localhost:8080/"
        },
        "id": "hufBbEXvK4aC",
        "outputId": "6dec29a1-6a17-4ab8-a533-409f71dc58f7"
      },
      "execution_count": 69,
      "outputs": [
        {
          "output_type": "execute_result",
          "data": {
            "text/plain": [
              "일반주문    3202\n",
              "선물하기      65\n",
              "Name: 주문구분, dtype: int64"
            ]
          },
          "metadata": {},
          "execution_count": 69
        }
      ]
    },
    {
      "cell_type": "code",
      "source": [
        "df['유입채널'].unique()"
      ],
      "metadata": {
        "colab": {
          "base_uri": "https://localhost:8080/"
        },
        "id": "pvRggtBdOsQH",
        "outputId": "6176bf15-65e6-429b-b96e-5390457ebe6c"
      },
      "execution_count": 70,
      "outputs": [
        {
          "output_type": "execute_result",
          "data": {
            "text/plain": [
              "array(['디폴트 채널상세', '[네이버] PCS 가격비교_롯데ON',\n",
              "       '[롯데ON][이메일][월요일은 [푸드Day] 식품 전용 쿠폰과 함께~!]',\n",
              "       '[다음카카오] PCS 가격비교_롯데ON', '[에누리] PCS 가격비교_롯데ON',\n",
              "       '[네이버] 키워드_쇼핑검색광고_롯데ON', '유실 채널상세', '[다나와] PCS 가격비교_롯데ON',\n",
              "       '[네이버] PC_브랜드검색_롯데ON', '[네이버] 브랜드검색_홈링크', '롯데백화점 오프라인APP_온라인몰',\n",
              "       '[롯데ON][알림톡][[롯데ON] 문의 답변등록 안내]', '[구글] SA_롯데ON',\n",
              "       '[롯데ON][알림톡][[롯데ON] 주문취소 안내]', '[롯데ON][알림톡][[롯데ON] 선물 배송시작 안내]',\n",
              "       '[모바일]카카오톡', '[롯데ON][PUSH][#{map1}고객님, 내일이면 끝나요!]',\n",
              "       '[롯데ON] 개인화 추천 이메일', '[롯데ON][알림톡][[롯데ON] 배송완료 안내]',\n",
              "       '[네이버] MO_브랜드검색_롯데ON', '[롯데ON][온세일 쿠폰💸으로 명절준비]',\n",
              "       '[롯데ON][알림톡][[롯데ON] 반품접수 완료 안내]', '[네이버] 키워드_롯데ON',\n",
              "       '[롯데ON][알림톡][[롯데ON] 상품 배송시작 안내]', '[롯데ON][PUSH][⏳월요일은 푸드Day⏳]',\n",
              "       '[롯데마트][장바구니가 풍성해지는 1+1💞]', '[롯데ON][PUSH][L.POINT 적립 알림]',\n",
              "       '[모지세] CPS제휴_매출_롯데ON', '[구글] 키워드_엘롯데',\n",
              "       '[롯데ON] MO Web 행사장_21.07_월간APP혜택', '[롯데ON][설 선물 택배 마감🚚 [D-3]]',\n",
              "       '[구글] 쇼핑_롯데ON', '[롯데ON][알림톡][[롯데ON] 주문 완료 안내]',\n",
              "       '[롯데ON][백화점 메가위크 10/10/10🎉]', \"[롯데ON][2022 New Year's gift🎁]\",\n",
              "       '나이스 제휴', '(광고) 0120 0900 온세일 ', '[네이버] 키워드_엘롯데',\n",
              "       '[롯데ON][알림톡][[롯데ON] 명절상품 배송완료 안내]', '[클릭즈] 키워드CPS_애드타겟_롯데ON',\n",
              "       '[롯데ON][나이스 투 MEAT🥩 유!]', '[롯데ON][PUSH][🔔장바구니 알리미]', '카카오톡 플러스친구',\n",
              "       '[롯데ON][명품화장품 비밀매장 초대장💌]', '[애피어] APP 리타게팅_롯데ON',\n",
              "       '[롯데ON][PUSH][⏰10월 8일⏰]', '3.썸네일_5-1', '퀵메뉴_슈퍼', '롯데ON 상단롤링배너',\n",
              "       '[통신사 제휴] KT 멤버십', '[롯데ON][💌누구나 2000원 쿠폰을 드려요!]', '(광고) 0112 타임딜 ',\n",
              "       '브이피', '[롯데ON][알림톡][[롯데ON] 이벤트 당첨 안내]',\n",
              "       '[롯데ON][알림톡][[롯데ON] 상품Q&A 답변등록 안내]', '[위메프] PCS 가격비교 할인제외 소재_롯데ON',\n",
              "       'webtoapp', '[롯데ON][PUSH][실시간 BEST 🕠]', '[몰로코] APP 리타게팅_롯데ON',\n",
              "       '[네이버] 메인 이미지 로고_롯데ON', '[롯데ON][PUSH][#{map1}고객님이 받은 혜택😊]',\n",
              "       '[롯데ON][알림톡][ [롯데ON] 주문완료 안내]', '[롯데마트][애프터위크 혜택, 이대로는 못보내지😘]',\n",
              "       '[롯데ON][애프터위크 라스트찬스🙋!]', '[롯데ON][PUSH][#{map1}님! 잊지 않으셨죠?]',\n",
              "       '(광고) 0107 타임딜 ', '딥링크_DA', '[롯데ON][설렘 가득한 날엔 스마트픽💗]',\n",
              "       '[롯데ON][애프터위크 쿠폰팩 받으셨나요~?]', '[롯데ON][애프터위크 ~7%카드할인💳]',\n",
              "       '[백화점] MD 공지_1월 퍼스트먼데이', '[롯데ON][퍼스트먼데이는 오늘까지🕛!]',\n",
              "       '[롯데ON][🐯해피 뉴 퍼스트먼데이🐯]', '[롯데ON][PUSH][롯데ON 온마음 설 🐯]',\n",
              "       '카카오 챗메뉴_1퍼스트먼데이', '[다음카카오] PCS 네이트쇼핑_롯데ON'], dtype=object)"
            ]
          },
          "metadata": {},
          "execution_count": 70
        }
      ]
    },
    {
      "cell_type": "code",
      "source": [
        "df['유입채널'].nunique()"
      ],
      "metadata": {
        "colab": {
          "base_uri": "https://localhost:8080/"
        },
        "id": "3J5gcsQROlbv",
        "outputId": "909aeb48-b07e-49e5-f037-f2393dc04b05"
      },
      "execution_count": 71,
      "outputs": [
        {
          "output_type": "execute_result",
          "data": {
            "text/plain": [
              "76"
            ]
          },
          "metadata": {},
          "execution_count": 71
        }
      ]
    },
    {
      "cell_type": "code",
      "source": [
        "df['유입채널'].value_counts()>1"
      ],
      "metadata": {
        "colab": {
          "base_uri": "https://localhost:8080/"
        },
        "id": "EbcYuz68MvKj",
        "outputId": "12a42b19-e6e2-484c-be26-6397175fe964"
      },
      "execution_count": 72,
      "outputs": [
        {
          "output_type": "execute_result",
          "data": {
            "text/plain": [
              "디폴트 채널상세                          True\n",
              "[네이버] PCS 가격비교_롯데ON               True\n",
              "[네이버] 키워드_쇼핑검색광고_롯데ON             True\n",
              "[다음카카오] PCS 가격비교_롯데ON             True\n",
              "[에누리] PCS 가격비교_롯데ON               True\n",
              "                                 ...  \n",
              "[롯데ON][2022 New Year's gift🎁]    False\n",
              "3.썸네일_5-1                        False\n",
              "[애피어] APP 리타게팅_롯데ON              False\n",
              "[롯데ON][명품화장품 비밀매장 초대장💌]          False\n",
              "[다음카카오] PCS 네이트쇼핑_롯데ON           False\n",
              "Name: 유입채널, Length: 76, dtype: bool"
            ]
          },
          "metadata": {},
          "execution_count": 72
        }
      ]
    },
    {
      "cell_type": "code",
      "source": [
        "(df['유입채널'].value_counts()>1).value_counts()"
      ],
      "metadata": {
        "colab": {
          "base_uri": "https://localhost:8080/"
        },
        "id": "OcZ6NOOVOjtQ",
        "outputId": "3d67eed4-0062-4f42-a671-8fea46db41b3"
      },
      "execution_count": 73,
      "outputs": [
        {
          "output_type": "execute_result",
          "data": {
            "text/plain": [
              "True     43\n",
              "False    33\n",
              "Name: 유입채널, dtype: int64"
            ]
          },
          "metadata": {},
          "execution_count": 73
        }
      ]
    },
    {
      "cell_type": "markdown",
      "source": [
        "유입채널이 1개 이상인 채널 43개 1개인 채널 33개\n",
        "한 개 초과 것만 봐도 될 듯"
      ],
      "metadata": {
        "id": "Oul_LMT4P_jh"
      }
    },
    {
      "cell_type": "code",
      "source": [
        "df['유입채널'].value_counts().head(43)"
      ],
      "metadata": {
        "colab": {
          "base_uri": "https://localhost:8080/"
        },
        "id": "qXY0K1OSQWAa",
        "outputId": "77b3731d-87e5-42c2-96b2-71f5db77e7dd"
      },
      "execution_count": 74,
      "outputs": [
        {
          "output_type": "execute_result",
          "data": {
            "text/plain": [
              "디폴트 채널상세                                    1763\n",
              "[네이버] PCS 가격비교_롯데ON                          742\n",
              "[네이버] 키워드_쇼핑검색광고_롯데ON                        182\n",
              "[다음카카오] PCS 가격비교_롯데ON                        118\n",
              "[에누리] PCS 가격비교_롯데ON                           75\n",
              "[다나와] PCS 가격비교_롯데ON                           64\n",
              "[네이버] PC_브랜드검색_롯데ON                           54\n",
              "[롯데ON][PUSH][실시간 BEST 🕠]                      25\n",
              "[네이버] 키워드_롯데ON                                15\n",
              "[네이버] MO_브랜드검색_롯데ON                           15\n",
              "[구글] SA_롯데ON                                  15\n",
              "[모바일]카카오톡                                     14\n",
              "[롯데ON][알림톡][[롯데ON] 상품 배송시작 안내]                12\n",
              "[롯데ON][알림톡][[롯데ON] 배송완료 안내]                   11\n",
              "(광고) 0107 타임딜                                 11\n",
              "[롯데ON][알림톡][[롯데ON] 주문 완료 안내]                  10\n",
              "[롯데ON] 개인화 추천 이메일                              9\n",
              "(광고) 0120 0900 온세일                             8\n",
              "[롯데ON][이메일][월요일은 [푸드Day] 식품 전용 쿠폰과 함께~!]       7\n",
              "유실 채널상세                                        6\n",
              "[롯데ON][PUSH][⏰10월 8일⏰]                         6\n",
              "[롯데ON] MO Web 행사장_21.07_월간APP혜택                6\n",
              "webtoapp                                       5\n",
              "브이피                                            5\n",
              "[롯데ON][PUSH][L.POINT 적립 알림]                    5\n",
              "[롯데ON][PUSH][🔔장바구니 알리미]                        5\n",
              "[롯데ON][PUSH][⏳월요일은 푸드Day⏳]                     5\n",
              "[롯데ON][알림톡][[롯데ON] 주문취소 안내]                    5\n",
              "[롯데ON][PUSH][#{map1}고객님, 내일이면 끝나요!]            4\n",
              "[위메프] PCS 가격비교 할인제외 소재_롯데ON                    3\n",
              "[롯데ON][설 선물 택배 마감🚚 [D-3]]                      3\n",
              "[롯데ON][애프터위크 ~7%카드할인💳]                         3\n",
              "[롯데ON][애프터위크 쿠폰팩 받으셨나요~?]                      3\n",
              "[롯데ON][🐯해피 뉴 퍼스트먼데이🐯]                          2\n",
              "[롯데ON][알림톡][[롯데ON] 상품Q&A 답변등록 안내]              2\n",
              "[롯데ON][퍼스트먼데이는 오늘까지🕛!]                         2\n",
              "[롯데마트][애프터위크 혜택, 이대로는 못보내지😘]                   2\n",
              "퀵메뉴_슈퍼                                         2\n",
              "[롯데ON][나이스 투 MEAT🥩 유!]                         2\n",
              "카카오톡 플러스친구                                     2\n",
              "[롯데ON][알림톡][[롯데ON] 명절상품 배송완료 안내]               2\n",
              "[모지세] CPS제휴_매출_롯데ON                            2\n",
              "나이스 제휴                                         2\n",
              "Name: 유입채널, dtype: int64"
            ]
          },
          "metadata": {},
          "execution_count": 74
        }
      ]
    },
    {
      "cell_type": "markdown",
      "source": [
        "50개 초과 것만 봐도 될 듯?"
      ],
      "metadata": {
        "id": "CEPz9NP8Q9Iw"
      }
    },
    {
      "cell_type": "markdown",
      "source": [
        "디폴트 채널상세는 모바일앱의 채널에서 본건가?\n",
        "가격비교로 온 것도 많다"
      ],
      "metadata": {
        "id": "eDsSVgb6ReKR"
      }
    },
    {
      "cell_type": "markdown",
      "source": [
        "유형, 진행단계, 구매확정은 같이 가는 것 같다.\n",
        "배송/취소"
      ],
      "metadata": {
        "id": "JDVS0vcHSIYR"
      }
    },
    {
      "cell_type": "code",
      "source": [
        "df['판매자상품명'].nunique()"
      ],
      "metadata": {
        "colab": {
          "base_uri": "https://localhost:8080/"
        },
        "id": "m9QDgF15TXUN",
        "outputId": "f89f7d49-d44e-47f8-f32f-afc91d676eab"
      },
      "execution_count": 79,
      "outputs": [
        {
          "output_type": "execute_result",
          "data": {
            "text/plain": [
              "536"
            ]
          },
          "metadata": {},
          "execution_count": 79
        }
      ]
    },
    {
      "cell_type": "markdown",
      "source": [
        "취소인 것과 판매자 상품"
      ],
      "metadata": {
        "id": "lDKZs0hUTu1E"
      }
    },
    {
      "cell_type": "code",
      "source": [],
      "metadata": {
        "id": "yS3QG9RfThuK"
      },
      "execution_count": null,
      "outputs": []
    }
  ]
}