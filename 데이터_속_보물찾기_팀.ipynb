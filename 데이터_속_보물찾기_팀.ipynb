{
  "cells": [
    {
      "cell_type": "markdown",
      "metadata": {
        "id": "view-in-github",
        "colab_type": "text"
      },
      "source": [
        "<a href=\"https://colab.research.google.com/github/yooje153/-/blob/main/%EB%8D%B0%EC%9D%B4%ED%84%B0_%EC%86%8D_%EB%B3%B4%EB%AC%BC%EC%B0%BE%EA%B8%B0_%ED%8C%80.ipynb\" target=\"_parent\"><img src=\"https://colab.research.google.com/assets/colab-badge.svg\" alt=\"Open In Colab\"/></a>"
      ]
    },
    {
      "cell_type": "markdown",
      "source": [
        "# 1. 데이터 전처리 하기"
      ],
      "metadata": {
        "id": "2K5ohs6QHP9t"
      },
      "id": "2K5ohs6QHP9t"
    },
    {
      "cell_type": "code",
      "execution_count": 158,
      "id": "5ec1e6e9",
      "metadata": {
        "id": "5ec1e6e9"
      },
      "outputs": [],
      "source": [
        "#먼저 필요한 모듈을 import해줍니다\n",
        "\n",
        "import pandas as pd\n",
        "from datetime import datetime\n",
        "import matplotlib.pyplot as plt\n",
        "import seaborn as sns"
      ]
    },
    {
      "cell_type": "code",
      "source": [
        "# 시각화 과정에서 한글 깨짐 방지!!!!\n",
        "\n",
        "from matplotlib import font_manager, rc\n",
        "import matplotlib\n",
        "import platform\n",
        "import matplotlib.pyplot as plt\n",
        "\n",
        "%matplotlib inline \n",
        "\n",
        "if platform.system() == 'Windows':\n",
        "    font_name = font_manager.FontProperties(fname=\"c:/Windows/Fonts/malgun.ttf\").get_name()\n",
        "    rc('font', family = font_name)\n",
        "else:\n",
        "    rc('font',family='AppleGothic')\n",
        "    \n",
        "matplotlib.rcParams['axes.unicode_minus']=False\n",
        "%matplotlib inline"
      ],
      "metadata": {
        "id": "tD9kSq4Tkfid"
      },
      "id": "tD9kSq4Tkfid",
      "execution_count": 159,
      "outputs": []
    },
    {
      "cell_type": "code",
      "source": [
        "from google.colab import drive\n",
        "drive.mount ('/content/drive/')"
      ],
      "metadata": {
        "colab": {
          "base_uri": "https://localhost:8080/"
        },
        "id": "D4D4BbAjJAyt",
        "outputId": "e43ec5ac-8f74-4087-cfa4-9838055acdca"
      },
      "id": "D4D4BbAjJAyt",
      "execution_count": 88,
      "outputs": [
        {
          "output_type": "stream",
          "name": "stdout",
          "text": [
            "Drive already mounted at /content/drive/; to attempt to forcibly remount, call drive.mount(\"/content/drive/\", force_remount=True).\n"
          ]
        }
      ]
    },
    {
      "cell_type": "code",
      "source": [
        "path = \"/content/drive/MyDrive/\""
      ],
      "metadata": {
        "id": "wGUpjvDvJXQH"
      },
      "id": "wGUpjvDvJXQH",
      "execution_count": 89,
      "outputs": []
    },
    {
      "cell_type": "code",
      "execution_count": 84,
      "id": "308b466e",
      "metadata": {
        "id": "308b466e"
      },
      "outputs": [],
      "source": [
        "# 데이터프레임은 월별로 시트가 여러개이므로, csv 파일로 불러오는 것이 불가능하여, 리스트에 요소별로 데이터프레임을 추가하고, concat하는 방식으로 하였습니다.\n",
        "df = []\n",
        "for i in range(9):\n",
        "    df.append(pd.read_excel(path+'BDAA_1회 내부 공모전 데이터.xlsx', sheet_name=i))"
      ]
    },
    {
      "cell_type": "code",
      "execution_count": 90,
      "id": "c4854c65",
      "metadata": {
        "id": "c4854c65"
      },
      "outputs": [],
      "source": [
        "df = pd.concat([df[i] for i in range(9)], axis = 0)"
      ]
    },
    {
      "cell_type": "code",
      "execution_count": 91,
      "id": "c50a2268",
      "metadata": {
        "id": "c50a2268",
        "outputId": "2aaf1a87-5f55-46bf-bd5b-af58f7f8f079",
        "colab": {
          "base_uri": "https://localhost:8080/",
          "height": 887
        }
      },
      "outputs": [
        {
          "output_type": "execute_result",
          "data": {
            "text/plain": [
              "                주문접수일시              주문번호    유입매체  주문구분      유입채널        회원구분  \\\n",
              "0  2022-01-31 23:59:43  2022013116206973  MO WEB  일반주문  디폴트 채널상세  LPOINT통합회원   \n",
              "1  2022-01-31 23:44:09  2022013116204996  MO WEB  일반주문  디폴트 채널상세  LPOINT통합회원   \n",
              "2  2022-01-31 23:44:09  2022013116204996  MO WEB  일반주문  디폴트 채널상세  LPOINT통합회원   \n",
              "3  2022-01-31 23:35:27  2022013116204259     APP  일반주문  디폴트 채널상세  LPOINT통합회원   \n",
              "4  2022-01-31 23:21:06  2022013116202890     APP  일반주문  디폴트 채널상세  LPOINT통합회원   \n",
              "\n",
              "        아이디   전시유입코드              상품주문번호  유형  ...  주문판매유형       상품유형      브랜드  \\\n",
              "0  alls****      NaN  2022013116206973_1  주문  ...  일반판매상품  일반판매_일반상품  씨제이제일제당   \n",
              "1  okok****      CHT  2022013116204996_1  주문  ...  일반판매상품  일반판매_일반상품  씨제이제일제당   \n",
              "2  okok****      CHT  2022013116204996_2  주문  ...  일반판매상품  일반판매_일반상품  씨제이제일제당   \n",
              "3  fire****    SCH스팸  2022013116204259_1  주문  ...  일반판매상품  일반판매_일반상품  씨제이제일제당   \n",
              "4  dkfm****  SCH비비고국  2022013116202890_1  주문  ...  일반판매상품  일반판매_일반상품  씨제이제일제당   \n",
              "\n",
              "     판매가 수량                    표준카테고리 모델번호 롯데맴버스오프라인고객번호 롯데맴버스온라인고객번호 회원번호  \n",
              "0  24900  1   냉장/냉동/간편식 > 떡볶이/만두 > 만두  NaN           NaN          NaN  NaN  \n",
              "1  26050  1      가공식품 > 장류 > 고추장/초고추장  NaN           NaN          NaN  NaN  \n",
              "2  22620  1   냉장/냉동/간편식 > 떡볶이/만두 > 만두  NaN           NaN          NaN  NaN  \n",
              "3  40000  1       가공식품 > 통조림/캔 > 햄통조림  NaN           NaN          NaN  NaN  \n",
              "4  22030  1  냉장/냉동/간편식 > 국/탕/찌개 > 국/탕  NaN           NaN          NaN  NaN  \n",
              "\n",
              "[5 rows x 41 columns]"
            ],
            "text/html": [
              "\n",
              "  <div id=\"df-0f7a9603-f3a6-4a84-8162-e3c15980791e\">\n",
              "    <div class=\"colab-df-container\">\n",
              "      <div>\n",
              "<style scoped>\n",
              "    .dataframe tbody tr th:only-of-type {\n",
              "        vertical-align: middle;\n",
              "    }\n",
              "\n",
              "    .dataframe tbody tr th {\n",
              "        vertical-align: top;\n",
              "    }\n",
              "\n",
              "    .dataframe thead th {\n",
              "        text-align: right;\n",
              "    }\n",
              "</style>\n",
              "<table border=\"1\" class=\"dataframe\">\n",
              "  <thead>\n",
              "    <tr style=\"text-align: right;\">\n",
              "      <th></th>\n",
              "      <th>주문접수일시</th>\n",
              "      <th>주문번호</th>\n",
              "      <th>유입매체</th>\n",
              "      <th>주문구분</th>\n",
              "      <th>유입채널</th>\n",
              "      <th>회원구분</th>\n",
              "      <th>아이디</th>\n",
              "      <th>전시유입코드</th>\n",
              "      <th>상품주문번호</th>\n",
              "      <th>유형</th>\n",
              "      <th>...</th>\n",
              "      <th>주문판매유형</th>\n",
              "      <th>상품유형</th>\n",
              "      <th>브랜드</th>\n",
              "      <th>판매가</th>\n",
              "      <th>수량</th>\n",
              "      <th>표준카테고리</th>\n",
              "      <th>모델번호</th>\n",
              "      <th>롯데맴버스오프라인고객번호</th>\n",
              "      <th>롯데맴버스온라인고객번호</th>\n",
              "      <th>회원번호</th>\n",
              "    </tr>\n",
              "  </thead>\n",
              "  <tbody>\n",
              "    <tr>\n",
              "      <th>0</th>\n",
              "      <td>2022-01-31 23:59:43</td>\n",
              "      <td>2022013116206973</td>\n",
              "      <td>MO WEB</td>\n",
              "      <td>일반주문</td>\n",
              "      <td>디폴트 채널상세</td>\n",
              "      <td>LPOINT통합회원</td>\n",
              "      <td>alls****</td>\n",
              "      <td>NaN</td>\n",
              "      <td>2022013116206973_1</td>\n",
              "      <td>주문</td>\n",
              "      <td>...</td>\n",
              "      <td>일반판매상품</td>\n",
              "      <td>일반판매_일반상품</td>\n",
              "      <td>씨제이제일제당</td>\n",
              "      <td>24900</td>\n",
              "      <td>1</td>\n",
              "      <td>냉장/냉동/간편식 &gt; 떡볶이/만두 &gt; 만두</td>\n",
              "      <td>NaN</td>\n",
              "      <td>NaN</td>\n",
              "      <td>NaN</td>\n",
              "      <td>NaN</td>\n",
              "    </tr>\n",
              "    <tr>\n",
              "      <th>1</th>\n",
              "      <td>2022-01-31 23:44:09</td>\n",
              "      <td>2022013116204996</td>\n",
              "      <td>MO WEB</td>\n",
              "      <td>일반주문</td>\n",
              "      <td>디폴트 채널상세</td>\n",
              "      <td>LPOINT통합회원</td>\n",
              "      <td>okok****</td>\n",
              "      <td>CHT</td>\n",
              "      <td>2022013116204996_1</td>\n",
              "      <td>주문</td>\n",
              "      <td>...</td>\n",
              "      <td>일반판매상품</td>\n",
              "      <td>일반판매_일반상품</td>\n",
              "      <td>씨제이제일제당</td>\n",
              "      <td>26050</td>\n",
              "      <td>1</td>\n",
              "      <td>가공식품 &gt; 장류 &gt; 고추장/초고추장</td>\n",
              "      <td>NaN</td>\n",
              "      <td>NaN</td>\n",
              "      <td>NaN</td>\n",
              "      <td>NaN</td>\n",
              "    </tr>\n",
              "    <tr>\n",
              "      <th>2</th>\n",
              "      <td>2022-01-31 23:44:09</td>\n",
              "      <td>2022013116204996</td>\n",
              "      <td>MO WEB</td>\n",
              "      <td>일반주문</td>\n",
              "      <td>디폴트 채널상세</td>\n",
              "      <td>LPOINT통합회원</td>\n",
              "      <td>okok****</td>\n",
              "      <td>CHT</td>\n",
              "      <td>2022013116204996_2</td>\n",
              "      <td>주문</td>\n",
              "      <td>...</td>\n",
              "      <td>일반판매상품</td>\n",
              "      <td>일반판매_일반상품</td>\n",
              "      <td>씨제이제일제당</td>\n",
              "      <td>22620</td>\n",
              "      <td>1</td>\n",
              "      <td>냉장/냉동/간편식 &gt; 떡볶이/만두 &gt; 만두</td>\n",
              "      <td>NaN</td>\n",
              "      <td>NaN</td>\n",
              "      <td>NaN</td>\n",
              "      <td>NaN</td>\n",
              "    </tr>\n",
              "    <tr>\n",
              "      <th>3</th>\n",
              "      <td>2022-01-31 23:35:27</td>\n",
              "      <td>2022013116204259</td>\n",
              "      <td>APP</td>\n",
              "      <td>일반주문</td>\n",
              "      <td>디폴트 채널상세</td>\n",
              "      <td>LPOINT통합회원</td>\n",
              "      <td>fire****</td>\n",
              "      <td>SCH스팸</td>\n",
              "      <td>2022013116204259_1</td>\n",
              "      <td>주문</td>\n",
              "      <td>...</td>\n",
              "      <td>일반판매상품</td>\n",
              "      <td>일반판매_일반상품</td>\n",
              "      <td>씨제이제일제당</td>\n",
              "      <td>40000</td>\n",
              "      <td>1</td>\n",
              "      <td>가공식품 &gt; 통조림/캔 &gt; 햄통조림</td>\n",
              "      <td>NaN</td>\n",
              "      <td>NaN</td>\n",
              "      <td>NaN</td>\n",
              "      <td>NaN</td>\n",
              "    </tr>\n",
              "    <tr>\n",
              "      <th>4</th>\n",
              "      <td>2022-01-31 23:21:06</td>\n",
              "      <td>2022013116202890</td>\n",
              "      <td>APP</td>\n",
              "      <td>일반주문</td>\n",
              "      <td>디폴트 채널상세</td>\n",
              "      <td>LPOINT통합회원</td>\n",
              "      <td>dkfm****</td>\n",
              "      <td>SCH비비고국</td>\n",
              "      <td>2022013116202890_1</td>\n",
              "      <td>주문</td>\n",
              "      <td>...</td>\n",
              "      <td>일반판매상품</td>\n",
              "      <td>일반판매_일반상품</td>\n",
              "      <td>씨제이제일제당</td>\n",
              "      <td>22030</td>\n",
              "      <td>1</td>\n",
              "      <td>냉장/냉동/간편식 &gt; 국/탕/찌개 &gt; 국/탕</td>\n",
              "      <td>NaN</td>\n",
              "      <td>NaN</td>\n",
              "      <td>NaN</td>\n",
              "      <td>NaN</td>\n",
              "    </tr>\n",
              "  </tbody>\n",
              "</table>\n",
              "<p>5 rows × 41 columns</p>\n",
              "</div>\n",
              "      <button class=\"colab-df-convert\" onclick=\"convertToInteractive('df-0f7a9603-f3a6-4a84-8162-e3c15980791e')\"\n",
              "              title=\"Convert this dataframe to an interactive table.\"\n",
              "              style=\"display:none;\">\n",
              "        \n",
              "  <svg xmlns=\"http://www.w3.org/2000/svg\" height=\"24px\"viewBox=\"0 0 24 24\"\n",
              "       width=\"24px\">\n",
              "    <path d=\"M0 0h24v24H0V0z\" fill=\"none\"/>\n",
              "    <path d=\"M18.56 5.44l.94 2.06.94-2.06 2.06-.94-2.06-.94-.94-2.06-.94 2.06-2.06.94zm-11 1L8.5 8.5l.94-2.06 2.06-.94-2.06-.94L8.5 2.5l-.94 2.06-2.06.94zm10 10l.94 2.06.94-2.06 2.06-.94-2.06-.94-.94-2.06-.94 2.06-2.06.94z\"/><path d=\"M17.41 7.96l-1.37-1.37c-.4-.4-.92-.59-1.43-.59-.52 0-1.04.2-1.43.59L10.3 9.45l-7.72 7.72c-.78.78-.78 2.05 0 2.83L4 21.41c.39.39.9.59 1.41.59.51 0 1.02-.2 1.41-.59l7.78-7.78 2.81-2.81c.8-.78.8-2.07 0-2.86zM5.41 20L4 18.59l7.72-7.72 1.47 1.35L5.41 20z\"/>\n",
              "  </svg>\n",
              "      </button>\n",
              "      \n",
              "  <style>\n",
              "    .colab-df-container {\n",
              "      display:flex;\n",
              "      flex-wrap:wrap;\n",
              "      gap: 12px;\n",
              "    }\n",
              "\n",
              "    .colab-df-convert {\n",
              "      background-color: #E8F0FE;\n",
              "      border: none;\n",
              "      border-radius: 50%;\n",
              "      cursor: pointer;\n",
              "      display: none;\n",
              "      fill: #1967D2;\n",
              "      height: 32px;\n",
              "      padding: 0 0 0 0;\n",
              "      width: 32px;\n",
              "    }\n",
              "\n",
              "    .colab-df-convert:hover {\n",
              "      background-color: #E2EBFA;\n",
              "      box-shadow: 0px 1px 2px rgba(60, 64, 67, 0.3), 0px 1px 3px 1px rgba(60, 64, 67, 0.15);\n",
              "      fill: #174EA6;\n",
              "    }\n",
              "\n",
              "    [theme=dark] .colab-df-convert {\n",
              "      background-color: #3B4455;\n",
              "      fill: #D2E3FC;\n",
              "    }\n",
              "\n",
              "    [theme=dark] .colab-df-convert:hover {\n",
              "      background-color: #434B5C;\n",
              "      box-shadow: 0px 1px 3px 1px rgba(0, 0, 0, 0.15);\n",
              "      filter: drop-shadow(0px 1px 2px rgba(0, 0, 0, 0.3));\n",
              "      fill: #FFFFFF;\n",
              "    }\n",
              "  </style>\n",
              "\n",
              "      <script>\n",
              "        const buttonEl =\n",
              "          document.querySelector('#df-0f7a9603-f3a6-4a84-8162-e3c15980791e button.colab-df-convert');\n",
              "        buttonEl.style.display =\n",
              "          google.colab.kernel.accessAllowed ? 'block' : 'none';\n",
              "\n",
              "        async function convertToInteractive(key) {\n",
              "          const element = document.querySelector('#df-0f7a9603-f3a6-4a84-8162-e3c15980791e');\n",
              "          const dataTable =\n",
              "            await google.colab.kernel.invokeFunction('convertToInteractive',\n",
              "                                                     [key], {});\n",
              "          if (!dataTable) return;\n",
              "\n",
              "          const docLinkHtml = 'Like what you see? Visit the ' +\n",
              "            '<a target=\"_blank\" href=https://colab.research.google.com/notebooks/data_table.ipynb>data table notebook</a>'\n",
              "            + ' to learn more about interactive tables.';\n",
              "          element.innerHTML = '';\n",
              "          dataTable['output_type'] = 'display_data';\n",
              "          await google.colab.output.renderOutput(dataTable, element);\n",
              "          const docLink = document.createElement('div');\n",
              "          docLink.innerHTML = docLinkHtml;\n",
              "          element.appendChild(docLink);\n",
              "        }\n",
              "      </script>\n",
              "    </div>\n",
              "  </div>\n",
              "  "
            ]
          },
          "metadata": {},
          "execution_count": 91
        }
      ],
      "source": [
        "df.head()"
      ]
    },
    {
      "cell_type": "code",
      "execution_count": 92,
      "id": "7d2dd89a",
      "metadata": {
        "id": "7d2dd89a",
        "outputId": "a51ddc19-b5c4-4a9c-de16-2abe270d3eb2",
        "colab": {
          "base_uri": "https://localhost:8080/",
          "height": 1000
        }
      },
      "outputs": [
        {
          "output_type": "execute_result",
          "data": {
            "text/plain": [
              "                   주문접수일시              주문번호    유입매체  주문구분  \\\n",
              "3266  2022-01-01 00:17:11  2022010111864975  MO WEB  일반주문   \n",
              "3265  2022-01-01 00:38:13  2022010111866837  MO WEB  일반주문   \n",
              "3264  2022-01-01 00:38:42  2022010111866938     APP  일반주문   \n",
              "3263  2022-01-01 02:54:53  2022010111873735     APP  일반주문   \n",
              "3262  2022-01-01 02:56:35  2022010111873774     APP  일반주문   \n",
              "...                   ...               ...     ...   ...   \n",
              "4     2022-09-30 23:52:25  2022093018638708  MO WEB  일반주문   \n",
              "3     2022-09-30 23:52:41  2022093018638709     APP  일반주문   \n",
              "2     2022-09-30 23:56:28  2022093018639349     APP  일반주문   \n",
              "1     2022-09-30 23:58:52  2022093018639892     APP  일반주문   \n",
              "0     2022-09-30 23:59:27  2022093018640098     APP  일반주문   \n",
              "\n",
              "                       유입채널        회원구분           아이디     전시유입코드  \\\n",
              "3266               디폴트 채널상세  LPOINT통합회원      jsda****  SCH비비고갈비탕   \n",
              "3265  [다음카카오] PCS 가격비교_롯데ON  LPOINT통합회원      kim6****        CHT   \n",
              "3264               디폴트 채널상세  LPOINT통합회원      ggg9****  SCH쁘띠첼복숭아   \n",
              "3263               디폴트 채널상세  LPOINT통합회원      savi****        RSI   \n",
              "3262               디폴트 채널상세  LPOINT통합회원      savi****        RSI   \n",
              "...                     ...         ...           ...        ...   \n",
              "4       [네이버] PCS 가격비교_롯데ON  LPOINT통합회원       cha2844        CHT   \n",
              "3                  디폴트 채널상세  LPOINT통합회원        wocns2        CHT   \n",
              "2                  디폴트 채널상세  LPOINT통합회원       xraydos        RSI   \n",
              "1          [링크프라이스] CPS_롯데온  LPOINT통합회원       badamit        NaN   \n",
              "0                  디폴트 채널상세  LPOINT통합회원  simsimfreeya    SCH사골곰탕   \n",
              "\n",
              "                  상품주문번호        유형  ...  주문판매유형       상품유형      브랜드    판매가 수량  \\\n",
              "3266  2022010111864975_1  취소(주문취소)  ...  일반판매상품  일반판매_일반상품  씨제이제일제당  18830  1   \n",
              "3265  2022010111866837_1        주문  ...  일반판매상품  일반판매_일반상품  씨제이제일제당  16240  1   \n",
              "3264  2022010111866938_5  취소(주문취소)  ...  일반판매상품  일반판매_일반상품  씨제이제일제당  22300  1   \n",
              "3263  2022010111873735_1        주문  ...  일반판매상품  일반판매_일반상품  씨제이제일제당  33240  1   \n",
              "3262  2022010111873774_1        주문  ...  일반판매상품  일반판매_일반상품  씨제이제일제당  33240  1   \n",
              "...                  ...       ...  ...     ...        ...      ...    ... ..   \n",
              "4     2022093018638708_1        주문  ...  일반판매상품  일반판매_일반상품   CJ제일제당  17400  1   \n",
              "3     2022093018638709_1        주문  ...  일반판매상품  일반판매_일반상품   CJ제일제당  24500  2   \n",
              "2     2022093018639349_1        주문  ...  일반판매상품  일반판매_일반상품   CJ제일제당  37000  1   \n",
              "1     2022093018639892_1        주문  ...  일반판매상품  일반판매_일반상품   CJ제일제당  38000  1   \n",
              "0     2022093018640098_1        주문  ...  일반판매상품  일반판매_일반상품   CJ제일제당  24500  2   \n",
              "\n",
              "                          표준카테고리 모델번호 롯데맴버스오프라인고객번호 롯데맴버스온라인고객번호          회원번호  \n",
              "3266    냉장/냉동/간편식 > 국/탕/찌개 > 국/탕  NaN           NaN          NaN           NaN  \n",
              "3265       가공식품 > 장류 > 된장/쌈장/청국장  NaN           NaN          NaN           NaN  \n",
              "3264        과자/간식 > 디저트/케이크 > 푸딩  NaN           NaN          NaN           NaN  \n",
              "3263  냉장/냉동/간편식 > 즉석밥/죽/스프 > 즉석밥  NaN           NaN          NaN           NaN  \n",
              "3262  냉장/냉동/간편식 > 즉석밥/죽/스프 > 즉석밥  NaN           NaN          NaN           NaN  \n",
              "...                          ...  ...           ...          ...           ...  \n",
              "4         가공식품 > 통조림/캔 > 닭가슴살통조림  NaN           NaN          NaN  1.000739e+10  \n",
              "3       냉장/냉동/간편식 > 국/탕/찌개 > 국/탕  NaN           NaN          NaN  1.001256e+10  \n",
              "2       냉장/냉동/간편식 > 국/탕/찌개 > 국/탕  NaN           NaN          NaN  1.001334e+10  \n",
              "1       냉장/냉동/간편식 > 국/탕/찌개 > 국/탕  NaN           NaN          NaN  1.001083e+10  \n",
              "0       냉장/냉동/간편식 > 국/탕/찌개 > 국/탕  NaN           NaN          NaN  1.000204e+10  \n",
              "\n",
              "[102077 rows x 41 columns]"
            ],
            "text/html": [
              "\n",
              "  <div id=\"df-07c594f5-9cfe-4b9e-8be7-3e9d0cd84675\">\n",
              "    <div class=\"colab-df-container\">\n",
              "      <div>\n",
              "<style scoped>\n",
              "    .dataframe tbody tr th:only-of-type {\n",
              "        vertical-align: middle;\n",
              "    }\n",
              "\n",
              "    .dataframe tbody tr th {\n",
              "        vertical-align: top;\n",
              "    }\n",
              "\n",
              "    .dataframe thead th {\n",
              "        text-align: right;\n",
              "    }\n",
              "</style>\n",
              "<table border=\"1\" class=\"dataframe\">\n",
              "  <thead>\n",
              "    <tr style=\"text-align: right;\">\n",
              "      <th></th>\n",
              "      <th>주문접수일시</th>\n",
              "      <th>주문번호</th>\n",
              "      <th>유입매체</th>\n",
              "      <th>주문구분</th>\n",
              "      <th>유입채널</th>\n",
              "      <th>회원구분</th>\n",
              "      <th>아이디</th>\n",
              "      <th>전시유입코드</th>\n",
              "      <th>상품주문번호</th>\n",
              "      <th>유형</th>\n",
              "      <th>...</th>\n",
              "      <th>주문판매유형</th>\n",
              "      <th>상품유형</th>\n",
              "      <th>브랜드</th>\n",
              "      <th>판매가</th>\n",
              "      <th>수량</th>\n",
              "      <th>표준카테고리</th>\n",
              "      <th>모델번호</th>\n",
              "      <th>롯데맴버스오프라인고객번호</th>\n",
              "      <th>롯데맴버스온라인고객번호</th>\n",
              "      <th>회원번호</th>\n",
              "    </tr>\n",
              "  </thead>\n",
              "  <tbody>\n",
              "    <tr>\n",
              "      <th>3266</th>\n",
              "      <td>2022-01-01 00:17:11</td>\n",
              "      <td>2022010111864975</td>\n",
              "      <td>MO WEB</td>\n",
              "      <td>일반주문</td>\n",
              "      <td>디폴트 채널상세</td>\n",
              "      <td>LPOINT통합회원</td>\n",
              "      <td>jsda****</td>\n",
              "      <td>SCH비비고갈비탕</td>\n",
              "      <td>2022010111864975_1</td>\n",
              "      <td>취소(주문취소)</td>\n",
              "      <td>...</td>\n",
              "      <td>일반판매상품</td>\n",
              "      <td>일반판매_일반상품</td>\n",
              "      <td>씨제이제일제당</td>\n",
              "      <td>18830</td>\n",
              "      <td>1</td>\n",
              "      <td>냉장/냉동/간편식 &gt; 국/탕/찌개 &gt; 국/탕</td>\n",
              "      <td>NaN</td>\n",
              "      <td>NaN</td>\n",
              "      <td>NaN</td>\n",
              "      <td>NaN</td>\n",
              "    </tr>\n",
              "    <tr>\n",
              "      <th>3265</th>\n",
              "      <td>2022-01-01 00:38:13</td>\n",
              "      <td>2022010111866837</td>\n",
              "      <td>MO WEB</td>\n",
              "      <td>일반주문</td>\n",
              "      <td>[다음카카오] PCS 가격비교_롯데ON</td>\n",
              "      <td>LPOINT통합회원</td>\n",
              "      <td>kim6****</td>\n",
              "      <td>CHT</td>\n",
              "      <td>2022010111866837_1</td>\n",
              "      <td>주문</td>\n",
              "      <td>...</td>\n",
              "      <td>일반판매상품</td>\n",
              "      <td>일반판매_일반상품</td>\n",
              "      <td>씨제이제일제당</td>\n",
              "      <td>16240</td>\n",
              "      <td>1</td>\n",
              "      <td>가공식품 &gt; 장류 &gt; 된장/쌈장/청국장</td>\n",
              "      <td>NaN</td>\n",
              "      <td>NaN</td>\n",
              "      <td>NaN</td>\n",
              "      <td>NaN</td>\n",
              "    </tr>\n",
              "    <tr>\n",
              "      <th>3264</th>\n",
              "      <td>2022-01-01 00:38:42</td>\n",
              "      <td>2022010111866938</td>\n",
              "      <td>APP</td>\n",
              "      <td>일반주문</td>\n",
              "      <td>디폴트 채널상세</td>\n",
              "      <td>LPOINT통합회원</td>\n",
              "      <td>ggg9****</td>\n",
              "      <td>SCH쁘띠첼복숭아</td>\n",
              "      <td>2022010111866938_5</td>\n",
              "      <td>취소(주문취소)</td>\n",
              "      <td>...</td>\n",
              "      <td>일반판매상품</td>\n",
              "      <td>일반판매_일반상품</td>\n",
              "      <td>씨제이제일제당</td>\n",
              "      <td>22300</td>\n",
              "      <td>1</td>\n",
              "      <td>과자/간식 &gt; 디저트/케이크 &gt; 푸딩</td>\n",
              "      <td>NaN</td>\n",
              "      <td>NaN</td>\n",
              "      <td>NaN</td>\n",
              "      <td>NaN</td>\n",
              "    </tr>\n",
              "    <tr>\n",
              "      <th>3263</th>\n",
              "      <td>2022-01-01 02:54:53</td>\n",
              "      <td>2022010111873735</td>\n",
              "      <td>APP</td>\n",
              "      <td>일반주문</td>\n",
              "      <td>디폴트 채널상세</td>\n",
              "      <td>LPOINT통합회원</td>\n",
              "      <td>savi****</td>\n",
              "      <td>RSI</td>\n",
              "      <td>2022010111873735_1</td>\n",
              "      <td>주문</td>\n",
              "      <td>...</td>\n",
              "      <td>일반판매상품</td>\n",
              "      <td>일반판매_일반상품</td>\n",
              "      <td>씨제이제일제당</td>\n",
              "      <td>33240</td>\n",
              "      <td>1</td>\n",
              "      <td>냉장/냉동/간편식 &gt; 즉석밥/죽/스프 &gt; 즉석밥</td>\n",
              "      <td>NaN</td>\n",
              "      <td>NaN</td>\n",
              "      <td>NaN</td>\n",
              "      <td>NaN</td>\n",
              "    </tr>\n",
              "    <tr>\n",
              "      <th>3262</th>\n",
              "      <td>2022-01-01 02:56:35</td>\n",
              "      <td>2022010111873774</td>\n",
              "      <td>APP</td>\n",
              "      <td>일반주문</td>\n",
              "      <td>디폴트 채널상세</td>\n",
              "      <td>LPOINT통합회원</td>\n",
              "      <td>savi****</td>\n",
              "      <td>RSI</td>\n",
              "      <td>2022010111873774_1</td>\n",
              "      <td>주문</td>\n",
              "      <td>...</td>\n",
              "      <td>일반판매상품</td>\n",
              "      <td>일반판매_일반상품</td>\n",
              "      <td>씨제이제일제당</td>\n",
              "      <td>33240</td>\n",
              "      <td>1</td>\n",
              "      <td>냉장/냉동/간편식 &gt; 즉석밥/죽/스프 &gt; 즉석밥</td>\n",
              "      <td>NaN</td>\n",
              "      <td>NaN</td>\n",
              "      <td>NaN</td>\n",
              "      <td>NaN</td>\n",
              "    </tr>\n",
              "    <tr>\n",
              "      <th>...</th>\n",
              "      <td>...</td>\n",
              "      <td>...</td>\n",
              "      <td>...</td>\n",
              "      <td>...</td>\n",
              "      <td>...</td>\n",
              "      <td>...</td>\n",
              "      <td>...</td>\n",
              "      <td>...</td>\n",
              "      <td>...</td>\n",
              "      <td>...</td>\n",
              "      <td>...</td>\n",
              "      <td>...</td>\n",
              "      <td>...</td>\n",
              "      <td>...</td>\n",
              "      <td>...</td>\n",
              "      <td>...</td>\n",
              "      <td>...</td>\n",
              "      <td>...</td>\n",
              "      <td>...</td>\n",
              "      <td>...</td>\n",
              "      <td>...</td>\n",
              "    </tr>\n",
              "    <tr>\n",
              "      <th>4</th>\n",
              "      <td>2022-09-30 23:52:25</td>\n",
              "      <td>2022093018638708</td>\n",
              "      <td>MO WEB</td>\n",
              "      <td>일반주문</td>\n",
              "      <td>[네이버] PCS 가격비교_롯데ON</td>\n",
              "      <td>LPOINT통합회원</td>\n",
              "      <td>cha2844</td>\n",
              "      <td>CHT</td>\n",
              "      <td>2022093018638708_1</td>\n",
              "      <td>주문</td>\n",
              "      <td>...</td>\n",
              "      <td>일반판매상품</td>\n",
              "      <td>일반판매_일반상품</td>\n",
              "      <td>CJ제일제당</td>\n",
              "      <td>17400</td>\n",
              "      <td>1</td>\n",
              "      <td>가공식품 &gt; 통조림/캔 &gt; 닭가슴살통조림</td>\n",
              "      <td>NaN</td>\n",
              "      <td>NaN</td>\n",
              "      <td>NaN</td>\n",
              "      <td>1.000739e+10</td>\n",
              "    </tr>\n",
              "    <tr>\n",
              "      <th>3</th>\n",
              "      <td>2022-09-30 23:52:41</td>\n",
              "      <td>2022093018638709</td>\n",
              "      <td>APP</td>\n",
              "      <td>일반주문</td>\n",
              "      <td>디폴트 채널상세</td>\n",
              "      <td>LPOINT통합회원</td>\n",
              "      <td>wocns2</td>\n",
              "      <td>CHT</td>\n",
              "      <td>2022093018638709_1</td>\n",
              "      <td>주문</td>\n",
              "      <td>...</td>\n",
              "      <td>일반판매상품</td>\n",
              "      <td>일반판매_일반상품</td>\n",
              "      <td>CJ제일제당</td>\n",
              "      <td>24500</td>\n",
              "      <td>2</td>\n",
              "      <td>냉장/냉동/간편식 &gt; 국/탕/찌개 &gt; 국/탕</td>\n",
              "      <td>NaN</td>\n",
              "      <td>NaN</td>\n",
              "      <td>NaN</td>\n",
              "      <td>1.001256e+10</td>\n",
              "    </tr>\n",
              "    <tr>\n",
              "      <th>2</th>\n",
              "      <td>2022-09-30 23:56:28</td>\n",
              "      <td>2022093018639349</td>\n",
              "      <td>APP</td>\n",
              "      <td>일반주문</td>\n",
              "      <td>디폴트 채널상세</td>\n",
              "      <td>LPOINT통합회원</td>\n",
              "      <td>xraydos</td>\n",
              "      <td>RSI</td>\n",
              "      <td>2022093018639349_1</td>\n",
              "      <td>주문</td>\n",
              "      <td>...</td>\n",
              "      <td>일반판매상품</td>\n",
              "      <td>일반판매_일반상품</td>\n",
              "      <td>CJ제일제당</td>\n",
              "      <td>37000</td>\n",
              "      <td>1</td>\n",
              "      <td>냉장/냉동/간편식 &gt; 국/탕/찌개 &gt; 국/탕</td>\n",
              "      <td>NaN</td>\n",
              "      <td>NaN</td>\n",
              "      <td>NaN</td>\n",
              "      <td>1.001334e+10</td>\n",
              "    </tr>\n",
              "    <tr>\n",
              "      <th>1</th>\n",
              "      <td>2022-09-30 23:58:52</td>\n",
              "      <td>2022093018639892</td>\n",
              "      <td>APP</td>\n",
              "      <td>일반주문</td>\n",
              "      <td>[링크프라이스] CPS_롯데온</td>\n",
              "      <td>LPOINT통합회원</td>\n",
              "      <td>badamit</td>\n",
              "      <td>NaN</td>\n",
              "      <td>2022093018639892_1</td>\n",
              "      <td>주문</td>\n",
              "      <td>...</td>\n",
              "      <td>일반판매상품</td>\n",
              "      <td>일반판매_일반상품</td>\n",
              "      <td>CJ제일제당</td>\n",
              "      <td>38000</td>\n",
              "      <td>1</td>\n",
              "      <td>냉장/냉동/간편식 &gt; 국/탕/찌개 &gt; 국/탕</td>\n",
              "      <td>NaN</td>\n",
              "      <td>NaN</td>\n",
              "      <td>NaN</td>\n",
              "      <td>1.001083e+10</td>\n",
              "    </tr>\n",
              "    <tr>\n",
              "      <th>0</th>\n",
              "      <td>2022-09-30 23:59:27</td>\n",
              "      <td>2022093018640098</td>\n",
              "      <td>APP</td>\n",
              "      <td>일반주문</td>\n",
              "      <td>디폴트 채널상세</td>\n",
              "      <td>LPOINT통합회원</td>\n",
              "      <td>simsimfreeya</td>\n",
              "      <td>SCH사골곰탕</td>\n",
              "      <td>2022093018640098_1</td>\n",
              "      <td>주문</td>\n",
              "      <td>...</td>\n",
              "      <td>일반판매상품</td>\n",
              "      <td>일반판매_일반상품</td>\n",
              "      <td>CJ제일제당</td>\n",
              "      <td>24500</td>\n",
              "      <td>2</td>\n",
              "      <td>냉장/냉동/간편식 &gt; 국/탕/찌개 &gt; 국/탕</td>\n",
              "      <td>NaN</td>\n",
              "      <td>NaN</td>\n",
              "      <td>NaN</td>\n",
              "      <td>1.000204e+10</td>\n",
              "    </tr>\n",
              "  </tbody>\n",
              "</table>\n",
              "<p>102077 rows × 41 columns</p>\n",
              "</div>\n",
              "      <button class=\"colab-df-convert\" onclick=\"convertToInteractive('df-07c594f5-9cfe-4b9e-8be7-3e9d0cd84675')\"\n",
              "              title=\"Convert this dataframe to an interactive table.\"\n",
              "              style=\"display:none;\">\n",
              "        \n",
              "  <svg xmlns=\"http://www.w3.org/2000/svg\" height=\"24px\"viewBox=\"0 0 24 24\"\n",
              "       width=\"24px\">\n",
              "    <path d=\"M0 0h24v24H0V0z\" fill=\"none\"/>\n",
              "    <path d=\"M18.56 5.44l.94 2.06.94-2.06 2.06-.94-2.06-.94-.94-2.06-.94 2.06-2.06.94zm-11 1L8.5 8.5l.94-2.06 2.06-.94-2.06-.94L8.5 2.5l-.94 2.06-2.06.94zm10 10l.94 2.06.94-2.06 2.06-.94-2.06-.94-.94-2.06-.94 2.06-2.06.94z\"/><path d=\"M17.41 7.96l-1.37-1.37c-.4-.4-.92-.59-1.43-.59-.52 0-1.04.2-1.43.59L10.3 9.45l-7.72 7.72c-.78.78-.78 2.05 0 2.83L4 21.41c.39.39.9.59 1.41.59.51 0 1.02-.2 1.41-.59l7.78-7.78 2.81-2.81c.8-.78.8-2.07 0-2.86zM5.41 20L4 18.59l7.72-7.72 1.47 1.35L5.41 20z\"/>\n",
              "  </svg>\n",
              "      </button>\n",
              "      \n",
              "  <style>\n",
              "    .colab-df-container {\n",
              "      display:flex;\n",
              "      flex-wrap:wrap;\n",
              "      gap: 12px;\n",
              "    }\n",
              "\n",
              "    .colab-df-convert {\n",
              "      background-color: #E8F0FE;\n",
              "      border: none;\n",
              "      border-radius: 50%;\n",
              "      cursor: pointer;\n",
              "      display: none;\n",
              "      fill: #1967D2;\n",
              "      height: 32px;\n",
              "      padding: 0 0 0 0;\n",
              "      width: 32px;\n",
              "    }\n",
              "\n",
              "    .colab-df-convert:hover {\n",
              "      background-color: #E2EBFA;\n",
              "      box-shadow: 0px 1px 2px rgba(60, 64, 67, 0.3), 0px 1px 3px 1px rgba(60, 64, 67, 0.15);\n",
              "      fill: #174EA6;\n",
              "    }\n",
              "\n",
              "    [theme=dark] .colab-df-convert {\n",
              "      background-color: #3B4455;\n",
              "      fill: #D2E3FC;\n",
              "    }\n",
              "\n",
              "    [theme=dark] .colab-df-convert:hover {\n",
              "      background-color: #434B5C;\n",
              "      box-shadow: 0px 1px 3px 1px rgba(0, 0, 0, 0.15);\n",
              "      filter: drop-shadow(0px 1px 2px rgba(0, 0, 0, 0.3));\n",
              "      fill: #FFFFFF;\n",
              "    }\n",
              "  </style>\n",
              "\n",
              "      <script>\n",
              "        const buttonEl =\n",
              "          document.querySelector('#df-07c594f5-9cfe-4b9e-8be7-3e9d0cd84675 button.colab-df-convert');\n",
              "        buttonEl.style.display =\n",
              "          google.colab.kernel.accessAllowed ? 'block' : 'none';\n",
              "\n",
              "        async function convertToInteractive(key) {\n",
              "          const element = document.querySelector('#df-07c594f5-9cfe-4b9e-8be7-3e9d0cd84675');\n",
              "          const dataTable =\n",
              "            await google.colab.kernel.invokeFunction('convertToInteractive',\n",
              "                                                     [key], {});\n",
              "          if (!dataTable) return;\n",
              "\n",
              "          const docLinkHtml = 'Like what you see? Visit the ' +\n",
              "            '<a target=\"_blank\" href=https://colab.research.google.com/notebooks/data_table.ipynb>data table notebook</a>'\n",
              "            + ' to learn more about interactive tables.';\n",
              "          element.innerHTML = '';\n",
              "          dataTable['output_type'] = 'display_data';\n",
              "          await google.colab.output.renderOutput(dataTable, element);\n",
              "          const docLink = document.createElement('div');\n",
              "          docLink.innerHTML = docLinkHtml;\n",
              "          element.appendChild(docLink);\n",
              "        }\n",
              "      </script>\n",
              "    </div>\n",
              "  </div>\n",
              "  "
            ]
          },
          "metadata": {},
          "execution_count": 92
        }
      ],
      "source": [
        "#날짜 중 '일'이 역순으로 되어 있어 순서대로 정렬하였습니다.\n",
        "df = df.sort_values('주문접수일시')\n",
        "df"
      ]
    },
    {
      "cell_type": "markdown",
      "id": "1264610d",
      "metadata": {
        "id": "1264610d"
      },
      "source": [
        "## 1) 분석에 필요하지 않은 칼럼 삭제하기"
      ]
    },
    {
      "cell_type": "code",
      "execution_count": 93,
      "id": "bca68e5b",
      "metadata": {
        "id": "bca68e5b",
        "outputId": "69ff1437-01d4-481f-c8a6-ed3d93889426",
        "colab": {
          "base_uri": "https://localhost:8080/"
        }
      },
      "outputs": [
        {
          "output_type": "stream",
          "name": "stdout",
          "text": [
            "<class 'pandas.core.frame.DataFrame'>\n",
            "Int64Index: 102077 entries, 3266 to 0\n",
            "Data columns (total 41 columns):\n",
            " #   Column         Non-Null Count   Dtype  \n",
            "---  ------         --------------   -----  \n",
            " 0   주문접수일시         102077 non-null  object \n",
            " 1   주문번호           102077 non-null  int64  \n",
            " 2   유입매체           102077 non-null  object \n",
            " 3   주문구분           102077 non-null  object \n",
            " 4   유입채널           102077 non-null  object \n",
            " 5   회원구분           102077 non-null  object \n",
            " 6   아이디            98430 non-null   object \n",
            " 7   전시유입코드         89492 non-null   object \n",
            " 8   상품주문번호         102077 non-null  object \n",
            " 9   유형             102077 non-null  object \n",
            " 10  배송회수구분         102077 non-null  object \n",
            " 11  진행단계           102077 non-null  object \n",
            " 12  진행상태 (약식)      0 non-null       float64\n",
            " 13  구매확정           102077 non-null  object \n",
            " 14  주문완료일시         101745 non-null  object \n",
            " 15  구매확정일시         93595 non-null   object \n",
            " 16  출고지시일          93528 non-null   object \n",
            " 17  예외처리구분         24 non-null      object \n",
            " 18  상태처리일시         102077 non-null  object \n",
            " 19  배송상품유형         102077 non-null  object \n",
            " 20  배송처리유형         102077 non-null  object \n",
            " 21  배송수단           102077 non-null  object \n",
            " 22  배송예약구분         102077 non-null  object \n",
            " 23  배송회차           0 non-null       float64\n",
            " 24  전시상품명          102077 non-null  object \n",
            " 25  전시단품명          102077 non-null  object \n",
            " 26  판매자상품번호        102077 non-null  object \n",
            " 27  판매자상품명         102077 non-null  object \n",
            " 28  판매자단품번호        102077 non-null  object \n",
            " 29  판매자단품명         102077 non-null  object \n",
            " 30  추가옵션           102077 non-null  object \n",
            " 31  주문판매유형         102077 non-null  object \n",
            " 32  상품유형           102077 non-null  object \n",
            " 33  브랜드            102076 non-null  object \n",
            " 34  판매가            102077 non-null  int64  \n",
            " 35  수량             102077 non-null  int64  \n",
            " 36  표준카테고리         102077 non-null  object \n",
            " 37  모델번호           0 non-null       float64\n",
            " 38  롯데맴버스오프라인고객번호  35597 non-null   float64\n",
            " 39  롯데맴버스온라인고객번호   35713 non-null   float64\n",
            " 40  회원번호           39709 non-null   float64\n",
            "dtypes: float64(6), int64(3), object(32)\n",
            "memory usage: 32.7+ MB\n"
          ]
        }
      ],
      "source": [
        "df.info()"
      ]
    },
    {
      "cell_type": "code",
      "execution_count": 94,
      "id": "6abb1497",
      "metadata": {
        "id": "6abb1497",
        "outputId": "1251be78-b18d-4b2a-98ce-7074883f1cc8",
        "colab": {
          "base_uri": "https://localhost:8080/"
        }
      },
      "outputs": [
        {
          "output_type": "execute_result",
          "data": {
            "text/plain": [
              "주문접수일시                0\n",
              "주문번호                  0\n",
              "유입매체                  0\n",
              "주문구분                  0\n",
              "유입채널                  0\n",
              "회원구분                  0\n",
              "아이디                3647\n",
              "전시유입코드            12585\n",
              "상품주문번호                0\n",
              "유형                    0\n",
              "배송회수구분                0\n",
              "진행단계                  0\n",
              "진행상태 (약식)        102077\n",
              "구매확정                  0\n",
              "주문완료일시              332\n",
              "구매확정일시             8482\n",
              "출고지시일              8549\n",
              "예외처리구분           102053\n",
              "상태처리일시                0\n",
              "배송상품유형                0\n",
              "배송처리유형                0\n",
              "배송수단                  0\n",
              "배송예약구분                0\n",
              "배송회차             102077\n",
              "전시상품명                 0\n",
              "전시단품명                 0\n",
              "판매자상품번호               0\n",
              "판매자상품명                0\n",
              "판매자단품번호               0\n",
              "판매자단품명                0\n",
              "추가옵션                  0\n",
              "주문판매유형                0\n",
              "상품유형                  0\n",
              "브랜드                   1\n",
              "판매가                   0\n",
              "수량                    0\n",
              "표준카테고리                0\n",
              "모델번호             102077\n",
              "롯데맴버스오프라인고객번호     66480\n",
              "롯데맴버스온라인고객번호      66364\n",
              "회원번호              62368\n",
              "dtype: int64"
            ]
          },
          "metadata": {},
          "execution_count": 94
        }
      ],
      "source": [
        "df.isna().sum()"
      ]
    },
    {
      "cell_type": "markdown",
      "id": "fb369419",
      "metadata": {
        "id": "fb369419"
      },
      "source": [
        "- 엑셀 파일 분석 결과 '진행상태 (약식)', '배송회차', '모델번호'는 일절 쓰지 않는 칼럼(총 데이터가 102077개인데 na가 102077개),\n",
        "- '롯데멤버스오프라인고객번호', '롯데맴버스온라인고객번호','회원번호'는 6~9월에만 사용했던 칼럼이기에,\n",
        "- 이 변수들로는 1 ~ 9월의 주문 경향을 분석하기에는 다소 어려움이 있어, 칼럼을 삭제하도록 하겠습니다.\n",
        "- '추가옵션'이라는 칼럼 또한 모든 값이 []라는 널 값이기에, 삭제하였습니다."
      ]
    },
    {
      "cell_type": "code",
      "execution_count": 95,
      "id": "eb50a134",
      "metadata": {
        "id": "eb50a134"
      },
      "outputs": [],
      "source": [
        "df = df.drop(['진행상태 (약식)', '모델번호', '롯데맴버스오프라인고객번호', '롯데맴버스온라인고객번호', '회원번호'], axis = 1)"
      ]
    },
    {
      "cell_type": "markdown",
      "id": "e639d7a3",
      "metadata": {
        "id": "e639d7a3"
      },
      "source": [
        "- 칼럼이 너무 많아서, 단일 값이거나, 널값인 칼럼은 제거하도록 하겠습니다."
      ]
    },
    {
      "cell_type": "code",
      "execution_count": 96,
      "id": "d03ad5d2",
      "metadata": {
        "id": "d03ad5d2",
        "outputId": "5c23da7c-64ac-4946-f231-1813cd649259",
        "colab": {
          "base_uri": "https://localhost:8080/"
        }
      },
      "outputs": [
        {
          "output_type": "stream",
          "name": "stdout",
          "text": [
            "주문접수일시 92771\n",
            "주문번호 95036\n",
            "유입매체 5\n",
            "주문구분 2\n",
            "유입채널 551\n",
            "회원구분 5\n",
            "아이디 53401\n",
            "전시유입코드 3389\n",
            "상품주문번호 102076\n",
            "유형 4\n",
            "배송회수구분 2\n",
            "진행단계 6\n",
            "구매확정 3\n",
            "주문완료일시 92468\n",
            "구매확정일시 38160\n",
            "출고지시일 278\n",
            "예외처리구분 4\n",
            "상태처리일시 284\n",
            "배송상품유형 1\n",
            "배송처리유형 1\n",
            "배송수단 1\n",
            "배송예약구분 1\n",
            "배송회차 1\n",
            "전시상품명 2188\n",
            "전시단품명 489\n",
            "판매자상품번호 1662\n",
            "판매자상품명 2185\n",
            "판매자단품번호 2096\n",
            "판매자단품명 489\n",
            "추가옵션 1\n",
            "주문판매유형 1\n",
            "상품유형 1\n",
            "브랜드 3\n",
            "판매가 1651\n",
            "수량 37\n",
            "표준카테고리 65\n"
          ]
        }
      ],
      "source": [
        "for i in range(len(df.columns)):\n",
        "    print(df.columns[i], len(df[df.columns[i]].unique()))"
      ]
    },
    {
      "cell_type": "code",
      "execution_count": 97,
      "id": "6ac7713c",
      "metadata": {
        "id": "6ac7713c",
        "outputId": "ad446b0c-ffb8-40d2-cb0d-30b5ca2d2487",
        "colab": {
          "base_uri": "https://localhost:8080/"
        }
      },
      "outputs": [
        {
          "output_type": "stream",
          "name": "stdout",
          "text": [
            "['일반택배']\n",
            "['일반상품']\n",
            "['업체배송']\n",
            "['일반배송']\n",
            "[nan]\n",
            "['[]']\n",
            "['일반판매상품']\n",
            "['일반판매_일반상품']\n"
          ]
        }
      ],
      "source": [
        "print(df['배송수단'].unique())\n",
        "print(df['배송상품유형'].unique())\n",
        "print(df['배송처리유형'].unique())\n",
        "print(df['배송예약구분'].unique())\n",
        "print(df['배송회차'].unique())\n",
        "print(df['추가옵션'].unique())\n",
        "print(df['주문판매유형'].unique())\n",
        "print(df['상품유형'].unique())"
      ]
    },
    {
      "cell_type": "code",
      "execution_count": 98,
      "id": "6c278c1e",
      "metadata": {
        "id": "6c278c1e",
        "outputId": "f84c90ea-e0fa-4cc8-e33c-b9e26158b9db",
        "colab": {
          "base_uri": "https://localhost:8080/"
        }
      },
      "outputs": [
        {
          "output_type": "execute_result",
          "data": {
            "text/plain": [
              "씨제이제일제당    54154\n",
              "CJ제일제당     47922\n",
              "Name: 브랜드, dtype: int64"
            ]
          },
          "metadata": {},
          "execution_count": 98
        }
      ],
      "source": [
        "# 브랜드명의 경우 전부 값이 씨제이 제일제당으로 같으므로 제거해주겠습니다.\n",
        "df['브랜드'].value_counts()"
      ]
    },
    {
      "cell_type": "code",
      "execution_count": 99,
      "id": "7cb66d2f",
      "metadata": {
        "id": "7cb66d2f"
      },
      "outputs": [],
      "source": [
        "df = df.drop(['배송수단', '배송상품유형', '배송처리유형', '배송예약구분', '배송회차', '추가옵션', '주문판매유형', '상품유형', '브랜드'], axis=1)"
      ]
    },
    {
      "cell_type": "code",
      "execution_count": 100,
      "id": "6e292356",
      "metadata": {
        "id": "6e292356",
        "outputId": "cf4c6245-dd6a-4f90-9476-dd4bcfa49383",
        "colab": {
          "base_uri": "https://localhost:8080/"
        }
      },
      "outputs": [
        {
          "output_type": "execute_result",
          "data": {
            "text/plain": [
              "27"
            ]
          },
          "metadata": {},
          "execution_count": 100
        }
      ],
      "source": [
        "# 불필요한 칼럼을 제거하고, 27개로 남긴 상태이다.\n",
        "len(df.columns)"
      ]
    },
    {
      "cell_type": "code",
      "execution_count": 101,
      "id": "9c622d58",
      "metadata": {
        "id": "9c622d58",
        "outputId": "6e677b23-e7b3-4d30-acb6-2cf342422545",
        "colab": {
          "base_uri": "https://localhost:8080/"
        }
      },
      "outputs": [
        {
          "output_type": "execute_result",
          "data": {
            "text/plain": [
              "array([nan, '구매확정후취소', '미수령신고접수철회요청', '발송약정'], dtype=object)"
            ]
          },
          "metadata": {},
          "execution_count": 101
        }
      ],
      "source": [
        "df['예외처리구분'].unique()"
      ]
    },
    {
      "cell_type": "code",
      "execution_count": 102,
      "id": "ff763a25",
      "metadata": {
        "scrolled": true,
        "id": "ff763a25",
        "outputId": "b6f8168a-7344-4025-f53a-0728f336be29",
        "colab": {
          "base_uri": "https://localhost:8080/",
          "height": 591
        }
      },
      "outputs": [
        {
          "output_type": "execute_result",
          "data": {
            "text/plain": [
              "                   주문접수일시              주문번호 유입매체  주문구분      유입채널        회원구분  \\\n",
              "1044  2022-09-27 11:14:18  2022092718188481  APP  일반주문  디폴트 채널상세  LPOINT통합회원   \n",
              "\n",
              "          아이디 전시유입코드              상품주문번호  유형  ...      상태처리일시  \\\n",
              "1044  sericup    MLT  2022092718188481_1  교환  ...  2022-10-06   \n",
              "\n",
              "                           전시상품명 전시단품명       판매자상품번호  \\\n",
              "1044  해찬들 우리쌀로만든태양초매운고추장2kg X 2개  단일상품  LO1880319013   \n",
              "\n",
              "                          판매자상품명                  판매자단품번호 판매자단품명    판매가 수량  \\\n",
              "1044  해찬들 우리쌀로만든태양초매운고추장2kg X 2개  LO1880319013_1880319014   단일상품  25330  1   \n",
              "\n",
              "                    표준카테고리  \n",
              "1044  가공식품 > 장류 > 고추장/초고추장  \n",
              "\n",
              "[1 rows x 27 columns]"
            ],
            "text/html": [
              "\n",
              "  <div id=\"df-48f18f29-d434-4d49-8a9c-fb7c1f83f4b3\">\n",
              "    <div class=\"colab-df-container\">\n",
              "      <div>\n",
              "<style scoped>\n",
              "    .dataframe tbody tr th:only-of-type {\n",
              "        vertical-align: middle;\n",
              "    }\n",
              "\n",
              "    .dataframe tbody tr th {\n",
              "        vertical-align: top;\n",
              "    }\n",
              "\n",
              "    .dataframe thead th {\n",
              "        text-align: right;\n",
              "    }\n",
              "</style>\n",
              "<table border=\"1\" class=\"dataframe\">\n",
              "  <thead>\n",
              "    <tr style=\"text-align: right;\">\n",
              "      <th></th>\n",
              "      <th>주문접수일시</th>\n",
              "      <th>주문번호</th>\n",
              "      <th>유입매체</th>\n",
              "      <th>주문구분</th>\n",
              "      <th>유입채널</th>\n",
              "      <th>회원구분</th>\n",
              "      <th>아이디</th>\n",
              "      <th>전시유입코드</th>\n",
              "      <th>상품주문번호</th>\n",
              "      <th>유형</th>\n",
              "      <th>...</th>\n",
              "      <th>상태처리일시</th>\n",
              "      <th>전시상품명</th>\n",
              "      <th>전시단품명</th>\n",
              "      <th>판매자상품번호</th>\n",
              "      <th>판매자상품명</th>\n",
              "      <th>판매자단품번호</th>\n",
              "      <th>판매자단품명</th>\n",
              "      <th>판매가</th>\n",
              "      <th>수량</th>\n",
              "      <th>표준카테고리</th>\n",
              "    </tr>\n",
              "  </thead>\n",
              "  <tbody>\n",
              "    <tr>\n",
              "      <th>1044</th>\n",
              "      <td>2022-09-27 11:14:18</td>\n",
              "      <td>2022092718188481</td>\n",
              "      <td>APP</td>\n",
              "      <td>일반주문</td>\n",
              "      <td>디폴트 채널상세</td>\n",
              "      <td>LPOINT통합회원</td>\n",
              "      <td>sericup</td>\n",
              "      <td>MLT</td>\n",
              "      <td>2022092718188481_1</td>\n",
              "      <td>교환</td>\n",
              "      <td>...</td>\n",
              "      <td>2022-10-06</td>\n",
              "      <td>해찬들 우리쌀로만든태양초매운고추장2kg X 2개</td>\n",
              "      <td>단일상품</td>\n",
              "      <td>LO1880319013</td>\n",
              "      <td>해찬들 우리쌀로만든태양초매운고추장2kg X 2개</td>\n",
              "      <td>LO1880319013_1880319014</td>\n",
              "      <td>단일상품</td>\n",
              "      <td>25330</td>\n",
              "      <td>1</td>\n",
              "      <td>가공식품 &gt; 장류 &gt; 고추장/초고추장</td>\n",
              "    </tr>\n",
              "  </tbody>\n",
              "</table>\n",
              "<p>1 rows × 27 columns</p>\n",
              "</div>\n",
              "      <button class=\"colab-df-convert\" onclick=\"convertToInteractive('df-48f18f29-d434-4d49-8a9c-fb7c1f83f4b3')\"\n",
              "              title=\"Convert this dataframe to an interactive table.\"\n",
              "              style=\"display:none;\">\n",
              "        \n",
              "  <svg xmlns=\"http://www.w3.org/2000/svg\" height=\"24px\"viewBox=\"0 0 24 24\"\n",
              "       width=\"24px\">\n",
              "    <path d=\"M0 0h24v24H0V0z\" fill=\"none\"/>\n",
              "    <path d=\"M18.56 5.44l.94 2.06.94-2.06 2.06-.94-2.06-.94-.94-2.06-.94 2.06-2.06.94zm-11 1L8.5 8.5l.94-2.06 2.06-.94-2.06-.94L8.5 2.5l-.94 2.06-2.06.94zm10 10l.94 2.06.94-2.06 2.06-.94-2.06-.94-.94-2.06-.94 2.06-2.06.94z\"/><path d=\"M17.41 7.96l-1.37-1.37c-.4-.4-.92-.59-1.43-.59-.52 0-1.04.2-1.43.59L10.3 9.45l-7.72 7.72c-.78.78-.78 2.05 0 2.83L4 21.41c.39.39.9.59 1.41.59.51 0 1.02-.2 1.41-.59l7.78-7.78 2.81-2.81c.8-.78.8-2.07 0-2.86zM5.41 20L4 18.59l7.72-7.72 1.47 1.35L5.41 20z\"/>\n",
              "  </svg>\n",
              "      </button>\n",
              "      \n",
              "  <style>\n",
              "    .colab-df-container {\n",
              "      display:flex;\n",
              "      flex-wrap:wrap;\n",
              "      gap: 12px;\n",
              "    }\n",
              "\n",
              "    .colab-df-convert {\n",
              "      background-color: #E8F0FE;\n",
              "      border: none;\n",
              "      border-radius: 50%;\n",
              "      cursor: pointer;\n",
              "      display: none;\n",
              "      fill: #1967D2;\n",
              "      height: 32px;\n",
              "      padding: 0 0 0 0;\n",
              "      width: 32px;\n",
              "    }\n",
              "\n",
              "    .colab-df-convert:hover {\n",
              "      background-color: #E2EBFA;\n",
              "      box-shadow: 0px 1px 2px rgba(60, 64, 67, 0.3), 0px 1px 3px 1px rgba(60, 64, 67, 0.15);\n",
              "      fill: #174EA6;\n",
              "    }\n",
              "\n",
              "    [theme=dark] .colab-df-convert {\n",
              "      background-color: #3B4455;\n",
              "      fill: #D2E3FC;\n",
              "    }\n",
              "\n",
              "    [theme=dark] .colab-df-convert:hover {\n",
              "      background-color: #434B5C;\n",
              "      box-shadow: 0px 1px 3px 1px rgba(0, 0, 0, 0.15);\n",
              "      filter: drop-shadow(0px 1px 2px rgba(0, 0, 0, 0.3));\n",
              "      fill: #FFFFFF;\n",
              "    }\n",
              "  </style>\n",
              "\n",
              "      <script>\n",
              "        const buttonEl =\n",
              "          document.querySelector('#df-48f18f29-d434-4d49-8a9c-fb7c1f83f4b3 button.colab-df-convert');\n",
              "        buttonEl.style.display =\n",
              "          google.colab.kernel.accessAllowed ? 'block' : 'none';\n",
              "\n",
              "        async function convertToInteractive(key) {\n",
              "          const element = document.querySelector('#df-48f18f29-d434-4d49-8a9c-fb7c1f83f4b3');\n",
              "          const dataTable =\n",
              "            await google.colab.kernel.invokeFunction('convertToInteractive',\n",
              "                                                     [key], {});\n",
              "          if (!dataTable) return;\n",
              "\n",
              "          const docLinkHtml = 'Like what you see? Visit the ' +\n",
              "            '<a target=\"_blank\" href=https://colab.research.google.com/notebooks/data_table.ipynb>data table notebook</a>'\n",
              "            + ' to learn more about interactive tables.';\n",
              "          element.innerHTML = '';\n",
              "          dataTable['output_type'] = 'display_data';\n",
              "          await google.colab.output.renderOutput(dataTable, element);\n",
              "          const docLink = document.createElement('div');\n",
              "          docLink.innerHTML = docLinkHtml;\n",
              "          element.appendChild(docLink);\n",
              "        }\n",
              "      </script>\n",
              "    </div>\n",
              "  </div>\n",
              "  "
            ]
          },
          "metadata": {},
          "execution_count": 102
        }
      ],
      "source": [
        "df[df['예외처리구분'] == '발송약정']"
      ]
    },
    {
      "cell_type": "code",
      "execution_count": 103,
      "id": "21b2efd3",
      "metadata": {
        "id": "21b2efd3",
        "outputId": "87dfc15f-cde1-4b5a-c116-956d3032b5b4",
        "colab": {
          "base_uri": "https://localhost:8080/"
        }
      },
      "outputs": [
        {
          "output_type": "stream",
          "name": "stdout",
          "text": [
            "['취소(주문취소)' '주문' '반품' '교환']\n",
            "['구매미확정' '구매확정' '구매확정연장']\n",
            "[nan '구매확정후취소' '미수령신고접수철회요청' '발송약정']\n"
          ]
        }
      ],
      "source": [
        "print(df['유형'].unique())\n",
        "print(df['구매확정'].unique())\n",
        "print(df['예외처리구분'].unique())"
      ]
    },
    {
      "cell_type": "code",
      "source": [
        "df[df['구매확정일시'].isna()]"
      ],
      "metadata": {
        "colab": {
          "base_uri": "https://localhost:8080/",
          "height": 1000
        },
        "id": "DWm53QK4MimO",
        "outputId": "d655f9a5-f671-4831-a240-620fdb51acda"
      },
      "id": "DWm53QK4MimO",
      "execution_count": 104,
      "outputs": [
        {
          "output_type": "execute_result",
          "data": {
            "text/plain": [
              "                   주문접수일시              주문번호    유입매체  주문구분              유입채널  \\\n",
              "3266  2022-01-01 00:17:11  2022010111864975  MO WEB  일반주문          디폴트 채널상세   \n",
              "3264  2022-01-01 00:38:42  2022010111866938     APP  일반주문          디폴트 채널상세   \n",
              "3249  2022-01-01 17:16:48  2022010111935204     APP  일반주문          디폴트 채널상세   \n",
              "3228  2022-01-02 13:03:20  2022010212023381  MO WEB  일반주문          디폴트 채널상세   \n",
              "3227  2022-01-02 13:03:20  2022010212023381  MO WEB  일반주문          디폴트 채널상세   \n",
              "...                   ...               ...     ...   ...               ...   \n",
              "45    2022-09-30 22:49:16  2022093018630370     APP  일반주문  [링크프라이스] CPS_롯데온   \n",
              "38    2022-09-30 22:56:31  2022093018631261     APP  일반주문          디폴트 채널상세   \n",
              "32    2022-09-30 23:02:38  2022093018631923     APP  일반주문  [링크프라이스] CPS_롯데온   \n",
              "30    2022-09-30 23:05:50  2022093018632420     APP  일반주문          디폴트 채널상세   \n",
              "6     2022-09-30 23:49:32  2022093018638203     APP  일반주문  [링크프라이스] CPS_롯데온   \n",
              "\n",
              "            회원구분       아이디     전시유입코드              상품주문번호        유형  ...  \\\n",
              "3266  LPOINT통합회원  jsda****  SCH비비고갈비탕  2022010111864975_1  취소(주문취소)  ...   \n",
              "3264  LPOINT통합회원  ggg9****  SCH쁘띠첼복숭아  2022010111866938_5  취소(주문취소)  ...   \n",
              "3249  LPOINT통합회원  love****     SCH파래김  2022010111935204_1  취소(주문취소)  ...   \n",
              "3228  LPOINT통합회원  pilj****   BSGP2566  2022010212023381_2  취소(주문취소)  ...   \n",
              "3227  LPOINT통합회원  pilj****   BSGP2566  2022010212023381_1  취소(주문취소)  ...   \n",
              "...          ...       ...        ...                 ...       ...  ...   \n",
              "45    LPOINT통합회원  pete****        NaN  2022093018630370_1  취소(주문취소)  ...   \n",
              "38    LPOINT통합회원  yeop****        NaN  2022093018631261_1  취소(주문취소)  ...   \n",
              "32    LPOINT통합회원  tae0****        CHT  2022093018631923_1  취소(주문취소)  ...   \n",
              "30    LPOINT통합회원  dmsd****        RSI  2022093018632420_1  취소(주문취소)  ...   \n",
              "6     LPOINT통합회원  20re****        NaN  2022093018638203_1  취소(주문취소)  ...   \n",
              "\n",
              "          상태처리일시                                전시상품명               전시단품명  \\\n",
              "3266  2022-01-03                   CJ 비비고 갈비탕 400g x4                단일상품   \n",
              "3264  2022-01-03         [CJ제일제당] 쁘띠첼 복숭아 90g*9번들X2EA                단일상품   \n",
              "3249  2022-01-03      [CJ직배송]CJ 명가김 파래김 4G*16EA  X 2개                단일상품   \n",
              "3228  2022-01-02  [특별이벤트] 햇반 BIG 컵반 스팸 2종 X 3개 + 주식선물                단일상품   \n",
              "3227  2022-01-02     [특별이벤트]햇반 BIG 컵반 마요 2종 X 3개+주식선물                단일상품   \n",
              "...          ...                                  ...                 ...   \n",
              "45    2022-09-30        [L포인트 3000p 증정]LAST DAY EVENT  비비고 사골곰탕 500g x18봉   \n",
              "38    2022-10-04                   비비고 사골곰탕 500g x18봉                단일상품   \n",
              "32    2022-09-30                   비비고 사골곰탕 500g x18봉                단일상품   \n",
              "30    2022-10-03                   비비고 사골곰탕 500g x18봉                단일상품   \n",
              "6     2022-10-04                   비비고 사골곰탕 500g x18봉                단일상품   \n",
              "\n",
              "           판매자상품번호                               판매자상품명  \\\n",
              "3266  LO1031678373                   CJ 비비고 갈비탕 400g x4   \n",
              "3264  LO1354545470         [CJ제일제당] 쁘띠첼 복숭아 90g*9번들X2EA   \n",
              "3249  LO1511816458      [CJ직배송]CJ 명가김 파래김 4G*16EA  X 2개   \n",
              "3228  LO1631718294  [특별이벤트] 햇반 BIG 컵반 스팸 2종 X 3개 + 주식선물   \n",
              "3227  LO1630046529     [특별이벤트]햇반 BIG 컵반 마요 2종 X 3개+주식선물   \n",
              "...            ...                                  ...   \n",
              "45    LO1978869746      [L포인트 3000p 증정]★LAST DAY EVENT★   \n",
              "38    LO1032764663                   비비고 사골곰탕 500g x18봉   \n",
              "32    LO1032764663                   비비고 사골곰탕 500g x18봉   \n",
              "30    LO1032764663                   비비고 사골곰탕 500g x18봉   \n",
              "6     LO1032764663                   비비고 사골곰탕 500g x18봉   \n",
              "\n",
              "                      판매자단품번호              판매자단품명    판매가 수량  \\\n",
              "3266  LO1031678373_1031678374                단일상품  18830  1   \n",
              "3264  LO1354545470_1354545471                단일상품  22300  1   \n",
              "3249  LO1511816458_1511816459                단일상품   6960  3   \n",
              "3228  LO1631718294_1631718295                단일상품  19920  1   \n",
              "3227  LO1630046529_1630046530                단일상품  19920  1   \n",
              "...                       ...                 ...    ... ..   \n",
              "45    LO1978869746_1978869755  비비고 사골곰탕 500g x18봉  24500  2   \n",
              "38    LO1032764663_1032764664                단일상품  24600  2   \n",
              "32    LO1032764663_1032764664                단일상품  24600  1   \n",
              "30    LO1032764663_1032764664                단일상품  24600  1   \n",
              "6     LO1032764663_1032764664                단일상품  24600  2   \n",
              "\n",
              "                          표준카테고리  \n",
              "3266    냉장/냉동/간편식 > 국/탕/찌개 > 국/탕  \n",
              "3264        과자/간식 > 디저트/케이크 > 푸딩  \n",
              "3249   수산/건어물 > 김/해조류 > 조미김/도시락김  \n",
              "3228  냉장/냉동/간편식 > 즉석밥/죽/스프 > 즉석밥  \n",
              "3227  냉장/냉동/간편식 > 즉석밥/죽/스프 > 즉석밥  \n",
              "...                          ...  \n",
              "45      냉장/냉동/간편식 > 국/탕/찌개 > 국/탕  \n",
              "38      냉장/냉동/간편식 > 국/탕/찌개 > 국/탕  \n",
              "32      냉장/냉동/간편식 > 국/탕/찌개 > 국/탕  \n",
              "30      냉장/냉동/간편식 > 국/탕/찌개 > 국/탕  \n",
              "6       냉장/냉동/간편식 > 국/탕/찌개 > 국/탕  \n",
              "\n",
              "[8482 rows x 27 columns]"
            ],
            "text/html": [
              "\n",
              "  <div id=\"df-82e5a907-a36e-4163-ae2a-f1c00394030e\">\n",
              "    <div class=\"colab-df-container\">\n",
              "      <div>\n",
              "<style scoped>\n",
              "    .dataframe tbody tr th:only-of-type {\n",
              "        vertical-align: middle;\n",
              "    }\n",
              "\n",
              "    .dataframe tbody tr th {\n",
              "        vertical-align: top;\n",
              "    }\n",
              "\n",
              "    .dataframe thead th {\n",
              "        text-align: right;\n",
              "    }\n",
              "</style>\n",
              "<table border=\"1\" class=\"dataframe\">\n",
              "  <thead>\n",
              "    <tr style=\"text-align: right;\">\n",
              "      <th></th>\n",
              "      <th>주문접수일시</th>\n",
              "      <th>주문번호</th>\n",
              "      <th>유입매체</th>\n",
              "      <th>주문구분</th>\n",
              "      <th>유입채널</th>\n",
              "      <th>회원구분</th>\n",
              "      <th>아이디</th>\n",
              "      <th>전시유입코드</th>\n",
              "      <th>상품주문번호</th>\n",
              "      <th>유형</th>\n",
              "      <th>...</th>\n",
              "      <th>상태처리일시</th>\n",
              "      <th>전시상품명</th>\n",
              "      <th>전시단품명</th>\n",
              "      <th>판매자상품번호</th>\n",
              "      <th>판매자상품명</th>\n",
              "      <th>판매자단품번호</th>\n",
              "      <th>판매자단품명</th>\n",
              "      <th>판매가</th>\n",
              "      <th>수량</th>\n",
              "      <th>표준카테고리</th>\n",
              "    </tr>\n",
              "  </thead>\n",
              "  <tbody>\n",
              "    <tr>\n",
              "      <th>3266</th>\n",
              "      <td>2022-01-01 00:17:11</td>\n",
              "      <td>2022010111864975</td>\n",
              "      <td>MO WEB</td>\n",
              "      <td>일반주문</td>\n",
              "      <td>디폴트 채널상세</td>\n",
              "      <td>LPOINT통합회원</td>\n",
              "      <td>jsda****</td>\n",
              "      <td>SCH비비고갈비탕</td>\n",
              "      <td>2022010111864975_1</td>\n",
              "      <td>취소(주문취소)</td>\n",
              "      <td>...</td>\n",
              "      <td>2022-01-03</td>\n",
              "      <td>CJ 비비고 갈비탕 400g x4</td>\n",
              "      <td>단일상품</td>\n",
              "      <td>LO1031678373</td>\n",
              "      <td>CJ 비비고 갈비탕 400g x4</td>\n",
              "      <td>LO1031678373_1031678374</td>\n",
              "      <td>단일상품</td>\n",
              "      <td>18830</td>\n",
              "      <td>1</td>\n",
              "      <td>냉장/냉동/간편식 &gt; 국/탕/찌개 &gt; 국/탕</td>\n",
              "    </tr>\n",
              "    <tr>\n",
              "      <th>3264</th>\n",
              "      <td>2022-01-01 00:38:42</td>\n",
              "      <td>2022010111866938</td>\n",
              "      <td>APP</td>\n",
              "      <td>일반주문</td>\n",
              "      <td>디폴트 채널상세</td>\n",
              "      <td>LPOINT통합회원</td>\n",
              "      <td>ggg9****</td>\n",
              "      <td>SCH쁘띠첼복숭아</td>\n",
              "      <td>2022010111866938_5</td>\n",
              "      <td>취소(주문취소)</td>\n",
              "      <td>...</td>\n",
              "      <td>2022-01-03</td>\n",
              "      <td>[CJ제일제당] 쁘띠첼 복숭아 90g*9번들X2EA</td>\n",
              "      <td>단일상품</td>\n",
              "      <td>LO1354545470</td>\n",
              "      <td>[CJ제일제당] 쁘띠첼 복숭아 90g*9번들X2EA</td>\n",
              "      <td>LO1354545470_1354545471</td>\n",
              "      <td>단일상품</td>\n",
              "      <td>22300</td>\n",
              "      <td>1</td>\n",
              "      <td>과자/간식 &gt; 디저트/케이크 &gt; 푸딩</td>\n",
              "    </tr>\n",
              "    <tr>\n",
              "      <th>3249</th>\n",
              "      <td>2022-01-01 17:16:48</td>\n",
              "      <td>2022010111935204</td>\n",
              "      <td>APP</td>\n",
              "      <td>일반주문</td>\n",
              "      <td>디폴트 채널상세</td>\n",
              "      <td>LPOINT통합회원</td>\n",
              "      <td>love****</td>\n",
              "      <td>SCH파래김</td>\n",
              "      <td>2022010111935204_1</td>\n",
              "      <td>취소(주문취소)</td>\n",
              "      <td>...</td>\n",
              "      <td>2022-01-03</td>\n",
              "      <td>[CJ직배송]CJ 명가김 파래김 4G*16EA  X 2개</td>\n",
              "      <td>단일상품</td>\n",
              "      <td>LO1511816458</td>\n",
              "      <td>[CJ직배송]CJ 명가김 파래김 4G*16EA  X 2개</td>\n",
              "      <td>LO1511816458_1511816459</td>\n",
              "      <td>단일상품</td>\n",
              "      <td>6960</td>\n",
              "      <td>3</td>\n",
              "      <td>수산/건어물 &gt; 김/해조류 &gt; 조미김/도시락김</td>\n",
              "    </tr>\n",
              "    <tr>\n",
              "      <th>3228</th>\n",
              "      <td>2022-01-02 13:03:20</td>\n",
              "      <td>2022010212023381</td>\n",
              "      <td>MO WEB</td>\n",
              "      <td>일반주문</td>\n",
              "      <td>디폴트 채널상세</td>\n",
              "      <td>LPOINT통합회원</td>\n",
              "      <td>pilj****</td>\n",
              "      <td>BSGP2566</td>\n",
              "      <td>2022010212023381_2</td>\n",
              "      <td>취소(주문취소)</td>\n",
              "      <td>...</td>\n",
              "      <td>2022-01-02</td>\n",
              "      <td>[특별이벤트] 햇반 BIG 컵반 스팸 2종 X 3개 + 주식선물</td>\n",
              "      <td>단일상품</td>\n",
              "      <td>LO1631718294</td>\n",
              "      <td>[특별이벤트] 햇반 BIG 컵반 스팸 2종 X 3개 + 주식선물</td>\n",
              "      <td>LO1631718294_1631718295</td>\n",
              "      <td>단일상품</td>\n",
              "      <td>19920</td>\n",
              "      <td>1</td>\n",
              "      <td>냉장/냉동/간편식 &gt; 즉석밥/죽/스프 &gt; 즉석밥</td>\n",
              "    </tr>\n",
              "    <tr>\n",
              "      <th>3227</th>\n",
              "      <td>2022-01-02 13:03:20</td>\n",
              "      <td>2022010212023381</td>\n",
              "      <td>MO WEB</td>\n",
              "      <td>일반주문</td>\n",
              "      <td>디폴트 채널상세</td>\n",
              "      <td>LPOINT통합회원</td>\n",
              "      <td>pilj****</td>\n",
              "      <td>BSGP2566</td>\n",
              "      <td>2022010212023381_1</td>\n",
              "      <td>취소(주문취소)</td>\n",
              "      <td>...</td>\n",
              "      <td>2022-01-02</td>\n",
              "      <td>[특별이벤트]햇반 BIG 컵반 마요 2종 X 3개+주식선물</td>\n",
              "      <td>단일상품</td>\n",
              "      <td>LO1630046529</td>\n",
              "      <td>[특별이벤트]햇반 BIG 컵반 마요 2종 X 3개+주식선물</td>\n",
              "      <td>LO1630046529_1630046530</td>\n",
              "      <td>단일상품</td>\n",
              "      <td>19920</td>\n",
              "      <td>1</td>\n",
              "      <td>냉장/냉동/간편식 &gt; 즉석밥/죽/스프 &gt; 즉석밥</td>\n",
              "    </tr>\n",
              "    <tr>\n",
              "      <th>...</th>\n",
              "      <td>...</td>\n",
              "      <td>...</td>\n",
              "      <td>...</td>\n",
              "      <td>...</td>\n",
              "      <td>...</td>\n",
              "      <td>...</td>\n",
              "      <td>...</td>\n",
              "      <td>...</td>\n",
              "      <td>...</td>\n",
              "      <td>...</td>\n",
              "      <td>...</td>\n",
              "      <td>...</td>\n",
              "      <td>...</td>\n",
              "      <td>...</td>\n",
              "      <td>...</td>\n",
              "      <td>...</td>\n",
              "      <td>...</td>\n",
              "      <td>...</td>\n",
              "      <td>...</td>\n",
              "      <td>...</td>\n",
              "      <td>...</td>\n",
              "    </tr>\n",
              "    <tr>\n",
              "      <th>45</th>\n",
              "      <td>2022-09-30 22:49:16</td>\n",
              "      <td>2022093018630370</td>\n",
              "      <td>APP</td>\n",
              "      <td>일반주문</td>\n",
              "      <td>[링크프라이스] CPS_롯데온</td>\n",
              "      <td>LPOINT통합회원</td>\n",
              "      <td>pete****</td>\n",
              "      <td>NaN</td>\n",
              "      <td>2022093018630370_1</td>\n",
              "      <td>취소(주문취소)</td>\n",
              "      <td>...</td>\n",
              "      <td>2022-09-30</td>\n",
              "      <td>[L포인트 3000p 증정]LAST DAY EVENT</td>\n",
              "      <td>비비고 사골곰탕 500g x18봉</td>\n",
              "      <td>LO1978869746</td>\n",
              "      <td>[L포인트 3000p 증정]★LAST DAY EVENT★</td>\n",
              "      <td>LO1978869746_1978869755</td>\n",
              "      <td>비비고 사골곰탕 500g x18봉</td>\n",
              "      <td>24500</td>\n",
              "      <td>2</td>\n",
              "      <td>냉장/냉동/간편식 &gt; 국/탕/찌개 &gt; 국/탕</td>\n",
              "    </tr>\n",
              "    <tr>\n",
              "      <th>38</th>\n",
              "      <td>2022-09-30 22:56:31</td>\n",
              "      <td>2022093018631261</td>\n",
              "      <td>APP</td>\n",
              "      <td>일반주문</td>\n",
              "      <td>디폴트 채널상세</td>\n",
              "      <td>LPOINT통합회원</td>\n",
              "      <td>yeop****</td>\n",
              "      <td>NaN</td>\n",
              "      <td>2022093018631261_1</td>\n",
              "      <td>취소(주문취소)</td>\n",
              "      <td>...</td>\n",
              "      <td>2022-10-04</td>\n",
              "      <td>비비고 사골곰탕 500g x18봉</td>\n",
              "      <td>단일상품</td>\n",
              "      <td>LO1032764663</td>\n",
              "      <td>비비고 사골곰탕 500g x18봉</td>\n",
              "      <td>LO1032764663_1032764664</td>\n",
              "      <td>단일상품</td>\n",
              "      <td>24600</td>\n",
              "      <td>2</td>\n",
              "      <td>냉장/냉동/간편식 &gt; 국/탕/찌개 &gt; 국/탕</td>\n",
              "    </tr>\n",
              "    <tr>\n",
              "      <th>32</th>\n",
              "      <td>2022-09-30 23:02:38</td>\n",
              "      <td>2022093018631923</td>\n",
              "      <td>APP</td>\n",
              "      <td>일반주문</td>\n",
              "      <td>[링크프라이스] CPS_롯데온</td>\n",
              "      <td>LPOINT통합회원</td>\n",
              "      <td>tae0****</td>\n",
              "      <td>CHT</td>\n",
              "      <td>2022093018631923_1</td>\n",
              "      <td>취소(주문취소)</td>\n",
              "      <td>...</td>\n",
              "      <td>2022-09-30</td>\n",
              "      <td>비비고 사골곰탕 500g x18봉</td>\n",
              "      <td>단일상품</td>\n",
              "      <td>LO1032764663</td>\n",
              "      <td>비비고 사골곰탕 500g x18봉</td>\n",
              "      <td>LO1032764663_1032764664</td>\n",
              "      <td>단일상품</td>\n",
              "      <td>24600</td>\n",
              "      <td>1</td>\n",
              "      <td>냉장/냉동/간편식 &gt; 국/탕/찌개 &gt; 국/탕</td>\n",
              "    </tr>\n",
              "    <tr>\n",
              "      <th>30</th>\n",
              "      <td>2022-09-30 23:05:50</td>\n",
              "      <td>2022093018632420</td>\n",
              "      <td>APP</td>\n",
              "      <td>일반주문</td>\n",
              "      <td>디폴트 채널상세</td>\n",
              "      <td>LPOINT통합회원</td>\n",
              "      <td>dmsd****</td>\n",
              "      <td>RSI</td>\n",
              "      <td>2022093018632420_1</td>\n",
              "      <td>취소(주문취소)</td>\n",
              "      <td>...</td>\n",
              "      <td>2022-10-03</td>\n",
              "      <td>비비고 사골곰탕 500g x18봉</td>\n",
              "      <td>단일상품</td>\n",
              "      <td>LO1032764663</td>\n",
              "      <td>비비고 사골곰탕 500g x18봉</td>\n",
              "      <td>LO1032764663_1032764664</td>\n",
              "      <td>단일상품</td>\n",
              "      <td>24600</td>\n",
              "      <td>1</td>\n",
              "      <td>냉장/냉동/간편식 &gt; 국/탕/찌개 &gt; 국/탕</td>\n",
              "    </tr>\n",
              "    <tr>\n",
              "      <th>6</th>\n",
              "      <td>2022-09-30 23:49:32</td>\n",
              "      <td>2022093018638203</td>\n",
              "      <td>APP</td>\n",
              "      <td>일반주문</td>\n",
              "      <td>[링크프라이스] CPS_롯데온</td>\n",
              "      <td>LPOINT통합회원</td>\n",
              "      <td>20re****</td>\n",
              "      <td>NaN</td>\n",
              "      <td>2022093018638203_1</td>\n",
              "      <td>취소(주문취소)</td>\n",
              "      <td>...</td>\n",
              "      <td>2022-10-04</td>\n",
              "      <td>비비고 사골곰탕 500g x18봉</td>\n",
              "      <td>단일상품</td>\n",
              "      <td>LO1032764663</td>\n",
              "      <td>비비고 사골곰탕 500g x18봉</td>\n",
              "      <td>LO1032764663_1032764664</td>\n",
              "      <td>단일상품</td>\n",
              "      <td>24600</td>\n",
              "      <td>2</td>\n",
              "      <td>냉장/냉동/간편식 &gt; 국/탕/찌개 &gt; 국/탕</td>\n",
              "    </tr>\n",
              "  </tbody>\n",
              "</table>\n",
              "<p>8482 rows × 27 columns</p>\n",
              "</div>\n",
              "      <button class=\"colab-df-convert\" onclick=\"convertToInteractive('df-82e5a907-a36e-4163-ae2a-f1c00394030e')\"\n",
              "              title=\"Convert this dataframe to an interactive table.\"\n",
              "              style=\"display:none;\">\n",
              "        \n",
              "  <svg xmlns=\"http://www.w3.org/2000/svg\" height=\"24px\"viewBox=\"0 0 24 24\"\n",
              "       width=\"24px\">\n",
              "    <path d=\"M0 0h24v24H0V0z\" fill=\"none\"/>\n",
              "    <path d=\"M18.56 5.44l.94 2.06.94-2.06 2.06-.94-2.06-.94-.94-2.06-.94 2.06-2.06.94zm-11 1L8.5 8.5l.94-2.06 2.06-.94-2.06-.94L8.5 2.5l-.94 2.06-2.06.94zm10 10l.94 2.06.94-2.06 2.06-.94-2.06-.94-.94-2.06-.94 2.06-2.06.94z\"/><path d=\"M17.41 7.96l-1.37-1.37c-.4-.4-.92-.59-1.43-.59-.52 0-1.04.2-1.43.59L10.3 9.45l-7.72 7.72c-.78.78-.78 2.05 0 2.83L4 21.41c.39.39.9.59 1.41.59.51 0 1.02-.2 1.41-.59l7.78-7.78 2.81-2.81c.8-.78.8-2.07 0-2.86zM5.41 20L4 18.59l7.72-7.72 1.47 1.35L5.41 20z\"/>\n",
              "  </svg>\n",
              "      </button>\n",
              "      \n",
              "  <style>\n",
              "    .colab-df-container {\n",
              "      display:flex;\n",
              "      flex-wrap:wrap;\n",
              "      gap: 12px;\n",
              "    }\n",
              "\n",
              "    .colab-df-convert {\n",
              "      background-color: #E8F0FE;\n",
              "      border: none;\n",
              "      border-radius: 50%;\n",
              "      cursor: pointer;\n",
              "      display: none;\n",
              "      fill: #1967D2;\n",
              "      height: 32px;\n",
              "      padding: 0 0 0 0;\n",
              "      width: 32px;\n",
              "    }\n",
              "\n",
              "    .colab-df-convert:hover {\n",
              "      background-color: #E2EBFA;\n",
              "      box-shadow: 0px 1px 2px rgba(60, 64, 67, 0.3), 0px 1px 3px 1px rgba(60, 64, 67, 0.15);\n",
              "      fill: #174EA6;\n",
              "    }\n",
              "\n",
              "    [theme=dark] .colab-df-convert {\n",
              "      background-color: #3B4455;\n",
              "      fill: #D2E3FC;\n",
              "    }\n",
              "\n",
              "    [theme=dark] .colab-df-convert:hover {\n",
              "      background-color: #434B5C;\n",
              "      box-shadow: 0px 1px 3px 1px rgba(0, 0, 0, 0.15);\n",
              "      filter: drop-shadow(0px 1px 2px rgba(0, 0, 0, 0.3));\n",
              "      fill: #FFFFFF;\n",
              "    }\n",
              "  </style>\n",
              "\n",
              "      <script>\n",
              "        const buttonEl =\n",
              "          document.querySelector('#df-82e5a907-a36e-4163-ae2a-f1c00394030e button.colab-df-convert');\n",
              "        buttonEl.style.display =\n",
              "          google.colab.kernel.accessAllowed ? 'block' : 'none';\n",
              "\n",
              "        async function convertToInteractive(key) {\n",
              "          const element = document.querySelector('#df-82e5a907-a36e-4163-ae2a-f1c00394030e');\n",
              "          const dataTable =\n",
              "            await google.colab.kernel.invokeFunction('convertToInteractive',\n",
              "                                                     [key], {});\n",
              "          if (!dataTable) return;\n",
              "\n",
              "          const docLinkHtml = 'Like what you see? Visit the ' +\n",
              "            '<a target=\"_blank\" href=https://colab.research.google.com/notebooks/data_table.ipynb>data table notebook</a>'\n",
              "            + ' to learn more about interactive tables.';\n",
              "          element.innerHTML = '';\n",
              "          dataTable['output_type'] = 'display_data';\n",
              "          await google.colab.output.renderOutput(dataTable, element);\n",
              "          const docLink = document.createElement('div');\n",
              "          docLink.innerHTML = docLinkHtml;\n",
              "          element.appendChild(docLink);\n",
              "        }\n",
              "      </script>\n",
              "    </div>\n",
              "  </div>\n",
              "  "
            ]
          },
          "metadata": {},
          "execution_count": 104
        }
      ]
    },
    {
      "cell_type": "markdown",
      "source": [
        "## 2)주문완료된 데이터만 추출하기"
      ],
      "metadata": {
        "id": "bTzlnETCLxp0"
      },
      "id": "bTzlnETCLxp0"
    },
    {
      "cell_type": "code",
      "execution_count": 105,
      "id": "0824793a",
      "metadata": {
        "id": "0824793a"
      },
      "outputs": [],
      "source": [
        "# 반품 및 교환 항목, 구매확정이 되지 않은 항목, \n",
        "# 예외처리구분(구매확정이 되었어도 이후 취소된 항목, 미수령되어 철회된 항목 등)은 제외하고, \n",
        "# 확실하게 주문이 성공된 상품에 대해서만 df_ordered라는 데이터프레임에 넣어주도록 하겠습니다.\n",
        "\n",
        "df_ordered = df[df['유형'] == '주문']\n",
        "df_ordered = df_ordered[df_ordered['구매확정'] == '구매확정']\n",
        "df_ordered = df_ordered[df_ordered['예외처리구분'].isna()]"
      ]
    },
    {
      "cell_type": "code",
      "execution_count": 106,
      "id": "c693b71f",
      "metadata": {
        "id": "c693b71f",
        "outputId": "e8ebab00-f001-47fa-a43e-49a4edfd2c83",
        "colab": {
          "base_uri": "https://localhost:8080/",
          "height": 1000
        }
      },
      "outputs": [
        {
          "output_type": "execute_result",
          "data": {
            "text/plain": [
              "                   주문접수일시              주문번호    유입매체  주문구분  \\\n",
              "3265  2022-01-01 00:38:13  2022010111866837  MO WEB  일반주문   \n",
              "3263  2022-01-01 02:54:53  2022010111873735     APP  일반주문   \n",
              "3262  2022-01-01 02:56:35  2022010111873774     APP  일반주문   \n",
              "3261  2022-01-01 04:35:17  2022010111875631  MO WEB  일반주문   \n",
              "3260  2022-01-01 08:00:37  2022010111879668     APP  일반주문   \n",
              "...                   ...               ...     ...   ...   \n",
              "4     2022-09-30 23:52:25  2022093018638708  MO WEB  일반주문   \n",
              "3     2022-09-30 23:52:41  2022093018638709     APP  일반주문   \n",
              "2     2022-09-30 23:56:28  2022093018639349     APP  일반주문   \n",
              "1     2022-09-30 23:58:52  2022093018639892     APP  일반주문   \n",
              "0     2022-09-30 23:59:27  2022093018640098     APP  일반주문   \n",
              "\n",
              "                       유입채널        회원구분           아이디     전시유입코드  \\\n",
              "3265  [다음카카오] PCS 가격비교_롯데ON  LPOINT통합회원      kim6****        CHT   \n",
              "3263               디폴트 채널상세  LPOINT통합회원      savi****        RSI   \n",
              "3262               디폴트 채널상세  LPOINT통합회원      savi****        RSI   \n",
              "3261  [다음카카오] PCS 가격비교_롯데ON  LPOINT통합회원      happ****        CHT   \n",
              "3260               디폴트 채널상세  LPOINT통합회원      cats****  SCH비비고추어탕   \n",
              "...                     ...         ...           ...        ...   \n",
              "4       [네이버] PCS 가격비교_롯데ON  LPOINT통합회원       cha2844        CHT   \n",
              "3                  디폴트 채널상세  LPOINT통합회원        wocns2        CHT   \n",
              "2                  디폴트 채널상세  LPOINT통합회원       xraydos        RSI   \n",
              "1          [링크프라이스] CPS_롯데온  LPOINT통합회원       badamit        NaN   \n",
              "0                  디폴트 채널상세  LPOINT통합회원  simsimfreeya    SCH사골곰탕   \n",
              "\n",
              "                  상품주문번호  유형  ...      상태처리일시  \\\n",
              "3265  2022010111866837_1  주문  ...  2022-01-03   \n",
              "3263  2022010111873735_1  주문  ...  2022-01-06   \n",
              "3262  2022010111873774_1  주문  ...  2022-01-06   \n",
              "3261  2022010111875631_1  주문  ...  2022-01-04   \n",
              "3260  2022010111879668_2  주문  ...  2022-01-04   \n",
              "...                  ...  ..  ...         ...   \n",
              "4     2022093018638708_1  주문  ...  2022-10-06   \n",
              "3     2022093018638709_1  주문  ...  2022-10-06   \n",
              "2     2022093018639349_1  주문  ...  2022-10-07   \n",
              "1     2022093018639892_1  주문  ...  2022-10-06   \n",
              "0     2022093018640098_1  주문  ...  2022-10-06   \n",
              "\n",
              "                                  전시상품명                          전시단품명  \\\n",
              "3265               CJ 다담 된장찌개양념 530G x3                           단일상품   \n",
              "3263                   비비고 국물요리 BEST 9종                           단일상품   \n",
              "3262                   비비고 국물요리 BEST 9종                           단일상품   \n",
              "3261             CJ 다담 된장찌개양념 530G X 4개                           단일상품   \n",
              "3260                    비비고 추어탕 460Gx5개                           단일상품   \n",
              "...                                 ...                            ...   \n",
              "4     [CJ직배송]더건강한 닭가슴살 직화 스테이크100G X 6개                           단일상품   \n",
              "3         [L포인트 3000p 증정]LAST DAY EVENT             비비고 사골곰탕 500g x18봉   \n",
              "2         [L포인트 3000p 증정]LAST DAY EVENT              햇반 매일오곡밥 210Gx24개   \n",
              "1         [L포인트 3000p 증정]LAST DAY EVENT  프리미엄 육수세트 18봉[한우사골곰탕+진국육수 3종]   \n",
              "0         [L포인트 3000p 증정]LAST DAY EVENT             비비고 사골곰탕 500g x18봉   \n",
              "\n",
              "           판매자상품번호                             판매자상품명  \\\n",
              "3265  LO1135162715               CJ 다담 된장찌개양념 530G x3   \n",
              "3263  LO1495023715                   비비고 국물요리 BEST 9종   \n",
              "3262  LO1495023715                   비비고 국물요리 BEST 9종   \n",
              "3261  LO1517718327             CJ 다담 된장찌개양념 530G X 4개   \n",
              "3260  LO1249549902                비비고 남도식 추어탕 460Gx5개   \n",
              "...            ...                                ...   \n",
              "4     LO1520770627  [CJ직배송]더건강한 닭가슴살 직화 스테이크100G X 6개   \n",
              "3     LO1978869746    [L포인트 3000p 증정]★LAST DAY EVENT★   \n",
              "2     LO1978869746    [L포인트 3000p 증정]★LAST DAY EVENT★   \n",
              "1     LO1978869746    [L포인트 3000p 증정]★LAST DAY EVENT★   \n",
              "0     LO1978869746    [L포인트 3000p 증정]★LAST DAY EVENT★   \n",
              "\n",
              "                      판매자단품번호                         판매자단품명    판매가 수량  \\\n",
              "3265  LO1135162715_1135162716                           단일상품  16240  1   \n",
              "3263  LO1495023715_1495023716                           단일상품  33240  1   \n",
              "3262  LO1495023715_1495023716                           단일상품  33240  1   \n",
              "3261  LO1517718327_1517718328                           단일상품  21660  1   \n",
              "3260  LO1249549902_1249549903                           단일상품  23680  1   \n",
              "...                       ...                            ...    ... ..   \n",
              "4     LO1520770627_1520770628                           단일상품  17400  1   \n",
              "3     LO1978869746_1978869755             비비고 사골곰탕 500g x18봉  24500  2   \n",
              "2     LO1978869746_1978869753              햇반 매일오곡밥 210Gx24개  37000  1   \n",
              "1     LO1978869746_1978869749  프리미엄 육수세트 18봉[한우사골곰탕+진국육수 3종]  38000  1   \n",
              "0     LO1978869746_1978869755             비비고 사골곰탕 500g x18봉  24500  2   \n",
              "\n",
              "                          표준카테고리  \n",
              "3265       가공식품 > 장류 > 된장/쌈장/청국장  \n",
              "3263  냉장/냉동/간편식 > 즉석밥/죽/스프 > 즉석밥  \n",
              "3262  냉장/냉동/간편식 > 즉석밥/죽/스프 > 즉석밥  \n",
              "3261       가공식품 > 장류 > 된장/쌈장/청국장  \n",
              "3260    냉장/냉동/간편식 > 국/탕/찌개 > 국/탕  \n",
              "...                          ...  \n",
              "4         가공식품 > 통조림/캔 > 닭가슴살통조림  \n",
              "3       냉장/냉동/간편식 > 국/탕/찌개 > 국/탕  \n",
              "2       냉장/냉동/간편식 > 국/탕/찌개 > 국/탕  \n",
              "1       냉장/냉동/간편식 > 국/탕/찌개 > 국/탕  \n",
              "0       냉장/냉동/간편식 > 국/탕/찌개 > 국/탕  \n",
              "\n",
              "[93320 rows x 27 columns]"
            ],
            "text/html": [
              "\n",
              "  <div id=\"df-c32f6bb3-0c4b-42cc-9053-a0cabea81c54\">\n",
              "    <div class=\"colab-df-container\">\n",
              "      <div>\n",
              "<style scoped>\n",
              "    .dataframe tbody tr th:only-of-type {\n",
              "        vertical-align: middle;\n",
              "    }\n",
              "\n",
              "    .dataframe tbody tr th {\n",
              "        vertical-align: top;\n",
              "    }\n",
              "\n",
              "    .dataframe thead th {\n",
              "        text-align: right;\n",
              "    }\n",
              "</style>\n",
              "<table border=\"1\" class=\"dataframe\">\n",
              "  <thead>\n",
              "    <tr style=\"text-align: right;\">\n",
              "      <th></th>\n",
              "      <th>주문접수일시</th>\n",
              "      <th>주문번호</th>\n",
              "      <th>유입매체</th>\n",
              "      <th>주문구분</th>\n",
              "      <th>유입채널</th>\n",
              "      <th>회원구분</th>\n",
              "      <th>아이디</th>\n",
              "      <th>전시유입코드</th>\n",
              "      <th>상품주문번호</th>\n",
              "      <th>유형</th>\n",
              "      <th>...</th>\n",
              "      <th>상태처리일시</th>\n",
              "      <th>전시상품명</th>\n",
              "      <th>전시단품명</th>\n",
              "      <th>판매자상품번호</th>\n",
              "      <th>판매자상품명</th>\n",
              "      <th>판매자단품번호</th>\n",
              "      <th>판매자단품명</th>\n",
              "      <th>판매가</th>\n",
              "      <th>수량</th>\n",
              "      <th>표준카테고리</th>\n",
              "    </tr>\n",
              "  </thead>\n",
              "  <tbody>\n",
              "    <tr>\n",
              "      <th>3265</th>\n",
              "      <td>2022-01-01 00:38:13</td>\n",
              "      <td>2022010111866837</td>\n",
              "      <td>MO WEB</td>\n",
              "      <td>일반주문</td>\n",
              "      <td>[다음카카오] PCS 가격비교_롯데ON</td>\n",
              "      <td>LPOINT통합회원</td>\n",
              "      <td>kim6****</td>\n",
              "      <td>CHT</td>\n",
              "      <td>2022010111866837_1</td>\n",
              "      <td>주문</td>\n",
              "      <td>...</td>\n",
              "      <td>2022-01-03</td>\n",
              "      <td>CJ 다담 된장찌개양념 530G x3</td>\n",
              "      <td>단일상품</td>\n",
              "      <td>LO1135162715</td>\n",
              "      <td>CJ 다담 된장찌개양념 530G x3</td>\n",
              "      <td>LO1135162715_1135162716</td>\n",
              "      <td>단일상품</td>\n",
              "      <td>16240</td>\n",
              "      <td>1</td>\n",
              "      <td>가공식품 &gt; 장류 &gt; 된장/쌈장/청국장</td>\n",
              "    </tr>\n",
              "    <tr>\n",
              "      <th>3263</th>\n",
              "      <td>2022-01-01 02:54:53</td>\n",
              "      <td>2022010111873735</td>\n",
              "      <td>APP</td>\n",
              "      <td>일반주문</td>\n",
              "      <td>디폴트 채널상세</td>\n",
              "      <td>LPOINT통합회원</td>\n",
              "      <td>savi****</td>\n",
              "      <td>RSI</td>\n",
              "      <td>2022010111873735_1</td>\n",
              "      <td>주문</td>\n",
              "      <td>...</td>\n",
              "      <td>2022-01-06</td>\n",
              "      <td>비비고 국물요리 BEST 9종</td>\n",
              "      <td>단일상품</td>\n",
              "      <td>LO1495023715</td>\n",
              "      <td>비비고 국물요리 BEST 9종</td>\n",
              "      <td>LO1495023715_1495023716</td>\n",
              "      <td>단일상품</td>\n",
              "      <td>33240</td>\n",
              "      <td>1</td>\n",
              "      <td>냉장/냉동/간편식 &gt; 즉석밥/죽/스프 &gt; 즉석밥</td>\n",
              "    </tr>\n",
              "    <tr>\n",
              "      <th>3262</th>\n",
              "      <td>2022-01-01 02:56:35</td>\n",
              "      <td>2022010111873774</td>\n",
              "      <td>APP</td>\n",
              "      <td>일반주문</td>\n",
              "      <td>디폴트 채널상세</td>\n",
              "      <td>LPOINT통합회원</td>\n",
              "      <td>savi****</td>\n",
              "      <td>RSI</td>\n",
              "      <td>2022010111873774_1</td>\n",
              "      <td>주문</td>\n",
              "      <td>...</td>\n",
              "      <td>2022-01-06</td>\n",
              "      <td>비비고 국물요리 BEST 9종</td>\n",
              "      <td>단일상품</td>\n",
              "      <td>LO1495023715</td>\n",
              "      <td>비비고 국물요리 BEST 9종</td>\n",
              "      <td>LO1495023715_1495023716</td>\n",
              "      <td>단일상품</td>\n",
              "      <td>33240</td>\n",
              "      <td>1</td>\n",
              "      <td>냉장/냉동/간편식 &gt; 즉석밥/죽/스프 &gt; 즉석밥</td>\n",
              "    </tr>\n",
              "    <tr>\n",
              "      <th>3261</th>\n",
              "      <td>2022-01-01 04:35:17</td>\n",
              "      <td>2022010111875631</td>\n",
              "      <td>MO WEB</td>\n",
              "      <td>일반주문</td>\n",
              "      <td>[다음카카오] PCS 가격비교_롯데ON</td>\n",
              "      <td>LPOINT통합회원</td>\n",
              "      <td>happ****</td>\n",
              "      <td>CHT</td>\n",
              "      <td>2022010111875631_1</td>\n",
              "      <td>주문</td>\n",
              "      <td>...</td>\n",
              "      <td>2022-01-04</td>\n",
              "      <td>CJ 다담 된장찌개양념 530G X 4개</td>\n",
              "      <td>단일상품</td>\n",
              "      <td>LO1517718327</td>\n",
              "      <td>CJ 다담 된장찌개양념 530G X 4개</td>\n",
              "      <td>LO1517718327_1517718328</td>\n",
              "      <td>단일상품</td>\n",
              "      <td>21660</td>\n",
              "      <td>1</td>\n",
              "      <td>가공식품 &gt; 장류 &gt; 된장/쌈장/청국장</td>\n",
              "    </tr>\n",
              "    <tr>\n",
              "      <th>3260</th>\n",
              "      <td>2022-01-01 08:00:37</td>\n",
              "      <td>2022010111879668</td>\n",
              "      <td>APP</td>\n",
              "      <td>일반주문</td>\n",
              "      <td>디폴트 채널상세</td>\n",
              "      <td>LPOINT통합회원</td>\n",
              "      <td>cats****</td>\n",
              "      <td>SCH비비고추어탕</td>\n",
              "      <td>2022010111879668_2</td>\n",
              "      <td>주문</td>\n",
              "      <td>...</td>\n",
              "      <td>2022-01-04</td>\n",
              "      <td>비비고 추어탕 460Gx5개</td>\n",
              "      <td>단일상품</td>\n",
              "      <td>LO1249549902</td>\n",
              "      <td>비비고 남도식 추어탕 460Gx5개</td>\n",
              "      <td>LO1249549902_1249549903</td>\n",
              "      <td>단일상품</td>\n",
              "      <td>23680</td>\n",
              "      <td>1</td>\n",
              "      <td>냉장/냉동/간편식 &gt; 국/탕/찌개 &gt; 국/탕</td>\n",
              "    </tr>\n",
              "    <tr>\n",
              "      <th>...</th>\n",
              "      <td>...</td>\n",
              "      <td>...</td>\n",
              "      <td>...</td>\n",
              "      <td>...</td>\n",
              "      <td>...</td>\n",
              "      <td>...</td>\n",
              "      <td>...</td>\n",
              "      <td>...</td>\n",
              "      <td>...</td>\n",
              "      <td>...</td>\n",
              "      <td>...</td>\n",
              "      <td>...</td>\n",
              "      <td>...</td>\n",
              "      <td>...</td>\n",
              "      <td>...</td>\n",
              "      <td>...</td>\n",
              "      <td>...</td>\n",
              "      <td>...</td>\n",
              "      <td>...</td>\n",
              "      <td>...</td>\n",
              "      <td>...</td>\n",
              "    </tr>\n",
              "    <tr>\n",
              "      <th>4</th>\n",
              "      <td>2022-09-30 23:52:25</td>\n",
              "      <td>2022093018638708</td>\n",
              "      <td>MO WEB</td>\n",
              "      <td>일반주문</td>\n",
              "      <td>[네이버] PCS 가격비교_롯데ON</td>\n",
              "      <td>LPOINT통합회원</td>\n",
              "      <td>cha2844</td>\n",
              "      <td>CHT</td>\n",
              "      <td>2022093018638708_1</td>\n",
              "      <td>주문</td>\n",
              "      <td>...</td>\n",
              "      <td>2022-10-06</td>\n",
              "      <td>[CJ직배송]더건강한 닭가슴살 직화 스테이크100G X 6개</td>\n",
              "      <td>단일상품</td>\n",
              "      <td>LO1520770627</td>\n",
              "      <td>[CJ직배송]더건강한 닭가슴살 직화 스테이크100G X 6개</td>\n",
              "      <td>LO1520770627_1520770628</td>\n",
              "      <td>단일상품</td>\n",
              "      <td>17400</td>\n",
              "      <td>1</td>\n",
              "      <td>가공식품 &gt; 통조림/캔 &gt; 닭가슴살통조림</td>\n",
              "    </tr>\n",
              "    <tr>\n",
              "      <th>3</th>\n",
              "      <td>2022-09-30 23:52:41</td>\n",
              "      <td>2022093018638709</td>\n",
              "      <td>APP</td>\n",
              "      <td>일반주문</td>\n",
              "      <td>디폴트 채널상세</td>\n",
              "      <td>LPOINT통합회원</td>\n",
              "      <td>wocns2</td>\n",
              "      <td>CHT</td>\n",
              "      <td>2022093018638709_1</td>\n",
              "      <td>주문</td>\n",
              "      <td>...</td>\n",
              "      <td>2022-10-06</td>\n",
              "      <td>[L포인트 3000p 증정]LAST DAY EVENT</td>\n",
              "      <td>비비고 사골곰탕 500g x18봉</td>\n",
              "      <td>LO1978869746</td>\n",
              "      <td>[L포인트 3000p 증정]★LAST DAY EVENT★</td>\n",
              "      <td>LO1978869746_1978869755</td>\n",
              "      <td>비비고 사골곰탕 500g x18봉</td>\n",
              "      <td>24500</td>\n",
              "      <td>2</td>\n",
              "      <td>냉장/냉동/간편식 &gt; 국/탕/찌개 &gt; 국/탕</td>\n",
              "    </tr>\n",
              "    <tr>\n",
              "      <th>2</th>\n",
              "      <td>2022-09-30 23:56:28</td>\n",
              "      <td>2022093018639349</td>\n",
              "      <td>APP</td>\n",
              "      <td>일반주문</td>\n",
              "      <td>디폴트 채널상세</td>\n",
              "      <td>LPOINT통합회원</td>\n",
              "      <td>xraydos</td>\n",
              "      <td>RSI</td>\n",
              "      <td>2022093018639349_1</td>\n",
              "      <td>주문</td>\n",
              "      <td>...</td>\n",
              "      <td>2022-10-07</td>\n",
              "      <td>[L포인트 3000p 증정]LAST DAY EVENT</td>\n",
              "      <td>햇반 매일오곡밥 210Gx24개</td>\n",
              "      <td>LO1978869746</td>\n",
              "      <td>[L포인트 3000p 증정]★LAST DAY EVENT★</td>\n",
              "      <td>LO1978869746_1978869753</td>\n",
              "      <td>햇반 매일오곡밥 210Gx24개</td>\n",
              "      <td>37000</td>\n",
              "      <td>1</td>\n",
              "      <td>냉장/냉동/간편식 &gt; 국/탕/찌개 &gt; 국/탕</td>\n",
              "    </tr>\n",
              "    <tr>\n",
              "      <th>1</th>\n",
              "      <td>2022-09-30 23:58:52</td>\n",
              "      <td>2022093018639892</td>\n",
              "      <td>APP</td>\n",
              "      <td>일반주문</td>\n",
              "      <td>[링크프라이스] CPS_롯데온</td>\n",
              "      <td>LPOINT통합회원</td>\n",
              "      <td>badamit</td>\n",
              "      <td>NaN</td>\n",
              "      <td>2022093018639892_1</td>\n",
              "      <td>주문</td>\n",
              "      <td>...</td>\n",
              "      <td>2022-10-06</td>\n",
              "      <td>[L포인트 3000p 증정]LAST DAY EVENT</td>\n",
              "      <td>프리미엄 육수세트 18봉[한우사골곰탕+진국육수 3종]</td>\n",
              "      <td>LO1978869746</td>\n",
              "      <td>[L포인트 3000p 증정]★LAST DAY EVENT★</td>\n",
              "      <td>LO1978869746_1978869749</td>\n",
              "      <td>프리미엄 육수세트 18봉[한우사골곰탕+진국육수 3종]</td>\n",
              "      <td>38000</td>\n",
              "      <td>1</td>\n",
              "      <td>냉장/냉동/간편식 &gt; 국/탕/찌개 &gt; 국/탕</td>\n",
              "    </tr>\n",
              "    <tr>\n",
              "      <th>0</th>\n",
              "      <td>2022-09-30 23:59:27</td>\n",
              "      <td>2022093018640098</td>\n",
              "      <td>APP</td>\n",
              "      <td>일반주문</td>\n",
              "      <td>디폴트 채널상세</td>\n",
              "      <td>LPOINT통합회원</td>\n",
              "      <td>simsimfreeya</td>\n",
              "      <td>SCH사골곰탕</td>\n",
              "      <td>2022093018640098_1</td>\n",
              "      <td>주문</td>\n",
              "      <td>...</td>\n",
              "      <td>2022-10-06</td>\n",
              "      <td>[L포인트 3000p 증정]LAST DAY EVENT</td>\n",
              "      <td>비비고 사골곰탕 500g x18봉</td>\n",
              "      <td>LO1978869746</td>\n",
              "      <td>[L포인트 3000p 증정]★LAST DAY EVENT★</td>\n",
              "      <td>LO1978869746_1978869755</td>\n",
              "      <td>비비고 사골곰탕 500g x18봉</td>\n",
              "      <td>24500</td>\n",
              "      <td>2</td>\n",
              "      <td>냉장/냉동/간편식 &gt; 국/탕/찌개 &gt; 국/탕</td>\n",
              "    </tr>\n",
              "  </tbody>\n",
              "</table>\n",
              "<p>93320 rows × 27 columns</p>\n",
              "</div>\n",
              "      <button class=\"colab-df-convert\" onclick=\"convertToInteractive('df-c32f6bb3-0c4b-42cc-9053-a0cabea81c54')\"\n",
              "              title=\"Convert this dataframe to an interactive table.\"\n",
              "              style=\"display:none;\">\n",
              "        \n",
              "  <svg xmlns=\"http://www.w3.org/2000/svg\" height=\"24px\"viewBox=\"0 0 24 24\"\n",
              "       width=\"24px\">\n",
              "    <path d=\"M0 0h24v24H0V0z\" fill=\"none\"/>\n",
              "    <path d=\"M18.56 5.44l.94 2.06.94-2.06 2.06-.94-2.06-.94-.94-2.06-.94 2.06-2.06.94zm-11 1L8.5 8.5l.94-2.06 2.06-.94-2.06-.94L8.5 2.5l-.94 2.06-2.06.94zm10 10l.94 2.06.94-2.06 2.06-.94-2.06-.94-.94-2.06-.94 2.06-2.06.94z\"/><path d=\"M17.41 7.96l-1.37-1.37c-.4-.4-.92-.59-1.43-.59-.52 0-1.04.2-1.43.59L10.3 9.45l-7.72 7.72c-.78.78-.78 2.05 0 2.83L4 21.41c.39.39.9.59 1.41.59.51 0 1.02-.2 1.41-.59l7.78-7.78 2.81-2.81c.8-.78.8-2.07 0-2.86zM5.41 20L4 18.59l7.72-7.72 1.47 1.35L5.41 20z\"/>\n",
              "  </svg>\n",
              "      </button>\n",
              "      \n",
              "  <style>\n",
              "    .colab-df-container {\n",
              "      display:flex;\n",
              "      flex-wrap:wrap;\n",
              "      gap: 12px;\n",
              "    }\n",
              "\n",
              "    .colab-df-convert {\n",
              "      background-color: #E8F0FE;\n",
              "      border: none;\n",
              "      border-radius: 50%;\n",
              "      cursor: pointer;\n",
              "      display: none;\n",
              "      fill: #1967D2;\n",
              "      height: 32px;\n",
              "      padding: 0 0 0 0;\n",
              "      width: 32px;\n",
              "    }\n",
              "\n",
              "    .colab-df-convert:hover {\n",
              "      background-color: #E2EBFA;\n",
              "      box-shadow: 0px 1px 2px rgba(60, 64, 67, 0.3), 0px 1px 3px 1px rgba(60, 64, 67, 0.15);\n",
              "      fill: #174EA6;\n",
              "    }\n",
              "\n",
              "    [theme=dark] .colab-df-convert {\n",
              "      background-color: #3B4455;\n",
              "      fill: #D2E3FC;\n",
              "    }\n",
              "\n",
              "    [theme=dark] .colab-df-convert:hover {\n",
              "      background-color: #434B5C;\n",
              "      box-shadow: 0px 1px 3px 1px rgba(0, 0, 0, 0.15);\n",
              "      filter: drop-shadow(0px 1px 2px rgba(0, 0, 0, 0.3));\n",
              "      fill: #FFFFFF;\n",
              "    }\n",
              "  </style>\n",
              "\n",
              "      <script>\n",
              "        const buttonEl =\n",
              "          document.querySelector('#df-c32f6bb3-0c4b-42cc-9053-a0cabea81c54 button.colab-df-convert');\n",
              "        buttonEl.style.display =\n",
              "          google.colab.kernel.accessAllowed ? 'block' : 'none';\n",
              "\n",
              "        async function convertToInteractive(key) {\n",
              "          const element = document.querySelector('#df-c32f6bb3-0c4b-42cc-9053-a0cabea81c54');\n",
              "          const dataTable =\n",
              "            await google.colab.kernel.invokeFunction('convertToInteractive',\n",
              "                                                     [key], {});\n",
              "          if (!dataTable) return;\n",
              "\n",
              "          const docLinkHtml = 'Like what you see? Visit the ' +\n",
              "            '<a target=\"_blank\" href=https://colab.research.google.com/notebooks/data_table.ipynb>data table notebook</a>'\n",
              "            + ' to learn more about interactive tables.';\n",
              "          element.innerHTML = '';\n",
              "          dataTable['output_type'] = 'display_data';\n",
              "          await google.colab.output.renderOutput(dataTable, element);\n",
              "          const docLink = document.createElement('div');\n",
              "          docLink.innerHTML = docLinkHtml;\n",
              "          element.appendChild(docLink);\n",
              "        }\n",
              "      </script>\n",
              "    </div>\n",
              "  </div>\n",
              "  "
            ]
          },
          "metadata": {},
          "execution_count": 106
        }
      ],
      "source": [
        "df_ordered"
      ]
    },
    {
      "cell_type": "markdown",
      "source": [
        "## 3) 필요한 변수 생성하기"
      ],
      "metadata": {
        "id": "8gB0SOJPNLJC"
      },
      "id": "8gB0SOJPNLJC"
    },
    {
      "cell_type": "code",
      "execution_count": 107,
      "id": "4aa3c059",
      "metadata": {
        "id": "4aa3c059"
      },
      "outputs": [],
      "source": [
        "#판매액 변수 생성\n",
        "df_ordered['판매액'] = df_ordered['판매가'] * df_ordered['수량']"
      ]
    },
    {
      "cell_type": "code",
      "execution_count": 108,
      "id": "50adf53c",
      "metadata": {
        "id": "50adf53c"
      },
      "outputs": [],
      "source": [
        "#데이트 형식으로 변경\n",
        "df_ordered['주문접수일시'] = pd.to_datetime(df_ordered['주문접수일시'], format = \"%Y-%m-%d %H:%M:%S\")"
      ]
    },
    {
      "cell_type": "code",
      "execution_count": 109,
      "id": "afc67944",
      "metadata": {
        "id": "afc67944"
      },
      "outputs": [],
      "source": [
        "#월별 파악하기 위해 변수설정\n",
        "df_ordered['주문월'] = df_ordered['주문접수일시'].dt.month"
      ]
    },
    {
      "cell_type": "code",
      "execution_count": 110,
      "id": "b8cc1429",
      "metadata": {
        "id": "b8cc1429"
      },
      "outputs": [],
      "source": [
        "df_ordered = df_ordered.reset_index()"
      ]
    },
    {
      "cell_type": "code",
      "execution_count": 111,
      "id": "452a27cb",
      "metadata": {
        "id": "452a27cb"
      },
      "outputs": [],
      "source": [
        "df_ordered = df_ordered.drop(['index'], axis=1)"
      ]
    },
    {
      "cell_type": "code",
      "execution_count": 112,
      "id": "680a3713",
      "metadata": {
        "scrolled": false,
        "id": "680a3713",
        "outputId": "f8097adb-956b-4efc-a23c-d8293ea989bb",
        "colab": {
          "base_uri": "https://localhost:8080/",
          "height": 1000
        }
      },
      "outputs": [
        {
          "output_type": "execute_result",
          "data": {
            "text/plain": [
              "               주문접수일시              주문번호    유입매체  주문구분                   유입채널  \\\n",
              "0 2022-01-01 00:38:13  2022010111866837  MO WEB  일반주문  [다음카카오] PCS 가격비교_롯데ON   \n",
              "1 2022-01-01 02:54:53  2022010111873735     APP  일반주문               디폴트 채널상세   \n",
              "2 2022-01-01 02:56:35  2022010111873774     APP  일반주문               디폴트 채널상세   \n",
              "3 2022-01-01 04:35:17  2022010111875631  MO WEB  일반주문  [다음카카오] PCS 가격비교_롯데ON   \n",
              "4 2022-01-01 08:00:37  2022010111879668     APP  일반주문               디폴트 채널상세   \n",
              "\n",
              "         회원구분       아이디     전시유입코드              상품주문번호  유형  ... 전시단품명  \\\n",
              "0  LPOINT통합회원  kim6****        CHT  2022010111866837_1  주문  ...  단일상품   \n",
              "1  LPOINT통합회원  savi****        RSI  2022010111873735_1  주문  ...  단일상품   \n",
              "2  LPOINT통합회원  savi****        RSI  2022010111873774_1  주문  ...  단일상품   \n",
              "3  LPOINT통합회원  happ****        CHT  2022010111875631_1  주문  ...  단일상품   \n",
              "4  LPOINT통합회원  cats****  SCH비비고추어탕  2022010111879668_2  주문  ...  단일상품   \n",
              "\n",
              "        판매자상품번호                  판매자상품명                  판매자단품번호 판매자단품명  \\\n",
              "0  LO1135162715    CJ 다담 된장찌개양념 530G x3  LO1135162715_1135162716   단일상품   \n",
              "1  LO1495023715        비비고 국물요리 BEST 9종  LO1495023715_1495023716   단일상품   \n",
              "2  LO1495023715        비비고 국물요리 BEST 9종  LO1495023715_1495023716   단일상품   \n",
              "3  LO1517718327  CJ 다담 된장찌개양념 530G X 4개  LO1517718327_1517718328   단일상품   \n",
              "4  LO1249549902     비비고 남도식 추어탕 460Gx5개  LO1249549902_1249549903   단일상품   \n",
              "\n",
              "     판매가 수량                      표준카테고리    판매액 주문월  \n",
              "0  16240  1       가공식품 > 장류 > 된장/쌈장/청국장  16240   1  \n",
              "1  33240  1  냉장/냉동/간편식 > 즉석밥/죽/스프 > 즉석밥  33240   1  \n",
              "2  33240  1  냉장/냉동/간편식 > 즉석밥/죽/스프 > 즉석밥  33240   1  \n",
              "3  21660  1       가공식품 > 장류 > 된장/쌈장/청국장  21660   1  \n",
              "4  23680  1    냉장/냉동/간편식 > 국/탕/찌개 > 국/탕  23680   1  \n",
              "\n",
              "[5 rows x 29 columns]"
            ],
            "text/html": [
              "\n",
              "  <div id=\"df-5e30cad7-25f1-483e-a754-d43971718e4c\">\n",
              "    <div class=\"colab-df-container\">\n",
              "      <div>\n",
              "<style scoped>\n",
              "    .dataframe tbody tr th:only-of-type {\n",
              "        vertical-align: middle;\n",
              "    }\n",
              "\n",
              "    .dataframe tbody tr th {\n",
              "        vertical-align: top;\n",
              "    }\n",
              "\n",
              "    .dataframe thead th {\n",
              "        text-align: right;\n",
              "    }\n",
              "</style>\n",
              "<table border=\"1\" class=\"dataframe\">\n",
              "  <thead>\n",
              "    <tr style=\"text-align: right;\">\n",
              "      <th></th>\n",
              "      <th>주문접수일시</th>\n",
              "      <th>주문번호</th>\n",
              "      <th>유입매체</th>\n",
              "      <th>주문구분</th>\n",
              "      <th>유입채널</th>\n",
              "      <th>회원구분</th>\n",
              "      <th>아이디</th>\n",
              "      <th>전시유입코드</th>\n",
              "      <th>상품주문번호</th>\n",
              "      <th>유형</th>\n",
              "      <th>...</th>\n",
              "      <th>전시단품명</th>\n",
              "      <th>판매자상품번호</th>\n",
              "      <th>판매자상품명</th>\n",
              "      <th>판매자단품번호</th>\n",
              "      <th>판매자단품명</th>\n",
              "      <th>판매가</th>\n",
              "      <th>수량</th>\n",
              "      <th>표준카테고리</th>\n",
              "      <th>판매액</th>\n",
              "      <th>주문월</th>\n",
              "    </tr>\n",
              "  </thead>\n",
              "  <tbody>\n",
              "    <tr>\n",
              "      <th>0</th>\n",
              "      <td>2022-01-01 00:38:13</td>\n",
              "      <td>2022010111866837</td>\n",
              "      <td>MO WEB</td>\n",
              "      <td>일반주문</td>\n",
              "      <td>[다음카카오] PCS 가격비교_롯데ON</td>\n",
              "      <td>LPOINT통합회원</td>\n",
              "      <td>kim6****</td>\n",
              "      <td>CHT</td>\n",
              "      <td>2022010111866837_1</td>\n",
              "      <td>주문</td>\n",
              "      <td>...</td>\n",
              "      <td>단일상품</td>\n",
              "      <td>LO1135162715</td>\n",
              "      <td>CJ 다담 된장찌개양념 530G x3</td>\n",
              "      <td>LO1135162715_1135162716</td>\n",
              "      <td>단일상품</td>\n",
              "      <td>16240</td>\n",
              "      <td>1</td>\n",
              "      <td>가공식품 &gt; 장류 &gt; 된장/쌈장/청국장</td>\n",
              "      <td>16240</td>\n",
              "      <td>1</td>\n",
              "    </tr>\n",
              "    <tr>\n",
              "      <th>1</th>\n",
              "      <td>2022-01-01 02:54:53</td>\n",
              "      <td>2022010111873735</td>\n",
              "      <td>APP</td>\n",
              "      <td>일반주문</td>\n",
              "      <td>디폴트 채널상세</td>\n",
              "      <td>LPOINT통합회원</td>\n",
              "      <td>savi****</td>\n",
              "      <td>RSI</td>\n",
              "      <td>2022010111873735_1</td>\n",
              "      <td>주문</td>\n",
              "      <td>...</td>\n",
              "      <td>단일상품</td>\n",
              "      <td>LO1495023715</td>\n",
              "      <td>비비고 국물요리 BEST 9종</td>\n",
              "      <td>LO1495023715_1495023716</td>\n",
              "      <td>단일상품</td>\n",
              "      <td>33240</td>\n",
              "      <td>1</td>\n",
              "      <td>냉장/냉동/간편식 &gt; 즉석밥/죽/스프 &gt; 즉석밥</td>\n",
              "      <td>33240</td>\n",
              "      <td>1</td>\n",
              "    </tr>\n",
              "    <tr>\n",
              "      <th>2</th>\n",
              "      <td>2022-01-01 02:56:35</td>\n",
              "      <td>2022010111873774</td>\n",
              "      <td>APP</td>\n",
              "      <td>일반주문</td>\n",
              "      <td>디폴트 채널상세</td>\n",
              "      <td>LPOINT통합회원</td>\n",
              "      <td>savi****</td>\n",
              "      <td>RSI</td>\n",
              "      <td>2022010111873774_1</td>\n",
              "      <td>주문</td>\n",
              "      <td>...</td>\n",
              "      <td>단일상품</td>\n",
              "      <td>LO1495023715</td>\n",
              "      <td>비비고 국물요리 BEST 9종</td>\n",
              "      <td>LO1495023715_1495023716</td>\n",
              "      <td>단일상품</td>\n",
              "      <td>33240</td>\n",
              "      <td>1</td>\n",
              "      <td>냉장/냉동/간편식 &gt; 즉석밥/죽/스프 &gt; 즉석밥</td>\n",
              "      <td>33240</td>\n",
              "      <td>1</td>\n",
              "    </tr>\n",
              "    <tr>\n",
              "      <th>3</th>\n",
              "      <td>2022-01-01 04:35:17</td>\n",
              "      <td>2022010111875631</td>\n",
              "      <td>MO WEB</td>\n",
              "      <td>일반주문</td>\n",
              "      <td>[다음카카오] PCS 가격비교_롯데ON</td>\n",
              "      <td>LPOINT통합회원</td>\n",
              "      <td>happ****</td>\n",
              "      <td>CHT</td>\n",
              "      <td>2022010111875631_1</td>\n",
              "      <td>주문</td>\n",
              "      <td>...</td>\n",
              "      <td>단일상품</td>\n",
              "      <td>LO1517718327</td>\n",
              "      <td>CJ 다담 된장찌개양념 530G X 4개</td>\n",
              "      <td>LO1517718327_1517718328</td>\n",
              "      <td>단일상품</td>\n",
              "      <td>21660</td>\n",
              "      <td>1</td>\n",
              "      <td>가공식품 &gt; 장류 &gt; 된장/쌈장/청국장</td>\n",
              "      <td>21660</td>\n",
              "      <td>1</td>\n",
              "    </tr>\n",
              "    <tr>\n",
              "      <th>4</th>\n",
              "      <td>2022-01-01 08:00:37</td>\n",
              "      <td>2022010111879668</td>\n",
              "      <td>APP</td>\n",
              "      <td>일반주문</td>\n",
              "      <td>디폴트 채널상세</td>\n",
              "      <td>LPOINT통합회원</td>\n",
              "      <td>cats****</td>\n",
              "      <td>SCH비비고추어탕</td>\n",
              "      <td>2022010111879668_2</td>\n",
              "      <td>주문</td>\n",
              "      <td>...</td>\n",
              "      <td>단일상품</td>\n",
              "      <td>LO1249549902</td>\n",
              "      <td>비비고 남도식 추어탕 460Gx5개</td>\n",
              "      <td>LO1249549902_1249549903</td>\n",
              "      <td>단일상품</td>\n",
              "      <td>23680</td>\n",
              "      <td>1</td>\n",
              "      <td>냉장/냉동/간편식 &gt; 국/탕/찌개 &gt; 국/탕</td>\n",
              "      <td>23680</td>\n",
              "      <td>1</td>\n",
              "    </tr>\n",
              "  </tbody>\n",
              "</table>\n",
              "<p>5 rows × 29 columns</p>\n",
              "</div>\n",
              "      <button class=\"colab-df-convert\" onclick=\"convertToInteractive('df-5e30cad7-25f1-483e-a754-d43971718e4c')\"\n",
              "              title=\"Convert this dataframe to an interactive table.\"\n",
              "              style=\"display:none;\">\n",
              "        \n",
              "  <svg xmlns=\"http://www.w3.org/2000/svg\" height=\"24px\"viewBox=\"0 0 24 24\"\n",
              "       width=\"24px\">\n",
              "    <path d=\"M0 0h24v24H0V0z\" fill=\"none\"/>\n",
              "    <path d=\"M18.56 5.44l.94 2.06.94-2.06 2.06-.94-2.06-.94-.94-2.06-.94 2.06-2.06.94zm-11 1L8.5 8.5l.94-2.06 2.06-.94-2.06-.94L8.5 2.5l-.94 2.06-2.06.94zm10 10l.94 2.06.94-2.06 2.06-.94-2.06-.94-.94-2.06-.94 2.06-2.06.94z\"/><path d=\"M17.41 7.96l-1.37-1.37c-.4-.4-.92-.59-1.43-.59-.52 0-1.04.2-1.43.59L10.3 9.45l-7.72 7.72c-.78.78-.78 2.05 0 2.83L4 21.41c.39.39.9.59 1.41.59.51 0 1.02-.2 1.41-.59l7.78-7.78 2.81-2.81c.8-.78.8-2.07 0-2.86zM5.41 20L4 18.59l7.72-7.72 1.47 1.35L5.41 20z\"/>\n",
              "  </svg>\n",
              "      </button>\n",
              "      \n",
              "  <style>\n",
              "    .colab-df-container {\n",
              "      display:flex;\n",
              "      flex-wrap:wrap;\n",
              "      gap: 12px;\n",
              "    }\n",
              "\n",
              "    .colab-df-convert {\n",
              "      background-color: #E8F0FE;\n",
              "      border: none;\n",
              "      border-radius: 50%;\n",
              "      cursor: pointer;\n",
              "      display: none;\n",
              "      fill: #1967D2;\n",
              "      height: 32px;\n",
              "      padding: 0 0 0 0;\n",
              "      width: 32px;\n",
              "    }\n",
              "\n",
              "    .colab-df-convert:hover {\n",
              "      background-color: #E2EBFA;\n",
              "      box-shadow: 0px 1px 2px rgba(60, 64, 67, 0.3), 0px 1px 3px 1px rgba(60, 64, 67, 0.15);\n",
              "      fill: #174EA6;\n",
              "    }\n",
              "\n",
              "    [theme=dark] .colab-df-convert {\n",
              "      background-color: #3B4455;\n",
              "      fill: #D2E3FC;\n",
              "    }\n",
              "\n",
              "    [theme=dark] .colab-df-convert:hover {\n",
              "      background-color: #434B5C;\n",
              "      box-shadow: 0px 1px 3px 1px rgba(0, 0, 0, 0.15);\n",
              "      filter: drop-shadow(0px 1px 2px rgba(0, 0, 0, 0.3));\n",
              "      fill: #FFFFFF;\n",
              "    }\n",
              "  </style>\n",
              "\n",
              "      <script>\n",
              "        const buttonEl =\n",
              "          document.querySelector('#df-5e30cad7-25f1-483e-a754-d43971718e4c button.colab-df-convert');\n",
              "        buttonEl.style.display =\n",
              "          google.colab.kernel.accessAllowed ? 'block' : 'none';\n",
              "\n",
              "        async function convertToInteractive(key) {\n",
              "          const element = document.querySelector('#df-5e30cad7-25f1-483e-a754-d43971718e4c');\n",
              "          const dataTable =\n",
              "            await google.colab.kernel.invokeFunction('convertToInteractive',\n",
              "                                                     [key], {});\n",
              "          if (!dataTable) return;\n",
              "\n",
              "          const docLinkHtml = 'Like what you see? Visit the ' +\n",
              "            '<a target=\"_blank\" href=https://colab.research.google.com/notebooks/data_table.ipynb>data table notebook</a>'\n",
              "            + ' to learn more about interactive tables.';\n",
              "          element.innerHTML = '';\n",
              "          dataTable['output_type'] = 'display_data';\n",
              "          await google.colab.output.renderOutput(dataTable, element);\n",
              "          const docLink = document.createElement('div');\n",
              "          docLink.innerHTML = docLinkHtml;\n",
              "          element.appendChild(docLink);\n",
              "        }\n",
              "      </script>\n",
              "    </div>\n",
              "  </div>\n",
              "  "
            ]
          },
          "metadata": {},
          "execution_count": 112
        }
      ],
      "source": [
        "df_ordered.head()"
      ]
    },
    {
      "cell_type": "code",
      "execution_count": 113,
      "id": "b21bae54",
      "metadata": {
        "id": "b21bae54",
        "outputId": "5a598b4d-9fa8-43af-8f1f-287945f37c45",
        "colab": {
          "base_uri": "https://localhost:8080/"
        }
      },
      "outputs": [
        {
          "output_type": "stream",
          "name": "stdout",
          "text": [
            "주문접수일시 85026\n",
            "주문번호 86920\n",
            "유입매체 5\n",
            "주문구분 2\n",
            "유입채널 533\n",
            "회원구분 5\n",
            "아이디 51325\n",
            "전시유입코드 3194\n",
            "상품주문번호 93320\n",
            "유형 1\n",
            "배송회수구분 1\n",
            "진행단계 2\n",
            "구매확정 1\n",
            "주문완료일시 85028\n",
            "구매확정일시 37929\n",
            "출고지시일 275\n",
            "예외처리구분 1\n",
            "상태처리일시 258\n",
            "전시상품명 2079\n",
            "전시단품명 479\n",
            "판매자상품번호 1583\n",
            "판매자상품명 2076\n",
            "판매자단품번호 2009\n",
            "판매자단품명 479\n",
            "판매가 1596\n",
            "수량 35\n",
            "표준카테고리 65\n",
            "판매액 2545\n",
            "주문월 9\n"
          ]
        }
      ],
      "source": [
        "for i in range(len(df_ordered.columns)):\n",
        "    print(df_ordered.columns[i], len(df_ordered[df_ordered.columns[i]].unique()))"
      ]
    },
    {
      "cell_type": "code",
      "execution_count": 114,
      "id": "ce997dbc",
      "metadata": {
        "id": "ce997dbc"
      },
      "outputs": [],
      "source": [
        "# 주문 확정된 상품에서 더 이상 필요하지 않은 변수를 삭제하였습니다.\n",
        "df_ordered.drop(['유형', '배송회수구분', '구매확정', '예외처리구분'], axis = 1, inplace=True)"
      ]
    },
    {
      "cell_type": "code",
      "execution_count": 115,
      "id": "2919ad41",
      "metadata": {
        "id": "2919ad41"
      },
      "outputs": [],
      "source": [
        "# 주문 확정된 상품 파일로 저장\n",
        "# df_ordered.to_csv('CJ제일제당 주문 데이터(전처리).csv')"
      ]
    },
    {
      "cell_type": "code",
      "execution_count": 181,
      "id": "2ceceaab",
      "metadata": {
        "id": "2ceceaab"
      },
      "outputs": [],
      "source": [
        "df = pd.read_csv(path+'CJ제일제당 주문 데이터(전처리).csv')"
      ]
    },
    {
      "cell_type": "markdown",
      "source": [
        "# 2. 월별로 구매 특징 분석하기"
      ],
      "metadata": {
        "id": "HGXZvyELfl-x"
      },
      "id": "HGXZvyELfl-x"
    },
    {
      "cell_type": "markdown",
      "source": [
        "## 1) 분석 용이해지도록 데이터 정리"
      ],
      "metadata": {
        "id": "ghkvYh3NkIt4"
      },
      "id": "ghkvYh3NkIt4"
    },
    {
      "cell_type": "code",
      "source": [
        "df['주문접수일시'] = pd.to_datetime(df['주문접수일시'], format = \"%Y-%m-%d %H:%M:%S\")"
      ],
      "metadata": {
        "id": "NtSHlE7QgoU7"
      },
      "id": "NtSHlE7QgoU7",
      "execution_count": 136,
      "outputs": []
    },
    {
      "cell_type": "code",
      "source": [
        "# 시간대 파악을 위한 변수 생성\n",
        "df['시간대'] = df['주문접수일시'].dt.hour\n",
        "df['시간대 대분류'] = '21 ~ 00'\n",
        "df.loc[(df['시간대'] >= 0) & (df['시간대'] < 3),'시간대 대분류'] = '00 ~ 03'\n",
        "df.loc[(df['시간대'] >= 3) & (df['시간대'] < 6),'시간대 대분류'] = '03 ~ 06'\n",
        "df.loc[(df['시간대'] >= 6) & (df['시간대'] < 9),'시간대 대분류'] = '06 ~ 09'\n",
        "df.loc[(df['시간대'] >= 9) & (df['시간대'] < 12),'시간대 대분류'] = '09 ~ 12'\n",
        "df.loc[(df['시간대'] >= 12) & (df['시간대'] < 15),'시간대 대분류'] = '12 ~ 15'\n",
        "df.loc[(df['시간대'] >= 15) & (df['시간대'] < 18),'시간대 대분류'] = '15 ~ 18'\n",
        "df.loc[(df['시간대'] >= 18) & (df['시간대'] < 21),'시간대 대분류'] = '18 ~ 21'"
      ],
      "metadata": {
        "id": "HNyMebx8f5_0"
      },
      "id": "HNyMebx8f5_0",
      "execution_count": 146,
      "outputs": []
    },
    {
      "cell_type": "code",
      "source": [
        "df['유입채널'].value_counts().head(20)"
      ],
      "metadata": {
        "colab": {
          "base_uri": "https://localhost:8080/"
        },
        "id": "pn1a0333g3-S",
        "outputId": "e9fee6f7-7546-4c6c-af4f-5f4f0983791e"
      },
      "id": "pn1a0333g3-S",
      "execution_count": 145,
      "outputs": [
        {
          "output_type": "execute_result",
          "data": {
            "text/plain": [
              "디폴트 채널상세                           58484\n",
              "유실 채널상세                            15562\n",
              "[네이버] PCS 가격비교_롯데ON                 7480\n",
              "[다음카카오] PCS 가격비교_롯데ON               1285\n",
              "[에누리] PCS 가격비교_롯데ON                 1256\n",
              "[모바일]다른앱공유하기                        1125\n",
              "[네이버] 키워드_쇼핑검색광고_롯데ON                924\n",
              "[모바일]카카오톡                            902\n",
              "[다나와] PCS 가격비교_롯데ON                  799\n",
              "[링크프라이스] CPS_롯데온                     340\n",
              "[롯데ON] MO Web 행사장_21.07_월간APP혜택      332\n",
              "[네이버] MO_브랜드검색_롯데ON                  306\n",
              "[구글] SA_롯데ON                         269\n",
              "[샵백] CPS제휴_매출_롯데ON                   255\n",
              "[네이버] PC_브랜드검색_롯데ON                  242\n",
              "[롯데ON][알림톡][[롯데ON] 주문 완료 안내]         219\n",
              "[모지세] CPS제휴_매출_롯데ON                  177\n",
              "[롯데ON][PUSH][실시간 BEST 🕠]             164\n",
              "[네이버] 키워드_롯데ON                       135\n",
              "[롯데ON][알림톡][[롯데ON] 상품 배송시작 안내]       134\n",
              "Name: 유입채널, dtype: int64"
            ]
          },
          "metadata": {},
          "execution_count": 145
        }
      ]
    },
    {
      "cell_type": "code",
      "source": [
        "#유입채널 변수가 너무 다양하고 손쉽게 파악이 되지 않아 많이 나오는 변수대로 키워드를 묶어주었습니다.\n",
        "df['유입채널 대분류'] = '기타 및 이벤트 광고'\n",
        "df.loc[((df['유입채널'] == '유실 채널상세') | (df['유입채널'] == '디폴트 채널상세')), '유입채널 대분류'] = 'CJ 앱/사이트'\n",
        "df.loc[df['유입채널'].str.contains('가격비교'), '유입채널 대분류'] = '가격비교'\n",
        "df.loc[df['유입채널'].str.contains('모바일'), '유입채널 대분류'] = '모바일 공유'\n",
        "df.loc[df['유입채널'].str.contains('검색'), '유입채널 대분류'] = '검색'"
      ],
      "metadata": {
        "id": "5AnYA9cTg2vo"
      },
      "id": "5AnYA9cTg2vo",
      "execution_count": 149,
      "outputs": []
    },
    {
      "cell_type": "code",
      "source": [
        "#잠시 파악하기 쉽게 변수를 한정하겠습니다.\n",
        "df = df[['주문접수일시', '주문번호', '유입채널 대분류', '시간대 대분류', '주문월', '아이디', '판매자상품명', '판매가', '표준카테고리']]"
      ],
      "metadata": {
        "id": "cvnHMqfdjJLt"
      },
      "id": "cvnHMqfdjJLt",
      "execution_count": 150,
      "outputs": []
    },
    {
      "cell_type": "code",
      "source": [
        "df.head()"
      ],
      "metadata": {
        "colab": {
          "base_uri": "https://localhost:8080/",
          "height": 250
        },
        "id": "Q9TVYk25jfDm",
        "outputId": "14cb4889-fe2d-4ee2-a40c-b4fa204fc13a"
      },
      "id": "Q9TVYk25jfDm",
      "execution_count": 151,
      "outputs": [
        {
          "output_type": "execute_result",
          "data": {
            "text/plain": [
              "               주문접수일시              주문번호  유입채널 대분류  시간대 대분류  주문월       아이디  \\\n",
              "0 2022-01-01 00:38:13  2022010111866840      가격비교  00 ~ 03    1  kim6****   \n",
              "1 2022-01-01 02:54:53  2022010111873730  CJ 앱/사이트  00 ~ 03    1  savi****   \n",
              "2 2022-01-01 02:56:35  2022010111873770  CJ 앱/사이트  00 ~ 03    1  savi****   \n",
              "3 2022-01-01 04:35:17  2022010111875630      가격비교  03 ~ 06    1  happ****   \n",
              "4 2022-01-01 08:00:37  2022010111879670  CJ 앱/사이트  06 ~ 09    1  cats****   \n",
              "\n",
              "                   판매자상품명    판매가                      표준카테고리  \n",
              "0    CJ 다담 된장찌개양념 530G x3  16240       가공식품 > 장류 > 된장/쌈장/청국장  \n",
              "1        비비고 국물요리 BEST 9종  33240  냉장/냉동/간편식 > 즉석밥/죽/스프 > 즉석밥  \n",
              "2        비비고 국물요리 BEST 9종  33240  냉장/냉동/간편식 > 즉석밥/죽/스프 > 즉석밥  \n",
              "3  CJ 다담 된장찌개양념 530G X 4개  21660       가공식품 > 장류 > 된장/쌈장/청국장  \n",
              "4     비비고 남도식 추어탕 460Gx5개  23680    냉장/냉동/간편식 > 국/탕/찌개 > 국/탕  "
            ],
            "text/html": [
              "\n",
              "  <div id=\"df-2a64e2bc-dfdc-465f-a3a1-b9b20e67993c\">\n",
              "    <div class=\"colab-df-container\">\n",
              "      <div>\n",
              "<style scoped>\n",
              "    .dataframe tbody tr th:only-of-type {\n",
              "        vertical-align: middle;\n",
              "    }\n",
              "\n",
              "    .dataframe tbody tr th {\n",
              "        vertical-align: top;\n",
              "    }\n",
              "\n",
              "    .dataframe thead th {\n",
              "        text-align: right;\n",
              "    }\n",
              "</style>\n",
              "<table border=\"1\" class=\"dataframe\">\n",
              "  <thead>\n",
              "    <tr style=\"text-align: right;\">\n",
              "      <th></th>\n",
              "      <th>주문접수일시</th>\n",
              "      <th>주문번호</th>\n",
              "      <th>유입채널 대분류</th>\n",
              "      <th>시간대 대분류</th>\n",
              "      <th>주문월</th>\n",
              "      <th>아이디</th>\n",
              "      <th>판매자상품명</th>\n",
              "      <th>판매가</th>\n",
              "      <th>표준카테고리</th>\n",
              "    </tr>\n",
              "  </thead>\n",
              "  <tbody>\n",
              "    <tr>\n",
              "      <th>0</th>\n",
              "      <td>2022-01-01 00:38:13</td>\n",
              "      <td>2022010111866840</td>\n",
              "      <td>가격비교</td>\n",
              "      <td>00 ~ 03</td>\n",
              "      <td>1</td>\n",
              "      <td>kim6****</td>\n",
              "      <td>CJ 다담 된장찌개양념 530G x3</td>\n",
              "      <td>16240</td>\n",
              "      <td>가공식품 &gt; 장류 &gt; 된장/쌈장/청국장</td>\n",
              "    </tr>\n",
              "    <tr>\n",
              "      <th>1</th>\n",
              "      <td>2022-01-01 02:54:53</td>\n",
              "      <td>2022010111873730</td>\n",
              "      <td>CJ 앱/사이트</td>\n",
              "      <td>00 ~ 03</td>\n",
              "      <td>1</td>\n",
              "      <td>savi****</td>\n",
              "      <td>비비고 국물요리 BEST 9종</td>\n",
              "      <td>33240</td>\n",
              "      <td>냉장/냉동/간편식 &gt; 즉석밥/죽/스프 &gt; 즉석밥</td>\n",
              "    </tr>\n",
              "    <tr>\n",
              "      <th>2</th>\n",
              "      <td>2022-01-01 02:56:35</td>\n",
              "      <td>2022010111873770</td>\n",
              "      <td>CJ 앱/사이트</td>\n",
              "      <td>00 ~ 03</td>\n",
              "      <td>1</td>\n",
              "      <td>savi****</td>\n",
              "      <td>비비고 국물요리 BEST 9종</td>\n",
              "      <td>33240</td>\n",
              "      <td>냉장/냉동/간편식 &gt; 즉석밥/죽/스프 &gt; 즉석밥</td>\n",
              "    </tr>\n",
              "    <tr>\n",
              "      <th>3</th>\n",
              "      <td>2022-01-01 04:35:17</td>\n",
              "      <td>2022010111875630</td>\n",
              "      <td>가격비교</td>\n",
              "      <td>03 ~ 06</td>\n",
              "      <td>1</td>\n",
              "      <td>happ****</td>\n",
              "      <td>CJ 다담 된장찌개양념 530G X 4개</td>\n",
              "      <td>21660</td>\n",
              "      <td>가공식품 &gt; 장류 &gt; 된장/쌈장/청국장</td>\n",
              "    </tr>\n",
              "    <tr>\n",
              "      <th>4</th>\n",
              "      <td>2022-01-01 08:00:37</td>\n",
              "      <td>2022010111879670</td>\n",
              "      <td>CJ 앱/사이트</td>\n",
              "      <td>06 ~ 09</td>\n",
              "      <td>1</td>\n",
              "      <td>cats****</td>\n",
              "      <td>비비고 남도식 추어탕 460Gx5개</td>\n",
              "      <td>23680</td>\n",
              "      <td>냉장/냉동/간편식 &gt; 국/탕/찌개 &gt; 국/탕</td>\n",
              "    </tr>\n",
              "  </tbody>\n",
              "</table>\n",
              "</div>\n",
              "      <button class=\"colab-df-convert\" onclick=\"convertToInteractive('df-2a64e2bc-dfdc-465f-a3a1-b9b20e67993c')\"\n",
              "              title=\"Convert this dataframe to an interactive table.\"\n",
              "              style=\"display:none;\">\n",
              "        \n",
              "  <svg xmlns=\"http://www.w3.org/2000/svg\" height=\"24px\"viewBox=\"0 0 24 24\"\n",
              "       width=\"24px\">\n",
              "    <path d=\"M0 0h24v24H0V0z\" fill=\"none\"/>\n",
              "    <path d=\"M18.56 5.44l.94 2.06.94-2.06 2.06-.94-2.06-.94-.94-2.06-.94 2.06-2.06.94zm-11 1L8.5 8.5l.94-2.06 2.06-.94-2.06-.94L8.5 2.5l-.94 2.06-2.06.94zm10 10l.94 2.06.94-2.06 2.06-.94-2.06-.94-.94-2.06-.94 2.06-2.06.94z\"/><path d=\"M17.41 7.96l-1.37-1.37c-.4-.4-.92-.59-1.43-.59-.52 0-1.04.2-1.43.59L10.3 9.45l-7.72 7.72c-.78.78-.78 2.05 0 2.83L4 21.41c.39.39.9.59 1.41.59.51 0 1.02-.2 1.41-.59l7.78-7.78 2.81-2.81c.8-.78.8-2.07 0-2.86zM5.41 20L4 18.59l7.72-7.72 1.47 1.35L5.41 20z\"/>\n",
              "  </svg>\n",
              "      </button>\n",
              "      \n",
              "  <style>\n",
              "    .colab-df-container {\n",
              "      display:flex;\n",
              "      flex-wrap:wrap;\n",
              "      gap: 12px;\n",
              "    }\n",
              "\n",
              "    .colab-df-convert {\n",
              "      background-color: #E8F0FE;\n",
              "      border: none;\n",
              "      border-radius: 50%;\n",
              "      cursor: pointer;\n",
              "      display: none;\n",
              "      fill: #1967D2;\n",
              "      height: 32px;\n",
              "      padding: 0 0 0 0;\n",
              "      width: 32px;\n",
              "    }\n",
              "\n",
              "    .colab-df-convert:hover {\n",
              "      background-color: #E2EBFA;\n",
              "      box-shadow: 0px 1px 2px rgba(60, 64, 67, 0.3), 0px 1px 3px 1px rgba(60, 64, 67, 0.15);\n",
              "      fill: #174EA6;\n",
              "    }\n",
              "\n",
              "    [theme=dark] .colab-df-convert {\n",
              "      background-color: #3B4455;\n",
              "      fill: #D2E3FC;\n",
              "    }\n",
              "\n",
              "    [theme=dark] .colab-df-convert:hover {\n",
              "      background-color: #434B5C;\n",
              "      box-shadow: 0px 1px 3px 1px rgba(0, 0, 0, 0.15);\n",
              "      filter: drop-shadow(0px 1px 2px rgba(0, 0, 0, 0.3));\n",
              "      fill: #FFFFFF;\n",
              "    }\n",
              "  </style>\n",
              "\n",
              "      <script>\n",
              "        const buttonEl =\n",
              "          document.querySelector('#df-2a64e2bc-dfdc-465f-a3a1-b9b20e67993c button.colab-df-convert');\n",
              "        buttonEl.style.display =\n",
              "          google.colab.kernel.accessAllowed ? 'block' : 'none';\n",
              "\n",
              "        async function convertToInteractive(key) {\n",
              "          const element = document.querySelector('#df-2a64e2bc-dfdc-465f-a3a1-b9b20e67993c');\n",
              "          const dataTable =\n",
              "            await google.colab.kernel.invokeFunction('convertToInteractive',\n",
              "                                                     [key], {});\n",
              "          if (!dataTable) return;\n",
              "\n",
              "          const docLinkHtml = 'Like what you see? Visit the ' +\n",
              "            '<a target=\"_blank\" href=https://colab.research.google.com/notebooks/data_table.ipynb>data table notebook</a>'\n",
              "            + ' to learn more about interactive tables.';\n",
              "          element.innerHTML = '';\n",
              "          dataTable['output_type'] = 'display_data';\n",
              "          await google.colab.output.renderOutput(dataTable, element);\n",
              "          const docLink = document.createElement('div');\n",
              "          docLink.innerHTML = docLinkHtml;\n",
              "          element.appendChild(docLink);\n",
              "        }\n",
              "      </script>\n",
              "    </div>\n",
              "  </div>\n",
              "  "
            ]
          },
          "metadata": {},
          "execution_count": 151
        }
      ]
    },
    {
      "cell_type": "code",
      "source": [
        "#월별로 데이터 나누기\n",
        "df_1 = df[df['주문월'] == 1]\n",
        "df_2 = df[df['주문월'] == 2]\n",
        "df_3 = df[df['주문월'] == 3]\n",
        "df_4 = df[df['주문월'] == 4]\n",
        "df_5 = df[df['주문월'] == 5]\n",
        "df_6 = df[df['주문월'] == 6]\n",
        "df_7 = df[df['주문월'] == 7]\n",
        "df_8 = df[df['주문월'] == 8]\n",
        "df_9 = df[df['주문월'] == 9]"
      ],
      "metadata": {
        "id": "g5pO-3d_jhiv"
      },
      "id": "g5pO-3d_jhiv",
      "execution_count": 152,
      "outputs": []
    },
    {
      "cell_type": "markdown",
      "source": [
        "## 2) 1월 분석하기"
      ],
      "metadata": {
        "id": "YlVOttscj0jh"
      },
      "id": "YlVOttscj0jh"
    },
    {
      "cell_type": "code",
      "source": [
        "df_1['판매자상품명'].value_counts().head(10)\n",
        "sns.countplot(y='판매자상품명', data=df_1, order=[df_1['판매자상품명'].value_counts().head(10).index[i] for i in range(0,10)])"
      ],
      "metadata": {
        "colab": {
          "base_uri": "https://localhost:8080/",
          "height": 1000
        },
        "id": "LQ07c6DUjy2H",
        "outputId": "d7854ffa-dcf5-4daf-9b51-46f40af0a20c"
      },
      "id": "LQ07c6DUjy2H",
      "execution_count": 157,
      "outputs": [
        {
          "output_type": "execute_result",
          "data": {
            "text/plain": [
              "<matplotlib.axes._subplots.AxesSubplot at 0x7f2e0df97c50>"
            ]
          },
          "metadata": {},
          "execution_count": 157
        },
        {
          "output_type": "stream",
          "name": "stderr",
          "text": [
            "/usr/local/lib/python3.7/dist-packages/matplotlib/backends/backend_agg.py:214: RuntimeWarning: Glyph 51649 missing from current font.\n",
            "  font.set_text(s, 0.0, flags=flags)\n",
            "/usr/local/lib/python3.7/dist-packages/matplotlib/backends/backend_agg.py:214: RuntimeWarning: Glyph 48176 missing from current font.\n",
            "  font.set_text(s, 0.0, flags=flags)\n",
            "/usr/local/lib/python3.7/dist-packages/matplotlib/backends/backend_agg.py:214: RuntimeWarning: Glyph 49569 missing from current font.\n",
            "  font.set_text(s, 0.0, flags=flags)\n",
            "/usr/local/lib/python3.7/dist-packages/matplotlib/backends/backend_agg.py:214: RuntimeWarning: Glyph 48708 missing from current font.\n",
            "  font.set_text(s, 0.0, flags=flags)\n",
            "/usr/local/lib/python3.7/dist-packages/matplotlib/backends/backend_agg.py:214: RuntimeWarning: Glyph 44256 missing from current font.\n",
            "  font.set_text(s, 0.0, flags=flags)\n",
            "/usr/local/lib/python3.7/dist-packages/matplotlib/backends/backend_agg.py:214: RuntimeWarning: Glyph 50773 missing from current font.\n",
            "  font.set_text(s, 0.0, flags=flags)\n",
            "/usr/local/lib/python3.7/dist-packages/matplotlib/backends/backend_agg.py:214: RuntimeWarning: Glyph 44368 missing from current font.\n",
            "  font.set_text(s, 0.0, flags=flags)\n",
            "/usr/local/lib/python3.7/dist-packages/matplotlib/backends/backend_agg.py:214: RuntimeWarning: Glyph 51088 missing from current font.\n",
            "  font.set_text(s, 0.0, flags=flags)\n",
            "/usr/local/lib/python3.7/dist-packages/matplotlib/backends/backend_agg.py:214: RuntimeWarning: Glyph 44060 missing from current font.\n",
            "  font.set_text(s, 0.0, flags=flags)\n",
            "/usr/local/lib/python3.7/dist-packages/matplotlib/backends/backend_agg.py:214: RuntimeWarning: Glyph 49324 missing from current font.\n",
            "  font.set_text(s, 0.0, flags=flags)\n",
            "/usr/local/lib/python3.7/dist-packages/matplotlib/backends/backend_agg.py:214: RuntimeWarning: Glyph 44264 missing from current font.\n",
            "  font.set_text(s, 0.0, flags=flags)\n",
            "/usr/local/lib/python3.7/dist-packages/matplotlib/backends/backend_agg.py:214: RuntimeWarning: Glyph 44272 missing from current font.\n",
            "  font.set_text(s, 0.0, flags=flags)\n",
            "/usr/local/lib/python3.7/dist-packages/matplotlib/backends/backend_agg.py:214: RuntimeWarning: Glyph 53461 missing from current font.\n",
            "  font.set_text(s, 0.0, flags=flags)\n",
            "/usr/local/lib/python3.7/dist-packages/matplotlib/backends/backend_agg.py:214: RuntimeWarning: Glyph 48393 missing from current font.\n",
            "  font.set_text(s, 0.0, flags=flags)\n",
            "/usr/local/lib/python3.7/dist-packages/matplotlib/backends/backend_agg.py:214: RuntimeWarning: Glyph 54252 missing from current font.\n",
            "  font.set_text(s, 0.0, flags=flags)\n",
            "/usr/local/lib/python3.7/dist-packages/matplotlib/backends/backend_agg.py:214: RuntimeWarning: Glyph 46020 missing from current font.\n",
            "  font.set_text(s, 0.0, flags=flags)\n",
            "/usr/local/lib/python3.7/dist-packages/matplotlib/backends/backend_agg.py:214: RuntimeWarning: Glyph 50472 missing from current font.\n",
            "  font.set_text(s, 0.0, flags=flags)\n",
            "/usr/local/lib/python3.7/dist-packages/matplotlib/backends/backend_agg.py:214: RuntimeWarning: Glyph 50976 missing from current font.\n",
            "  font.set_text(s, 0.0, flags=flags)\n",
            "/usr/local/lib/python3.7/dist-packages/matplotlib/backends/backend_agg.py:214: RuntimeWarning: Glyph 45796 missing from current font.\n",
            "  font.set_text(s, 0.0, flags=flags)\n",
            "/usr/local/lib/python3.7/dist-packages/matplotlib/backends/backend_agg.py:214: RuntimeWarning: Glyph 45812 missing from current font.\n",
            "  font.set_text(s, 0.0, flags=flags)\n",
            "/usr/local/lib/python3.7/dist-packages/matplotlib/backends/backend_agg.py:214: RuntimeWarning: Glyph 46108 missing from current font.\n",
            "  font.set_text(s, 0.0, flags=flags)\n",
            "/usr/local/lib/python3.7/dist-packages/matplotlib/backends/backend_agg.py:214: RuntimeWarning: Glyph 51109 missing from current font.\n",
            "  font.set_text(s, 0.0, flags=flags)\n",
            "/usr/local/lib/python3.7/dist-packages/matplotlib/backends/backend_agg.py:214: RuntimeWarning: Glyph 52236 missing from current font.\n",
            "  font.set_text(s, 0.0, flags=flags)\n",
            "/usr/local/lib/python3.7/dist-packages/matplotlib/backends/backend_agg.py:214: RuntimeWarning: Glyph 50577 missing from current font.\n",
            "  font.set_text(s, 0.0, flags=flags)\n",
            "/usr/local/lib/python3.7/dist-packages/matplotlib/backends/backend_agg.py:214: RuntimeWarning: Glyph 45392 missing from current font.\n",
            "  font.set_text(s, 0.0, flags=flags)\n",
            "/usr/local/lib/python3.7/dist-packages/matplotlib/backends/backend_agg.py:214: RuntimeWarning: Glyph 45380 missing from current font.\n",
            "  font.set_text(s, 0.0, flags=flags)\n",
            "/usr/local/lib/python3.7/dist-packages/matplotlib/backends/backend_agg.py:214: RuntimeWarning: Glyph 49444 missing from current font.\n",
            "  font.set_text(s, 0.0, flags=flags)\n",
            "/usr/local/lib/python3.7/dist-packages/matplotlib/backends/backend_agg.py:214: RuntimeWarning: Glyph 49440 missing from current font.\n",
            "  font.set_text(s, 0.0, flags=flags)\n",
            "/usr/local/lib/python3.7/dist-packages/matplotlib/backends/backend_agg.py:214: RuntimeWarning: Glyph 47932 missing from current font.\n",
            "  font.set_text(s, 0.0, flags=flags)\n",
            "/usr/local/lib/python3.7/dist-packages/matplotlib/backends/backend_agg.py:214: RuntimeWarning: Glyph 49464 missing from current font.\n",
            "  font.set_text(s, 0.0, flags=flags)\n",
            "/usr/local/lib/python3.7/dist-packages/matplotlib/backends/backend_agg.py:214: RuntimeWarning: Glyph 53944 missing from current font.\n",
            "  font.set_text(s, 0.0, flags=flags)\n",
            "/usr/local/lib/python3.7/dist-packages/matplotlib/backends/backend_agg.py:214: RuntimeWarning: Glyph 49828 missing from current font.\n",
            "  font.set_text(s, 0.0, flags=flags)\n",
            "/usr/local/lib/python3.7/dist-packages/matplotlib/backends/backend_agg.py:214: RuntimeWarning: Glyph 54072 missing from current font.\n",
            "  font.set_text(s, 0.0, flags=flags)\n",
            "/usr/local/lib/python3.7/dist-packages/matplotlib/backends/backend_agg.py:214: RuntimeWarning: Glyph 47560 missing from current font.\n",
            "  font.set_text(s, 0.0, flags=flags)\n",
            "/usr/local/lib/python3.7/dist-packages/matplotlib/backends/backend_agg.py:214: RuntimeWarning: Glyph 51068 missing from current font.\n",
            "  font.set_text(s, 0.0, flags=flags)\n",
            "/usr/local/lib/python3.7/dist-packages/matplotlib/backends/backend_agg.py:214: RuntimeWarning: Glyph 46300 missing from current font.\n",
            "  font.set_text(s, 0.0, flags=flags)\n",
            "/usr/local/lib/python3.7/dist-packages/matplotlib/backends/backend_agg.py:214: RuntimeWarning: Glyph 54840 missing from current font.\n",
            "  font.set_text(s, 0.0, flags=flags)\n",
            "/usr/local/lib/python3.7/dist-packages/matplotlib/backends/backend_agg.py:214: RuntimeWarning: Glyph 53945 missing from current font.\n",
            "  font.set_text(s, 0.0, flags=flags)\n",
            "/usr/local/lib/python3.7/dist-packages/matplotlib/backends/backend_agg.py:214: RuntimeWarning: Glyph 48324 missing from current font.\n",
            "  font.set_text(s, 0.0, flags=flags)\n",
            "/usr/local/lib/python3.7/dist-packages/matplotlib/backends/backend_agg.py:214: RuntimeWarning: Glyph 54620 missing from current font.\n",
            "  font.set_text(s, 0.0, flags=flags)\n",
            "/usr/local/lib/python3.7/dist-packages/matplotlib/backends/backend_agg.py:214: RuntimeWarning: Glyph 53469 missing from current font.\n",
            "  font.set_text(s, 0.0, flags=flags)\n",
            "/usr/local/lib/python3.7/dist-packages/matplotlib/backends/backend_agg.py:214: RuntimeWarning: Glyph 45908 missing from current font.\n",
            "  font.set_text(s, 0.0, flags=flags)\n",
            "/usr/local/lib/python3.7/dist-packages/matplotlib/backends/backend_agg.py:214: RuntimeWarning: Glyph 44148 missing from current font.\n",
            "  font.set_text(s, 0.0, flags=flags)\n",
            "/usr/local/lib/python3.7/dist-packages/matplotlib/backends/backend_agg.py:214: RuntimeWarning: Glyph 44053 missing from current font.\n",
            "  font.set_text(s, 0.0, flags=flags)\n",
            "/usr/local/lib/python3.7/dist-packages/matplotlib/backends/backend_agg.py:214: RuntimeWarning: Glyph 45805 missing from current font.\n",
            "  font.set_text(s, 0.0, flags=flags)\n",
            "/usr/local/lib/python3.7/dist-packages/matplotlib/backends/backend_agg.py:214: RuntimeWarning: Glyph 44032 missing from current font.\n",
            "  font.set_text(s, 0.0, flags=flags)\n",
            "/usr/local/lib/python3.7/dist-packages/matplotlib/backends/backend_agg.py:214: RuntimeWarning: Glyph 49844 missing from current font.\n",
            "  font.set_text(s, 0.0, flags=flags)\n",
            "/usr/local/lib/python3.7/dist-packages/matplotlib/backends/backend_agg.py:214: RuntimeWarning: Glyph 49332 missing from current font.\n",
            "  font.set_text(s, 0.0, flags=flags)\n",
            "/usr/local/lib/python3.7/dist-packages/matplotlib/backends/backend_agg.py:214: RuntimeWarning: Glyph 54868 missing from current font.\n",
            "  font.set_text(s, 0.0, flags=flags)\n",
            "/usr/local/lib/python3.7/dist-packages/matplotlib/backends/backend_agg.py:214: RuntimeWarning: Glyph 53685 missing from current font.\n",
            "  font.set_text(s, 0.0, flags=flags)\n",
            "/usr/local/lib/python3.7/dist-packages/matplotlib/backends/backend_agg.py:214: RuntimeWarning: Glyph 44396 missing from current font.\n",
            "  font.set_text(s, 0.0, flags=flags)\n",
            "/usr/local/lib/python3.7/dist-packages/matplotlib/backends/backend_agg.py:214: RuntimeWarning: Glyph 51060 missing from current font.\n",
            "  font.set_text(s, 0.0, flags=flags)\n",
            "/usr/local/lib/python3.7/dist-packages/matplotlib/backends/backend_agg.py:214: RuntimeWarning: Glyph 47215 missing from current font.\n",
            "  font.set_text(s, 0.0, flags=flags)\n",
            "/usr/local/lib/python3.7/dist-packages/matplotlib/backends/backend_agg.py:214: RuntimeWarning: Glyph 45936 missing from current font.\n",
            "  font.set_text(s, 0.0, flags=flags)\n",
            "/usr/local/lib/python3.7/dist-packages/matplotlib/backends/backend_agg.py:214: RuntimeWarning: Glyph 47700 missing from current font.\n",
            "  font.set_text(s, 0.0, flags=flags)\n",
            "/usr/local/lib/python3.7/dist-packages/matplotlib/backends/backend_agg.py:214: RuntimeWarning: Glyph 51473 missing from current font.\n",
            "  font.set_text(s, 0.0, flags=flags)\n",
            "/usr/local/lib/python3.7/dist-packages/matplotlib/backends/backend_agg.py:214: RuntimeWarning: Glyph 51692 missing from current font.\n",
            "  font.set_text(s, 0.0, flags=flags)\n",
            "/usr/local/lib/python3.7/dist-packages/matplotlib/backends/backend_agg.py:214: RuntimeWarning: Glyph 48981 missing from current font.\n",
            "  font.set_text(s, 0.0, flags=flags)\n",
            "/usr/local/lib/python3.7/dist-packages/matplotlib/backends/backend_agg.py:214: RuntimeWarning: Glyph 49548 missing from current font.\n",
            "  font.set_text(s, 0.0, flags=flags)\n",
            "/usr/local/lib/python3.7/dist-packages/matplotlib/backends/backend_agg.py:214: RuntimeWarning: Glyph 44592 missing from current font.\n",
            "  font.set_text(s, 0.0, flags=flags)\n",
            "/usr/local/lib/python3.7/dist-packages/matplotlib/backends/backend_agg.py:214: RuntimeWarning: Glyph 51312 missing from current font.\n",
            "  font.set_text(s, 0.0, flags=flags)\n",
            "/usr/local/lib/python3.7/dist-packages/matplotlib/backends/backend_agg.py:214: RuntimeWarning: Glyph 47548 missing from current font.\n",
            "  font.set_text(s, 0.0, flags=flags)\n",
            "/usr/local/lib/python3.7/dist-packages/matplotlib/backends/backend_agg.py:214: RuntimeWarning: Glyph 54632 missing from current font.\n",
            "  font.set_text(s, 0.0, flags=flags)\n",
            "/usr/local/lib/python3.7/dist-packages/matplotlib/backends/backend_agg.py:214: RuntimeWarning: Glyph 48149 missing from current font.\n",
            "  font.set_text(s, 0.0, flags=flags)\n",
            "/usr/local/lib/python3.7/dist-packages/matplotlib/backends/backend_agg.py:214: RuntimeWarning: Glyph 53580 missing from current font.\n",
            "  font.set_text(s, 0.0, flags=flags)\n",
            "/usr/local/lib/python3.7/dist-packages/matplotlib/backends/backend_agg.py:214: RuntimeWarning: Glyph 53356 missing from current font.\n",
            "  font.set_text(s, 0.0, flags=flags)\n",
            "/usr/local/lib/python3.7/dist-packages/matplotlib/backends/backend_agg.py:183: RuntimeWarning: Glyph 51649 missing from current font.\n",
            "  font.set_text(s, 0, flags=flags)\n",
            "/usr/local/lib/python3.7/dist-packages/matplotlib/backends/backend_agg.py:183: RuntimeWarning: Glyph 48176 missing from current font.\n",
            "  font.set_text(s, 0, flags=flags)\n",
            "/usr/local/lib/python3.7/dist-packages/matplotlib/backends/backend_agg.py:183: RuntimeWarning: Glyph 49569 missing from current font.\n",
            "  font.set_text(s, 0, flags=flags)\n",
            "/usr/local/lib/python3.7/dist-packages/matplotlib/backends/backend_agg.py:183: RuntimeWarning: Glyph 48708 missing from current font.\n",
            "  font.set_text(s, 0, flags=flags)\n",
            "/usr/local/lib/python3.7/dist-packages/matplotlib/backends/backend_agg.py:183: RuntimeWarning: Glyph 44256 missing from current font.\n",
            "  font.set_text(s, 0, flags=flags)\n",
            "/usr/local/lib/python3.7/dist-packages/matplotlib/backends/backend_agg.py:183: RuntimeWarning: Glyph 50773 missing from current font.\n",
            "  font.set_text(s, 0, flags=flags)\n",
            "/usr/local/lib/python3.7/dist-packages/matplotlib/backends/backend_agg.py:183: RuntimeWarning: Glyph 44368 missing from current font.\n",
            "  font.set_text(s, 0, flags=flags)\n",
            "/usr/local/lib/python3.7/dist-packages/matplotlib/backends/backend_agg.py:183: RuntimeWarning: Glyph 51088 missing from current font.\n",
            "  font.set_text(s, 0, flags=flags)\n",
            "/usr/local/lib/python3.7/dist-packages/matplotlib/backends/backend_agg.py:183: RuntimeWarning: Glyph 44060 missing from current font.\n",
            "  font.set_text(s, 0, flags=flags)\n",
            "/usr/local/lib/python3.7/dist-packages/matplotlib/backends/backend_agg.py:183: RuntimeWarning: Glyph 49324 missing from current font.\n",
            "  font.set_text(s, 0, flags=flags)\n",
            "/usr/local/lib/python3.7/dist-packages/matplotlib/backends/backend_agg.py:183: RuntimeWarning: Glyph 44264 missing from current font.\n",
            "  font.set_text(s, 0, flags=flags)\n",
            "/usr/local/lib/python3.7/dist-packages/matplotlib/backends/backend_agg.py:183: RuntimeWarning: Glyph 44272 missing from current font.\n",
            "  font.set_text(s, 0, flags=flags)\n",
            "/usr/local/lib/python3.7/dist-packages/matplotlib/backends/backend_agg.py:183: RuntimeWarning: Glyph 53461 missing from current font.\n",
            "  font.set_text(s, 0, flags=flags)\n",
            "/usr/local/lib/python3.7/dist-packages/matplotlib/backends/backend_agg.py:183: RuntimeWarning: Glyph 48393 missing from current font.\n",
            "  font.set_text(s, 0, flags=flags)\n",
            "/usr/local/lib/python3.7/dist-packages/matplotlib/backends/backend_agg.py:183: RuntimeWarning: Glyph 54252 missing from current font.\n",
            "  font.set_text(s, 0, flags=flags)\n",
            "/usr/local/lib/python3.7/dist-packages/matplotlib/backends/backend_agg.py:183: RuntimeWarning: Glyph 46020 missing from current font.\n",
            "  font.set_text(s, 0, flags=flags)\n",
            "/usr/local/lib/python3.7/dist-packages/matplotlib/backends/backend_agg.py:183: RuntimeWarning: Glyph 50472 missing from current font.\n",
            "  font.set_text(s, 0, flags=flags)\n",
            "/usr/local/lib/python3.7/dist-packages/matplotlib/backends/backend_agg.py:183: RuntimeWarning: Glyph 50976 missing from current font.\n",
            "  font.set_text(s, 0, flags=flags)\n",
            "/usr/local/lib/python3.7/dist-packages/matplotlib/backends/backend_agg.py:183: RuntimeWarning: Glyph 45796 missing from current font.\n",
            "  font.set_text(s, 0, flags=flags)\n",
            "/usr/local/lib/python3.7/dist-packages/matplotlib/backends/backend_agg.py:183: RuntimeWarning: Glyph 45812 missing from current font.\n",
            "  font.set_text(s, 0, flags=flags)\n",
            "/usr/local/lib/python3.7/dist-packages/matplotlib/backends/backend_agg.py:183: RuntimeWarning: Glyph 46108 missing from current font.\n",
            "  font.set_text(s, 0, flags=flags)\n",
            "/usr/local/lib/python3.7/dist-packages/matplotlib/backends/backend_agg.py:183: RuntimeWarning: Glyph 51109 missing from current font.\n",
            "  font.set_text(s, 0, flags=flags)\n",
            "/usr/local/lib/python3.7/dist-packages/matplotlib/backends/backend_agg.py:183: RuntimeWarning: Glyph 52236 missing from current font.\n",
            "  font.set_text(s, 0, flags=flags)\n",
            "/usr/local/lib/python3.7/dist-packages/matplotlib/backends/backend_agg.py:183: RuntimeWarning: Glyph 50577 missing from current font.\n",
            "  font.set_text(s, 0, flags=flags)\n",
            "/usr/local/lib/python3.7/dist-packages/matplotlib/backends/backend_agg.py:183: RuntimeWarning: Glyph 45392 missing from current font.\n",
            "  font.set_text(s, 0, flags=flags)\n",
            "/usr/local/lib/python3.7/dist-packages/matplotlib/backends/backend_agg.py:183: RuntimeWarning: Glyph 45380 missing from current font.\n",
            "  font.set_text(s, 0, flags=flags)\n",
            "/usr/local/lib/python3.7/dist-packages/matplotlib/backends/backend_agg.py:183: RuntimeWarning: Glyph 49444 missing from current font.\n",
            "  font.set_text(s, 0, flags=flags)\n",
            "/usr/local/lib/python3.7/dist-packages/matplotlib/backends/backend_agg.py:183: RuntimeWarning: Glyph 49440 missing from current font.\n",
            "  font.set_text(s, 0, flags=flags)\n",
            "/usr/local/lib/python3.7/dist-packages/matplotlib/backends/backend_agg.py:183: RuntimeWarning: Glyph 47932 missing from current font.\n",
            "  font.set_text(s, 0, flags=flags)\n",
            "/usr/local/lib/python3.7/dist-packages/matplotlib/backends/backend_agg.py:183: RuntimeWarning: Glyph 49464 missing from current font.\n",
            "  font.set_text(s, 0, flags=flags)\n",
            "/usr/local/lib/python3.7/dist-packages/matplotlib/backends/backend_agg.py:183: RuntimeWarning: Glyph 53944 missing from current font.\n",
            "  font.set_text(s, 0, flags=flags)\n",
            "/usr/local/lib/python3.7/dist-packages/matplotlib/backends/backend_agg.py:183: RuntimeWarning: Glyph 49828 missing from current font.\n",
            "  font.set_text(s, 0, flags=flags)\n",
            "/usr/local/lib/python3.7/dist-packages/matplotlib/backends/backend_agg.py:183: RuntimeWarning: Glyph 54072 missing from current font.\n",
            "  font.set_text(s, 0, flags=flags)\n",
            "/usr/local/lib/python3.7/dist-packages/matplotlib/backends/backend_agg.py:183: RuntimeWarning: Glyph 47560 missing from current font.\n",
            "  font.set_text(s, 0, flags=flags)\n",
            "/usr/local/lib/python3.7/dist-packages/matplotlib/backends/backend_agg.py:183: RuntimeWarning: Glyph 51068 missing from current font.\n",
            "  font.set_text(s, 0, flags=flags)\n",
            "/usr/local/lib/python3.7/dist-packages/matplotlib/backends/backend_agg.py:183: RuntimeWarning: Glyph 46300 missing from current font.\n",
            "  font.set_text(s, 0, flags=flags)\n",
            "/usr/local/lib/python3.7/dist-packages/matplotlib/backends/backend_agg.py:183: RuntimeWarning: Glyph 54840 missing from current font.\n",
            "  font.set_text(s, 0, flags=flags)\n",
            "/usr/local/lib/python3.7/dist-packages/matplotlib/backends/backend_agg.py:183: RuntimeWarning: Glyph 53945 missing from current font.\n",
            "  font.set_text(s, 0, flags=flags)\n",
            "/usr/local/lib/python3.7/dist-packages/matplotlib/backends/backend_agg.py:183: RuntimeWarning: Glyph 48324 missing from current font.\n",
            "  font.set_text(s, 0, flags=flags)\n",
            "/usr/local/lib/python3.7/dist-packages/matplotlib/backends/backend_agg.py:183: RuntimeWarning: Glyph 54620 missing from current font.\n",
            "  font.set_text(s, 0, flags=flags)\n",
            "/usr/local/lib/python3.7/dist-packages/matplotlib/backends/backend_agg.py:183: RuntimeWarning: Glyph 53469 missing from current font.\n",
            "  font.set_text(s, 0, flags=flags)\n",
            "/usr/local/lib/python3.7/dist-packages/matplotlib/backends/backend_agg.py:183: RuntimeWarning: Glyph 45908 missing from current font.\n",
            "  font.set_text(s, 0, flags=flags)\n",
            "/usr/local/lib/python3.7/dist-packages/matplotlib/backends/backend_agg.py:183: RuntimeWarning: Glyph 44148 missing from current font.\n",
            "  font.set_text(s, 0, flags=flags)\n",
            "/usr/local/lib/python3.7/dist-packages/matplotlib/backends/backend_agg.py:183: RuntimeWarning: Glyph 44053 missing from current font.\n",
            "  font.set_text(s, 0, flags=flags)\n",
            "/usr/local/lib/python3.7/dist-packages/matplotlib/backends/backend_agg.py:183: RuntimeWarning: Glyph 45805 missing from current font.\n",
            "  font.set_text(s, 0, flags=flags)\n",
            "/usr/local/lib/python3.7/dist-packages/matplotlib/backends/backend_agg.py:183: RuntimeWarning: Glyph 44032 missing from current font.\n",
            "  font.set_text(s, 0, flags=flags)\n",
            "/usr/local/lib/python3.7/dist-packages/matplotlib/backends/backend_agg.py:183: RuntimeWarning: Glyph 49844 missing from current font.\n",
            "  font.set_text(s, 0, flags=flags)\n",
            "/usr/local/lib/python3.7/dist-packages/matplotlib/backends/backend_agg.py:183: RuntimeWarning: Glyph 49332 missing from current font.\n",
            "  font.set_text(s, 0, flags=flags)\n",
            "/usr/local/lib/python3.7/dist-packages/matplotlib/backends/backend_agg.py:183: RuntimeWarning: Glyph 54868 missing from current font.\n",
            "  font.set_text(s, 0, flags=flags)\n",
            "/usr/local/lib/python3.7/dist-packages/matplotlib/backends/backend_agg.py:183: RuntimeWarning: Glyph 53685 missing from current font.\n",
            "  font.set_text(s, 0, flags=flags)\n",
            "/usr/local/lib/python3.7/dist-packages/matplotlib/backends/backend_agg.py:183: RuntimeWarning: Glyph 44396 missing from current font.\n",
            "  font.set_text(s, 0, flags=flags)\n",
            "/usr/local/lib/python3.7/dist-packages/matplotlib/backends/backend_agg.py:183: RuntimeWarning: Glyph 51060 missing from current font.\n",
            "  font.set_text(s, 0, flags=flags)\n",
            "/usr/local/lib/python3.7/dist-packages/matplotlib/backends/backend_agg.py:183: RuntimeWarning: Glyph 47215 missing from current font.\n",
            "  font.set_text(s, 0, flags=flags)\n",
            "/usr/local/lib/python3.7/dist-packages/matplotlib/backends/backend_agg.py:183: RuntimeWarning: Glyph 45936 missing from current font.\n",
            "  font.set_text(s, 0, flags=flags)\n",
            "/usr/local/lib/python3.7/dist-packages/matplotlib/backends/backend_agg.py:183: RuntimeWarning: Glyph 47700 missing from current font.\n",
            "  font.set_text(s, 0, flags=flags)\n",
            "/usr/local/lib/python3.7/dist-packages/matplotlib/backends/backend_agg.py:183: RuntimeWarning: Glyph 51473 missing from current font.\n",
            "  font.set_text(s, 0, flags=flags)\n",
            "/usr/local/lib/python3.7/dist-packages/matplotlib/backends/backend_agg.py:183: RuntimeWarning: Glyph 51692 missing from current font.\n",
            "  font.set_text(s, 0, flags=flags)\n",
            "/usr/local/lib/python3.7/dist-packages/matplotlib/backends/backend_agg.py:183: RuntimeWarning: Glyph 48981 missing from current font.\n",
            "  font.set_text(s, 0, flags=flags)\n",
            "/usr/local/lib/python3.7/dist-packages/matplotlib/backends/backend_agg.py:183: RuntimeWarning: Glyph 49548 missing from current font.\n",
            "  font.set_text(s, 0, flags=flags)\n",
            "/usr/local/lib/python3.7/dist-packages/matplotlib/backends/backend_agg.py:183: RuntimeWarning: Glyph 44592 missing from current font.\n",
            "  font.set_text(s, 0, flags=flags)\n",
            "/usr/local/lib/python3.7/dist-packages/matplotlib/backends/backend_agg.py:183: RuntimeWarning: Glyph 51312 missing from current font.\n",
            "  font.set_text(s, 0, flags=flags)\n",
            "/usr/local/lib/python3.7/dist-packages/matplotlib/backends/backend_agg.py:183: RuntimeWarning: Glyph 47548 missing from current font.\n",
            "  font.set_text(s, 0, flags=flags)\n",
            "/usr/local/lib/python3.7/dist-packages/matplotlib/backends/backend_agg.py:183: RuntimeWarning: Glyph 54632 missing from current font.\n",
            "  font.set_text(s, 0, flags=flags)\n",
            "/usr/local/lib/python3.7/dist-packages/matplotlib/backends/backend_agg.py:183: RuntimeWarning: Glyph 48149 missing from current font.\n",
            "  font.set_text(s, 0, flags=flags)\n",
            "/usr/local/lib/python3.7/dist-packages/matplotlib/backends/backend_agg.py:183: RuntimeWarning: Glyph 53580 missing from current font.\n",
            "  font.set_text(s, 0, flags=flags)\n",
            "/usr/local/lib/python3.7/dist-packages/matplotlib/backends/backend_agg.py:183: RuntimeWarning: Glyph 53356 missing from current font.\n",
            "  font.set_text(s, 0, flags=flags)\n",
            "/usr/local/lib/python3.7/dist-packages/matplotlib/backends/backend_agg.py:214: RuntimeWarning: Glyph 54032 missing from current font.\n",
            "  font.set_text(s, 0.0, flags=flags)\n",
            "/usr/local/lib/python3.7/dist-packages/matplotlib/backends/backend_agg.py:214: RuntimeWarning: Glyph 47588 missing from current font.\n",
            "  font.set_text(s, 0.0, flags=flags)\n",
            "/usr/local/lib/python3.7/dist-packages/matplotlib/backends/backend_agg.py:214: RuntimeWarning: Glyph 49345 missing from current font.\n",
            "  font.set_text(s, 0.0, flags=flags)\n",
            "/usr/local/lib/python3.7/dist-packages/matplotlib/backends/backend_agg.py:214: RuntimeWarning: Glyph 54408 missing from current font.\n",
            "  font.set_text(s, 0.0, flags=flags)\n",
            "/usr/local/lib/python3.7/dist-packages/matplotlib/backends/backend_agg.py:214: RuntimeWarning: Glyph 47749 missing from current font.\n",
            "  font.set_text(s, 0.0, flags=flags)\n",
            "/usr/local/lib/python3.7/dist-packages/matplotlib/backends/backend_agg.py:183: RuntimeWarning: Glyph 54032 missing from current font.\n",
            "  font.set_text(s, 0, flags=flags)\n",
            "/usr/local/lib/python3.7/dist-packages/matplotlib/backends/backend_agg.py:183: RuntimeWarning: Glyph 47588 missing from current font.\n",
            "  font.set_text(s, 0, flags=flags)\n",
            "/usr/local/lib/python3.7/dist-packages/matplotlib/backends/backend_agg.py:183: RuntimeWarning: Glyph 49345 missing from current font.\n",
            "  font.set_text(s, 0, flags=flags)\n",
            "/usr/local/lib/python3.7/dist-packages/matplotlib/backends/backend_agg.py:183: RuntimeWarning: Glyph 54408 missing from current font.\n",
            "  font.set_text(s, 0, flags=flags)\n",
            "/usr/local/lib/python3.7/dist-packages/matplotlib/backends/backend_agg.py:183: RuntimeWarning: Glyph 47749 missing from current font.\n",
            "  font.set_text(s, 0, flags=flags)\n"
          ]
        },
        {
          "output_type": "display_data",
          "data": {
            "text/plain": [
              "<Figure size 432x288 with 1 Axes>"
            ],
            "image/png": "[encoded data removed]"
          },
          "metadata": {
            "needs_background": "light"
          }
        }
      ]
    },
    {
      "cell_type": "code",
      "source": [
        "plt.figure(figsize=(6,3))\n",
        "sns.countplot(y='표준카테고리', data=df_1, order=[df_1['표준카테고리'].value_counts().head(5).index[i] for i in range(0,5)])"
      ],
      "metadata": {
        "colab": {
          "base_uri": "https://localhost:8080/",
          "height": 1000
        },
        "id": "Z5V3EjDsj8JL",
        "outputId": "4352efc2-f711-46c0-b9eb-e3a09b04d1d2"
      },
      "id": "Z5V3EjDsj8JL",
      "execution_count": 154,
      "outputs": [
        {
          "output_type": "execute_result",
          "data": {
            "text/plain": [
              "<matplotlib.axes._subplots.AxesSubplot at 0x7f2e0a3afdd0>"
            ]
          },
          "metadata": {},
          "execution_count": 154
        },
        {
          "output_type": "stream",
          "name": "stderr",
          "text": [
            "/usr/local/lib/python3.7/dist-packages/matplotlib/backends/backend_agg.py:214: RuntimeWarning: Glyph 45257 missing from current font.\n",
            "  font.set_text(s, 0.0, flags=flags)\n",
            "/usr/local/lib/python3.7/dist-packages/matplotlib/backends/backend_agg.py:214: RuntimeWarning: Glyph 51109 missing from current font.\n",
            "  font.set_text(s, 0.0, flags=flags)\n",
            "/usr/local/lib/python3.7/dist-packages/matplotlib/backends/backend_agg.py:214: RuntimeWarning: Glyph 46041 missing from current font.\n",
            "  font.set_text(s, 0.0, flags=flags)\n",
            "/usr/local/lib/python3.7/dist-packages/matplotlib/backends/backend_agg.py:214: RuntimeWarning: Glyph 44036 missing from current font.\n",
            "  font.set_text(s, 0.0, flags=flags)\n",
            "/usr/local/lib/python3.7/dist-packages/matplotlib/backends/backend_agg.py:214: RuntimeWarning: Glyph 54200 missing from current font.\n",
            "  font.set_text(s, 0.0, flags=flags)\n",
            "/usr/local/lib/python3.7/dist-packages/matplotlib/backends/backend_agg.py:214: RuntimeWarning: Glyph 49885 missing from current font.\n",
            "  font.set_text(s, 0.0, flags=flags)\n",
            "/usr/local/lib/python3.7/dist-packages/matplotlib/backends/backend_agg.py:214: RuntimeWarning: Glyph 46497 missing from current font.\n",
            "  font.set_text(s, 0.0, flags=flags)\n",
            "/usr/local/lib/python3.7/dist-packages/matplotlib/backends/backend_agg.py:214: RuntimeWarning: Glyph 48374 missing from current font.\n",
            "  font.set_text(s, 0.0, flags=flags)\n",
            "/usr/local/lib/python3.7/dist-packages/matplotlib/backends/backend_agg.py:214: RuntimeWarning: Glyph 51060 missing from current font.\n",
            "  font.set_text(s, 0.0, flags=flags)\n",
            "/usr/local/lib/python3.7/dist-packages/matplotlib/backends/backend_agg.py:214: RuntimeWarning: Glyph 47564 missing from current font.\n",
            "  font.set_text(s, 0.0, flags=flags)\n",
            "/usr/local/lib/python3.7/dist-packages/matplotlib/backends/backend_agg.py:214: RuntimeWarning: Glyph 46160 missing from current font.\n",
            "  font.set_text(s, 0.0, flags=flags)\n",
            "/usr/local/lib/python3.7/dist-packages/matplotlib/backends/backend_agg.py:214: RuntimeWarning: Glyph 44032 missing from current font.\n",
            "  font.set_text(s, 0.0, flags=flags)\n",
            "/usr/local/lib/python3.7/dist-packages/matplotlib/backends/backend_agg.py:214: RuntimeWarning: Glyph 44277 missing from current font.\n",
            "  font.set_text(s, 0.0, flags=flags)\n",
            "/usr/local/lib/python3.7/dist-packages/matplotlib/backends/backend_agg.py:214: RuntimeWarning: Glyph 54408 missing from current font.\n",
            "  font.set_text(s, 0.0, flags=flags)\n",
            "/usr/local/lib/python3.7/dist-packages/matplotlib/backends/backend_agg.py:214: RuntimeWarning: Glyph 53685 missing from current font.\n",
            "  font.set_text(s, 0.0, flags=flags)\n",
            "/usr/local/lib/python3.7/dist-packages/matplotlib/backends/backend_agg.py:214: RuntimeWarning: Glyph 51312 missing from current font.\n",
            "  font.set_text(s, 0.0, flags=flags)\n",
            "/usr/local/lib/python3.7/dist-packages/matplotlib/backends/backend_agg.py:214: RuntimeWarning: Glyph 47548 missing from current font.\n",
            "  font.set_text(s, 0.0, flags=flags)\n",
            "/usr/local/lib/python3.7/dist-packages/matplotlib/backends/backend_agg.py:214: RuntimeWarning: Glyph 52884 missing from current font.\n",
            "  font.set_text(s, 0.0, flags=flags)\n",
            "/usr/local/lib/python3.7/dist-packages/matplotlib/backends/backend_agg.py:214: RuntimeWarning: Glyph 49440 missing from current font.\n",
            "  font.set_text(s, 0.0, flags=flags)\n",
            "/usr/local/lib/python3.7/dist-packages/matplotlib/backends/backend_agg.py:214: RuntimeWarning: Glyph 47932 missing from current font.\n",
            "  font.set_text(s, 0.0, flags=flags)\n",
            "/usr/local/lib/python3.7/dist-packages/matplotlib/backends/backend_agg.py:214: RuntimeWarning: Glyph 49464 missing from current font.\n",
            "  font.set_text(s, 0.0, flags=flags)\n",
            "/usr/local/lib/python3.7/dist-packages/matplotlib/backends/backend_agg.py:214: RuntimeWarning: Glyph 53944 missing from current font.\n",
            "  font.set_text(s, 0.0, flags=flags)\n",
            "/usr/local/lib/python3.7/dist-packages/matplotlib/backends/backend_agg.py:214: RuntimeWarning: Glyph 51593 missing from current font.\n",
            "  font.set_text(s, 0.0, flags=flags)\n",
            "/usr/local/lib/python3.7/dist-packages/matplotlib/backends/backend_agg.py:214: RuntimeWarning: Glyph 49437 missing from current font.\n",
            "  font.set_text(s, 0.0, flags=flags)\n",
            "/usr/local/lib/python3.7/dist-packages/matplotlib/backends/backend_agg.py:214: RuntimeWarning: Glyph 48165 missing from current font.\n",
            "  font.set_text(s, 0.0, flags=flags)\n",
            "/usr/local/lib/python3.7/dist-packages/matplotlib/backends/backend_agg.py:214: RuntimeWarning: Glyph 51453 missing from current font.\n",
            "  font.set_text(s, 0.0, flags=flags)\n",
            "/usr/local/lib/python3.7/dist-packages/matplotlib/backends/backend_agg.py:214: RuntimeWarning: Glyph 49828 missing from current font.\n",
            "  font.set_text(s, 0.0, flags=flags)\n",
            "/usr/local/lib/python3.7/dist-packages/matplotlib/backends/backend_agg.py:214: RuntimeWarning: Glyph 54532 missing from current font.\n",
            "  font.set_text(s, 0.0, flags=flags)\n",
            "/usr/local/lib/python3.7/dist-packages/matplotlib/backends/backend_agg.py:214: RuntimeWarning: Glyph 44397 missing from current font.\n",
            "  font.set_text(s, 0.0, flags=flags)\n",
            "/usr/local/lib/python3.7/dist-packages/matplotlib/backends/backend_agg.py:214: RuntimeWarning: Glyph 53461 missing from current font.\n",
            "  font.set_text(s, 0.0, flags=flags)\n",
            "/usr/local/lib/python3.7/dist-packages/matplotlib/backends/backend_agg.py:214: RuntimeWarning: Glyph 52236 missing from current font.\n",
            "  font.set_text(s, 0.0, flags=flags)\n",
            "/usr/local/lib/python3.7/dist-packages/matplotlib/backends/backend_agg.py:214: RuntimeWarning: Glyph 44060 missing from current font.\n",
            "  font.set_text(s, 0.0, flags=flags)\n",
            "/usr/local/lib/python3.7/dist-packages/matplotlib/backends/backend_agg.py:214: RuntimeWarning: Glyph 54660 missing from current font.\n",
            "  font.set_text(s, 0.0, flags=flags)\n",
            "/usr/local/lib/python3.7/dist-packages/matplotlib/backends/backend_agg.py:214: RuntimeWarning: Glyph 49548 missing from current font.\n",
            "  font.set_text(s, 0.0, flags=flags)\n",
            "/usr/local/lib/python3.7/dist-packages/matplotlib/backends/backend_agg.py:214: RuntimeWarning: Glyph 49884 missing from current font.\n",
            "  font.set_text(s, 0.0, flags=flags)\n",
            "/usr/local/lib/python3.7/dist-packages/matplotlib/backends/backend_agg.py:214: RuntimeWarning: Glyph 51648 missing from current font.\n",
            "  font.set_text(s, 0.0, flags=flags)\n",
            "/usr/local/lib/python3.7/dist-packages/matplotlib/backends/backend_agg.py:214: RuntimeWarning: Glyph 48288 missing from current font.\n",
            "  font.set_text(s, 0.0, flags=flags)\n",
            "/usr/local/lib/python3.7/dist-packages/matplotlib/backends/backend_agg.py:214: RuntimeWarning: Glyph 52968 missing from current font.\n",
            "  font.set_text(s, 0.0, flags=flags)\n",
            "/usr/local/lib/python3.7/dist-packages/matplotlib/backends/backend_agg.py:183: RuntimeWarning: Glyph 45257 missing from current font.\n",
            "  font.set_text(s, 0, flags=flags)\n",
            "/usr/local/lib/python3.7/dist-packages/matplotlib/backends/backend_agg.py:183: RuntimeWarning: Glyph 51109 missing from current font.\n",
            "  font.set_text(s, 0, flags=flags)\n",
            "/usr/local/lib/python3.7/dist-packages/matplotlib/backends/backend_agg.py:183: RuntimeWarning: Glyph 46041 missing from current font.\n",
            "  font.set_text(s, 0, flags=flags)\n",
            "/usr/local/lib/python3.7/dist-packages/matplotlib/backends/backend_agg.py:183: RuntimeWarning: Glyph 44036 missing from current font.\n",
            "  font.set_text(s, 0, flags=flags)\n",
            "/usr/local/lib/python3.7/dist-packages/matplotlib/backends/backend_agg.py:183: RuntimeWarning: Glyph 54200 missing from current font.\n",
            "  font.set_text(s, 0, flags=flags)\n",
            "/usr/local/lib/python3.7/dist-packages/matplotlib/backends/backend_agg.py:183: RuntimeWarning: Glyph 49885 missing from current font.\n",
            "  font.set_text(s, 0, flags=flags)\n",
            "/usr/local/lib/python3.7/dist-packages/matplotlib/backends/backend_agg.py:183: RuntimeWarning: Glyph 46497 missing from current font.\n",
            "  font.set_text(s, 0, flags=flags)\n",
            "/usr/local/lib/python3.7/dist-packages/matplotlib/backends/backend_agg.py:183: RuntimeWarning: Glyph 48374 missing from current font.\n",
            "  font.set_text(s, 0, flags=flags)\n",
            "/usr/local/lib/python3.7/dist-packages/matplotlib/backends/backend_agg.py:183: RuntimeWarning: Glyph 51060 missing from current font.\n",
            "  font.set_text(s, 0, flags=flags)\n",
            "/usr/local/lib/python3.7/dist-packages/matplotlib/backends/backend_agg.py:183: RuntimeWarning: Glyph 47564 missing from current font.\n",
            "  font.set_text(s, 0, flags=flags)\n",
            "/usr/local/lib/python3.7/dist-packages/matplotlib/backends/backend_agg.py:183: RuntimeWarning: Glyph 46160 missing from current font.\n",
            "  font.set_text(s, 0, flags=flags)\n",
            "/usr/local/lib/python3.7/dist-packages/matplotlib/backends/backend_agg.py:183: RuntimeWarning: Glyph 44032 missing from current font.\n",
            "  font.set_text(s, 0, flags=flags)\n",
            "/usr/local/lib/python3.7/dist-packages/matplotlib/backends/backend_agg.py:183: RuntimeWarning: Glyph 44277 missing from current font.\n",
            "  font.set_text(s, 0, flags=flags)\n",
            "/usr/local/lib/python3.7/dist-packages/matplotlib/backends/backend_agg.py:183: RuntimeWarning: Glyph 54408 missing from current font.\n",
            "  font.set_text(s, 0, flags=flags)\n",
            "/usr/local/lib/python3.7/dist-packages/matplotlib/backends/backend_agg.py:183: RuntimeWarning: Glyph 53685 missing from current font.\n",
            "  font.set_text(s, 0, flags=flags)\n",
            "/usr/local/lib/python3.7/dist-packages/matplotlib/backends/backend_agg.py:183: RuntimeWarning: Glyph 51312 missing from current font.\n",
            "  font.set_text(s, 0, flags=flags)\n",
            "/usr/local/lib/python3.7/dist-packages/matplotlib/backends/backend_agg.py:183: RuntimeWarning: Glyph 47548 missing from current font.\n",
            "  font.set_text(s, 0, flags=flags)\n",
            "/usr/local/lib/python3.7/dist-packages/matplotlib/backends/backend_agg.py:183: RuntimeWarning: Glyph 52884 missing from current font.\n",
            "  font.set_text(s, 0, flags=flags)\n",
            "/usr/local/lib/python3.7/dist-packages/matplotlib/backends/backend_agg.py:183: RuntimeWarning: Glyph 49440 missing from current font.\n",
            "  font.set_text(s, 0, flags=flags)\n",
            "/usr/local/lib/python3.7/dist-packages/matplotlib/backends/backend_agg.py:183: RuntimeWarning: Glyph 47932 missing from current font.\n",
            "  font.set_text(s, 0, flags=flags)\n",
            "/usr/local/lib/python3.7/dist-packages/matplotlib/backends/backend_agg.py:183: RuntimeWarning: Glyph 49464 missing from current font.\n",
            "  font.set_text(s, 0, flags=flags)\n",
            "/usr/local/lib/python3.7/dist-packages/matplotlib/backends/backend_agg.py:183: RuntimeWarning: Glyph 53944 missing from current font.\n",
            "  font.set_text(s, 0, flags=flags)\n",
            "/usr/local/lib/python3.7/dist-packages/matplotlib/backends/backend_agg.py:183: RuntimeWarning: Glyph 51593 missing from current font.\n",
            "  font.set_text(s, 0, flags=flags)\n",
            "/usr/local/lib/python3.7/dist-packages/matplotlib/backends/backend_agg.py:183: RuntimeWarning: Glyph 49437 missing from current font.\n",
            "  font.set_text(s, 0, flags=flags)\n",
            "/usr/local/lib/python3.7/dist-packages/matplotlib/backends/backend_agg.py:183: RuntimeWarning: Glyph 48165 missing from current font.\n",
            "  font.set_text(s, 0, flags=flags)\n",
            "/usr/local/lib/python3.7/dist-packages/matplotlib/backends/backend_agg.py:183: RuntimeWarning: Glyph 51453 missing from current font.\n",
            "  font.set_text(s, 0, flags=flags)\n",
            "/usr/local/lib/python3.7/dist-packages/matplotlib/backends/backend_agg.py:183: RuntimeWarning: Glyph 49828 missing from current font.\n",
            "  font.set_text(s, 0, flags=flags)\n",
            "/usr/local/lib/python3.7/dist-packages/matplotlib/backends/backend_agg.py:183: RuntimeWarning: Glyph 54532 missing from current font.\n",
            "  font.set_text(s, 0, flags=flags)\n",
            "/usr/local/lib/python3.7/dist-packages/matplotlib/backends/backend_agg.py:183: RuntimeWarning: Glyph 44397 missing from current font.\n",
            "  font.set_text(s, 0, flags=flags)\n",
            "/usr/local/lib/python3.7/dist-packages/matplotlib/backends/backend_agg.py:183: RuntimeWarning: Glyph 53461 missing from current font.\n",
            "  font.set_text(s, 0, flags=flags)\n",
            "/usr/local/lib/python3.7/dist-packages/matplotlib/backends/backend_agg.py:183: RuntimeWarning: Glyph 52236 missing from current font.\n",
            "  font.set_text(s, 0, flags=flags)\n",
            "/usr/local/lib/python3.7/dist-packages/matplotlib/backends/backend_agg.py:183: RuntimeWarning: Glyph 44060 missing from current font.\n",
            "  font.set_text(s, 0, flags=flags)\n",
            "/usr/local/lib/python3.7/dist-packages/matplotlib/backends/backend_agg.py:183: RuntimeWarning: Glyph 54660 missing from current font.\n",
            "  font.set_text(s, 0, flags=flags)\n",
            "/usr/local/lib/python3.7/dist-packages/matplotlib/backends/backend_agg.py:183: RuntimeWarning: Glyph 49548 missing from current font.\n",
            "  font.set_text(s, 0, flags=flags)\n",
            "/usr/local/lib/python3.7/dist-packages/matplotlib/backends/backend_agg.py:183: RuntimeWarning: Glyph 49884 missing from current font.\n",
            "  font.set_text(s, 0, flags=flags)\n",
            "/usr/local/lib/python3.7/dist-packages/matplotlib/backends/backend_agg.py:183: RuntimeWarning: Glyph 51648 missing from current font.\n",
            "  font.set_text(s, 0, flags=flags)\n",
            "/usr/local/lib/python3.7/dist-packages/matplotlib/backends/backend_agg.py:183: RuntimeWarning: Glyph 48288 missing from current font.\n",
            "  font.set_text(s, 0, flags=flags)\n",
            "/usr/local/lib/python3.7/dist-packages/matplotlib/backends/backend_agg.py:183: RuntimeWarning: Glyph 52968 missing from current font.\n",
            "  font.set_text(s, 0, flags=flags)\n",
            "/usr/local/lib/python3.7/dist-packages/matplotlib/backends/backend_agg.py:214: RuntimeWarning: Glyph 54364 missing from current font.\n",
            "  font.set_text(s, 0.0, flags=flags)\n",
            "/usr/local/lib/python3.7/dist-packages/matplotlib/backends/backend_agg.py:214: RuntimeWarning: Glyph 51456 missing from current font.\n",
            "  font.set_text(s, 0.0, flags=flags)\n",
            "/usr/local/lib/python3.7/dist-packages/matplotlib/backends/backend_agg.py:214: RuntimeWarning: Glyph 52852 missing from current font.\n",
            "  font.set_text(s, 0.0, flags=flags)\n",
            "/usr/local/lib/python3.7/dist-packages/matplotlib/backends/backend_agg.py:214: RuntimeWarning: Glyph 53580 missing from current font.\n",
            "  font.set_text(s, 0.0, flags=flags)\n",
            "/usr/local/lib/python3.7/dist-packages/matplotlib/backends/backend_agg.py:214: RuntimeWarning: Glyph 44256 missing from current font.\n",
            "  font.set_text(s, 0.0, flags=flags)\n",
            "/usr/local/lib/python3.7/dist-packages/matplotlib/backends/backend_agg.py:214: RuntimeWarning: Glyph 47532 missing from current font.\n",
            "  font.set_text(s, 0.0, flags=flags)\n",
            "/usr/local/lib/python3.7/dist-packages/matplotlib/backends/backend_agg.py:183: RuntimeWarning: Glyph 54364 missing from current font.\n",
            "  font.set_text(s, 0, flags=flags)\n",
            "/usr/local/lib/python3.7/dist-packages/matplotlib/backends/backend_agg.py:183: RuntimeWarning: Glyph 51456 missing from current font.\n",
            "  font.set_text(s, 0, flags=flags)\n",
            "/usr/local/lib/python3.7/dist-packages/matplotlib/backends/backend_agg.py:183: RuntimeWarning: Glyph 52852 missing from current font.\n",
            "  font.set_text(s, 0, flags=flags)\n",
            "/usr/local/lib/python3.7/dist-packages/matplotlib/backends/backend_agg.py:183: RuntimeWarning: Glyph 53580 missing from current font.\n",
            "  font.set_text(s, 0, flags=flags)\n",
            "/usr/local/lib/python3.7/dist-packages/matplotlib/backends/backend_agg.py:183: RuntimeWarning: Glyph 44256 missing from current font.\n",
            "  font.set_text(s, 0, flags=flags)\n",
            "/usr/local/lib/python3.7/dist-packages/matplotlib/backends/backend_agg.py:183: RuntimeWarning: Glyph 47532 missing from current font.\n",
            "  font.set_text(s, 0, flags=flags)\n"
          ]
        },
        {
          "output_type": "display_data",
          "data": {
            "text/plain": [
              "<Figure size 432x216 with 1 Axes>"
            ],
            "image/png": "[encoded data removed]"
          },
          "metadata": {
            "needs_background": "light"
          }
        }
      ]
    },
    {
      "cell_type": "markdown",
      "source": [
        "-> 1월 : 만두 > 선물세트 > 즉석밥 > 국/탕 > 스테이크, 햄 등등\n",
        "* 아무래도 설날 준비를 이유로 만두와 선물세트의 구매율이 많은 것으로 보입니다.\n",
        "* 2022년 설 1~2주전에 만두와 선물세트에 대한 광고와 할인을 하는 실시하는 것을 제안합니다."
      ],
      "metadata": {
        "id": "6BTQi8agk0TX"
      },
      "id": "6BTQi8agk0TX"
    },
    {
      "cell_type": "markdown",
      "source": [
        "## 3) 2월 분석하기"
      ],
      "metadata": {
        "id": "0i7yo8bAlqVR"
      },
      "id": "0i7yo8bAlqVR"
    },
    {
      "cell_type": "code",
      "source": [
        "df_2['판매자상품명'].value_counts().head(10)\n",
        "sns.countplot(y='판매자상품명', data=df_2, order=[df_2['판매자상품명'].value_counts().head(10).index[i] for i in range(0,10)])"
      ],
      "metadata": {
        "colab": {
          "base_uri": "https://localhost:8080/",
          "height": 1000
        },
        "id": "nZrdPEPRlnHA",
        "outputId": "71f2a63b-acde-4b7c-d871-5d4efe551567"
      },
      "id": "nZrdPEPRlnHA",
      "execution_count": 160,
      "outputs": [
        {
          "output_type": "execute_result",
          "data": {
            "text/plain": [
              "<matplotlib.axes._subplots.AxesSubplot at 0x7f2e0a8f5c50>"
            ]
          },
          "metadata": {},
          "execution_count": 160
        },
        {
          "output_type": "stream",
          "name": "stderr",
          "text": [
            "/usr/local/lib/python3.7/dist-packages/matplotlib/backends/backend_agg.py:214: RuntimeWarning: Glyph 53945 missing from current font.\n",
            "  font.set_text(s, 0.0, flags=flags)\n",
            "/usr/local/lib/python3.7/dist-packages/matplotlib/backends/backend_agg.py:214: RuntimeWarning: Glyph 44032 missing from current font.\n",
            "  font.set_text(s, 0.0, flags=flags)\n",
            "/usr/local/lib/python3.7/dist-packages/matplotlib/backends/backend_agg.py:214: RuntimeWarning: Glyph 51613 missing from current font.\n",
            "  font.set_text(s, 0.0, flags=flags)\n",
            "/usr/local/lib/python3.7/dist-packages/matplotlib/backends/backend_agg.py:214: RuntimeWarning: Glyph 51221 missing from current font.\n",
            "  font.set_text(s, 0.0, flags=flags)\n",
            "/usr/local/lib/python3.7/dist-packages/matplotlib/backends/backend_agg.py:214: RuntimeWarning: Glyph 48708 missing from current font.\n",
            "  font.set_text(s, 0.0, flags=flags)\n",
            "/usr/local/lib/python3.7/dist-packages/matplotlib/backends/backend_agg.py:214: RuntimeWarning: Glyph 44256 missing from current font.\n",
            "  font.set_text(s, 0.0, flags=flags)\n",
            "/usr/local/lib/python3.7/dist-packages/matplotlib/backends/backend_agg.py:214: RuntimeWarning: Glyph 50773 missing from current font.\n",
            "  font.set_text(s, 0.0, flags=flags)\n",
            "/usr/local/lib/python3.7/dist-packages/matplotlib/backends/backend_agg.py:214: RuntimeWarning: Glyph 44368 missing from current font.\n",
            "  font.set_text(s, 0.0, flags=flags)\n",
            "/usr/local/lib/python3.7/dist-packages/matplotlib/backends/backend_agg.py:214: RuntimeWarning: Glyph 51088 missing from current font.\n",
            "  font.set_text(s, 0.0, flags=flags)\n",
            "/usr/local/lib/python3.7/dist-packages/matplotlib/backends/backend_agg.py:214: RuntimeWarning: Glyph 44060 missing from current font.\n",
            "  font.set_text(s, 0.0, flags=flags)\n",
            "/usr/local/lib/python3.7/dist-packages/matplotlib/backends/backend_agg.py:214: RuntimeWarning: Glyph 52240 missing from current font.\n",
            "  font.set_text(s, 0.0, flags=flags)\n",
            "/usr/local/lib/python3.7/dist-packages/matplotlib/backends/backend_agg.py:214: RuntimeWarning: Glyph 47564 missing from current font.\n",
            "  font.set_text(s, 0.0, flags=flags)\n",
            "/usr/local/lib/python3.7/dist-packages/matplotlib/backends/backend_agg.py:214: RuntimeWarning: Glyph 46160 missing from current font.\n",
            "  font.set_text(s, 0.0, flags=flags)\n",
            "/usr/local/lib/python3.7/dist-packages/matplotlib/backends/backend_agg.py:214: RuntimeWarning: Glyph 44264 missing from current font.\n",
            "  font.set_text(s, 0.0, flags=flags)\n",
            "/usr/local/lib/python3.7/dist-packages/matplotlib/backends/backend_agg.py:214: RuntimeWarning: Glyph 46972 missing from current font.\n",
            "  font.set_text(s, 0.0, flags=flags)\n",
            "/usr/local/lib/python3.7/dist-packages/matplotlib/backends/backend_agg.py:214: RuntimeWarning: Glyph 45812 missing from current font.\n",
            "  font.set_text(s, 0.0, flags=flags)\n",
            "/usr/local/lib/python3.7/dist-packages/matplotlib/backends/backend_agg.py:214: RuntimeWarning: Glyph 44592 missing from current font.\n",
            "  font.set_text(s, 0.0, flags=flags)\n",
            "/usr/local/lib/python3.7/dist-packages/matplotlib/backends/backend_agg.py:214: RuntimeWarning: Glyph 49688 missing from current font.\n",
            "  font.set_text(s, 0.0, flags=flags)\n",
            "/usr/local/lib/python3.7/dist-packages/matplotlib/backends/backend_agg.py:214: RuntimeWarning: Glyph 51228 missing from current font.\n",
            "  font.set_text(s, 0.0, flags=flags)\n",
            "/usr/local/lib/python3.7/dist-packages/matplotlib/backends/backend_agg.py:214: RuntimeWarning: Glyph 51649 missing from current font.\n",
            "  font.set_text(s, 0.0, flags=flags)\n",
            "/usr/local/lib/python3.7/dist-packages/matplotlib/backends/backend_agg.py:214: RuntimeWarning: Glyph 48176 missing from current font.\n",
            "  font.set_text(s, 0.0, flags=flags)\n",
            "/usr/local/lib/python3.7/dist-packages/matplotlib/backends/backend_agg.py:214: RuntimeWarning: Glyph 49569 missing from current font.\n",
            "  font.set_text(s, 0.0, flags=flags)\n",
            "/usr/local/lib/python3.7/dist-packages/matplotlib/backends/backend_agg.py:214: RuntimeWarning: Glyph 47700 missing from current font.\n",
            "  font.set_text(s, 0.0, flags=flags)\n",
            "/usr/local/lib/python3.7/dist-packages/matplotlib/backends/backend_agg.py:214: RuntimeWarning: Glyph 54632 missing from current font.\n",
            "  font.set_text(s, 0.0, flags=flags)\n",
            "/usr/local/lib/python3.7/dist-packages/matplotlib/backends/backend_agg.py:214: RuntimeWarning: Glyph 48149 missing from current font.\n",
            "  font.set_text(s, 0.0, flags=flags)\n",
            "/usr/local/lib/python3.7/dist-packages/matplotlib/backends/backend_agg.py:214: RuntimeWarning: Glyph 49828 missing from current font.\n",
            "  font.set_text(s, 0.0, flags=flags)\n",
            "/usr/local/lib/python3.7/dist-packages/matplotlib/backends/backend_agg.py:214: RuntimeWarning: Glyph 53580 missing from current font.\n",
            "  font.set_text(s, 0.0, flags=flags)\n",
            "/usr/local/lib/python3.7/dist-packages/matplotlib/backends/backend_agg.py:214: RuntimeWarning: Glyph 51060 missing from current font.\n",
            "  font.set_text(s, 0.0, flags=flags)\n",
            "/usr/local/lib/python3.7/dist-packages/matplotlib/backends/backend_agg.py:214: RuntimeWarning: Glyph 53356 missing from current font.\n",
            "  font.set_text(s, 0.0, flags=flags)\n",
            "/usr/local/lib/python3.7/dist-packages/matplotlib/backends/backend_agg.py:214: RuntimeWarning: Glyph 45796 missing from current font.\n",
            "  font.set_text(s, 0.0, flags=flags)\n",
            "/usr/local/lib/python3.7/dist-packages/matplotlib/backends/backend_agg.py:214: RuntimeWarning: Glyph 48512 missing from current font.\n",
            "  font.set_text(s, 0.0, flags=flags)\n",
            "/usr/local/lib/python3.7/dist-packages/matplotlib/backends/backend_agg.py:214: RuntimeWarning: Glyph 45824 missing from current font.\n",
            "  font.set_text(s, 0.0, flags=flags)\n",
            "/usr/local/lib/python3.7/dist-packages/matplotlib/backends/backend_agg.py:214: RuntimeWarning: Glyph 52236 missing from current font.\n",
            "  font.set_text(s, 0.0, flags=flags)\n",
            "/usr/local/lib/python3.7/dist-packages/matplotlib/backends/backend_agg.py:214: RuntimeWarning: Glyph 50577 missing from current font.\n",
            "  font.set_text(s, 0.0, flags=flags)\n",
            "/usr/local/lib/python3.7/dist-packages/matplotlib/backends/backend_agg.py:214: RuntimeWarning: Glyph 45392 missing from current font.\n",
            "  font.set_text(s, 0.0, flags=flags)\n",
            "/usr/local/lib/python3.7/dist-packages/matplotlib/backends/backend_agg.py:214: RuntimeWarning: Glyph 45908 missing from current font.\n",
            "  font.set_text(s, 0.0, flags=flags)\n",
            "/usr/local/lib/python3.7/dist-packages/matplotlib/backends/backend_agg.py:214: RuntimeWarning: Glyph 44148 missing from current font.\n",
            "  font.set_text(s, 0.0, flags=flags)\n",
            "/usr/local/lib/python3.7/dist-packages/matplotlib/backends/backend_agg.py:214: RuntimeWarning: Glyph 44053 missing from current font.\n",
            "  font.set_text(s, 0.0, flags=flags)\n",
            "/usr/local/lib/python3.7/dist-packages/matplotlib/backends/backend_agg.py:214: RuntimeWarning: Glyph 54620 missing from current font.\n",
            "  font.set_text(s, 0.0, flags=flags)\n",
            "/usr/local/lib/python3.7/dist-packages/matplotlib/backends/backend_agg.py:214: RuntimeWarning: Glyph 45805 missing from current font.\n",
            "  font.set_text(s, 0.0, flags=flags)\n",
            "/usr/local/lib/python3.7/dist-packages/matplotlib/backends/backend_agg.py:214: RuntimeWarning: Glyph 49844 missing from current font.\n",
            "  font.set_text(s, 0.0, flags=flags)\n",
            "/usr/local/lib/python3.7/dist-packages/matplotlib/backends/backend_agg.py:214: RuntimeWarning: Glyph 49332 missing from current font.\n",
            "  font.set_text(s, 0.0, flags=flags)\n",
            "/usr/local/lib/python3.7/dist-packages/matplotlib/backends/backend_agg.py:214: RuntimeWarning: Glyph 54868 missing from current font.\n",
            "  font.set_text(s, 0.0, flags=flags)\n",
            "/usr/local/lib/python3.7/dist-packages/matplotlib/backends/backend_agg.py:214: RuntimeWarning: Glyph 53685 missing from current font.\n",
            "  font.set_text(s, 0.0, flags=flags)\n",
            "/usr/local/lib/python3.7/dist-packages/matplotlib/backends/backend_agg.py:214: RuntimeWarning: Glyph 44396 missing from current font.\n",
            "  font.set_text(s, 0.0, flags=flags)\n",
            "/usr/local/lib/python3.7/dist-packages/matplotlib/backends/backend_agg.py:214: RuntimeWarning: Glyph 48393 missing from current font.\n",
            "  font.set_text(s, 0.0, flags=flags)\n",
            "/usr/local/lib/python3.7/dist-packages/matplotlib/backends/backend_agg.py:214: RuntimeWarning: Glyph 49692 missing from current font.\n",
            "  font.set_text(s, 0.0, flags=flags)\n",
            "/usr/local/lib/python3.7/dist-packages/matplotlib/backends/backend_agg.py:214: RuntimeWarning: Glyph 49324 missing from current font.\n",
            "  font.set_text(s, 0.0, flags=flags)\n",
            "/usr/local/lib/python3.7/dist-packages/matplotlib/backends/backend_agg.py:214: RuntimeWarning: Glyph 44272 missing from current font.\n",
            "  font.set_text(s, 0.0, flags=flags)\n",
            "/usr/local/lib/python3.7/dist-packages/matplotlib/backends/backend_agg.py:214: RuntimeWarning: Glyph 53461 missing from current font.\n",
            "  font.set_text(s, 0.0, flags=flags)\n",
            "/usr/local/lib/python3.7/dist-packages/matplotlib/backends/backend_agg.py:214: RuntimeWarning: Glyph 48148 missing from current font.\n",
            "  font.set_text(s, 0.0, flags=flags)\n",
            "/usr/local/lib/python3.7/dist-packages/matplotlib/backends/backend_agg.py:214: RuntimeWarning: Glyph 49325 missing from current font.\n",
            "  font.set_text(s, 0.0, flags=flags)\n",
            "/usr/local/lib/python3.7/dist-packages/matplotlib/backends/backend_agg.py:214: RuntimeWarning: Glyph 53888 missing from current font.\n",
            "  font.set_text(s, 0.0, flags=flags)\n",
            "/usr/local/lib/python3.7/dist-packages/matplotlib/backends/backend_agg.py:214: RuntimeWarning: Glyph 44200 missing from current font.\n",
            "  font.set_text(s, 0.0, flags=flags)\n",
            "/usr/local/lib/python3.7/dist-packages/matplotlib/backends/backend_agg.py:214: RuntimeWarning: Glyph 45240 missing from current font.\n",
            "  font.set_text(s, 0.0, flags=flags)\n",
            "/usr/local/lib/python3.7/dist-packages/matplotlib/backends/backend_agg.py:214: RuntimeWarning: Glyph 46321 missing from current font.\n",
            "  font.set_text(s, 0.0, flags=flags)\n",
            "/usr/local/lib/python3.7/dist-packages/matplotlib/backends/backend_agg.py:214: RuntimeWarning: Glyph 49900 missing from current font.\n",
            "  font.set_text(s, 0.0, flags=flags)\n",
            "/usr/local/lib/python3.7/dist-packages/matplotlib/backends/backend_agg.py:214: RuntimeWarning: Glyph 46024 missing from current font.\n",
            "  font.set_text(s, 0.0, flags=flags)\n",
            "/usr/local/lib/python3.7/dist-packages/matplotlib/backends/backend_agg.py:214: RuntimeWarning: Glyph 52852 missing from current font.\n",
            "  font.set_text(s, 0.0, flags=flags)\n",
            "/usr/local/lib/python3.7/dist-packages/matplotlib/backends/backend_agg.py:214: RuntimeWarning: Glyph 52768 missing from current font.\n",
            "  font.set_text(s, 0.0, flags=flags)\n",
            "/usr/local/lib/python3.7/dist-packages/matplotlib/backends/backend_agg.py:214: RuntimeWarning: Glyph 47588 missing from current font.\n",
            "  font.set_text(s, 0.0, flags=flags)\n",
            "/usr/local/lib/python3.7/dist-packages/matplotlib/backends/backend_agg.py:214: RuntimeWarning: Glyph 50868 missing from current font.\n",
            "  font.set_text(s, 0.0, flags=flags)\n",
            "/usr/local/lib/python3.7/dist-packages/matplotlib/backends/backend_agg.py:214: RuntimeWarning: Glyph 48260 missing from current font.\n",
            "  font.set_text(s, 0.0, flags=flags)\n",
            "/usr/local/lib/python3.7/dist-packages/matplotlib/backends/backend_agg.py:214: RuntimeWarning: Glyph 49455 missing from current font.\n",
            "  font.set_text(s, 0.0, flags=flags)\n",
            "/usr/local/lib/python3.7/dist-packages/matplotlib/backends/backend_agg.py:214: RuntimeWarning: Glyph 52860 missing from current font.\n",
            "  font.set_text(s, 0.0, flags=flags)\n",
            "/usr/local/lib/python3.7/dist-packages/matplotlib/backends/backend_agg.py:214: RuntimeWarning: Glyph 44397 missing from current font.\n",
            "  font.set_text(s, 0.0, flags=flags)\n",
            "/usr/local/lib/python3.7/dist-packages/matplotlib/backends/backend_agg.py:183: RuntimeWarning: Glyph 53945 missing from current font.\n",
            "  font.set_text(s, 0, flags=flags)\n",
            "/usr/local/lib/python3.7/dist-packages/matplotlib/backends/backend_agg.py:183: RuntimeWarning: Glyph 44032 missing from current font.\n",
            "  font.set_text(s, 0, flags=flags)\n",
            "/usr/local/lib/python3.7/dist-packages/matplotlib/backends/backend_agg.py:183: RuntimeWarning: Glyph 51613 missing from current font.\n",
            "  font.set_text(s, 0, flags=flags)\n",
            "/usr/local/lib/python3.7/dist-packages/matplotlib/backends/backend_agg.py:183: RuntimeWarning: Glyph 51221 missing from current font.\n",
            "  font.set_text(s, 0, flags=flags)\n",
            "/usr/local/lib/python3.7/dist-packages/matplotlib/backends/backend_agg.py:183: RuntimeWarning: Glyph 48708 missing from current font.\n",
            "  font.set_text(s, 0, flags=flags)\n",
            "/usr/local/lib/python3.7/dist-packages/matplotlib/backends/backend_agg.py:183: RuntimeWarning: Glyph 44256 missing from current font.\n",
            "  font.set_text(s, 0, flags=flags)\n",
            "/usr/local/lib/python3.7/dist-packages/matplotlib/backends/backend_agg.py:183: RuntimeWarning: Glyph 50773 missing from current font.\n",
            "  font.set_text(s, 0, flags=flags)\n",
            "/usr/local/lib/python3.7/dist-packages/matplotlib/backends/backend_agg.py:183: RuntimeWarning: Glyph 44368 missing from current font.\n",
            "  font.set_text(s, 0, flags=flags)\n",
            "/usr/local/lib/python3.7/dist-packages/matplotlib/backends/backend_agg.py:183: RuntimeWarning: Glyph 51088 missing from current font.\n",
            "  font.set_text(s, 0, flags=flags)\n",
            "/usr/local/lib/python3.7/dist-packages/matplotlib/backends/backend_agg.py:183: RuntimeWarning: Glyph 44060 missing from current font.\n",
            "  font.set_text(s, 0, flags=flags)\n",
            "/usr/local/lib/python3.7/dist-packages/matplotlib/backends/backend_agg.py:183: RuntimeWarning: Glyph 52240 missing from current font.\n",
            "  font.set_text(s, 0, flags=flags)\n",
            "/usr/local/lib/python3.7/dist-packages/matplotlib/backends/backend_agg.py:183: RuntimeWarning: Glyph 47564 missing from current font.\n",
            "  font.set_text(s, 0, flags=flags)\n",
            "/usr/local/lib/python3.7/dist-packages/matplotlib/backends/backend_agg.py:183: RuntimeWarning: Glyph 46160 missing from current font.\n",
            "  font.set_text(s, 0, flags=flags)\n",
            "/usr/local/lib/python3.7/dist-packages/matplotlib/backends/backend_agg.py:183: RuntimeWarning: Glyph 44264 missing from current font.\n",
            "  font.set_text(s, 0, flags=flags)\n",
            "/usr/local/lib/python3.7/dist-packages/matplotlib/backends/backend_agg.py:183: RuntimeWarning: Glyph 46972 missing from current font.\n",
            "  font.set_text(s, 0, flags=flags)\n",
            "/usr/local/lib/python3.7/dist-packages/matplotlib/backends/backend_agg.py:183: RuntimeWarning: Glyph 45812 missing from current font.\n",
            "  font.set_text(s, 0, flags=flags)\n",
            "/usr/local/lib/python3.7/dist-packages/matplotlib/backends/backend_agg.py:183: RuntimeWarning: Glyph 44592 missing from current font.\n",
            "  font.set_text(s, 0, flags=flags)\n",
            "/usr/local/lib/python3.7/dist-packages/matplotlib/backends/backend_agg.py:183: RuntimeWarning: Glyph 49688 missing from current font.\n",
            "  font.set_text(s, 0, flags=flags)\n",
            "/usr/local/lib/python3.7/dist-packages/matplotlib/backends/backend_agg.py:183: RuntimeWarning: Glyph 51228 missing from current font.\n",
            "  font.set_text(s, 0, flags=flags)\n",
            "/usr/local/lib/python3.7/dist-packages/matplotlib/backends/backend_agg.py:183: RuntimeWarning: Glyph 51649 missing from current font.\n",
            "  font.set_text(s, 0, flags=flags)\n",
            "/usr/local/lib/python3.7/dist-packages/matplotlib/backends/backend_agg.py:183: RuntimeWarning: Glyph 48176 missing from current font.\n",
            "  font.set_text(s, 0, flags=flags)\n",
            "/usr/local/lib/python3.7/dist-packages/matplotlib/backends/backend_agg.py:183: RuntimeWarning: Glyph 49569 missing from current font.\n",
            "  font.set_text(s, 0, flags=flags)\n",
            "/usr/local/lib/python3.7/dist-packages/matplotlib/backends/backend_agg.py:183: RuntimeWarning: Glyph 47700 missing from current font.\n",
            "  font.set_text(s, 0, flags=flags)\n",
            "/usr/local/lib/python3.7/dist-packages/matplotlib/backends/backend_agg.py:183: RuntimeWarning: Glyph 54632 missing from current font.\n",
            "  font.set_text(s, 0, flags=flags)\n",
            "/usr/local/lib/python3.7/dist-packages/matplotlib/backends/backend_agg.py:183: RuntimeWarning: Glyph 48149 missing from current font.\n",
            "  font.set_text(s, 0, flags=flags)\n",
            "/usr/local/lib/python3.7/dist-packages/matplotlib/backends/backend_agg.py:183: RuntimeWarning: Glyph 49828 missing from current font.\n",
            "  font.set_text(s, 0, flags=flags)\n",
            "/usr/local/lib/python3.7/dist-packages/matplotlib/backends/backend_agg.py:183: RuntimeWarning: Glyph 53580 missing from current font.\n",
            "  font.set_text(s, 0, flags=flags)\n",
            "/usr/local/lib/python3.7/dist-packages/matplotlib/backends/backend_agg.py:183: RuntimeWarning: Glyph 51060 missing from current font.\n",
            "  font.set_text(s, 0, flags=flags)\n",
            "/usr/local/lib/python3.7/dist-packages/matplotlib/backends/backend_agg.py:183: RuntimeWarning: Glyph 53356 missing from current font.\n",
            "  font.set_text(s, 0, flags=flags)\n",
            "/usr/local/lib/python3.7/dist-packages/matplotlib/backends/backend_agg.py:183: RuntimeWarning: Glyph 45796 missing from current font.\n",
            "  font.set_text(s, 0, flags=flags)\n",
            "/usr/local/lib/python3.7/dist-packages/matplotlib/backends/backend_agg.py:183: RuntimeWarning: Glyph 48512 missing from current font.\n",
            "  font.set_text(s, 0, flags=flags)\n",
            "/usr/local/lib/python3.7/dist-packages/matplotlib/backends/backend_agg.py:183: RuntimeWarning: Glyph 45824 missing from current font.\n",
            "  font.set_text(s, 0, flags=flags)\n",
            "/usr/local/lib/python3.7/dist-packages/matplotlib/backends/backend_agg.py:183: RuntimeWarning: Glyph 52236 missing from current font.\n",
            "  font.set_text(s, 0, flags=flags)\n",
            "/usr/local/lib/python3.7/dist-packages/matplotlib/backends/backend_agg.py:183: RuntimeWarning: Glyph 50577 missing from current font.\n",
            "  font.set_text(s, 0, flags=flags)\n",
            "/usr/local/lib/python3.7/dist-packages/matplotlib/backends/backend_agg.py:183: RuntimeWarning: Glyph 45392 missing from current font.\n",
            "  font.set_text(s, 0, flags=flags)\n",
            "/usr/local/lib/python3.7/dist-packages/matplotlib/backends/backend_agg.py:183: RuntimeWarning: Glyph 45908 missing from current font.\n",
            "  font.set_text(s, 0, flags=flags)\n",
            "/usr/local/lib/python3.7/dist-packages/matplotlib/backends/backend_agg.py:183: RuntimeWarning: Glyph 44148 missing from current font.\n",
            "  font.set_text(s, 0, flags=flags)\n",
            "/usr/local/lib/python3.7/dist-packages/matplotlib/backends/backend_agg.py:183: RuntimeWarning: Glyph 44053 missing from current font.\n",
            "  font.set_text(s, 0, flags=flags)\n",
            "/usr/local/lib/python3.7/dist-packages/matplotlib/backends/backend_agg.py:183: RuntimeWarning: Glyph 54620 missing from current font.\n",
            "  font.set_text(s, 0, flags=flags)\n",
            "/usr/local/lib/python3.7/dist-packages/matplotlib/backends/backend_agg.py:183: RuntimeWarning: Glyph 45805 missing from current font.\n",
            "  font.set_text(s, 0, flags=flags)\n",
            "/usr/local/lib/python3.7/dist-packages/matplotlib/backends/backend_agg.py:183: RuntimeWarning: Glyph 49844 missing from current font.\n",
            "  font.set_text(s, 0, flags=flags)\n",
            "/usr/local/lib/python3.7/dist-packages/matplotlib/backends/backend_agg.py:183: RuntimeWarning: Glyph 49332 missing from current font.\n",
            "  font.set_text(s, 0, flags=flags)\n",
            "/usr/local/lib/python3.7/dist-packages/matplotlib/backends/backend_agg.py:183: RuntimeWarning: Glyph 54868 missing from current font.\n",
            "  font.set_text(s, 0, flags=flags)\n",
            "/usr/local/lib/python3.7/dist-packages/matplotlib/backends/backend_agg.py:183: RuntimeWarning: Glyph 53685 missing from current font.\n",
            "  font.set_text(s, 0, flags=flags)\n",
            "/usr/local/lib/python3.7/dist-packages/matplotlib/backends/backend_agg.py:183: RuntimeWarning: Glyph 44396 missing from current font.\n",
            "  font.set_text(s, 0, flags=flags)\n",
            "/usr/local/lib/python3.7/dist-packages/matplotlib/backends/backend_agg.py:183: RuntimeWarning: Glyph 48393 missing from current font.\n",
            "  font.set_text(s, 0, flags=flags)\n",
            "/usr/local/lib/python3.7/dist-packages/matplotlib/backends/backend_agg.py:183: RuntimeWarning: Glyph 49692 missing from current font.\n",
            "  font.set_text(s, 0, flags=flags)\n",
            "/usr/local/lib/python3.7/dist-packages/matplotlib/backends/backend_agg.py:183: RuntimeWarning: Glyph 49324 missing from current font.\n",
            "  font.set_text(s, 0, flags=flags)\n",
            "/usr/local/lib/python3.7/dist-packages/matplotlib/backends/backend_agg.py:183: RuntimeWarning: Glyph 44272 missing from current font.\n",
            "  font.set_text(s, 0, flags=flags)\n",
            "/usr/local/lib/python3.7/dist-packages/matplotlib/backends/backend_agg.py:183: RuntimeWarning: Glyph 53461 missing from current font.\n",
            "  font.set_text(s, 0, flags=flags)\n",
            "/usr/local/lib/python3.7/dist-packages/matplotlib/backends/backend_agg.py:183: RuntimeWarning: Glyph 48148 missing from current font.\n",
            "  font.set_text(s, 0, flags=flags)\n",
            "/usr/local/lib/python3.7/dist-packages/matplotlib/backends/backend_agg.py:183: RuntimeWarning: Glyph 49325 missing from current font.\n",
            "  font.set_text(s, 0, flags=flags)\n",
            "/usr/local/lib/python3.7/dist-packages/matplotlib/backends/backend_agg.py:183: RuntimeWarning: Glyph 53888 missing from current font.\n",
            "  font.set_text(s, 0, flags=flags)\n",
            "/usr/local/lib/python3.7/dist-packages/matplotlib/backends/backend_agg.py:183: RuntimeWarning: Glyph 44200 missing from current font.\n",
            "  font.set_text(s, 0, flags=flags)\n",
            "/usr/local/lib/python3.7/dist-packages/matplotlib/backends/backend_agg.py:183: RuntimeWarning: Glyph 45240 missing from current font.\n",
            "  font.set_text(s, 0, flags=flags)\n",
            "/usr/local/lib/python3.7/dist-packages/matplotlib/backends/backend_agg.py:183: RuntimeWarning: Glyph 46321 missing from current font.\n",
            "  font.set_text(s, 0, flags=flags)\n",
            "/usr/local/lib/python3.7/dist-packages/matplotlib/backends/backend_agg.py:183: RuntimeWarning: Glyph 49900 missing from current font.\n",
            "  font.set_text(s, 0, flags=flags)\n",
            "/usr/local/lib/python3.7/dist-packages/matplotlib/backends/backend_agg.py:183: RuntimeWarning: Glyph 46024 missing from current font.\n",
            "  font.set_text(s, 0, flags=flags)\n",
            "/usr/local/lib/python3.7/dist-packages/matplotlib/backends/backend_agg.py:183: RuntimeWarning: Glyph 52852 missing from current font.\n",
            "  font.set_text(s, 0, flags=flags)\n",
            "/usr/local/lib/python3.7/dist-packages/matplotlib/backends/backend_agg.py:183: RuntimeWarning: Glyph 52768 missing from current font.\n",
            "  font.set_text(s, 0, flags=flags)\n",
            "/usr/local/lib/python3.7/dist-packages/matplotlib/backends/backend_agg.py:183: RuntimeWarning: Glyph 47588 missing from current font.\n",
            "  font.set_text(s, 0, flags=flags)\n",
            "/usr/local/lib/python3.7/dist-packages/matplotlib/backends/backend_agg.py:183: RuntimeWarning: Glyph 50868 missing from current font.\n",
            "  font.set_text(s, 0, flags=flags)\n",
            "/usr/local/lib/python3.7/dist-packages/matplotlib/backends/backend_agg.py:183: RuntimeWarning: Glyph 48260 missing from current font.\n",
            "  font.set_text(s, 0, flags=flags)\n",
            "/usr/local/lib/python3.7/dist-packages/matplotlib/backends/backend_agg.py:183: RuntimeWarning: Glyph 49455 missing from current font.\n",
            "  font.set_text(s, 0, flags=flags)\n",
            "/usr/local/lib/python3.7/dist-packages/matplotlib/backends/backend_agg.py:183: RuntimeWarning: Glyph 52860 missing from current font.\n",
            "  font.set_text(s, 0, flags=flags)\n",
            "/usr/local/lib/python3.7/dist-packages/matplotlib/backends/backend_agg.py:183: RuntimeWarning: Glyph 44397 missing from current font.\n",
            "  font.set_text(s, 0, flags=flags)\n",
            "/usr/local/lib/python3.7/dist-packages/matplotlib/backends/backend_agg.py:214: RuntimeWarning: Glyph 54032 missing from current font.\n",
            "  font.set_text(s, 0.0, flags=flags)\n",
            "/usr/local/lib/python3.7/dist-packages/matplotlib/backends/backend_agg.py:214: RuntimeWarning: Glyph 49345 missing from current font.\n",
            "  font.set_text(s, 0.0, flags=flags)\n",
            "/usr/local/lib/python3.7/dist-packages/matplotlib/backends/backend_agg.py:214: RuntimeWarning: Glyph 54408 missing from current font.\n",
            "  font.set_text(s, 0.0, flags=flags)\n",
            "/usr/local/lib/python3.7/dist-packages/matplotlib/backends/backend_agg.py:214: RuntimeWarning: Glyph 47749 missing from current font.\n",
            "  font.set_text(s, 0.0, flags=flags)\n",
            "/usr/local/lib/python3.7/dist-packages/matplotlib/backends/backend_agg.py:183: RuntimeWarning: Glyph 54032 missing from current font.\n",
            "  font.set_text(s, 0, flags=flags)\n",
            "/usr/local/lib/python3.7/dist-packages/matplotlib/backends/backend_agg.py:183: RuntimeWarning: Glyph 49345 missing from current font.\n",
            "  font.set_text(s, 0, flags=flags)\n",
            "/usr/local/lib/python3.7/dist-packages/matplotlib/backends/backend_agg.py:183: RuntimeWarning: Glyph 54408 missing from current font.\n",
            "  font.set_text(s, 0, flags=flags)\n",
            "/usr/local/lib/python3.7/dist-packages/matplotlib/backends/backend_agg.py:183: RuntimeWarning: Glyph 47749 missing from current font.\n",
            "  font.set_text(s, 0, flags=flags)\n"
          ]
        },
        {
          "output_type": "display_data",
          "data": {
            "text/plain": [
              "<Figure size 432x288 with 1 Axes>"
            ],
            "image/png": "[encoded data removed]"
          },
          "metadata": {
            "needs_background": "light"
          }
        }
      ]
    },
    {
      "cell_type": "code",
      "source": [
        "plt.figure(figsize=(6,5))\n",
        "sns.countplot(y='표준카테고리', data=df_2, order=[df_2['표준카테고리'].value_counts().head(10).index[i] for i in range(0,10)])"
      ],
      "metadata": {
        "colab": {
          "base_uri": "https://localhost:8080/",
          "height": 1000
        },
        "id": "SOZyyinVl5Vx",
        "outputId": "f3700175-ab66-4492-acbf-3ee00464a701"
      },
      "id": "SOZyyinVl5Vx",
      "execution_count": 161,
      "outputs": [
        {
          "output_type": "execute_result",
          "data": {
            "text/plain": [
              "<matplotlib.axes._subplots.AxesSubplot at 0x7f2e0a8f52d0>"
            ]
          },
          "metadata": {},
          "execution_count": 161
        },
        {
          "output_type": "stream",
          "name": "stderr",
          "text": [
            "/usr/local/lib/python3.7/dist-packages/matplotlib/backends/backend_agg.py:214: RuntimeWarning: Glyph 45257 missing from current font.\n",
            "  font.set_text(s, 0.0, flags=flags)\n",
            "/usr/local/lib/python3.7/dist-packages/matplotlib/backends/backend_agg.py:214: RuntimeWarning: Glyph 51109 missing from current font.\n",
            "  font.set_text(s, 0.0, flags=flags)\n",
            "/usr/local/lib/python3.7/dist-packages/matplotlib/backends/backend_agg.py:214: RuntimeWarning: Glyph 46041 missing from current font.\n",
            "  font.set_text(s, 0.0, flags=flags)\n",
            "/usr/local/lib/python3.7/dist-packages/matplotlib/backends/backend_agg.py:214: RuntimeWarning: Glyph 44036 missing from current font.\n",
            "  font.set_text(s, 0.0, flags=flags)\n",
            "/usr/local/lib/python3.7/dist-packages/matplotlib/backends/backend_agg.py:214: RuntimeWarning: Glyph 54200 missing from current font.\n",
            "  font.set_text(s, 0.0, flags=flags)\n",
            "/usr/local/lib/python3.7/dist-packages/matplotlib/backends/backend_agg.py:214: RuntimeWarning: Glyph 49885 missing from current font.\n",
            "  font.set_text(s, 0.0, flags=flags)\n",
            "/usr/local/lib/python3.7/dist-packages/matplotlib/backends/backend_agg.py:214: RuntimeWarning: Glyph 46497 missing from current font.\n",
            "  font.set_text(s, 0.0, flags=flags)\n",
            "/usr/local/lib/python3.7/dist-packages/matplotlib/backends/backend_agg.py:214: RuntimeWarning: Glyph 48374 missing from current font.\n",
            "  font.set_text(s, 0.0, flags=flags)\n",
            "/usr/local/lib/python3.7/dist-packages/matplotlib/backends/backend_agg.py:214: RuntimeWarning: Glyph 51060 missing from current font.\n",
            "  font.set_text(s, 0.0, flags=flags)\n",
            "/usr/local/lib/python3.7/dist-packages/matplotlib/backends/backend_agg.py:214: RuntimeWarning: Glyph 47564 missing from current font.\n",
            "  font.set_text(s, 0.0, flags=flags)\n",
            "/usr/local/lib/python3.7/dist-packages/matplotlib/backends/backend_agg.py:214: RuntimeWarning: Glyph 46160 missing from current font.\n",
            "  font.set_text(s, 0.0, flags=flags)\n",
            "/usr/local/lib/python3.7/dist-packages/matplotlib/backends/backend_agg.py:214: RuntimeWarning: Glyph 44032 missing from current font.\n",
            "  font.set_text(s, 0.0, flags=flags)\n",
            "/usr/local/lib/python3.7/dist-packages/matplotlib/backends/backend_agg.py:214: RuntimeWarning: Glyph 44277 missing from current font.\n",
            "  font.set_text(s, 0.0, flags=flags)\n",
            "/usr/local/lib/python3.7/dist-packages/matplotlib/backends/backend_agg.py:214: RuntimeWarning: Glyph 54408 missing from current font.\n",
            "  font.set_text(s, 0.0, flags=flags)\n",
            "/usr/local/lib/python3.7/dist-packages/matplotlib/backends/backend_agg.py:214: RuntimeWarning: Glyph 49548 missing from current font.\n",
            "  font.set_text(s, 0.0, flags=flags)\n",
            "/usr/local/lib/python3.7/dist-packages/matplotlib/backends/backend_agg.py:214: RuntimeWarning: Glyph 49828 missing from current font.\n",
            "  font.set_text(s, 0.0, flags=flags)\n",
            "/usr/local/lib/python3.7/dist-packages/matplotlib/backends/backend_agg.py:214: RuntimeWarning: Glyph 46300 missing from current font.\n",
            "  font.set_text(s, 0.0, flags=flags)\n",
            "/usr/local/lib/python3.7/dist-packages/matplotlib/backends/backend_agg.py:214: RuntimeWarning: Glyph 47112 missing from current font.\n",
            "  font.set_text(s, 0.0, flags=flags)\n",
            "/usr/local/lib/python3.7/dist-packages/matplotlib/backends/backend_agg.py:214: RuntimeWarning: Glyph 49905 missing from current font.\n",
            "  font.set_text(s, 0.0, flags=flags)\n",
            "/usr/local/lib/python3.7/dist-packages/matplotlib/backends/backend_agg.py:214: RuntimeWarning: Glyph 44404 missing from current font.\n",
            "  font.set_text(s, 0.0, flags=flags)\n",
            "/usr/local/lib/python3.7/dist-packages/matplotlib/backends/backend_agg.py:214: RuntimeWarning: Glyph 51473 missing from current font.\n",
            "  font.set_text(s, 0.0, flags=flags)\n",
            "/usr/local/lib/python3.7/dist-packages/matplotlib/backends/backend_agg.py:214: RuntimeWarning: Glyph 54868 missing from current font.\n",
            "  font.set_text(s, 0.0, flags=flags)\n",
            "/usr/local/lib/python3.7/dist-packages/matplotlib/backends/backend_agg.py:214: RuntimeWarning: Glyph 50836 missing from current font.\n",
            "  font.set_text(s, 0.0, flags=flags)\n",
            "/usr/local/lib/python3.7/dist-packages/matplotlib/backends/backend_agg.py:214: RuntimeWarning: Glyph 47532 missing from current font.\n",
            "  font.set_text(s, 0.0, flags=flags)\n",
            "/usr/local/lib/python3.7/dist-packages/matplotlib/backends/backend_agg.py:214: RuntimeWarning: Glyph 44397 missing from current font.\n",
            "  font.set_text(s, 0.0, flags=flags)\n",
            "/usr/local/lib/python3.7/dist-packages/matplotlib/backends/backend_agg.py:214: RuntimeWarning: Glyph 53461 missing from current font.\n",
            "  font.set_text(s, 0.0, flags=flags)\n",
            "/usr/local/lib/python3.7/dist-packages/matplotlib/backends/backend_agg.py:214: RuntimeWarning: Glyph 52236 missing from current font.\n",
            "  font.set_text(s, 0.0, flags=flags)\n",
            "/usr/local/lib/python3.7/dist-packages/matplotlib/backends/backend_agg.py:214: RuntimeWarning: Glyph 44060 missing from current font.\n",
            "  font.set_text(s, 0.0, flags=flags)\n",
            "/usr/local/lib/python3.7/dist-packages/matplotlib/backends/backend_agg.py:214: RuntimeWarning: Glyph 51593 missing from current font.\n",
            "  font.set_text(s, 0.0, flags=flags)\n",
            "/usr/local/lib/python3.7/dist-packages/matplotlib/backends/backend_agg.py:214: RuntimeWarning: Glyph 49437 missing from current font.\n",
            "  font.set_text(s, 0.0, flags=flags)\n",
            "/usr/local/lib/python3.7/dist-packages/matplotlib/backends/backend_agg.py:214: RuntimeWarning: Glyph 48165 missing from current font.\n",
            "  font.set_text(s, 0.0, flags=flags)\n",
            "/usr/local/lib/python3.7/dist-packages/matplotlib/backends/backend_agg.py:214: RuntimeWarning: Glyph 51453 missing from current font.\n",
            "  font.set_text(s, 0.0, flags=flags)\n",
            "/usr/local/lib/python3.7/dist-packages/matplotlib/backends/backend_agg.py:214: RuntimeWarning: Glyph 54532 missing from current font.\n",
            "  font.set_text(s, 0.0, flags=flags)\n",
            "/usr/local/lib/python3.7/dist-packages/matplotlib/backends/backend_agg.py:214: RuntimeWarning: Glyph 46024 missing from current font.\n",
            "  font.set_text(s, 0.0, flags=flags)\n",
            "/usr/local/lib/python3.7/dist-packages/matplotlib/backends/backend_agg.py:214: RuntimeWarning: Glyph 44256 missing from current font.\n",
            "  font.set_text(s, 0.0, flags=flags)\n",
            "/usr/local/lib/python3.7/dist-packages/matplotlib/backends/backend_agg.py:214: RuntimeWarning: Glyph 47196 missing from current font.\n",
            "  font.set_text(s, 0.0, flags=flags)\n",
            "/usr/local/lib/python3.7/dist-packages/matplotlib/backends/backend_agg.py:214: RuntimeWarning: Glyph 52992 missing from current font.\n",
            "  font.set_text(s, 0.0, flags=flags)\n",
            "/usr/local/lib/python3.7/dist-packages/matplotlib/backends/backend_agg.py:214: RuntimeWarning: Glyph 45320 missing from current font.\n",
            "  font.set_text(s, 0.0, flags=flags)\n",
            "/usr/local/lib/python3.7/dist-packages/matplotlib/backends/backend_agg.py:214: RuntimeWarning: Glyph 44191 missing from current font.\n",
            "  font.set_text(s, 0.0, flags=flags)\n",
            "/usr/local/lib/python3.7/dist-packages/matplotlib/backends/backend_agg.py:214: RuntimeWarning: Glyph 54660 missing from current font.\n",
            "  font.set_text(s, 0.0, flags=flags)\n",
            "/usr/local/lib/python3.7/dist-packages/matplotlib/backends/backend_agg.py:214: RuntimeWarning: Glyph 49884 missing from current font.\n",
            "  font.set_text(s, 0.0, flags=flags)\n",
            "/usr/local/lib/python3.7/dist-packages/matplotlib/backends/backend_agg.py:214: RuntimeWarning: Glyph 51648 missing from current font.\n",
            "  font.set_text(s, 0.0, flags=flags)\n",
            "/usr/local/lib/python3.7/dist-packages/matplotlib/backends/backend_agg.py:214: RuntimeWarning: Glyph 48288 missing from current font.\n",
            "  font.set_text(s, 0.0, flags=flags)\n",
            "/usr/local/lib/python3.7/dist-packages/matplotlib/backends/backend_agg.py:214: RuntimeWarning: Glyph 52968 missing from current font.\n",
            "  font.set_text(s, 0.0, flags=flags)\n",
            "/usr/local/lib/python3.7/dist-packages/matplotlib/backends/backend_agg.py:214: RuntimeWarning: Glyph 51020 missing from current font.\n",
            "  font.set_text(s, 0.0, flags=flags)\n",
            "/usr/local/lib/python3.7/dist-packages/matplotlib/backends/backend_agg.py:214: RuntimeWarning: Glyph 51221 missing from current font.\n",
            "  font.set_text(s, 0.0, flags=flags)\n",
            "/usr/local/lib/python3.7/dist-packages/matplotlib/backends/backend_agg.py:214: RuntimeWarning: Glyph 50977 missing from current font.\n",
            "  font.set_text(s, 0.0, flags=flags)\n",
            "/usr/local/lib/python3.7/dist-packages/matplotlib/backends/backend_agg.py:214: RuntimeWarning: Glyph 44228 missing from current font.\n",
            "  font.set_text(s, 0.0, flags=flags)\n",
            "/usr/local/lib/python3.7/dist-packages/matplotlib/backends/backend_agg.py:214: RuntimeWarning: Glyph 46976 missing from current font.\n",
            "  font.set_text(s, 0.0, flags=flags)\n",
            "/usr/local/lib/python3.7/dist-packages/matplotlib/backends/backend_agg.py:214: RuntimeWarning: Glyph 50577 missing from current font.\n",
            "  font.set_text(s, 0.0, flags=flags)\n",
            "/usr/local/lib/python3.7/dist-packages/matplotlib/backends/backend_agg.py:214: RuntimeWarning: Glyph 45392 missing from current font.\n",
            "  font.set_text(s, 0.0, flags=flags)\n",
            "/usr/local/lib/python3.7/dist-packages/matplotlib/backends/backend_agg.py:214: RuntimeWarning: Glyph 44592 missing from current font.\n",
            "  font.set_text(s, 0.0, flags=flags)\n",
            "/usr/local/lib/python3.7/dist-packages/matplotlib/backends/backend_agg.py:214: RuntimeWarning: Glyph 53440 missing from current font.\n",
            "  font.set_text(s, 0.0, flags=flags)\n",
            "/usr/local/lib/python3.7/dist-packages/matplotlib/backends/backend_agg.py:214: RuntimeWarning: Glyph 44608 missing from current font.\n",
            "  font.set_text(s, 0.0, flags=flags)\n",
            "/usr/local/lib/python3.7/dist-packages/matplotlib/backends/backend_agg.py:214: RuntimeWarning: Glyph 52824 missing from current font.\n",
            "  font.set_text(s, 0.0, flags=flags)\n",
            "/usr/local/lib/python3.7/dist-packages/matplotlib/backends/backend_agg.py:214: RuntimeWarning: Glyph 48152 missing from current font.\n",
            "  font.set_text(s, 0.0, flags=flags)\n",
            "/usr/local/lib/python3.7/dist-packages/matplotlib/backends/backend_agg.py:214: RuntimeWarning: Glyph 52268 missing from current font.\n",
            "  font.set_text(s, 0.0, flags=flags)\n",
            "/usr/local/lib/python3.7/dist-packages/matplotlib/backends/backend_agg.py:214: RuntimeWarning: Glyph 54252 missing from current font.\n",
            "  font.set_text(s, 0.0, flags=flags)\n",
            "/usr/local/lib/python3.7/dist-packages/matplotlib/backends/backend_agg.py:214: RuntimeWarning: Glyph 54588 missing from current font.\n",
            "  font.set_text(s, 0.0, flags=flags)\n",
            "/usr/local/lib/python3.7/dist-packages/matplotlib/backends/backend_agg.py:214: RuntimeWarning: Glyph 51088 missing from current font.\n",
            "  font.set_text(s, 0.0, flags=flags)\n",
            "/usr/local/lib/python3.7/dist-packages/matplotlib/backends/backend_agg.py:214: RuntimeWarning: Glyph 54635 missing from current font.\n",
            "  font.set_text(s, 0.0, flags=flags)\n",
            "/usr/local/lib/python3.7/dist-packages/matplotlib/backends/backend_agg.py:214: RuntimeWarning: Glyph 46020 missing from current font.\n",
            "  font.set_text(s, 0.0, flags=flags)\n",
            "/usr/local/lib/python3.7/dist-packages/matplotlib/backends/backend_agg.py:214: RuntimeWarning: Glyph 44536 missing from current font.\n",
            "  font.set_text(s, 0.0, flags=flags)\n",
            "/usr/local/lib/python3.7/dist-packages/matplotlib/backends/backend_agg.py:214: RuntimeWarning: Glyph 48260 missing from current font.\n",
            "  font.set_text(s, 0.0, flags=flags)\n",
            "/usr/local/lib/python3.7/dist-packages/matplotlib/backends/backend_agg.py:214: RuntimeWarning: Glyph 44144 missing from current font.\n",
            "  font.set_text(s, 0.0, flags=flags)\n",
            "/usr/local/lib/python3.7/dist-packages/matplotlib/backends/backend_agg.py:183: RuntimeWarning: Glyph 45257 missing from current font.\n",
            "  font.set_text(s, 0, flags=flags)\n",
            "/usr/local/lib/python3.7/dist-packages/matplotlib/backends/backend_agg.py:183: RuntimeWarning: Glyph 51109 missing from current font.\n",
            "  font.set_text(s, 0, flags=flags)\n",
            "/usr/local/lib/python3.7/dist-packages/matplotlib/backends/backend_agg.py:183: RuntimeWarning: Glyph 46041 missing from current font.\n",
            "  font.set_text(s, 0, flags=flags)\n",
            "/usr/local/lib/python3.7/dist-packages/matplotlib/backends/backend_agg.py:183: RuntimeWarning: Glyph 44036 missing from current font.\n",
            "  font.set_text(s, 0, flags=flags)\n",
            "/usr/local/lib/python3.7/dist-packages/matplotlib/backends/backend_agg.py:183: RuntimeWarning: Glyph 54200 missing from current font.\n",
            "  font.set_text(s, 0, flags=flags)\n",
            "/usr/local/lib/python3.7/dist-packages/matplotlib/backends/backend_agg.py:183: RuntimeWarning: Glyph 49885 missing from current font.\n",
            "  font.set_text(s, 0, flags=flags)\n",
            "/usr/local/lib/python3.7/dist-packages/matplotlib/backends/backend_agg.py:183: RuntimeWarning: Glyph 46497 missing from current font.\n",
            "  font.set_text(s, 0, flags=flags)\n",
            "/usr/local/lib/python3.7/dist-packages/matplotlib/backends/backend_agg.py:183: RuntimeWarning: Glyph 48374 missing from current font.\n",
            "  font.set_text(s, 0, flags=flags)\n",
            "/usr/local/lib/python3.7/dist-packages/matplotlib/backends/backend_agg.py:183: RuntimeWarning: Glyph 51060 missing from current font.\n",
            "  font.set_text(s, 0, flags=flags)\n",
            "/usr/local/lib/python3.7/dist-packages/matplotlib/backends/backend_agg.py:183: RuntimeWarning: Glyph 47564 missing from current font.\n",
            "  font.set_text(s, 0, flags=flags)\n",
            "/usr/local/lib/python3.7/dist-packages/matplotlib/backends/backend_agg.py:183: RuntimeWarning: Glyph 46160 missing from current font.\n",
            "  font.set_text(s, 0, flags=flags)\n",
            "/usr/local/lib/python3.7/dist-packages/matplotlib/backends/backend_agg.py:183: RuntimeWarning: Glyph 44032 missing from current font.\n",
            "  font.set_text(s, 0, flags=flags)\n",
            "/usr/local/lib/python3.7/dist-packages/matplotlib/backends/backend_agg.py:183: RuntimeWarning: Glyph 44277 missing from current font.\n",
            "  font.set_text(s, 0, flags=flags)\n",
            "/usr/local/lib/python3.7/dist-packages/matplotlib/backends/backend_agg.py:183: RuntimeWarning: Glyph 54408 missing from current font.\n",
            "  font.set_text(s, 0, flags=flags)\n",
            "/usr/local/lib/python3.7/dist-packages/matplotlib/backends/backend_agg.py:183: RuntimeWarning: Glyph 49548 missing from current font.\n",
            "  font.set_text(s, 0, flags=flags)\n",
            "/usr/local/lib/python3.7/dist-packages/matplotlib/backends/backend_agg.py:183: RuntimeWarning: Glyph 49828 missing from current font.\n",
            "  font.set_text(s, 0, flags=flags)\n",
            "/usr/local/lib/python3.7/dist-packages/matplotlib/backends/backend_agg.py:183: RuntimeWarning: Glyph 46300 missing from current font.\n",
            "  font.set_text(s, 0, flags=flags)\n",
            "/usr/local/lib/python3.7/dist-packages/matplotlib/backends/backend_agg.py:183: RuntimeWarning: Glyph 47112 missing from current font.\n",
            "  font.set_text(s, 0, flags=flags)\n",
            "/usr/local/lib/python3.7/dist-packages/matplotlib/backends/backend_agg.py:183: RuntimeWarning: Glyph 49905 missing from current font.\n",
            "  font.set_text(s, 0, flags=flags)\n",
            "/usr/local/lib/python3.7/dist-packages/matplotlib/backends/backend_agg.py:183: RuntimeWarning: Glyph 44404 missing from current font.\n",
            "  font.set_text(s, 0, flags=flags)\n",
            "/usr/local/lib/python3.7/dist-packages/matplotlib/backends/backend_agg.py:183: RuntimeWarning: Glyph 51473 missing from current font.\n",
            "  font.set_text(s, 0, flags=flags)\n",
            "/usr/local/lib/python3.7/dist-packages/matplotlib/backends/backend_agg.py:183: RuntimeWarning: Glyph 54868 missing from current font.\n",
            "  font.set_text(s, 0, flags=flags)\n",
            "/usr/local/lib/python3.7/dist-packages/matplotlib/backends/backend_agg.py:183: RuntimeWarning: Glyph 50836 missing from current font.\n",
            "  font.set_text(s, 0, flags=flags)\n",
            "/usr/local/lib/python3.7/dist-packages/matplotlib/backends/backend_agg.py:183: RuntimeWarning: Glyph 47532 missing from current font.\n",
            "  font.set_text(s, 0, flags=flags)\n",
            "/usr/local/lib/python3.7/dist-packages/matplotlib/backends/backend_agg.py:183: RuntimeWarning: Glyph 44397 missing from current font.\n",
            "  font.set_text(s, 0, flags=flags)\n",
            "/usr/local/lib/python3.7/dist-packages/matplotlib/backends/backend_agg.py:183: RuntimeWarning: Glyph 53461 missing from current font.\n",
            "  font.set_text(s, 0, flags=flags)\n",
            "/usr/local/lib/python3.7/dist-packages/matplotlib/backends/backend_agg.py:183: RuntimeWarning: Glyph 52236 missing from current font.\n",
            "  font.set_text(s, 0, flags=flags)\n",
            "/usr/local/lib/python3.7/dist-packages/matplotlib/backends/backend_agg.py:183: RuntimeWarning: Glyph 44060 missing from current font.\n",
            "  font.set_text(s, 0, flags=flags)\n",
            "/usr/local/lib/python3.7/dist-packages/matplotlib/backends/backend_agg.py:183: RuntimeWarning: Glyph 51593 missing from current font.\n",
            "  font.set_text(s, 0, flags=flags)\n",
            "/usr/local/lib/python3.7/dist-packages/matplotlib/backends/backend_agg.py:183: RuntimeWarning: Glyph 49437 missing from current font.\n",
            "  font.set_text(s, 0, flags=flags)\n",
            "/usr/local/lib/python3.7/dist-packages/matplotlib/backends/backend_agg.py:183: RuntimeWarning: Glyph 48165 missing from current font.\n",
            "  font.set_text(s, 0, flags=flags)\n",
            "/usr/local/lib/python3.7/dist-packages/matplotlib/backends/backend_agg.py:183: RuntimeWarning: Glyph 51453 missing from current font.\n",
            "  font.set_text(s, 0, flags=flags)\n",
            "/usr/local/lib/python3.7/dist-packages/matplotlib/backends/backend_agg.py:183: RuntimeWarning: Glyph 54532 missing from current font.\n",
            "  font.set_text(s, 0, flags=flags)\n",
            "/usr/local/lib/python3.7/dist-packages/matplotlib/backends/backend_agg.py:183: RuntimeWarning: Glyph 46024 missing from current font.\n",
            "  font.set_text(s, 0, flags=flags)\n",
            "/usr/local/lib/python3.7/dist-packages/matplotlib/backends/backend_agg.py:183: RuntimeWarning: Glyph 44256 missing from current font.\n",
            "  font.set_text(s, 0, flags=flags)\n",
            "/usr/local/lib/python3.7/dist-packages/matplotlib/backends/backend_agg.py:183: RuntimeWarning: Glyph 47196 missing from current font.\n",
            "  font.set_text(s, 0, flags=flags)\n",
            "/usr/local/lib/python3.7/dist-packages/matplotlib/backends/backend_agg.py:183: RuntimeWarning: Glyph 52992 missing from current font.\n",
            "  font.set_text(s, 0, flags=flags)\n",
            "/usr/local/lib/python3.7/dist-packages/matplotlib/backends/backend_agg.py:183: RuntimeWarning: Glyph 45320 missing from current font.\n",
            "  font.set_text(s, 0, flags=flags)\n",
            "/usr/local/lib/python3.7/dist-packages/matplotlib/backends/backend_agg.py:183: RuntimeWarning: Glyph 44191 missing from current font.\n",
            "  font.set_text(s, 0, flags=flags)\n",
            "/usr/local/lib/python3.7/dist-packages/matplotlib/backends/backend_agg.py:183: RuntimeWarning: Glyph 54660 missing from current font.\n",
            "  font.set_text(s, 0, flags=flags)\n",
            "/usr/local/lib/python3.7/dist-packages/matplotlib/backends/backend_agg.py:183: RuntimeWarning: Glyph 49884 missing from current font.\n",
            "  font.set_text(s, 0, flags=flags)\n",
            "/usr/local/lib/python3.7/dist-packages/matplotlib/backends/backend_agg.py:183: RuntimeWarning: Glyph 51648 missing from current font.\n",
            "  font.set_text(s, 0, flags=flags)\n",
            "/usr/local/lib/python3.7/dist-packages/matplotlib/backends/backend_agg.py:183: RuntimeWarning: Glyph 48288 missing from current font.\n",
            "  font.set_text(s, 0, flags=flags)\n",
            "/usr/local/lib/python3.7/dist-packages/matplotlib/backends/backend_agg.py:183: RuntimeWarning: Glyph 52968 missing from current font.\n",
            "  font.set_text(s, 0, flags=flags)\n",
            "/usr/local/lib/python3.7/dist-packages/matplotlib/backends/backend_agg.py:183: RuntimeWarning: Glyph 51020 missing from current font.\n",
            "  font.set_text(s, 0, flags=flags)\n",
            "/usr/local/lib/python3.7/dist-packages/matplotlib/backends/backend_agg.py:183: RuntimeWarning: Glyph 51221 missing from current font.\n",
            "  font.set_text(s, 0, flags=flags)\n",
            "/usr/local/lib/python3.7/dist-packages/matplotlib/backends/backend_agg.py:183: RuntimeWarning: Glyph 50977 missing from current font.\n",
            "  font.set_text(s, 0, flags=flags)\n",
            "/usr/local/lib/python3.7/dist-packages/matplotlib/backends/backend_agg.py:183: RuntimeWarning: Glyph 44228 missing from current font.\n",
            "  font.set_text(s, 0, flags=flags)\n",
            "/usr/local/lib/python3.7/dist-packages/matplotlib/backends/backend_agg.py:183: RuntimeWarning: Glyph 46976 missing from current font.\n",
            "  font.set_text(s, 0, flags=flags)\n",
            "/usr/local/lib/python3.7/dist-packages/matplotlib/backends/backend_agg.py:183: RuntimeWarning: Glyph 50577 missing from current font.\n",
            "  font.set_text(s, 0, flags=flags)\n",
            "/usr/local/lib/python3.7/dist-packages/matplotlib/backends/backend_agg.py:183: RuntimeWarning: Glyph 45392 missing from current font.\n",
            "  font.set_text(s, 0, flags=flags)\n",
            "/usr/local/lib/python3.7/dist-packages/matplotlib/backends/backend_agg.py:183: RuntimeWarning: Glyph 44592 missing from current font.\n",
            "  font.set_text(s, 0, flags=flags)\n",
            "/usr/local/lib/python3.7/dist-packages/matplotlib/backends/backend_agg.py:183: RuntimeWarning: Glyph 53440 missing from current font.\n",
            "  font.set_text(s, 0, flags=flags)\n",
            "/usr/local/lib/python3.7/dist-packages/matplotlib/backends/backend_agg.py:183: RuntimeWarning: Glyph 44608 missing from current font.\n",
            "  font.set_text(s, 0, flags=flags)\n",
            "/usr/local/lib/python3.7/dist-packages/matplotlib/backends/backend_agg.py:183: RuntimeWarning: Glyph 52824 missing from current font.\n",
            "  font.set_text(s, 0, flags=flags)\n",
            "/usr/local/lib/python3.7/dist-packages/matplotlib/backends/backend_agg.py:183: RuntimeWarning: Glyph 48152 missing from current font.\n",
            "  font.set_text(s, 0, flags=flags)\n",
            "/usr/local/lib/python3.7/dist-packages/matplotlib/backends/backend_agg.py:183: RuntimeWarning: Glyph 52268 missing from current font.\n",
            "  font.set_text(s, 0, flags=flags)\n",
            "/usr/local/lib/python3.7/dist-packages/matplotlib/backends/backend_agg.py:183: RuntimeWarning: Glyph 54252 missing from current font.\n",
            "  font.set_text(s, 0, flags=flags)\n",
            "/usr/local/lib/python3.7/dist-packages/matplotlib/backends/backend_agg.py:183: RuntimeWarning: Glyph 54588 missing from current font.\n",
            "  font.set_text(s, 0, flags=flags)\n",
            "/usr/local/lib/python3.7/dist-packages/matplotlib/backends/backend_agg.py:183: RuntimeWarning: Glyph 51088 missing from current font.\n",
            "  font.set_text(s, 0, flags=flags)\n",
            "/usr/local/lib/python3.7/dist-packages/matplotlib/backends/backend_agg.py:183: RuntimeWarning: Glyph 54635 missing from current font.\n",
            "  font.set_text(s, 0, flags=flags)\n",
            "/usr/local/lib/python3.7/dist-packages/matplotlib/backends/backend_agg.py:183: RuntimeWarning: Glyph 46020 missing from current font.\n",
            "  font.set_text(s, 0, flags=flags)\n",
            "/usr/local/lib/python3.7/dist-packages/matplotlib/backends/backend_agg.py:183: RuntimeWarning: Glyph 44536 missing from current font.\n",
            "  font.set_text(s, 0, flags=flags)\n",
            "/usr/local/lib/python3.7/dist-packages/matplotlib/backends/backend_agg.py:183: RuntimeWarning: Glyph 48260 missing from current font.\n",
            "  font.set_text(s, 0, flags=flags)\n",
            "/usr/local/lib/python3.7/dist-packages/matplotlib/backends/backend_agg.py:183: RuntimeWarning: Glyph 44144 missing from current font.\n",
            "  font.set_text(s, 0, flags=flags)\n",
            "/usr/local/lib/python3.7/dist-packages/matplotlib/backends/backend_agg.py:214: RuntimeWarning: Glyph 54364 missing from current font.\n",
            "  font.set_text(s, 0.0, flags=flags)\n",
            "/usr/local/lib/python3.7/dist-packages/matplotlib/backends/backend_agg.py:214: RuntimeWarning: Glyph 51456 missing from current font.\n",
            "  font.set_text(s, 0.0, flags=flags)\n",
            "/usr/local/lib/python3.7/dist-packages/matplotlib/backends/backend_agg.py:214: RuntimeWarning: Glyph 52852 missing from current font.\n",
            "  font.set_text(s, 0.0, flags=flags)\n",
            "/usr/local/lib/python3.7/dist-packages/matplotlib/backends/backend_agg.py:214: RuntimeWarning: Glyph 53580 missing from current font.\n",
            "  font.set_text(s, 0.0, flags=flags)\n",
            "/usr/local/lib/python3.7/dist-packages/matplotlib/backends/backend_agg.py:183: RuntimeWarning: Glyph 54364 missing from current font.\n",
            "  font.set_text(s, 0, flags=flags)\n",
            "/usr/local/lib/python3.7/dist-packages/matplotlib/backends/backend_agg.py:183: RuntimeWarning: Glyph 51456 missing from current font.\n",
            "  font.set_text(s, 0, flags=flags)\n",
            "/usr/local/lib/python3.7/dist-packages/matplotlib/backends/backend_agg.py:183: RuntimeWarning: Glyph 52852 missing from current font.\n",
            "  font.set_text(s, 0, flags=flags)\n",
            "/usr/local/lib/python3.7/dist-packages/matplotlib/backends/backend_agg.py:183: RuntimeWarning: Glyph 53580 missing from current font.\n",
            "  font.set_text(s, 0, flags=flags)\n"
          ]
        },
        {
          "output_type": "display_data",
          "data": {
            "text/plain": [
              "<Figure size 432x360 with 1 Axes>"
            ],
            "image/png": "[encoded data removed]"
          },
          "metadata": {
            "needs_background": "light"
          }
        }
      ]
    },
    {
      "cell_type": "markdown",
      "source": [
        "-> 2월 : 만두 > 요리소스 > 즉석밥 > 국/탕 > 스테이크, 햄 등등\n",
        "* 만두의 비율이 압도적으로 많으므로 할인을 실시했는지 원인 살펴보기(코드 삽입)"
      ],
      "metadata": {
        "id": "LtKxfXjMmGj9"
      },
      "id": "LtKxfXjMmGj9"
    },
    {
      "cell_type": "markdown",
      "source": [
        "## 4) 3월 분석하기"
      ],
      "metadata": {
        "id": "POcctptemLQk"
      },
      "id": "POcctptemLQk"
    },
    {
      "cell_type": "code",
      "source": [
        "df_3['판매자상품명'].value_counts().head(10)\n",
        "sns.countplot(y='판매자상품명', data=df_3, order=[df_3['판매자상품명'].value_counts().head(10).index[i] for i in range(0,10)])"
      ],
      "metadata": {
        "id": "towbpxlgmjey"
      },
      "id": "towbpxlgmjey",
      "execution_count": null,
      "outputs": []
    },
    {
      "cell_type": "code",
      "source": [
        "plt.figure(figsize=(6,5))\n",
        "sns.countplot(y='표준카테고리', data=df_3, order=[df_3['표준카테고리'].value_counts().head(10).index[i] for i in range(0,10)])"
      ],
      "metadata": {
        "id": "fD09gr7smol7"
      },
      "id": "fD09gr7smol7",
      "execution_count": null,
      "outputs": []
    },
    {
      "cell_type": "markdown",
      "source": [
        "3월은 만두 > 조미료 > 국/탕 > 즉석밥/죽 > 돈가스"
      ],
      "metadata": {
        "id": "JflHxoGEmtiT"
      },
      "id": "JflHxoGEmtiT"
    },
    {
      "cell_type": "markdown",
      "source": [
        "## 5) 4월 분석하기"
      ],
      "metadata": {
        "id": "I8grIIhom_IY"
      },
      "id": "I8grIIhom_IY"
    },
    {
      "cell_type": "code",
      "source": [
        "df_4['판매자상품명'].value_counts().head(10)\n",
        "sns.countplot(y='판매자상품명', data=df_4, order=[df_4['판매자상품명'].value_counts().head(10).index[i] for i in range(0,10)])"
      ],
      "metadata": {
        "id": "DrRBTva-m2Av"
      },
      "id": "DrRBTva-m2Av",
      "execution_count": null,
      "outputs": []
    },
    {
      "cell_type": "code",
      "source": [
        "plt.figure(figsize=(6,5))\n",
        "sns.countplot(y='표준카테고리', data=df_4, order=[df_4['표준카테고리'].value_counts().head(10).index[i] for i in range(0,10)])"
      ],
      "metadata": {
        "id": "SzrHGBxgnDA3"
      },
      "id": "SzrHGBxgnDA3",
      "execution_count": null,
      "outputs": []
    },
    {
      "cell_type": "markdown",
      "source": [
        "4월 - 만두 > 즉석밥 > 장류 > 돈가스 > 식용유"
      ],
      "metadata": {
        "id": "9HuC5e18nMDe"
      },
      "id": "9HuC5e18nMDe"
    },
    {
      "cell_type": "markdown",
      "source": [
        "## 6) 5월 분석하기"
      ],
      "metadata": {
        "id": "dxGqq258nnwb"
      },
      "id": "dxGqq258nnwb"
    },
    {
      "cell_type": "code",
      "source": [
        "df_5['판매자상품명'].value_counts().head(10)\n",
        "sns.countplot(y='판매자상품명', data=df_5, order=[df_5['판매자상품명'].value_counts().head(10).index[i] for i in range(0,10)])"
      ],
      "metadata": {
        "id": "m8kpM93snm_P"
      },
      "id": "m8kpM93snm_P",
      "execution_count": null,
      "outputs": []
    },
    {
      "cell_type": "code",
      "source": [
        "plt.figure(figsize=(6,5))\n",
        "sns.countplot(y='표준카테고리', data=df_5, order=[df_5['표준카테고리'].value_counts().head(10).index[i] for i in range(0,10)])"
      ],
      "metadata": {
        "id": "e_WUAd_8ntOb"
      },
      "id": "e_WUAd_8ntOb",
      "execution_count": null,
      "outputs": []
    },
    {
      "cell_type": "markdown",
      "source": [
        "5월: 식용유 > 만두 > 즉석밥 > 젤리/푸딩\n",
        "* 식용유 할인했는지 유입채널은 무엇인지 살펴보기 (코드 삽입)"
      ],
      "metadata": {
        "id": "DQEkcmHGnmf7"
      },
      "id": "DQEkcmHGnmf7"
    },
    {
      "cell_type": "markdown",
      "source": [
        "## 7) 6월 분석하기"
      ],
      "metadata": {
        "id": "Y6UmE_jrnLow"
      },
      "id": "Y6UmE_jrnLow"
    },
    {
      "cell_type": "code",
      "source": [
        "df_6['판매자상품명'].value_counts().head(10)\n",
        "sns.countplot(y='판매자상품명', data=df_6, order=[df_6['판매자상품명'].value_counts().head(10).index[i] for i in range(0,10)])"
      ],
      "metadata": {
        "id": "FQLl0MHlogi5"
      },
      "id": "FQLl0MHlogi5",
      "execution_count": null,
      "outputs": []
    },
    {
      "cell_type": "code",
      "source": [
        "plt.figure(figsize=(6,5))\n",
        "sns.countplot(y='표준카테고리', data=df_6, order=[df_6['표준카테고리'].value_counts().head(10).index[i] for i in range(0,10)])"
      ],
      "metadata": {
        "id": "Xpym-57hojdn"
      },
      "id": "Xpym-57hojdn",
      "execution_count": null,
      "outputs": []
    },
    {
      "cell_type": "markdown",
      "source": [
        "6월 : 즉석밥 > 국/탕 > 볶음밥 > 만두 > 돈가스\n",
        "* 즉석밥, 곰탕의 비율이 높다. 할인했는지, 유입채널은 무엇인지 살펴보기 (코드삽입)"
      ],
      "metadata": {
        "id": "iubS8QORol9B"
      },
      "id": "iubS8QORol9B"
    },
    {
      "cell_type": "markdown",
      "source": [
        "## 8) 7월 분석하기"
      ],
      "metadata": {
        "id": "Fw5p5GRzo7XP"
      },
      "id": "Fw5p5GRzo7XP"
    },
    {
      "cell_type": "code",
      "source": [
        "df_7['판매자상품명'].value_counts().head(10)\n",
        "sns.countplot(y='판매자상품명', data=df_7, order=[df_7['판매자상품명'].value_counts().head(10).index[i] for i in range(0,10)])"
      ],
      "metadata": {
        "id": "FaTu4OWro6J8"
      },
      "id": "FaTu4OWro6J8",
      "execution_count": null,
      "outputs": []
    },
    {
      "cell_type": "code",
      "source": [
        "plt.figure(figsize=(6,5))\n",
        "sns.countplot(y='표준카테고리', data=df_7, order=[df_7['표준카테고리'].value_counts().head(10).index[i] for i in range(0,10)])"
      ],
      "metadata": {
        "id": "KvgWwNEKpBR9"
      },
      "id": "KvgWwNEKpBR9",
      "execution_count": null,
      "outputs": []
    },
    {
      "cell_type": "markdown",
      "source": [
        "7월: 즉석밥 > 푸딩 > 면 > 소스 > 국/탕 (즉석밥 행사 여전, 푸딩 행사 시작)\n",
        "행사실시 코드 삽입"
      ],
      "metadata": {
        "id": "utBgQ0lZpdsQ"
      },
      "id": "utBgQ0lZpdsQ"
    },
    {
      "cell_type": "markdown",
      "source": [
        "## 9) 8월 분석하기"
      ],
      "metadata": {
        "id": "r1ng50KppoI3"
      },
      "id": "r1ng50KppoI3"
    },
    {
      "cell_type": "code",
      "source": [
        "df_8['판매자상품명'].value_counts().head(10)\n",
        "sns.countplot(y='판매자상품명', data=df_8, order=[df_8['판매자상품명'].value_counts().head(10).index[i] for i in range(0,10)])"
      ],
      "metadata": {
        "id": "4u4i1RkzqTE0"
      },
      "id": "4u4i1RkzqTE0",
      "execution_count": null,
      "outputs": []
    },
    {
      "cell_type": "code",
      "source": [
        "plt.figure(figsize=(6,5))\n",
        "sns.countplot(y='표준카테고리', data=df_8, order=[df_8['표준카테고리'].value_counts().head(10).index[i] for i in range(0,10)])"
      ],
      "metadata": {
        "id": "Wc6b0xV1qjLL"
      },
      "id": "Wc6b0xV1qjLL",
      "execution_count": null,
      "outputs": []
    },
    {
      "cell_type": "markdown",
      "source": [
        "8월 : 즉석밥 > 국/탕 > 햄통조림 > 만두 > 식용유 (즉석밥 여러 행사 진행중, 국/탕 및 통조림 행사가 매출에 큰 영향을 미침)\n",
        "코드 삽입"
      ],
      "metadata": {
        "id": "QtM7OhrmqhN4"
      },
      "id": "QtM7OhrmqhN4"
    },
    {
      "cell_type": "markdown",
      "source": [
        "## 10) 9월 분석하기"
      ],
      "metadata": {
        "id": "HbRirPpmqayL"
      },
      "id": "HbRirPpmqayL"
    },
    {
      "cell_type": "code",
      "source": [
        "df_9['판매자상품명'].value_counts().head(10)\n",
        "sns.countplot(y='판매자상품명', data=df_9, order=[df_9['판매자상품명'].value_counts().head(10).index[i] for i in range(0,10)])"
      ],
      "metadata": {
        "id": "lh0vla3lqwC-"
      },
      "id": "lh0vla3lqwC-",
      "execution_count": null,
      "outputs": []
    },
    {
      "cell_type": "code",
      "source": [
        "plt.figure(figsize=(6,5))\n",
        "sns.countplot(y='표준카테고리', data=df_9, order=[df_9['표준카테고리'].value_counts().head(10).index[i] for i in range(0,10)])"
      ],
      "metadata": {
        "id": "sBQYuRrgqw0s"
      },
      "id": "sBQYuRrgqw0s",
      "execution_count": null,
      "outputs": []
    },
    {
      "cell_type": "markdown",
      "source": [
        "9월 : 즉석밥 > 돈가스 > 젤리 > 김치 > 국/탕 (돈가스랑, 젤리)\n",
        "*코드 삽입"
      ],
      "metadata": {
        "id": "5IGLP0nDq5eD"
      },
      "id": "5IGLP0nDq5eD"
    },
    {
      "cell_type": "code",
      "source": [
        "import matplotlib.gridspec as gridspec\n",
        "grid = gridspec.GridSpec(5,2) # 그래프를 9개를 그려보겠습니다.\n",
        "\n",
        "plt.figure(figsize=(15,30))  \n",
        "plt.subplots_adjust(wspace=0.5, hspace=0.3) \n",
        "\n",
        "months = [i for i in range(1, 10)]\n",
        "\n",
        "for idx, month in enumerate(months):\n",
        "    ax = plt.subplot(grid[idx])\n",
        "    \n",
        "    sns.countplot(y='표준카테고리',\n",
        "                data=df[df['주문월'] == month],\n",
        "                order=[df[df['주문월'] == month]['표준카테고리'].value_counts().head(10).index[i] for i in range(0,10)],\n",
        "                palette='pastel',\n",
        "                ax=ax\n",
        "                )\n",
        "    ax.set_title(f'Month {month}')"
      ],
      "metadata": {
        "id": "VMuPJpb1rP5c"
      },
      "id": "VMuPJpb1rP5c",
      "execution_count": null,
      "outputs": []
    },
    {
      "cell_type": "markdown",
      "source": [
        "* 월별로 수요가 많은 상품에 대해 할인, 행사한 상품의 가격을 살펴보고 재무 상황에 맞추어 할인 주기적으로 진행하기\n",
        "* 월별로 수요가 많은 상품의 유입채널을 살펴보아 광고 활성화하기\n"
      ],
      "metadata": {
        "id": "3TB7NWncrW2W"
      },
      "id": "3TB7NWncrW2W"
    },
    {
      "cell_type": "markdown",
      "source": [
        "# 상품별 마케팅 방안 고안해보기"
      ],
      "metadata": {
        "id": "kM0DH2vQsFs9"
      },
      "id": "kM0DH2vQsFs9"
    },
    {
      "cell_type": "markdown",
      "source": [
        "## 상관관계를 통해 분석하기"
      ],
      "metadata": {
        "id": "VXxwNEYSvwrQ"
      },
      "id": "VXxwNEYSvwrQ"
    },
    {
      "cell_type": "code",
      "source": [
        "df.groupby(['주문월', '표준카테고리'])['주문접수일시'].count()"
      ],
      "metadata": {
        "colab": {
          "base_uri": "https://localhost:8080/"
        },
        "id": "ZwJS-CRFsCoN",
        "outputId": "4d154423-1fee-4109-c4cb-de4d46b5f284"
      },
      "id": "ZwJS-CRFsCoN",
      "execution_count": 162,
      "outputs": [
        {
          "output_type": "execute_result",
          "data": {
            "text/plain": [
              "주문월  표준카테고리                    \n",
              "1    가공식품 > 면류 > 국수                 1\n",
              "     가공식품 > 면류 > 기타면류              33\n",
              "     가공식품 > 면류 > 당면                 7\n",
              "     가공식품 > 면류 > 우동                 1\n",
              "     가공식품 > 면류 > 중화면               21\n",
              "                                   ..\n",
              "9    수산/건어물 > 수산선물세트 > 김/미역선물세트     3\n",
              "     정육/계란 > 양념육 > 기타양념육           10\n",
              "     정육/계란 > 양념육 > 돼지양념육            8\n",
              "     커피/생수/음료 > 주스/과즙음료 > 과일음료     12\n",
              "     커피/생수/음료 > 차류 > 과일청            3\n",
              "Name: 주문접수일시, Length: 473, dtype: int64"
            ]
          },
          "metadata": {},
          "execution_count": 162
        }
      ]
    },
    {
      "cell_type": "code",
      "source": [
        "df_tops = pd.DataFrame(data = [[0] * 9 for i in range(65)], \n",
        "                       columns=['1월', '2월', '3월', '4월', '5월', '6월', '7월', '8월', '9월'], \n",
        "                       index=df['표준카테고리'].value_counts().sort_index().index )\n",
        "df_tops['1월'] = df_1['표준카테고리'].value_counts().sort_values()\n",
        "df_tops['2월'] = df_2['표준카테고리'].value_counts().sort_values()\n",
        "df_tops['3월'] = df_3['표준카테고리'].value_counts().sort_values()\n",
        "df_tops['4월'] = df_4['표준카테고리'].value_counts().sort_values()\n",
        "df_tops['5월'] = df_5['표준카테고리'].value_counts().sort_values()\n",
        "df_tops['6월'] = df_6['표준카테고리'].value_counts().sort_values()\n",
        "df_tops['7월'] = df_7['표준카테고리'].value_counts().sort_values()\n",
        "df_tops['8월'] = df_8['표준카테고리'].value_counts().sort_values()\n",
        "df_tops['9월'] = df_9['표준카테고리'].value_counts().sort_values()\n",
        "\n",
        "df_tops = df_tops.fillna(0)"
      ],
      "metadata": {
        "id": "ZyonADNisS02"
      },
      "id": "ZyonADNisS02",
      "execution_count": 163,
      "outputs": []
    },
    {
      "cell_type": "code",
      "source": [
        "df_tops"
      ],
      "metadata": {
        "colab": {
          "base_uri": "https://localhost:8080/",
          "height": 424
        },
        "id": "S59u5ryvsVtI",
        "outputId": "30a00499-0d9d-4f5a-82a6-704de06dc269"
      },
      "id": "S59u5ryvsVtI",
      "execution_count": 164,
      "outputs": [
        {
          "output_type": "execute_result",
          "data": {
            "text/plain": [
              "                              1월    2월    3월     4월     5월     6월      7월  \\\n",
              "가공식품 > 면류 > 국수               1.0   2.0   2.0    2.0    0.0    4.0     3.0   \n",
              "가공식품 > 면류 > 기타면류            33.0  37.0  54.0  112.0  126.0  375.0  1200.0   \n",
              "가공식품 > 면류 > 당면               7.0   2.0   3.0    5.0    5.0    5.0     1.0   \n",
              "가공식품 > 면류 > 스파게티/파스타         0.0   0.0   2.0    1.0    2.0    0.0     0.0   \n",
              "가공식품 > 면류 > 우동               1.0   0.0   1.0    0.0    0.0    0.0     0.0   \n",
              "...                          ...   ...   ...    ...    ...    ...     ...   \n",
              "수산/건어물 > 수산선물세트 > 김/미역선물세트   0.0   0.0   0.0    0.0    0.0    0.0     0.0   \n",
              "정육/계란 > 양념육 > 기타양념육         46.0  50.0  55.0   24.0   17.0   45.0    83.0   \n",
              "정육/계란 > 양념육 > 돼지양념육          1.0   2.0   4.0    1.0    0.0    8.0    10.0   \n",
              "커피/생수/음료 > 주스/과즙음료 > 과일음료    0.0   1.0   2.0    4.0    9.0  273.0    11.0   \n",
              "커피/생수/음료 > 차류 > 과일청          1.0   0.0   0.0    4.0    2.0    4.0     2.0   \n",
              "\n",
              "                               8월    9월  \n",
              "가공식품 > 면류 > 국수                2.0   1.0  \n",
              "가공식품 > 면류 > 기타면류            222.0  66.0  \n",
              "가공식품 > 면류 > 당면                8.0  10.0  \n",
              "가공식품 > 면류 > 스파게티/파스타          0.0   0.0  \n",
              "가공식품 > 면류 > 우동                0.0   0.0  \n",
              "...                           ...   ...  \n",
              "수산/건어물 > 수산선물세트 > 김/미역선물세트    0.0   3.0  \n",
              "정육/계란 > 양념육 > 기타양념육          27.0  10.0  \n",
              "정육/계란 > 양념육 > 돼지양념육           6.0   8.0  \n",
              "커피/생수/음료 > 주스/과즙음료 > 과일음료    15.0  12.0  \n",
              "커피/생수/음료 > 차류 > 과일청           3.0   3.0  \n",
              "\n",
              "[65 rows x 9 columns]"
            ],
            "text/html": [
              "\n",
              "  <div id=\"df-7488924c-c8d5-40c4-91bd-7190ebd4cb0c\">\n",
              "    <div class=\"colab-df-container\">\n",
              "      <div>\n",
              "<style scoped>\n",
              "    .dataframe tbody tr th:only-of-type {\n",
              "        vertical-align: middle;\n",
              "    }\n",
              "\n",
              "    .dataframe tbody tr th {\n",
              "        vertical-align: top;\n",
              "    }\n",
              "\n",
              "    .dataframe thead th {\n",
              "        text-align: right;\n",
              "    }\n",
              "</style>\n",
              "<table border=\"1\" class=\"dataframe\">\n",
              "  <thead>\n",
              "    <tr style=\"text-align: right;\">\n",
              "      <th></th>\n",
              "      <th>1월</th>\n",
              "      <th>2월</th>\n",
              "      <th>3월</th>\n",
              "      <th>4월</th>\n",
              "      <th>5월</th>\n",
              "      <th>6월</th>\n",
              "      <th>7월</th>\n",
              "      <th>8월</th>\n",
              "      <th>9월</th>\n",
              "    </tr>\n",
              "  </thead>\n",
              "  <tbody>\n",
              "    <tr>\n",
              "      <th>가공식품 &gt; 면류 &gt; 국수</th>\n",
              "      <td>1.0</td>\n",
              "      <td>2.0</td>\n",
              "      <td>2.0</td>\n",
              "      <td>2.0</td>\n",
              "      <td>0.0</td>\n",
              "      <td>4.0</td>\n",
              "      <td>3.0</td>\n",
              "      <td>2.0</td>\n",
              "      <td>1.0</td>\n",
              "    </tr>\n",
              "    <tr>\n",
              "      <th>가공식품 &gt; 면류 &gt; 기타면류</th>\n",
              "      <td>33.0</td>\n",
              "      <td>37.0</td>\n",
              "      <td>54.0</td>\n",
              "      <td>112.0</td>\n",
              "      <td>126.0</td>\n",
              "      <td>375.0</td>\n",
              "      <td>1200.0</td>\n",
              "      <td>222.0</td>\n",
              "      <td>66.0</td>\n",
              "    </tr>\n",
              "    <tr>\n",
              "      <th>가공식품 &gt; 면류 &gt; 당면</th>\n",
              "      <td>7.0</td>\n",
              "      <td>2.0</td>\n",
              "      <td>3.0</td>\n",
              "      <td>5.0</td>\n",
              "      <td>5.0</td>\n",
              "      <td>5.0</td>\n",
              "      <td>1.0</td>\n",
              "      <td>8.0</td>\n",
              "      <td>10.0</td>\n",
              "    </tr>\n",
              "    <tr>\n",
              "      <th>가공식품 &gt; 면류 &gt; 스파게티/파스타</th>\n",
              "      <td>0.0</td>\n",
              "      <td>0.0</td>\n",
              "      <td>2.0</td>\n",
              "      <td>1.0</td>\n",
              "      <td>2.0</td>\n",
              "      <td>0.0</td>\n",
              "      <td>0.0</td>\n",
              "      <td>0.0</td>\n",
              "      <td>0.0</td>\n",
              "    </tr>\n",
              "    <tr>\n",
              "      <th>가공식품 &gt; 면류 &gt; 우동</th>\n",
              "      <td>1.0</td>\n",
              "      <td>0.0</td>\n",
              "      <td>1.0</td>\n",
              "      <td>0.0</td>\n",
              "      <td>0.0</td>\n",
              "      <td>0.0</td>\n",
              "      <td>0.0</td>\n",
              "      <td>0.0</td>\n",
              "      <td>0.0</td>\n",
              "    </tr>\n",
              "    <tr>\n",
              "      <th>...</th>\n",
              "      <td>...</td>\n",
              "      <td>...</td>\n",
              "      <td>...</td>\n",
              "      <td>...</td>\n",
              "      <td>...</td>\n",
              "      <td>...</td>\n",
              "      <td>...</td>\n",
              "      <td>...</td>\n",
              "      <td>...</td>\n",
              "    </tr>\n",
              "    <tr>\n",
              "      <th>수산/건어물 &gt; 수산선물세트 &gt; 김/미역선물세트</th>\n",
              "      <td>0.0</td>\n",
              "      <td>0.0</td>\n",
              "      <td>0.0</td>\n",
              "      <td>0.0</td>\n",
              "      <td>0.0</td>\n",
              "      <td>0.0</td>\n",
              "      <td>0.0</td>\n",
              "      <td>0.0</td>\n",
              "      <td>3.0</td>\n",
              "    </tr>\n",
              "    <tr>\n",
              "      <th>정육/계란 &gt; 양념육 &gt; 기타양념육</th>\n",
              "      <td>46.0</td>\n",
              "      <td>50.0</td>\n",
              "      <td>55.0</td>\n",
              "      <td>24.0</td>\n",
              "      <td>17.0</td>\n",
              "      <td>45.0</td>\n",
              "      <td>83.0</td>\n",
              "      <td>27.0</td>\n",
              "      <td>10.0</td>\n",
              "    </tr>\n",
              "    <tr>\n",
              "      <th>정육/계란 &gt; 양념육 &gt; 돼지양념육</th>\n",
              "      <td>1.0</td>\n",
              "      <td>2.0</td>\n",
              "      <td>4.0</td>\n",
              "      <td>1.0</td>\n",
              "      <td>0.0</td>\n",
              "      <td>8.0</td>\n",
              "      <td>10.0</td>\n",
              "      <td>6.0</td>\n",
              "      <td>8.0</td>\n",
              "    </tr>\n",
              "    <tr>\n",
              "      <th>커피/생수/음료 &gt; 주스/과즙음료 &gt; 과일음료</th>\n",
              "      <td>0.0</td>\n",
              "      <td>1.0</td>\n",
              "      <td>2.0</td>\n",
              "      <td>4.0</td>\n",
              "      <td>9.0</td>\n",
              "      <td>273.0</td>\n",
              "      <td>11.0</td>\n",
              "      <td>15.0</td>\n",
              "      <td>12.0</td>\n",
              "    </tr>\n",
              "    <tr>\n",
              "      <th>커피/생수/음료 &gt; 차류 &gt; 과일청</th>\n",
              "      <td>1.0</td>\n",
              "      <td>0.0</td>\n",
              "      <td>0.0</td>\n",
              "      <td>4.0</td>\n",
              "      <td>2.0</td>\n",
              "      <td>4.0</td>\n",
              "      <td>2.0</td>\n",
              "      <td>3.0</td>\n",
              "      <td>3.0</td>\n",
              "    </tr>\n",
              "  </tbody>\n",
              "</table>\n",
              "<p>65 rows × 9 columns</p>\n",
              "</div>\n",
              "      <button class=\"colab-df-convert\" onclick=\"convertToInteractive('df-7488924c-c8d5-40c4-91bd-7190ebd4cb0c')\"\n",
              "              title=\"Convert this dataframe to an interactive table.\"\n",
              "              style=\"display:none;\">\n",
              "        \n",
              "  <svg xmlns=\"http://www.w3.org/2000/svg\" height=\"24px\"viewBox=\"0 0 24 24\"\n",
              "       width=\"24px\">\n",
              "    <path d=\"M0 0h24v24H0V0z\" fill=\"none\"/>\n",
              "    <path d=\"M18.56 5.44l.94 2.06.94-2.06 2.06-.94-2.06-.94-.94-2.06-.94 2.06-2.06.94zm-11 1L8.5 8.5l.94-2.06 2.06-.94-2.06-.94L8.5 2.5l-.94 2.06-2.06.94zm10 10l.94 2.06.94-2.06 2.06-.94-2.06-.94-.94-2.06-.94 2.06-2.06.94z\"/><path d=\"M17.41 7.96l-1.37-1.37c-.4-.4-.92-.59-1.43-.59-.52 0-1.04.2-1.43.59L10.3 9.45l-7.72 7.72c-.78.78-.78 2.05 0 2.83L4 21.41c.39.39.9.59 1.41.59.51 0 1.02-.2 1.41-.59l7.78-7.78 2.81-2.81c.8-.78.8-2.07 0-2.86zM5.41 20L4 18.59l7.72-7.72 1.47 1.35L5.41 20z\"/>\n",
              "  </svg>\n",
              "      </button>\n",
              "      \n",
              "  <style>\n",
              "    .colab-df-container {\n",
              "      display:flex;\n",
              "      flex-wrap:wrap;\n",
              "      gap: 12px;\n",
              "    }\n",
              "\n",
              "    .colab-df-convert {\n",
              "      background-color: #E8F0FE;\n",
              "      border: none;\n",
              "      border-radius: 50%;\n",
              "      cursor: pointer;\n",
              "      display: none;\n",
              "      fill: #1967D2;\n",
              "      height: 32px;\n",
              "      padding: 0 0 0 0;\n",
              "      width: 32px;\n",
              "    }\n",
              "\n",
              "    .colab-df-convert:hover {\n",
              "      background-color: #E2EBFA;\n",
              "      box-shadow: 0px 1px 2px rgba(60, 64, 67, 0.3), 0px 1px 3px 1px rgba(60, 64, 67, 0.15);\n",
              "      fill: #174EA6;\n",
              "    }\n",
              "\n",
              "    [theme=dark] .colab-df-convert {\n",
              "      background-color: #3B4455;\n",
              "      fill: #D2E3FC;\n",
              "    }\n",
              "\n",
              "    [theme=dark] .colab-df-convert:hover {\n",
              "      background-color: #434B5C;\n",
              "      box-shadow: 0px 1px 3px 1px rgba(0, 0, 0, 0.15);\n",
              "      filter: drop-shadow(0px 1px 2px rgba(0, 0, 0, 0.3));\n",
              "      fill: #FFFFFF;\n",
              "    }\n",
              "  </style>\n",
              "\n",
              "      <script>\n",
              "        const buttonEl =\n",
              "          document.querySelector('#df-7488924c-c8d5-40c4-91bd-7190ebd4cb0c button.colab-df-convert');\n",
              "        buttonEl.style.display =\n",
              "          google.colab.kernel.accessAllowed ? 'block' : 'none';\n",
              "\n",
              "        async function convertToInteractive(key) {\n",
              "          const element = document.querySelector('#df-7488924c-c8d5-40c4-91bd-7190ebd4cb0c');\n",
              "          const dataTable =\n",
              "            await google.colab.kernel.invokeFunction('convertToInteractive',\n",
              "                                                     [key], {});\n",
              "          if (!dataTable) return;\n",
              "\n",
              "          const docLinkHtml = 'Like what you see? Visit the ' +\n",
              "            '<a target=\"_blank\" href=https://colab.research.google.com/notebooks/data_table.ipynb>data table notebook</a>'\n",
              "            + ' to learn more about interactive tables.';\n",
              "          element.innerHTML = '';\n",
              "          dataTable['output_type'] = 'display_data';\n",
              "          await google.colab.output.renderOutput(dataTable, element);\n",
              "          const docLink = document.createElement('div');\n",
              "          docLink.innerHTML = docLinkHtml;\n",
              "          element.appendChild(docLink);\n",
              "        }\n",
              "      </script>\n",
              "    </div>\n",
              "  </div>\n",
              "  "
            ]
          },
          "metadata": {},
          "execution_count": 164
        }
      ]
    },
    {
      "cell_type": "code",
      "source": [
        "df_topT = df_tops.transpose()"
      ],
      "metadata": {
        "id": "FCVf7ftGsZDZ"
      },
      "id": "FCVf7ftGsZDZ",
      "execution_count": 165,
      "outputs": []
    },
    {
      "cell_type": "code",
      "source": [
        "df_topT"
      ],
      "metadata": {
        "colab": {
          "base_uri": "https://localhost:8080/",
          "height": 700
        },
        "id": "3_wJbxj-scD3",
        "outputId": "e5f4236e-e88a-42d4-ab4e-08fa899d2c49"
      },
      "id": "3_wJbxj-scD3",
      "execution_count": 166,
      "outputs": [
        {
          "output_type": "execute_result",
          "data": {
            "text/plain": [
              "    가공식품 > 면류 > 국수  가공식품 > 면류 > 기타면류  가공식품 > 면류 > 당면  가공식품 > 면류 > 스파게티/파스타  \\\n",
              "1월             1.0              33.0             7.0                   0.0   \n",
              "2월             2.0              37.0             2.0                   0.0   \n",
              "3월             2.0              54.0             3.0                   2.0   \n",
              "4월             2.0             112.0             5.0                   1.0   \n",
              "5월             0.0             126.0             5.0                   2.0   \n",
              "6월             4.0             375.0             5.0                   0.0   \n",
              "7월             3.0            1200.0             1.0                   0.0   \n",
              "8월             2.0             222.0             8.0                   0.0   \n",
              "9월             1.0              66.0            10.0                   0.0   \n",
              "\n",
              "    가공식품 > 면류 > 우동  가공식품 > 면류 > 중화면  가공식품 > 밀가루/믹스류 > 미숫가루  \\\n",
              "1월             1.0             21.0                    0.0   \n",
              "2월             0.0             16.0                    0.0   \n",
              "3월             1.0             21.0                    0.0   \n",
              "4월             0.0             10.0                    0.0   \n",
              "5월             0.0             28.0                    0.0   \n",
              "6월             0.0             14.0                    0.0   \n",
              "7월             0.0             26.0                  159.0   \n",
              "8월             0.0             28.0                   34.0   \n",
              "9월             0.0             29.0                   13.0   \n",
              "\n",
              "    가공식품 > 밀가루/믹스류 > 밀가루  가공식품 > 밀가루/믹스류 > 베이킹믹스  가공식품 > 밀가루/믹스류 > 튀김/부침가루  \\\n",
              "1월                   0.0                     7.0                       0.0   \n",
              "2월                   0.0                     2.0                       1.0   \n",
              "3월                   0.0                     4.0                       0.0   \n",
              "4월                   0.0                    14.0                       3.0   \n",
              "5월                   5.0                    24.0                       4.0   \n",
              "6월                   7.0                    18.0                       1.0   \n",
              "7월                   4.0                    24.0                       0.0   \n",
              "8월                   1.0                    13.0                       0.0   \n",
              "9월                   1.0                    19.0                       0.0   \n",
              "\n",
              "    ...  냉장/냉동/간편식 > 피자/핫도그/햄버거 > 핫도그  냉장/냉동/간편식 > 햄/소시지/베이컨 > 베이컨/슬라이스햄  \\\n",
              "1월  ...                           8.0                                5.0   \n",
              "2월  ...                          26.0                                4.0   \n",
              "3월  ...                          37.0                                4.0   \n",
              "4월  ...                          31.0                                1.0   \n",
              "5월  ...                         310.0                                4.0   \n",
              "6월  ...                         333.0                                1.0   \n",
              "7월  ...                          43.0                                1.0   \n",
              "8월  ...                          43.0                                3.0   \n",
              "9월  ...                          31.0                                3.0   \n",
              "\n",
              "    냉장/냉동/간편식 > 햄/소시지/베이컨 > 햄/소시지  수산/건어물 > 김/해조류 > 조미김/도시락김  \\\n",
              "1월                          168.0                       68.0   \n",
              "2월                           60.0                       20.0   \n",
              "3월                           78.0                       48.0   \n",
              "4월                          142.0                       21.0   \n",
              "5월                          161.0                       27.0   \n",
              "6월                          192.0                       31.0   \n",
              "7월                           85.0                      109.0   \n",
              "8월                           99.0                       76.0   \n",
              "9월                           45.0                       27.0   \n",
              "\n",
              "    수산/건어물 > 생선 > 반조리생선  수산/건어물 > 수산선물세트 > 김/미역선물세트  정육/계란 > 양념육 > 기타양념육  \\\n",
              "1월                 71.0                         0.0                 46.0   \n",
              "2월                 24.0                         0.0                 50.0   \n",
              "3월                 18.0                         0.0                 55.0   \n",
              "4월                 11.0                         0.0                 24.0   \n",
              "5월                 17.0                         0.0                 17.0   \n",
              "6월                  1.0                         0.0                 45.0   \n",
              "7월                  0.0                         0.0                 83.0   \n",
              "8월                  0.0                         0.0                 27.0   \n",
              "9월                  0.0                         3.0                 10.0   \n",
              "\n",
              "    정육/계란 > 양념육 > 돼지양념육  커피/생수/음료 > 주스/과즙음료 > 과일음료  커피/생수/음료 > 차류 > 과일청  \n",
              "1월                  1.0                        0.0                  1.0  \n",
              "2월                  2.0                        1.0                  0.0  \n",
              "3월                  4.0                        2.0                  0.0  \n",
              "4월                  1.0                        4.0                  4.0  \n",
              "5월                  0.0                        9.0                  2.0  \n",
              "6월                  8.0                      273.0                  4.0  \n",
              "7월                 10.0                       11.0                  2.0  \n",
              "8월                  6.0                       15.0                  3.0  \n",
              "9월                  8.0                       12.0                  3.0  \n",
              "\n",
              "[9 rows x 65 columns]"
            ],
            "text/html": [
              "\n",
              "  <div id=\"df-c2e0b717-6f2d-4b2f-bf71-0fbe8eb15e27\">\n",
              "    <div class=\"colab-df-container\">\n",
              "      <div>\n",
              "<style scoped>\n",
              "    .dataframe tbody tr th:only-of-type {\n",
              "        vertical-align: middle;\n",
              "    }\n",
              "\n",
              "    .dataframe tbody tr th {\n",
              "        vertical-align: top;\n",
              "    }\n",
              "\n",
              "    .dataframe thead th {\n",
              "        text-align: right;\n",
              "    }\n",
              "</style>\n",
              "<table border=\"1\" class=\"dataframe\">\n",
              "  <thead>\n",
              "    <tr style=\"text-align: right;\">\n",
              "      <th></th>\n",
              "      <th>가공식품 &gt; 면류 &gt; 국수</th>\n",
              "      <th>가공식품 &gt; 면류 &gt; 기타면류</th>\n",
              "      <th>가공식품 &gt; 면류 &gt; 당면</th>\n",
              "      <th>가공식품 &gt; 면류 &gt; 스파게티/파스타</th>\n",
              "      <th>가공식품 &gt; 면류 &gt; 우동</th>\n",
              "      <th>가공식품 &gt; 면류 &gt; 중화면</th>\n",
              "      <th>가공식품 &gt; 밀가루/믹스류 &gt; 미숫가루</th>\n",
              "      <th>가공식품 &gt; 밀가루/믹스류 &gt; 밀가루</th>\n",
              "      <th>가공식품 &gt; 밀가루/믹스류 &gt; 베이킹믹스</th>\n",
              "      <th>가공식품 &gt; 밀가루/믹스류 &gt; 튀김/부침가루</th>\n",
              "      <th>...</th>\n",
              "      <th>냉장/냉동/간편식 &gt; 피자/핫도그/햄버거 &gt; 핫도그</th>\n",
              "      <th>냉장/냉동/간편식 &gt; 햄/소시지/베이컨 &gt; 베이컨/슬라이스햄</th>\n",
              "      <th>냉장/냉동/간편식 &gt; 햄/소시지/베이컨 &gt; 햄/소시지</th>\n",
              "      <th>수산/건어물 &gt; 김/해조류 &gt; 조미김/도시락김</th>\n",
              "      <th>수산/건어물 &gt; 생선 &gt; 반조리생선</th>\n",
              "      <th>수산/건어물 &gt; 수산선물세트 &gt; 김/미역선물세트</th>\n",
              "      <th>정육/계란 &gt; 양념육 &gt; 기타양념육</th>\n",
              "      <th>정육/계란 &gt; 양념육 &gt; 돼지양념육</th>\n",
              "      <th>커피/생수/음료 &gt; 주스/과즙음료 &gt; 과일음료</th>\n",
              "      <th>커피/생수/음료 &gt; 차류 &gt; 과일청</th>\n",
              "    </tr>\n",
              "  </thead>\n",
              "  <tbody>\n",
              "    <tr>\n",
              "      <th>1월</th>\n",
              "      <td>1.0</td>\n",
              "      <td>33.0</td>\n",
              "      <td>7.0</td>\n",
              "      <td>0.0</td>\n",
              "      <td>1.0</td>\n",
              "      <td>21.0</td>\n",
              "      <td>0.0</td>\n",
              "      <td>0.0</td>\n",
              "      <td>7.0</td>\n",
              "      <td>0.0</td>\n",
              "      <td>...</td>\n",
              "      <td>8.0</td>\n",
              "      <td>5.0</td>\n",
              "      <td>168.0</td>\n",
              "      <td>68.0</td>\n",
              "      <td>71.0</td>\n",
              "      <td>0.0</td>\n",
              "      <td>46.0</td>\n",
              "      <td>1.0</td>\n",
              "      <td>0.0</td>\n",
              "      <td>1.0</td>\n",
              "    </tr>\n",
              "    <tr>\n",
              "      <th>2월</th>\n",
              "      <td>2.0</td>\n",
              "      <td>37.0</td>\n",
              "      <td>2.0</td>\n",
              "      <td>0.0</td>\n",
              "      <td>0.0</td>\n",
              "      <td>16.0</td>\n",
              "      <td>0.0</td>\n",
              "      <td>0.0</td>\n",
              "      <td>2.0</td>\n",
              "      <td>1.0</td>\n",
              "      <td>...</td>\n",
              "      <td>26.0</td>\n",
              "      <td>4.0</td>\n",
              "      <td>60.0</td>\n",
              "      <td>20.0</td>\n",
              "      <td>24.0</td>\n",
              "      <td>0.0</td>\n",
              "      <td>50.0</td>\n",
              "      <td>2.0</td>\n",
              "      <td>1.0</td>\n",
              "      <td>0.0</td>\n",
              "    </tr>\n",
              "    <tr>\n",
              "      <th>3월</th>\n",
              "      <td>2.0</td>\n",
              "      <td>54.0</td>\n",
              "      <td>3.0</td>\n",
              "      <td>2.0</td>\n",
              "      <td>1.0</td>\n",
              "      <td>21.0</td>\n",
              "      <td>0.0</td>\n",
              "      <td>0.0</td>\n",
              "      <td>4.0</td>\n",
              "      <td>0.0</td>\n",
              "      <td>...</td>\n",
              "      <td>37.0</td>\n",
              "      <td>4.0</td>\n",
              "      <td>78.0</td>\n",
              "      <td>48.0</td>\n",
              "      <td>18.0</td>\n",
              "      <td>0.0</td>\n",
              "      <td>55.0</td>\n",
              "      <td>4.0</td>\n",
              "      <td>2.0</td>\n",
              "      <td>0.0</td>\n",
              "    </tr>\n",
              "    <tr>\n",
              "      <th>4월</th>\n",
              "      <td>2.0</td>\n",
              "      <td>112.0</td>\n",
              "      <td>5.0</td>\n",
              "      <td>1.0</td>\n",
              "      <td>0.0</td>\n",
              "      <td>10.0</td>\n",
              "      <td>0.0</td>\n",
              "      <td>0.0</td>\n",
              "      <td>14.0</td>\n",
              "      <td>3.0</td>\n",
              "      <td>...</td>\n",
              "      <td>31.0</td>\n",
              "      <td>1.0</td>\n",
              "      <td>142.0</td>\n",
              "      <td>21.0</td>\n",
              "      <td>11.0</td>\n",
              "      <td>0.0</td>\n",
              "      <td>24.0</td>\n",
              "      <td>1.0</td>\n",
              "      <td>4.0</td>\n",
              "      <td>4.0</td>\n",
              "    </tr>\n",
              "    <tr>\n",
              "      <th>5월</th>\n",
              "      <td>0.0</td>\n",
              "      <td>126.0</td>\n",
              "      <td>5.0</td>\n",
              "      <td>2.0</td>\n",
              "      <td>0.0</td>\n",
              "      <td>28.0</td>\n",
              "      <td>0.0</td>\n",
              "      <td>5.0</td>\n",
              "      <td>24.0</td>\n",
              "      <td>4.0</td>\n",
              "      <td>...</td>\n",
              "      <td>310.0</td>\n",
              "      <td>4.0</td>\n",
              "      <td>161.0</td>\n",
              "      <td>27.0</td>\n",
              "      <td>17.0</td>\n",
              "      <td>0.0</td>\n",
              "      <td>17.0</td>\n",
              "      <td>0.0</td>\n",
              "      <td>9.0</td>\n",
              "      <td>2.0</td>\n",
              "    </tr>\n",
              "    <tr>\n",
              "      <th>6월</th>\n",
              "      <td>4.0</td>\n",
              "      <td>375.0</td>\n",
              "      <td>5.0</td>\n",
              "      <td>0.0</td>\n",
              "      <td>0.0</td>\n",
              "      <td>14.0</td>\n",
              "      <td>0.0</td>\n",
              "      <td>7.0</td>\n",
              "      <td>18.0</td>\n",
              "      <td>1.0</td>\n",
              "      <td>...</td>\n",
              "      <td>333.0</td>\n",
              "      <td>1.0</td>\n",
              "      <td>192.0</td>\n",
              "      <td>31.0</td>\n",
              "      <td>1.0</td>\n",
              "      <td>0.0</td>\n",
              "      <td>45.0</td>\n",
              "      <td>8.0</td>\n",
              "      <td>273.0</td>\n",
              "      <td>4.0</td>\n",
              "    </tr>\n",
              "    <tr>\n",
              "      <th>7월</th>\n",
              "      <td>3.0</td>\n",
              "      <td>1200.0</td>\n",
              "      <td>1.0</td>\n",
              "      <td>0.0</td>\n",
              "      <td>0.0</td>\n",
              "      <td>26.0</td>\n",
              "      <td>159.0</td>\n",
              "      <td>4.0</td>\n",
              "      <td>24.0</td>\n",
              "      <td>0.0</td>\n",
              "      <td>...</td>\n",
              "      <td>43.0</td>\n",
              "      <td>1.0</td>\n",
              "      <td>85.0</td>\n",
              "      <td>109.0</td>\n",
              "      <td>0.0</td>\n",
              "      <td>0.0</td>\n",
              "      <td>83.0</td>\n",
              "      <td>10.0</td>\n",
              "      <td>11.0</td>\n",
              "      <td>2.0</td>\n",
              "    </tr>\n",
              "    <tr>\n",
              "      <th>8월</th>\n",
              "      <td>2.0</td>\n",
              "      <td>222.0</td>\n",
              "      <td>8.0</td>\n",
              "      <td>0.0</td>\n",
              "      <td>0.0</td>\n",
              "      <td>28.0</td>\n",
              "      <td>34.0</td>\n",
              "      <td>1.0</td>\n",
              "      <td>13.0</td>\n",
              "      <td>0.0</td>\n",
              "      <td>...</td>\n",
              "      <td>43.0</td>\n",
              "      <td>3.0</td>\n",
              "      <td>99.0</td>\n",
              "      <td>76.0</td>\n",
              "      <td>0.0</td>\n",
              "      <td>0.0</td>\n",
              "      <td>27.0</td>\n",
              "      <td>6.0</td>\n",
              "      <td>15.0</td>\n",
              "      <td>3.0</td>\n",
              "    </tr>\n",
              "    <tr>\n",
              "      <th>9월</th>\n",
              "      <td>1.0</td>\n",
              "      <td>66.0</td>\n",
              "      <td>10.0</td>\n",
              "      <td>0.0</td>\n",
              "      <td>0.0</td>\n",
              "      <td>29.0</td>\n",
              "      <td>13.0</td>\n",
              "      <td>1.0</td>\n",
              "      <td>19.0</td>\n",
              "      <td>0.0</td>\n",
              "      <td>...</td>\n",
              "      <td>31.0</td>\n",
              "      <td>3.0</td>\n",
              "      <td>45.0</td>\n",
              "      <td>27.0</td>\n",
              "      <td>0.0</td>\n",
              "      <td>3.0</td>\n",
              "      <td>10.0</td>\n",
              "      <td>8.0</td>\n",
              "      <td>12.0</td>\n",
              "      <td>3.0</td>\n",
              "    </tr>\n",
              "  </tbody>\n",
              "</table>\n",
              "<p>9 rows × 65 columns</p>\n",
              "</div>\n",
              "      <button class=\"colab-df-convert\" onclick=\"convertToInteractive('df-c2e0b717-6f2d-4b2f-bf71-0fbe8eb15e27')\"\n",
              "              title=\"Convert this dataframe to an interactive table.\"\n",
              "              style=\"display:none;\">\n",
              "        \n",
              "  <svg xmlns=\"http://www.w3.org/2000/svg\" height=\"24px\"viewBox=\"0 0 24 24\"\n",
              "       width=\"24px\">\n",
              "    <path d=\"M0 0h24v24H0V0z\" fill=\"none\"/>\n",
              "    <path d=\"M18.56 5.44l.94 2.06.94-2.06 2.06-.94-2.06-.94-.94-2.06-.94 2.06-2.06.94zm-11 1L8.5 8.5l.94-2.06 2.06-.94-2.06-.94L8.5 2.5l-.94 2.06-2.06.94zm10 10l.94 2.06.94-2.06 2.06-.94-2.06-.94-.94-2.06-.94 2.06-2.06.94z\"/><path d=\"M17.41 7.96l-1.37-1.37c-.4-.4-.92-.59-1.43-.59-.52 0-1.04.2-1.43.59L10.3 9.45l-7.72 7.72c-.78.78-.78 2.05 0 2.83L4 21.41c.39.39.9.59 1.41.59.51 0 1.02-.2 1.41-.59l7.78-7.78 2.81-2.81c.8-.78.8-2.07 0-2.86zM5.41 20L4 18.59l7.72-7.72 1.47 1.35L5.41 20z\"/>\n",
              "  </svg>\n",
              "      </button>\n",
              "      \n",
              "  <style>\n",
              "    .colab-df-container {\n",
              "      display:flex;\n",
              "      flex-wrap:wrap;\n",
              "      gap: 12px;\n",
              "    }\n",
              "\n",
              "    .colab-df-convert {\n",
              "      background-color: #E8F0FE;\n",
              "      border: none;\n",
              "      border-radius: 50%;\n",
              "      cursor: pointer;\n",
              "      display: none;\n",
              "      fill: #1967D2;\n",
              "      height: 32px;\n",
              "      padding: 0 0 0 0;\n",
              "      width: 32px;\n",
              "    }\n",
              "\n",
              "    .colab-df-convert:hover {\n",
              "      background-color: #E2EBFA;\n",
              "      box-shadow: 0px 1px 2px rgba(60, 64, 67, 0.3), 0px 1px 3px 1px rgba(60, 64, 67, 0.15);\n",
              "      fill: #174EA6;\n",
              "    }\n",
              "\n",
              "    [theme=dark] .colab-df-convert {\n",
              "      background-color: #3B4455;\n",
              "      fill: #D2E3FC;\n",
              "    }\n",
              "\n",
              "    [theme=dark] .colab-df-convert:hover {\n",
              "      background-color: #434B5C;\n",
              "      box-shadow: 0px 1px 3px 1px rgba(0, 0, 0, 0.15);\n",
              "      filter: drop-shadow(0px 1px 2px rgba(0, 0, 0, 0.3));\n",
              "      fill: #FFFFFF;\n",
              "    }\n",
              "  </style>\n",
              "\n",
              "      <script>\n",
              "        const buttonEl =\n",
              "          document.querySelector('#df-c2e0b717-6f2d-4b2f-bf71-0fbe8eb15e27 button.colab-df-convert');\n",
              "        buttonEl.style.display =\n",
              "          google.colab.kernel.accessAllowed ? 'block' : 'none';\n",
              "\n",
              "        async function convertToInteractive(key) {\n",
              "          const element = document.querySelector('#df-c2e0b717-6f2d-4b2f-bf71-0fbe8eb15e27');\n",
              "          const dataTable =\n",
              "            await google.colab.kernel.invokeFunction('convertToInteractive',\n",
              "                                                     [key], {});\n",
              "          if (!dataTable) return;\n",
              "\n",
              "          const docLinkHtml = 'Like what you see? Visit the ' +\n",
              "            '<a target=\"_blank\" href=https://colab.research.google.com/notebooks/data_table.ipynb>data table notebook</a>'\n",
              "            + ' to learn more about interactive tables.';\n",
              "          element.innerHTML = '';\n",
              "          dataTable['output_type'] = 'display_data';\n",
              "          await google.colab.output.renderOutput(dataTable, element);\n",
              "          const docLink = document.createElement('div');\n",
              "          docLink.innerHTML = docLinkHtml;\n",
              "          element.appendChild(docLink);\n",
              "        }\n",
              "      </script>\n",
              "    </div>\n",
              "  </div>\n",
              "  "
            ]
          },
          "metadata": {},
          "execution_count": 166
        }
      ]
    },
    {
      "cell_type": "code",
      "source": [
        "df_topT.corr().head()"
      ],
      "metadata": {
        "colab": {
          "base_uri": "https://localhost:8080/",
          "height": 1000
        },
        "id": "bjaQuhKIse8z",
        "outputId": "0a964d34-d230-477e-8745-e1462ec755a1"
      },
      "id": "bjaQuhKIse8z",
      "execution_count": 167,
      "outputs": [
        {
          "output_type": "execute_result",
          "data": {
            "text/plain": [
              "                      가공식품 > 면류 > 국수  가공식품 > 면류 > 기타면류  가공식품 > 면류 > 당면  \\\n",
              "가공식품 > 면류 > 국수              1.000000          0.529143       -0.403473   \n",
              "가공식품 > 면류 > 기타면류            0.529143          1.000000       -0.486172   \n",
              "가공식품 > 면류 > 당면             -0.403473         -0.486172        1.000000   \n",
              "가공식품 > 면류 > 스파게티/파스타       -0.418461         -0.289711       -0.223301   \n",
              "가공식품 > 면류 > 우동             -0.188982         -0.308963       -0.021786   \n",
              "\n",
              "                      가공식품 > 면류 > 스파게티/파스타  가공식품 > 면류 > 우동  가공식품 > 면류 > 중화면  \\\n",
              "가공식품 > 면류 > 국수                   -0.418461       -0.188982        -0.474875   \n",
              "가공식품 > 면류 > 기타면류                 -0.289711       -0.308963         0.190765   \n",
              "가공식품 > 면류 > 당면                   -0.223301       -0.021786         0.348363   \n",
              "가공식품 > 면류 > 스파게티/파스타              1.000000        0.285714         0.015991   \n",
              "가공식품 > 면류 > 우동                    0.285714        1.000000        -0.036550   \n",
              "\n",
              "                      가공식품 > 밀가루/믹스류 > 미숫가루  가공식품 > 밀가루/믹스류 > 밀가루  \\\n",
              "가공식품 > 면류 > 국수                     0.345922          3.644657e-01   \n",
              "가공식품 > 면류 > 기타면류                   0.947822          4.920073e-01   \n",
              "가공식품 > 면류 > 당면                    -0.406498         -1.633913e-01   \n",
              "가공식품 > 면류 > 스파게티/파스타              -0.310092         -1.189525e-17   \n",
              "가공식품 > 면류 > 우동                    -0.248073         -4.285714e-01   \n",
              "\n",
              "                      가공식품 > 밀가루/믹스류 > 베이킹믹스  가공식품 > 밀가루/믹스류 > 튀김/부침가루  ...  \\\n",
              "가공식품 > 면류 > 국수                     -0.001456                 -0.357143  ...   \n",
              "가공식품 > 면류 > 기타면류                    0.568422                 -0.216899  ...   \n",
              "가공식품 > 면류 > 당면                      0.127470                 -0.115278  ...   \n",
              "가공식품 > 면류 > 스파게티/파스타                0.009630                  0.566947  ...   \n",
              "가공식품 > 면류 > 우동                     -0.581648                 -0.377964  ...   \n",
              "\n",
              "                      냉장/냉동/간편식 > 피자/핫도그/햄버거 > 핫도그  \\\n",
              "가공식품 > 면류 > 국수                            0.121522   \n",
              "가공식품 > 면류 > 기타면류                          0.053898   \n",
              "가공식품 > 면류 > 당면                           -0.040286   \n",
              "가공식품 > 면류 > 스파게티/파스타                      0.271402   \n",
              "가공식품 > 면류 > 우동                           -0.323231   \n",
              "\n",
              "                      냉장/냉동/간편식 > 햄/소시지/베이컨 > 베이컨/슬라이스햄  \\\n",
              "가공식품 > 면류 > 국수                                -0.705024   \n",
              "가공식품 > 면류 > 기타면류                              -0.618833   \n",
              "가공식품 > 면류 > 당면                                 0.200059   \n",
              "가공식품 > 면류 > 스파게티/파스타                           0.235727   \n",
              "가공식품 > 면류 > 우동                                 0.594442   \n",
              "\n",
              "                      냉장/냉동/간편식 > 햄/소시지/베이컨 > 햄/소시지  \\\n",
              "가공식품 > 면류 > 국수                             0.098911   \n",
              "가공식품 > 면류 > 기타면류                          -0.047948   \n",
              "가공식품 > 면류 > 당면                             0.055651   \n",
              "가공식품 > 면류 > 스파게티/파스타                       0.129046   \n",
              "가공식품 > 면류 > 우동                             0.092433   \n",
              "\n",
              "                      수산/건어물 > 김/해조류 > 조미김/도시락김  수산/건어물 > 생선 > 반조리생선  \\\n",
              "가공식품 > 면류 > 국수                         0.241620            -0.412223   \n",
              "가공식품 > 면류 > 기타면류                       0.725835            -0.400502   \n",
              "가공식품 > 면류 > 당면                        -0.197158             0.034747   \n",
              "가공식품 > 면류 > 스파게티/파스타                  -0.304802             0.013199   \n",
              "가공식품 > 면류 > 우동                         0.194337             0.718294   \n",
              "\n",
              "                      수산/건어물 > 수산선물세트 > 김/미역선물세트  정육/계란 > 양념육 > 기타양념육  \\\n",
              "가공식품 > 면류 > 국수                         -0.285714             0.581406   \n",
              "가공식품 > 면류 > 기타면류                       -0.181790             0.681002   \n",
              "가공식품 > 면류 > 당면                          0.634029            -0.781514   \n",
              "가공식품 > 면류 > 스파게티/파스타                   -0.236228            -0.190192   \n",
              "가공식품 > 면류 > 우동                         -0.188982             0.271703   \n",
              "\n",
              "                      정육/계란 > 양념육 > 돼지양념육  커피/생수/음료 > 주스/과즙음료 > 과일음료  \\\n",
              "가공식품 > 면류 > 국수                   0.624690                   0.678856   \n",
              "가공식품 > 면류 > 기타면류                 0.673307                   0.152624   \n",
              "가공식품 > 면류 > 당면                   0.018283                   0.008590   \n",
              "가공식품 > 면류 > 스파게티/파스타            -0.509534                  -0.248157   \n",
              "가공식품 > 면류 > 우동                  -0.299726                  -0.225308   \n",
              "\n",
              "                      커피/생수/음료 > 차류 > 과일청  \n",
              "가공식품 > 면류 > 국수                   0.286658  \n",
              "가공식품 > 면류 > 기타면류                 0.174039  \n",
              "가공식품 > 면류 > 당면                   0.447006  \n",
              "가공식품 > 면류 > 스파게티/파스타            -0.235727  \n",
              "가공식품 > 면류 > 우동                  -0.594442  \n",
              "\n",
              "[5 rows x 65 columns]"
            ],
            "text/html": [
              "\n",
              "  <div id=\"df-2dd38424-c610-4406-b723-a9d68f778937\">\n",
              "    <div class=\"colab-df-container\">\n",
              "      <div>\n",
              "<style scoped>\n",
              "    .dataframe tbody tr th:only-of-type {\n",
              "        vertical-align: middle;\n",
              "    }\n",
              "\n",
              "    .dataframe tbody tr th {\n",
              "        vertical-align: top;\n",
              "    }\n",
              "\n",
              "    .dataframe thead th {\n",
              "        text-align: right;\n",
              "    }\n",
              "</style>\n",
              "<table border=\"1\" class=\"dataframe\">\n",
              "  <thead>\n",
              "    <tr style=\"text-align: right;\">\n",
              "      <th></th>\n",
              "      <th>가공식품 &gt; 면류 &gt; 국수</th>\n",
              "      <th>가공식품 &gt; 면류 &gt; 기타면류</th>\n",
              "      <th>가공식품 &gt; 면류 &gt; 당면</th>\n",
              "      <th>가공식품 &gt; 면류 &gt; 스파게티/파스타</th>\n",
              "      <th>가공식품 &gt; 면류 &gt; 우동</th>\n",
              "      <th>가공식품 &gt; 면류 &gt; 중화면</th>\n",
              "      <th>가공식품 &gt; 밀가루/믹스류 &gt; 미숫가루</th>\n",
              "      <th>가공식품 &gt; 밀가루/믹스류 &gt; 밀가루</th>\n",
              "      <th>가공식품 &gt; 밀가루/믹스류 &gt; 베이킹믹스</th>\n",
              "      <th>가공식품 &gt; 밀가루/믹스류 &gt; 튀김/부침가루</th>\n",
              "      <th>...</th>\n",
              "      <th>냉장/냉동/간편식 &gt; 피자/핫도그/햄버거 &gt; 핫도그</th>\n",
              "      <th>냉장/냉동/간편식 &gt; 햄/소시지/베이컨 &gt; 베이컨/슬라이스햄</th>\n",
              "      <th>냉장/냉동/간편식 &gt; 햄/소시지/베이컨 &gt; 햄/소시지</th>\n",
              "      <th>수산/건어물 &gt; 김/해조류 &gt; 조미김/도시락김</th>\n",
              "      <th>수산/건어물 &gt; 생선 &gt; 반조리생선</th>\n",
              "      <th>수산/건어물 &gt; 수산선물세트 &gt; 김/미역선물세트</th>\n",
              "      <th>정육/계란 &gt; 양념육 &gt; 기타양념육</th>\n",
              "      <th>정육/계란 &gt; 양념육 &gt; 돼지양념육</th>\n",
              "      <th>커피/생수/음료 &gt; 주스/과즙음료 &gt; 과일음료</th>\n",
              "      <th>커피/생수/음료 &gt; 차류 &gt; 과일청</th>\n",
              "    </tr>\n",
              "  </thead>\n",
              "  <tbody>\n",
              "    <tr>\n",
              "      <th>가공식품 &gt; 면류 &gt; 국수</th>\n",
              "      <td>1.000000</td>\n",
              "      <td>0.529143</td>\n",
              "      <td>-0.403473</td>\n",
              "      <td>-0.418461</td>\n",
              "      <td>-0.188982</td>\n",
              "      <td>-0.474875</td>\n",
              "      <td>0.345922</td>\n",
              "      <td>3.644657e-01</td>\n",
              "      <td>-0.001456</td>\n",
              "      <td>-0.357143</td>\n",
              "      <td>...</td>\n",
              "      <td>0.121522</td>\n",
              "      <td>-0.705024</td>\n",
              "      <td>0.098911</td>\n",
              "      <td>0.241620</td>\n",
              "      <td>-0.412223</td>\n",
              "      <td>-0.285714</td>\n",
              "      <td>0.581406</td>\n",
              "      <td>0.624690</td>\n",
              "      <td>0.678856</td>\n",
              "      <td>0.286658</td>\n",
              "    </tr>\n",
              "    <tr>\n",
              "      <th>가공식품 &gt; 면류 &gt; 기타면류</th>\n",
              "      <td>0.529143</td>\n",
              "      <td>1.000000</td>\n",
              "      <td>-0.486172</td>\n",
              "      <td>-0.289711</td>\n",
              "      <td>-0.308963</td>\n",
              "      <td>0.190765</td>\n",
              "      <td>0.947822</td>\n",
              "      <td>4.920073e-01</td>\n",
              "      <td>0.568422</td>\n",
              "      <td>-0.216899</td>\n",
              "      <td>...</td>\n",
              "      <td>0.053898</td>\n",
              "      <td>-0.618833</td>\n",
              "      <td>-0.047948</td>\n",
              "      <td>0.725835</td>\n",
              "      <td>-0.400502</td>\n",
              "      <td>-0.181790</td>\n",
              "      <td>0.681002</td>\n",
              "      <td>0.673307</td>\n",
              "      <td>0.152624</td>\n",
              "      <td>0.174039</td>\n",
              "    </tr>\n",
              "    <tr>\n",
              "      <th>가공식품 &gt; 면류 &gt; 당면</th>\n",
              "      <td>-0.403473</td>\n",
              "      <td>-0.486172</td>\n",
              "      <td>1.000000</td>\n",
              "      <td>-0.223301</td>\n",
              "      <td>-0.021786</td>\n",
              "      <td>0.348363</td>\n",
              "      <td>-0.406498</td>\n",
              "      <td>-1.633913e-01</td>\n",
              "      <td>0.127470</td>\n",
              "      <td>-0.115278</td>\n",
              "      <td>...</td>\n",
              "      <td>-0.040286</td>\n",
              "      <td>0.200059</td>\n",
              "      <td>0.055651</td>\n",
              "      <td>-0.197158</td>\n",
              "      <td>0.034747</td>\n",
              "      <td>0.634029</td>\n",
              "      <td>-0.781514</td>\n",
              "      <td>0.018283</td>\n",
              "      <td>0.008590</td>\n",
              "      <td>0.447006</td>\n",
              "    </tr>\n",
              "    <tr>\n",
              "      <th>가공식품 &gt; 면류 &gt; 스파게티/파스타</th>\n",
              "      <td>-0.418461</td>\n",
              "      <td>-0.289711</td>\n",
              "      <td>-0.223301</td>\n",
              "      <td>1.000000</td>\n",
              "      <td>0.285714</td>\n",
              "      <td>0.015991</td>\n",
              "      <td>-0.310092</td>\n",
              "      <td>-1.189525e-17</td>\n",
              "      <td>0.009630</td>\n",
              "      <td>0.566947</td>\n",
              "      <td>...</td>\n",
              "      <td>0.271402</td>\n",
              "      <td>0.235727</td>\n",
              "      <td>0.129046</td>\n",
              "      <td>-0.304802</td>\n",
              "      <td>0.013199</td>\n",
              "      <td>-0.236228</td>\n",
              "      <td>-0.190192</td>\n",
              "      <td>-0.509534</td>\n",
              "      <td>-0.248157</td>\n",
              "      <td>-0.235727</td>\n",
              "    </tr>\n",
              "    <tr>\n",
              "      <th>가공식품 &gt; 면류 &gt; 우동</th>\n",
              "      <td>-0.188982</td>\n",
              "      <td>-0.308963</td>\n",
              "      <td>-0.021786</td>\n",
              "      <td>0.285714</td>\n",
              "      <td>1.000000</td>\n",
              "      <td>-0.036550</td>\n",
              "      <td>-0.248073</td>\n",
              "      <td>-4.285714e-01</td>\n",
              "      <td>-0.581648</td>\n",
              "      <td>-0.377964</td>\n",
              "      <td>...</td>\n",
              "      <td>-0.323231</td>\n",
              "      <td>0.594442</td>\n",
              "      <td>0.092433</td>\n",
              "      <td>0.194337</td>\n",
              "      <td>0.718294</td>\n",
              "      <td>-0.188982</td>\n",
              "      <td>0.271703</td>\n",
              "      <td>-0.299726</td>\n",
              "      <td>-0.225308</td>\n",
              "      <td>-0.594442</td>\n",
              "    </tr>\n",
              "  </tbody>\n",
              "</table>\n",
              "<p>5 rows × 65 columns</p>\n",
              "</div>\n",
              "      <button class=\"colab-df-convert\" onclick=\"convertToInteractive('df-2dd38424-c610-4406-b723-a9d68f778937')\"\n",
              "              title=\"Convert this dataframe to an interactive table.\"\n",
              "              style=\"display:none;\">\n",
              "        \n",
              "  <svg xmlns=\"http://www.w3.org/2000/svg\" height=\"24px\"viewBox=\"0 0 24 24\"\n",
              "       width=\"24px\">\n",
              "    <path d=\"M0 0h24v24H0V0z\" fill=\"none\"/>\n",
              "    <path d=\"M18.56 5.44l.94 2.06.94-2.06 2.06-.94-2.06-.94-.94-2.06-.94 2.06-2.06.94zm-11 1L8.5 8.5l.94-2.06 2.06-.94-2.06-.94L8.5 2.5l-.94 2.06-2.06.94zm10 10l.94 2.06.94-2.06 2.06-.94-2.06-.94-.94-2.06-.94 2.06-2.06.94z\"/><path d=\"M17.41 7.96l-1.37-1.37c-.4-.4-.92-.59-1.43-.59-.52 0-1.04.2-1.43.59L10.3 9.45l-7.72 7.72c-.78.78-.78 2.05 0 2.83L4 21.41c.39.39.9.59 1.41.59.51 0 1.02-.2 1.41-.59l7.78-7.78 2.81-2.81c.8-.78.8-2.07 0-2.86zM5.41 20L4 18.59l7.72-7.72 1.47 1.35L5.41 20z\"/>\n",
              "  </svg>\n",
              "      </button>\n",
              "      \n",
              "  <style>\n",
              "    .colab-df-container {\n",
              "      display:flex;\n",
              "      flex-wrap:wrap;\n",
              "      gap: 12px;\n",
              "    }\n",
              "\n",
              "    .colab-df-convert {\n",
              "      background-color: #E8F0FE;\n",
              "      border: none;\n",
              "      border-radius: 50%;\n",
              "      cursor: pointer;\n",
              "      display: none;\n",
              "      fill: #1967D2;\n",
              "      height: 32px;\n",
              "      padding: 0 0 0 0;\n",
              "      width: 32px;\n",
              "    }\n",
              "\n",
              "    .colab-df-convert:hover {\n",
              "      background-color: #E2EBFA;\n",
              "      box-shadow: 0px 1px 2px rgba(60, 64, 67, 0.3), 0px 1px 3px 1px rgba(60, 64, 67, 0.15);\n",
              "      fill: #174EA6;\n",
              "    }\n",
              "\n",
              "    [theme=dark] .colab-df-convert {\n",
              "      background-color: #3B4455;\n",
              "      fill: #D2E3FC;\n",
              "    }\n",
              "\n",
              "    [theme=dark] .colab-df-convert:hover {\n",
              "      background-color: #434B5C;\n",
              "      box-shadow: 0px 1px 3px 1px rgba(0, 0, 0, 0.15);\n",
              "      filter: drop-shadow(0px 1px 2px rgba(0, 0, 0, 0.3));\n",
              "      fill: #FFFFFF;\n",
              "    }\n",
              "  </style>\n",
              "\n",
              "      <script>\n",
              "        const buttonEl =\n",
              "          document.querySelector('#df-2dd38424-c610-4406-b723-a9d68f778937 button.colab-df-convert');\n",
              "        buttonEl.style.display =\n",
              "          google.colab.kernel.accessAllowed ? 'block' : 'none';\n",
              "\n",
              "        async function convertToInteractive(key) {\n",
              "          const element = document.querySelector('#df-2dd38424-c610-4406-b723-a9d68f778937');\n",
              "          const dataTable =\n",
              "            await google.colab.kernel.invokeFunction('convertToInteractive',\n",
              "                                                     [key], {});\n",
              "          if (!dataTable) return;\n",
              "\n",
              "          const docLinkHtml = 'Like what you see? Visit the ' +\n",
              "            '<a target=\"_blank\" href=https://colab.research.google.com/notebooks/data_table.ipynb>data table notebook</a>'\n",
              "            + ' to learn more about interactive tables.';\n",
              "          element.innerHTML = '';\n",
              "          dataTable['output_type'] = 'display_data';\n",
              "          await google.colab.output.renderOutput(dataTable, element);\n",
              "          const docLink = document.createElement('div');\n",
              "          docLink.innerHTML = docLinkHtml;\n",
              "          element.appendChild(docLink);\n",
              "        }\n",
              "      </script>\n",
              "    </div>\n",
              "  </div>\n",
              "  "
            ]
          },
          "metadata": {},
          "execution_count": 167
        }
      ]
    },
    {
      "cell_type": "code",
      "source": [
        "df_topT.corr()['냉장/냉동/간편식 > 떡볶이/만두 > 만두'].sort_values(ascending=False)[1:6]"
      ],
      "metadata": {
        "colab": {
          "base_uri": "https://localhost:8080/"
        },
        "id": "Jb0GZXRNsigz",
        "outputId": "03d439c2-bc76-4cf8-ff25-9d10b7b9b43e"
      },
      "id": "Jb0GZXRNsigz",
      "execution_count": 168,
      "outputs": [
        {
          "output_type": "execute_result",
          "data": {
            "text/plain": [
              "가공식품 > 조미료/양념 > 가공/구운소금       0.806825\n",
              "가공식품 > 장류 > 고추장/초고추장          0.777747\n",
              "가공식품 > 식용유/오일 > 카놀라유          0.672990\n",
              "냉장/냉동/간편식 > 즉석밥/죽/스프 > 즉석밥    0.634193\n",
              "가공식품 > 조미료/양념 > 식초            0.577602\n",
              "Name: 냉장/냉동/간편식 > 떡볶이/만두 > 만두, dtype: float64"
            ]
          },
          "metadata": {},
          "execution_count": 168
        }
      ]
    },
    {
      "cell_type": "code",
      "source": [
        "df_topT.corr()['냉장/냉동/간편식 > 떡볶이/만두 > 만두'].sort_values(ascending=False).index[1:6]"
      ],
      "metadata": {
        "colab": {
          "base_uri": "https://localhost:8080/"
        },
        "id": "T3lv8LQTslJ7",
        "outputId": "dc7b7e0e-2cce-4473-ff6b-c534a4291878"
      },
      "id": "T3lv8LQTslJ7",
      "execution_count": 169,
      "outputs": [
        {
          "output_type": "execute_result",
          "data": {
            "text/plain": [
              "Index(['가공식품 > 조미료/양념 > 가공/구운소금', '가공식품 > 장류 > 고추장/초고추장',\n",
              "       '가공식품 > 식용유/오일 > 카놀라유', '냉장/냉동/간편식 > 즉석밥/죽/스프 > 즉석밥',\n",
              "       '가공식품 > 조미료/양념 > 식초'],\n",
              "      dtype='object')"
            ]
          },
          "metadata": {},
          "execution_count": 169
        }
      ]
    },
    {
      "cell_type": "code",
      "source": [
        "sns.barplot(y=df_topT.corr()['냉장/냉동/간편식 > 떡볶이/만두 > 만두'].sort_values(ascending=False).index[1:6],\n",
        "            x=df_topT.corr()['냉장/냉동/간편식 > 떡볶이/만두 > 만두'].sort_values(ascending=False)[1:6])"
      ],
      "metadata": {
        "colab": {
          "base_uri": "https://localhost:8080/",
          "height": 1000
        },
        "id": "ETWwRX4EsoJM",
        "outputId": "63b6752d-4c03-4ca3-bfae-234528e184fd"
      },
      "id": "ETWwRX4EsoJM",
      "execution_count": 170,
      "outputs": [
        {
          "output_type": "execute_result",
          "data": {
            "text/plain": [
              "<matplotlib.axes._subplots.AxesSubplot at 0x7f2e098cc5d0>"
            ]
          },
          "metadata": {},
          "execution_count": 170
        },
        {
          "output_type": "stream",
          "name": "stderr",
          "text": [
            "/usr/local/lib/python3.7/dist-packages/matplotlib/backends/backend_agg.py:214: RuntimeWarning: Glyph 45257 missing from current font.\n",
            "  font.set_text(s, 0.0, flags=flags)\n",
            "/usr/local/lib/python3.7/dist-packages/matplotlib/backends/backend_agg.py:214: RuntimeWarning: Glyph 51109 missing from current font.\n",
            "  font.set_text(s, 0.0, flags=flags)\n",
            "/usr/local/lib/python3.7/dist-packages/matplotlib/backends/backend_agg.py:214: RuntimeWarning: Glyph 46041 missing from current font.\n",
            "  font.set_text(s, 0.0, flags=flags)\n",
            "/usr/local/lib/python3.7/dist-packages/matplotlib/backends/backend_agg.py:214: RuntimeWarning: Glyph 44036 missing from current font.\n",
            "  font.set_text(s, 0.0, flags=flags)\n",
            "/usr/local/lib/python3.7/dist-packages/matplotlib/backends/backend_agg.py:214: RuntimeWarning: Glyph 54200 missing from current font.\n",
            "  font.set_text(s, 0.0, flags=flags)\n",
            "/usr/local/lib/python3.7/dist-packages/matplotlib/backends/backend_agg.py:214: RuntimeWarning: Glyph 49885 missing from current font.\n",
            "  font.set_text(s, 0.0, flags=flags)\n",
            "/usr/local/lib/python3.7/dist-packages/matplotlib/backends/backend_agg.py:214: RuntimeWarning: Glyph 46497 missing from current font.\n",
            "  font.set_text(s, 0.0, flags=flags)\n",
            "/usr/local/lib/python3.7/dist-packages/matplotlib/backends/backend_agg.py:214: RuntimeWarning: Glyph 48374 missing from current font.\n",
            "  font.set_text(s, 0.0, flags=flags)\n",
            "/usr/local/lib/python3.7/dist-packages/matplotlib/backends/backend_agg.py:214: RuntimeWarning: Glyph 51060 missing from current font.\n",
            "  font.set_text(s, 0.0, flags=flags)\n",
            "/usr/local/lib/python3.7/dist-packages/matplotlib/backends/backend_agg.py:214: RuntimeWarning: Glyph 47564 missing from current font.\n",
            "  font.set_text(s, 0.0, flags=flags)\n",
            "/usr/local/lib/python3.7/dist-packages/matplotlib/backends/backend_agg.py:214: RuntimeWarning: Glyph 46160 missing from current font.\n",
            "  font.set_text(s, 0.0, flags=flags)\n",
            "/usr/local/lib/python3.7/dist-packages/matplotlib/backends/backend_agg.py:183: RuntimeWarning: Glyph 45257 missing from current font.\n",
            "  font.set_text(s, 0, flags=flags)\n",
            "/usr/local/lib/python3.7/dist-packages/matplotlib/backends/backend_agg.py:183: RuntimeWarning: Glyph 51109 missing from current font.\n",
            "  font.set_text(s, 0, flags=flags)\n",
            "/usr/local/lib/python3.7/dist-packages/matplotlib/backends/backend_agg.py:183: RuntimeWarning: Glyph 46041 missing from current font.\n",
            "  font.set_text(s, 0, flags=flags)\n",
            "/usr/local/lib/python3.7/dist-packages/matplotlib/backends/backend_agg.py:183: RuntimeWarning: Glyph 44036 missing from current font.\n",
            "  font.set_text(s, 0, flags=flags)\n",
            "/usr/local/lib/python3.7/dist-packages/matplotlib/backends/backend_agg.py:183: RuntimeWarning: Glyph 54200 missing from current font.\n",
            "  font.set_text(s, 0, flags=flags)\n",
            "/usr/local/lib/python3.7/dist-packages/matplotlib/backends/backend_agg.py:183: RuntimeWarning: Glyph 49885 missing from current font.\n",
            "  font.set_text(s, 0, flags=flags)\n",
            "/usr/local/lib/python3.7/dist-packages/matplotlib/backends/backend_agg.py:183: RuntimeWarning: Glyph 46497 missing from current font.\n",
            "  font.set_text(s, 0, flags=flags)\n",
            "/usr/local/lib/python3.7/dist-packages/matplotlib/backends/backend_agg.py:183: RuntimeWarning: Glyph 48374 missing from current font.\n",
            "  font.set_text(s, 0, flags=flags)\n",
            "/usr/local/lib/python3.7/dist-packages/matplotlib/backends/backend_agg.py:183: RuntimeWarning: Glyph 51060 missing from current font.\n",
            "  font.set_text(s, 0, flags=flags)\n",
            "/usr/local/lib/python3.7/dist-packages/matplotlib/backends/backend_agg.py:183: RuntimeWarning: Glyph 47564 missing from current font.\n",
            "  font.set_text(s, 0, flags=flags)\n",
            "/usr/local/lib/python3.7/dist-packages/matplotlib/backends/backend_agg.py:183: RuntimeWarning: Glyph 46160 missing from current font.\n",
            "  font.set_text(s, 0, flags=flags)\n",
            "/usr/local/lib/python3.7/dist-packages/matplotlib/backends/backend_agg.py:214: RuntimeWarning: Glyph 44032 missing from current font.\n",
            "  font.set_text(s, 0.0, flags=flags)\n",
            "/usr/local/lib/python3.7/dist-packages/matplotlib/backends/backend_agg.py:214: RuntimeWarning: Glyph 44277 missing from current font.\n",
            "  font.set_text(s, 0.0, flags=flags)\n",
            "/usr/local/lib/python3.7/dist-packages/matplotlib/backends/backend_agg.py:214: RuntimeWarning: Glyph 54408 missing from current font.\n",
            "  font.set_text(s, 0.0, flags=flags)\n",
            "/usr/local/lib/python3.7/dist-packages/matplotlib/backends/backend_agg.py:214: RuntimeWarning: Glyph 51312 missing from current font.\n",
            "  font.set_text(s, 0.0, flags=flags)\n",
            "/usr/local/lib/python3.7/dist-packages/matplotlib/backends/backend_agg.py:214: RuntimeWarning: Glyph 48120 missing from current font.\n",
            "  font.set_text(s, 0.0, flags=flags)\n",
            "/usr/local/lib/python3.7/dist-packages/matplotlib/backends/backend_agg.py:214: RuntimeWarning: Glyph 47308 missing from current font.\n",
            "  font.set_text(s, 0.0, flags=flags)\n",
            "/usr/local/lib/python3.7/dist-packages/matplotlib/backends/backend_agg.py:214: RuntimeWarning: Glyph 50577 missing from current font.\n",
            "  font.set_text(s, 0.0, flags=flags)\n",
            "/usr/local/lib/python3.7/dist-packages/matplotlib/backends/backend_agg.py:214: RuntimeWarning: Glyph 45392 missing from current font.\n",
            "  font.set_text(s, 0.0, flags=flags)\n",
            "/usr/local/lib/python3.7/dist-packages/matplotlib/backends/backend_agg.py:214: RuntimeWarning: Glyph 44396 missing from current font.\n",
            "  font.set_text(s, 0.0, flags=flags)\n",
            "/usr/local/lib/python3.7/dist-packages/matplotlib/backends/backend_agg.py:214: RuntimeWarning: Glyph 50868 missing from current font.\n",
            "  font.set_text(s, 0.0, flags=flags)\n",
            "/usr/local/lib/python3.7/dist-packages/matplotlib/backends/backend_agg.py:214: RuntimeWarning: Glyph 49548 missing from current font.\n",
            "  font.set_text(s, 0.0, flags=flags)\n",
            "/usr/local/lib/python3.7/dist-packages/matplotlib/backends/backend_agg.py:214: RuntimeWarning: Glyph 44552 missing from current font.\n",
            "  font.set_text(s, 0.0, flags=flags)\n",
            "/usr/local/lib/python3.7/dist-packages/matplotlib/backends/backend_agg.py:214: RuntimeWarning: Glyph 47448 missing from current font.\n",
            "  font.set_text(s, 0.0, flags=flags)\n",
            "/usr/local/lib/python3.7/dist-packages/matplotlib/backends/backend_agg.py:214: RuntimeWarning: Glyph 44256 missing from current font.\n",
            "  font.set_text(s, 0.0, flags=flags)\n",
            "/usr/local/lib/python3.7/dist-packages/matplotlib/backends/backend_agg.py:214: RuntimeWarning: Glyph 52628 missing from current font.\n",
            "  font.set_text(s, 0.0, flags=flags)\n",
            "/usr/local/lib/python3.7/dist-packages/matplotlib/backends/backend_agg.py:214: RuntimeWarning: Glyph 52488 missing from current font.\n",
            "  font.set_text(s, 0.0, flags=flags)\n",
            "/usr/local/lib/python3.7/dist-packages/matplotlib/backends/backend_agg.py:214: RuntimeWarning: Glyph 50857 missing from current font.\n",
            "  font.set_text(s, 0.0, flags=flags)\n",
            "/usr/local/lib/python3.7/dist-packages/matplotlib/backends/backend_agg.py:214: RuntimeWarning: Glyph 50976 missing from current font.\n",
            "  font.set_text(s, 0.0, flags=flags)\n",
            "/usr/local/lib/python3.7/dist-packages/matplotlib/backends/backend_agg.py:214: RuntimeWarning: Glyph 50724 missing from current font.\n",
            "  font.set_text(s, 0.0, flags=flags)\n",
            "/usr/local/lib/python3.7/dist-packages/matplotlib/backends/backend_agg.py:214: RuntimeWarning: Glyph 51068 missing from current font.\n",
            "  font.set_text(s, 0.0, flags=flags)\n",
            "/usr/local/lib/python3.7/dist-packages/matplotlib/backends/backend_agg.py:214: RuntimeWarning: Glyph 52852 missing from current font.\n",
            "  font.set_text(s, 0.0, flags=flags)\n",
            "/usr/local/lib/python3.7/dist-packages/matplotlib/backends/backend_agg.py:214: RuntimeWarning: Glyph 45440 missing from current font.\n",
            "  font.set_text(s, 0.0, flags=flags)\n",
            "/usr/local/lib/python3.7/dist-packages/matplotlib/backends/backend_agg.py:214: RuntimeWarning: Glyph 46972 missing from current font.\n",
            "  font.set_text(s, 0.0, flags=flags)\n",
            "/usr/local/lib/python3.7/dist-packages/matplotlib/backends/backend_agg.py:214: RuntimeWarning: Glyph 51593 missing from current font.\n",
            "  font.set_text(s, 0.0, flags=flags)\n",
            "/usr/local/lib/python3.7/dist-packages/matplotlib/backends/backend_agg.py:214: RuntimeWarning: Glyph 49437 missing from current font.\n",
            "  font.set_text(s, 0.0, flags=flags)\n",
            "/usr/local/lib/python3.7/dist-packages/matplotlib/backends/backend_agg.py:214: RuntimeWarning: Glyph 48165 missing from current font.\n",
            "  font.set_text(s, 0.0, flags=flags)\n",
            "/usr/local/lib/python3.7/dist-packages/matplotlib/backends/backend_agg.py:214: RuntimeWarning: Glyph 51453 missing from current font.\n",
            "  font.set_text(s, 0.0, flags=flags)\n",
            "/usr/local/lib/python3.7/dist-packages/matplotlib/backends/backend_agg.py:214: RuntimeWarning: Glyph 49828 missing from current font.\n",
            "  font.set_text(s, 0.0, flags=flags)\n",
            "/usr/local/lib/python3.7/dist-packages/matplotlib/backends/backend_agg.py:214: RuntimeWarning: Glyph 54532 missing from current font.\n",
            "  font.set_text(s, 0.0, flags=flags)\n",
            "/usr/local/lib/python3.7/dist-packages/matplotlib/backends/backend_agg.py:183: RuntimeWarning: Glyph 44032 missing from current font.\n",
            "  font.set_text(s, 0, flags=flags)\n",
            "/usr/local/lib/python3.7/dist-packages/matplotlib/backends/backend_agg.py:183: RuntimeWarning: Glyph 44277 missing from current font.\n",
            "  font.set_text(s, 0, flags=flags)\n",
            "/usr/local/lib/python3.7/dist-packages/matplotlib/backends/backend_agg.py:183: RuntimeWarning: Glyph 54408 missing from current font.\n",
            "  font.set_text(s, 0, flags=flags)\n",
            "/usr/local/lib/python3.7/dist-packages/matplotlib/backends/backend_agg.py:183: RuntimeWarning: Glyph 51312 missing from current font.\n",
            "  font.set_text(s, 0, flags=flags)\n",
            "/usr/local/lib/python3.7/dist-packages/matplotlib/backends/backend_agg.py:183: RuntimeWarning: Glyph 48120 missing from current font.\n",
            "  font.set_text(s, 0, flags=flags)\n",
            "/usr/local/lib/python3.7/dist-packages/matplotlib/backends/backend_agg.py:183: RuntimeWarning: Glyph 47308 missing from current font.\n",
            "  font.set_text(s, 0, flags=flags)\n",
            "/usr/local/lib/python3.7/dist-packages/matplotlib/backends/backend_agg.py:183: RuntimeWarning: Glyph 50577 missing from current font.\n",
            "  font.set_text(s, 0, flags=flags)\n",
            "/usr/local/lib/python3.7/dist-packages/matplotlib/backends/backend_agg.py:183: RuntimeWarning: Glyph 45392 missing from current font.\n",
            "  font.set_text(s, 0, flags=flags)\n",
            "/usr/local/lib/python3.7/dist-packages/matplotlib/backends/backend_agg.py:183: RuntimeWarning: Glyph 44396 missing from current font.\n",
            "  font.set_text(s, 0, flags=flags)\n",
            "/usr/local/lib/python3.7/dist-packages/matplotlib/backends/backend_agg.py:183: RuntimeWarning: Glyph 50868 missing from current font.\n",
            "  font.set_text(s, 0, flags=flags)\n",
            "/usr/local/lib/python3.7/dist-packages/matplotlib/backends/backend_agg.py:183: RuntimeWarning: Glyph 49548 missing from current font.\n",
            "  font.set_text(s, 0, flags=flags)\n",
            "/usr/local/lib/python3.7/dist-packages/matplotlib/backends/backend_agg.py:183: RuntimeWarning: Glyph 44552 missing from current font.\n",
            "  font.set_text(s, 0, flags=flags)\n",
            "/usr/local/lib/python3.7/dist-packages/matplotlib/backends/backend_agg.py:183: RuntimeWarning: Glyph 47448 missing from current font.\n",
            "  font.set_text(s, 0, flags=flags)\n",
            "/usr/local/lib/python3.7/dist-packages/matplotlib/backends/backend_agg.py:183: RuntimeWarning: Glyph 44256 missing from current font.\n",
            "  font.set_text(s, 0, flags=flags)\n",
            "/usr/local/lib/python3.7/dist-packages/matplotlib/backends/backend_agg.py:183: RuntimeWarning: Glyph 52628 missing from current font.\n",
            "  font.set_text(s, 0, flags=flags)\n",
            "/usr/local/lib/python3.7/dist-packages/matplotlib/backends/backend_agg.py:183: RuntimeWarning: Glyph 52488 missing from current font.\n",
            "  font.set_text(s, 0, flags=flags)\n",
            "/usr/local/lib/python3.7/dist-packages/matplotlib/backends/backend_agg.py:183: RuntimeWarning: Glyph 50857 missing from current font.\n",
            "  font.set_text(s, 0, flags=flags)\n",
            "/usr/local/lib/python3.7/dist-packages/matplotlib/backends/backend_agg.py:183: RuntimeWarning: Glyph 50976 missing from current font.\n",
            "  font.set_text(s, 0, flags=flags)\n",
            "/usr/local/lib/python3.7/dist-packages/matplotlib/backends/backend_agg.py:183: RuntimeWarning: Glyph 50724 missing from current font.\n",
            "  font.set_text(s, 0, flags=flags)\n",
            "/usr/local/lib/python3.7/dist-packages/matplotlib/backends/backend_agg.py:183: RuntimeWarning: Glyph 51068 missing from current font.\n",
            "  font.set_text(s, 0, flags=flags)\n",
            "/usr/local/lib/python3.7/dist-packages/matplotlib/backends/backend_agg.py:183: RuntimeWarning: Glyph 52852 missing from current font.\n",
            "  font.set_text(s, 0, flags=flags)\n",
            "/usr/local/lib/python3.7/dist-packages/matplotlib/backends/backend_agg.py:183: RuntimeWarning: Glyph 45440 missing from current font.\n",
            "  font.set_text(s, 0, flags=flags)\n",
            "/usr/local/lib/python3.7/dist-packages/matplotlib/backends/backend_agg.py:183: RuntimeWarning: Glyph 46972 missing from current font.\n",
            "  font.set_text(s, 0, flags=flags)\n",
            "/usr/local/lib/python3.7/dist-packages/matplotlib/backends/backend_agg.py:183: RuntimeWarning: Glyph 51593 missing from current font.\n",
            "  font.set_text(s, 0, flags=flags)\n",
            "/usr/local/lib/python3.7/dist-packages/matplotlib/backends/backend_agg.py:183: RuntimeWarning: Glyph 49437 missing from current font.\n",
            "  font.set_text(s, 0, flags=flags)\n",
            "/usr/local/lib/python3.7/dist-packages/matplotlib/backends/backend_agg.py:183: RuntimeWarning: Glyph 48165 missing from current font.\n",
            "  font.set_text(s, 0, flags=flags)\n",
            "/usr/local/lib/python3.7/dist-packages/matplotlib/backends/backend_agg.py:183: RuntimeWarning: Glyph 51453 missing from current font.\n",
            "  font.set_text(s, 0, flags=flags)\n",
            "/usr/local/lib/python3.7/dist-packages/matplotlib/backends/backend_agg.py:183: RuntimeWarning: Glyph 49828 missing from current font.\n",
            "  font.set_text(s, 0, flags=flags)\n",
            "/usr/local/lib/python3.7/dist-packages/matplotlib/backends/backend_agg.py:183: RuntimeWarning: Glyph 54532 missing from current font.\n",
            "  font.set_text(s, 0, flags=flags)\n"
          ]
        },
        {
          "output_type": "display_data",
          "data": {
            "text/plain": [
              "<Figure size 432x288 with 1 Axes>"
            ],
            "image/png": "[encoded data removed]"
          },
          "metadata": {
            "needs_background": "light"
          }
        }
      ]
    },
    {
      "cell_type": "code",
      "source": [
        "df_topT.corr()['가공식품 > 소스/드레싱 > 굴소스/중화요리소스'].sort_values(ascending=False)"
      ],
      "metadata": {
        "colab": {
          "base_uri": "https://localhost:8080/"
        },
        "id": "CFyVf127sqN8",
        "outputId": "c131fe95-aa04-483a-e379-48e7ba73fdf5"
      },
      "id": "CFyVf127sqN8",
      "execution_count": 171,
      "outputs": [
        {
          "output_type": "execute_result",
          "data": {
            "text/plain": [
              "가공식품 > 소스/드레싱 > 굴소스/중화요리소스       1.000000\n",
              "김치/반찬 > 김치 > 총각김치                0.702929\n",
              "냉장/냉동/간편식 > 국/탕/찌개 > 찌개          0.629805\n",
              "가공식품 > 통조림/캔 > 닭가슴살통조림           0.516570\n",
              "정육/계란 > 양념육 > 돼지양념육              0.490461\n",
              "                                   ...   \n",
              "가공식품 > 면류 > 스파게티/파스타            -0.639510\n",
              "과자/간식 > 디저트/케이크 > 푸딩            -0.643951\n",
              "냉장/냉동/간편식 > 햄/소시지/베이컨 > 햄/소시지   -0.693776\n",
              "가공식품 > 밀가루/믹스류 > 튀김/부침가루        -0.719601\n",
              "과자/간식 > 기타간식 > 김스낵              -0.868193\n",
              "Name: 가공식품 > 소스/드레싱 > 굴소스/중화요리소스, Length: 65, dtype: float64"
            ]
          },
          "metadata": {},
          "execution_count": 171
        }
      ]
    },
    {
      "cell_type": "code",
      "source": [
        "sns.barplot(y=df_topT.corr()['가공식품 > 소스/드레싱 > 굴소스/중화요리소스'].sort_values(ascending=False).index[1:6],\n",
        "            x=df_topT.corr()['가공식품 > 소스/드레싱 > 굴소스/중화요리소스'].sort_values(ascending=False)[1:6])"
      ],
      "metadata": {
        "id": "ajh9htz-sxOs"
      },
      "id": "ajh9htz-sxOs",
      "execution_count": null,
      "outputs": []
    },
    {
      "cell_type": "code",
      "source": [
        "df_topT.corr()['가공식품 > 식용유/오일 > 식용유/오일선물세트'].sort_values(ascending=False)"
      ],
      "metadata": {
        "colab": {
          "base_uri": "https://localhost:8080/"
        },
        "id": "J_pCMDbQsxLH",
        "outputId": "760126aa-dace-4b60-b03c-25f6a4087809"
      },
      "id": "J_pCMDbQsxLH",
      "execution_count": 172,
      "outputs": [
        {
          "output_type": "execute_result",
          "data": {
            "text/plain": [
              "가공식품 > 식용유/오일 > 식용유/오일선물세트      1.000000\n",
              "가공식품 > 밀가루/믹스류 > 튀김/부침가루        0.777364\n",
              "가공식품 > 조미료/양념 > 갈색설탕            0.649141\n",
              "냉장/냉동/간편식 > 피자/핫도그/햄버거 > 핫도그    0.627739\n",
              "가공식품 > 면류 > 스파게티/파스타            0.614207\n",
              "                                  ...   \n",
              "냉장/냉동/간편식 > 즉석밥/죽/스프 > 컵밥      -0.395588\n",
              "김치/반찬 > 김치 > 총각김치              -0.409879\n",
              "정육/계란 > 양념육 > 돼지양념육            -0.447109\n",
              "가공식품 > 소스/드레싱 > 굴소스/중화요리소스     -0.451132\n",
              "가공식품 > 면류 > 국수                 -0.585149\n",
              "Name: 가공식품 > 식용유/오일 > 식용유/오일선물세트, Length: 65, dtype: float64"
            ]
          },
          "metadata": {},
          "execution_count": 172
        }
      ]
    },
    {
      "cell_type": "code",
      "source": [
        "sns.barplot(y=df_topT.corr()['가공식품 > 식용유/오일 > 식용유/오일선물세트'].sort_values(ascending=False).index[1:6],\n",
        "            x=df_topT.corr()['가공식품 > 식용유/오일 > 식용유/오일선물세트'].sort_values(ascending=False)[1:6])"
      ],
      "metadata": {
        "id": "bcQBnpBTsxIc"
      },
      "id": "bcQBnpBTsxIc",
      "execution_count": null,
      "outputs": []
    },
    {
      "cell_type": "code",
      "source": [
        "df_topT.corr()['가공식품 > 장류 > 고추장/초고추장'].sort_values(ascending=False)"
      ],
      "metadata": {
        "colab": {
          "base_uri": "https://localhost:8080/"
        },
        "id": "7pO8pLwDsxF2",
        "outputId": "0630605f-318a-4682-eb8a-c8143663c17b"
      },
      "id": "7pO8pLwDsxF2",
      "execution_count": 173,
      "outputs": [
        {
          "output_type": "execute_result",
          "data": {
            "text/plain": [
              "가공식품 > 장류 > 고추장/초고추장                1.000000\n",
              "냉장/냉동/간편식 > 즉석밥/죽/스프 > 즉석밥          0.959144\n",
              "냉장/냉동/간편식 > 돈가스/고로케/너겟 > 돈가스        0.903060\n",
              "가공식품 > 식용유/오일 > 카놀라유                0.844303\n",
              "냉장/냉동/간편식 > 국/탕/찌개 > 국/탕            0.843184\n",
              "                                      ...   \n",
              "과자/간식 > 기타간식 > 김스낵                 -0.359094\n",
              "가공식품 > 면류 > 우동                     -0.373554\n",
              "가공식품 > 식용유/오일 > 올리브유               -0.373554\n",
              "수산/건어물 > 생선 > 반조리생선                -0.503663\n",
              "냉장/냉동/간편식 > 밀키트/쿠킹박스 > 중식/일식/아시아   -0.515084\n",
              "Name: 가공식품 > 장류 > 고추장/초고추장, Length: 65, dtype: float64"
            ]
          },
          "metadata": {},
          "execution_count": 173
        }
      ]
    },
    {
      "cell_type": "code",
      "source": [
        "sns.barplot(y=df_topT.corr()['가공식품 > 장류 > 고추장/초고추장'].sort_values(ascending=False).index[1:6],\n",
        "            x=df_topT.corr()['가공식품 > 장류 > 고추장/초고추장'].sort_values(ascending=False)[1:6])"
      ],
      "metadata": {
        "id": "mPESadyasxDP"
      },
      "id": "mPESadyasxDP",
      "execution_count": null,
      "outputs": []
    },
    {
      "cell_type": "markdown",
      "source": [
        "## 상품별 마케팅 제안"
      ],
      "metadata": {
        "id": "JzxtwEIZthDE"
      },
      "id": "JzxtwEIZthDE"
    },
    {
      "cell_type": "markdown",
      "source": [
        "* 각 상품별로 분석!!\n",
        "\n",
        "* 1. 만두, 즉석밥, 국/탕, 돈가스 - 매월 상위권 차트에 있으며, 계절에 상관없이 많이 사는 것으로 파악된다. 계절 상관없이, 이벤트를 진행한다면, 매출이 떡상할 가능성이 보인다.\n",
        "\n",
        "* 2. 중화요리소스 - 유독 2월에만 상위권이며, 2월에는 전체적인 주문량이 너무 적은 점을 보완하여, 상관관계가 높은 김치/찌개와 함께 이벤트를 진행하면 좋을 것 같다.\n",
        "\n",
        "* 3. 캔/통조림 선물세트 - 주로 설/추석 기간에 선물세트로 주문 상위권에 올라오는 것 같으며, 명절 기간에 홍보, 할인 이벤트를 집중적으로 하면 좋을 것 같다.\n",
        "\n",
        "* 4. 젤리/푸딩 - 유독 여름에만 매출이 많은 상품으로, 여름에 홍보 효과를 강화하면 좋을 것 같다.\n",
        "\n",
        "* 5. 식용유 및 고추장 - 각자 상관관계가 높은 상품과 함께 이벤트 진행하면 좋을 것 같다."
      ],
      "metadata": {
        "id": "OQElnwB5tQwL"
      },
      "id": "OQElnwB5tQwL"
    },
    {
      "cell_type": "markdown",
      "id": "fccb7e6a",
      "metadata": {
        "id": "fccb7e6a"
      },
      "source": [
        "# 3. 월별로 매출과 판매량이 가장 많은 날짜를 중점으로 분석하기"
      ]
    },
    {
      "cell_type": "markdown",
      "source": [
        "## 1) 필요한 변수 생성하기"
      ],
      "metadata": {
        "id": "xurEu1N_WGIq"
      },
      "id": "xurEu1N_WGIq"
    },
    {
      "cell_type": "code",
      "source": [
        "df['유입채널 대분류'] = '기타 및 이벤트 광고'\n",
        "df.loc[((df['유입채널'] == '유실 채널상세') | (df['유입채널'] == '디폴트 채널상세')), '유입채널 대분류'] = 'CJ 앱/사이트'\n",
        "df.loc[df['유입채널'].str.contains('가격비교'), '유입채널 대분류'] = '가격비교'\n",
        "df.loc[df['유입채널'].str.contains('모바일'), '유입채널 대분류'] = '모바일 공유'\n",
        "df.loc[df['유입채널'].str.contains('검색'), '유입채널 대분류'] = '검색'"
      ],
      "metadata": {
        "id": "4eIp3QZPwiaM"
      },
      "id": "4eIp3QZPwiaM",
      "execution_count": 189,
      "outputs": []
    },
    {
      "cell_type": "code",
      "source": [
        "#주문 시간빼고 날짜만 있는 변수 생성\n",
        "df['주문날짜'] = df['주문번호']//(10**8)"
      ],
      "metadata": {
        "id": "WkvvAZjdQ7tV"
      },
      "id": "WkvvAZjdQ7tV",
      "execution_count": 183,
      "outputs": []
    },
    {
      "cell_type": "code",
      "source": [
        "df['주문날짜'].astype(str)"
      ],
      "metadata": {
        "colab": {
          "base_uri": "https://localhost:8080/"
        },
        "id": "oVHWqbJQViqg",
        "outputId": "e0d06621-53a5-4152-8f2f-b96084a8fe64"
      },
      "id": "oVHWqbJQViqg",
      "execution_count": 184,
      "outputs": [
        {
          "output_type": "execute_result",
          "data": {
            "text/plain": [
              "0        20220101\n",
              "1        20220101\n",
              "2        20220101\n",
              "3        20220101\n",
              "4        20220101\n",
              "           ...   \n",
              "93315    20220930\n",
              "93316    20220930\n",
              "93317    20220930\n",
              "93318    20220930\n",
              "93319    20220930\n",
              "Name: 주문날짜, Length: 93320, dtype: object"
            ]
          },
          "metadata": {},
          "execution_count": 184
        }
      ]
    },
    {
      "cell_type": "code",
      "source": [
        "df['주문날짜'] = pd.to_datetime(df['주문날짜'], format = \"%Y%m%d\")"
      ],
      "metadata": {
        "id": "JOub-xsdVinz"
      },
      "id": "JOub-xsdVinz",
      "execution_count": 185,
      "outputs": []
    },
    {
      "cell_type": "code",
      "source": [
        "df['주문날짜'].head()"
      ],
      "metadata": {
        "colab": {
          "base_uri": "https://localhost:8080/"
        },
        "id": "o_M4LG-xVilH",
        "outputId": "0bfd62d7-1212-461a-f769-d436e86ecadc"
      },
      "id": "o_M4LG-xVilH",
      "execution_count": 186,
      "outputs": [
        {
          "output_type": "execute_result",
          "data": {
            "text/plain": [
              "0   2022-01-01\n",
              "1   2022-01-01\n",
              "2   2022-01-01\n",
              "3   2022-01-01\n",
              "4   2022-01-01\n",
              "Name: 주문날짜, dtype: datetime64[ns]"
            ]
          },
          "metadata": {},
          "execution_count": 186
        }
      ]
    },
    {
      "cell_type": "code",
      "source": [
        "#일별 파악을 위해 변수 생성\n",
        "df['주문day'] = df['주문날짜'].dt.day"
      ],
      "metadata": {
        "id": "UfHwR702Viii"
      },
      "id": "UfHwR702Viii",
      "execution_count": 187,
      "outputs": []
    },
    {
      "cell_type": "code",
      "source": [
        "df['주문day']"
      ],
      "metadata": {
        "colab": {
          "base_uri": "https://localhost:8080/"
        },
        "id": "PtitSbDOVifT",
        "outputId": "fc21a7cf-d414-4f92-dd47-f0e153564192"
      },
      "id": "PtitSbDOVifT",
      "execution_count": 188,
      "outputs": [
        {
          "output_type": "execute_result",
          "data": {
            "text/plain": [
              "0         1\n",
              "1         1\n",
              "2         1\n",
              "3         1\n",
              "4         1\n",
              "         ..\n",
              "93315    30\n",
              "93316    30\n",
              "93317    30\n",
              "93318    30\n",
              "93319    30\n",
              "Name: 주문day, Length: 93320, dtype: int64"
            ]
          },
          "metadata": {},
          "execution_count": 188
        }
      ]
    },
    {
      "cell_type": "code",
      "source": [
        "#판매량이 많은 순서를 알아보기\n",
        "df.groupby('주문날짜')['주문번호'].count()"
      ],
      "metadata": {
        "colab": {
          "base_uri": "https://localhost:8080/"
        },
        "id": "9Zf3Wg4mVicr",
        "outputId": "5a379f57-c92f-4808-d6fd-0cbc1ada9618"
      },
      "id": "9Zf3Wg4mVicr",
      "execution_count": 123,
      "outputs": [
        {
          "output_type": "execute_result",
          "data": {
            "text/plain": [
              "주문날짜\n",
              "2022-01-01     30\n",
              "2022-01-02     21\n",
              "2022-01-03    114\n",
              "2022-01-04     36\n",
              "2022-01-05     78\n",
              "             ... \n",
              "2022-09-26    284\n",
              "2022-09-27    160\n",
              "2022-09-28    371\n",
              "2022-09-29    130\n",
              "2022-09-30    330\n",
              "Name: 주문번호, Length: 273, dtype: int64"
            ]
          },
          "metadata": {},
          "execution_count": 123
        }
      ]
    },
    {
      "cell_type": "markdown",
      "source": [
        "## 2) 월별로 가장 많은 판매량이 나온 날짜 그래프를 통해 분석하기"
      ],
      "metadata": {
        "id": "c3p8VuoGXnS6"
      },
      "id": "c3p8VuoGXnS6"
    },
    {
      "cell_type": "code",
      "source": [
        "import matplotlib.gridspec as gridspec\n",
        "grid = gridspec.GridSpec(3,3) # 그래프를 9개를 그려보겠습니다.\n",
        "\n",
        "plt.figure(figsize=(15,15))  \n",
        "plt.subplots_adjust(wspace=0.5, hspace=0.3) \n",
        "\n",
        "months = [i for i in range(1, 10)]\n",
        "\n",
        "for idx, month in enumerate(months):\n",
        "    ax = plt.subplot(grid[idx])\n",
        "    \n",
        "    sns.histplot(x='주문day',\n",
        "                 data=df[df['주문월'] == month],\n",
        "                 palette='pastel',\n",
        "                 bins=max(df['주문day']),\n",
        "                 ax=ax\n",
        "                )\n",
        "    ax.set_title(f'Month {month}')"
      ],
      "metadata": {
        "colab": {
          "base_uri": "https://localhost:8080/",
          "height": 1000
        },
        "id": "Sf9crp5wViZ_",
        "outputId": "4b08ba09-3dfd-4782-fdf8-d372418185ce"
      },
      "id": "Sf9crp5wViZ_",
      "execution_count": 124,
      "outputs": [
        {
          "output_type": "stream",
          "name": "stderr",
          "text": [
            "/usr/local/lib/python3.7/dist-packages/matplotlib/backends/backend_agg.py:214: RuntimeWarning: Glyph 51452 missing from current font.\n",
            "  font.set_text(s, 0.0, flags=flags)\n",
            "/usr/local/lib/python3.7/dist-packages/matplotlib/backends/backend_agg.py:214: RuntimeWarning: Glyph 47928 missing from current font.\n",
            "  font.set_text(s, 0.0, flags=flags)\n",
            "/usr/local/lib/python3.7/dist-packages/matplotlib/backends/backend_agg.py:183: RuntimeWarning: Glyph 51452 missing from current font.\n",
            "  font.set_text(s, 0, flags=flags)\n",
            "/usr/local/lib/python3.7/dist-packages/matplotlib/backends/backend_agg.py:183: RuntimeWarning: Glyph 47928 missing from current font.\n",
            "  font.set_text(s, 0, flags=flags)\n"
          ]
        },
        {
          "output_type": "display_data",
          "data": {
            "text/plain": [
              "<Figure size 1080x1080 with 9 Axes>"
            ],
            "image/png": "[encoded data removed]"
          },
          "metadata": {
            "needs_background": "light"
          }
        }
      ]
    },
    {
      "cell_type": "markdown",
      "source": [
        "- 판매량이 많은 날짜\n",
        "(-주변 날짜보다 2~3배 이상 눈에 띄게 큰 날짜를 중점적으로 파악하였습니다. -2월은 판매량 자체가 너무 적으므로 생략하였습니다.)\n",
        "* 1월 - 9일\n",
        "* 3월 - 13, 14일, 21일\n",
        "* 4월 - 24일\n",
        "* 5월 - 16일, 25일 (2천건 이상)\n",
        "* 6월 - 8일, 9일(3천건), 12일, 25일\n",
        "* 7월 - 4일, 13일, 21일, 27일, 29일\n",
        "* 8월 - 3일, 6일, 7일(가장 많음, 7천건 이상), 17일, 31일에도 유독 많음\n",
        "* 9월 - 19일 (상대적으로 다른 달에 비해 너무 적지만 그나마 많은 날짜)"
      ],
      "metadata": {
        "id": "tN74Ws1-XFIM"
      },
      "id": "tN74Ws1-XFIM"
    },
    {
      "cell_type": "markdown",
      "source": [
        "## 3) 월별로 가장 많은 판매액(매출)이 나온 날짜 그래프를 통해 분석하기"
      ],
      "metadata": {
        "id": "eW3fQimbXlk6"
      },
      "id": "eW3fQimbXlk6"
    },
    {
      "cell_type": "code",
      "source": [
        "import matplotlib.gridspec as gridspec\n",
        "grid = gridspec.GridSpec(5,2) # 그래프를 9개를 그려보겠습니다.\n",
        "\n",
        "plt.figure(figsize=(15,30))  \n",
        "plt.subplots_adjust(wspace=0.5, hspace=0.3) \n",
        "\n",
        "months = [i for i in range(1, 10)]\n",
        "\n",
        "for idx, month in enumerate(months):\n",
        "    ax = plt.subplot(grid[idx])\n",
        "    \n",
        "    sns.barplot(x='주문day',\n",
        "                y='판매액',\n",
        "                estimator=sum,\n",
        "                ci=None,\n",
        "                data=df[df['주문월'] == month],\n",
        "                palette='pastel',\n",
        "                ax=ax\n",
        "                )\n",
        "    ax.set_title(f'Month {month}')"
      ],
      "metadata": {
        "colab": {
          "base_uri": "https://localhost:8080/",
          "height": 1000
        },
        "id": "zeIkqbSsViT9",
        "outputId": "3f812757-6979-482e-99e0-73645bdde6dd"
      },
      "id": "zeIkqbSsViT9",
      "execution_count": 127,
      "outputs": [
        {
          "output_type": "stream",
          "name": "stderr",
          "text": [
            "/usr/local/lib/python3.7/dist-packages/matplotlib/backends/backend_agg.py:214: RuntimeWarning: Glyph 51452 missing from current font.\n",
            "  font.set_text(s, 0.0, flags=flags)\n",
            "/usr/local/lib/python3.7/dist-packages/matplotlib/backends/backend_agg.py:214: RuntimeWarning: Glyph 47928 missing from current font.\n",
            "  font.set_text(s, 0.0, flags=flags)\n",
            "/usr/local/lib/python3.7/dist-packages/matplotlib/backends/backend_agg.py:183: RuntimeWarning: Glyph 51452 missing from current font.\n",
            "  font.set_text(s, 0, flags=flags)\n",
            "/usr/local/lib/python3.7/dist-packages/matplotlib/backends/backend_agg.py:183: RuntimeWarning: Glyph 47928 missing from current font.\n",
            "  font.set_text(s, 0, flags=flags)\n",
            "/usr/local/lib/python3.7/dist-packages/matplotlib/backends/backend_agg.py:214: RuntimeWarning: Glyph 54032 missing from current font.\n",
            "  font.set_text(s, 0.0, flags=flags)\n",
            "/usr/local/lib/python3.7/dist-packages/matplotlib/backends/backend_agg.py:214: RuntimeWarning: Glyph 47588 missing from current font.\n",
            "  font.set_text(s, 0.0, flags=flags)\n",
            "/usr/local/lib/python3.7/dist-packages/matplotlib/backends/backend_agg.py:214: RuntimeWarning: Glyph 50529 missing from current font.\n",
            "  font.set_text(s, 0.0, flags=flags)\n",
            "/usr/local/lib/python3.7/dist-packages/matplotlib/backends/backend_agg.py:183: RuntimeWarning: Glyph 54032 missing from current font.\n",
            "  font.set_text(s, 0, flags=flags)\n",
            "/usr/local/lib/python3.7/dist-packages/matplotlib/backends/backend_agg.py:183: RuntimeWarning: Glyph 47588 missing from current font.\n",
            "  font.set_text(s, 0, flags=flags)\n",
            "/usr/local/lib/python3.7/dist-packages/matplotlib/backends/backend_agg.py:183: RuntimeWarning: Glyph 50529 missing from current font.\n",
            "  font.set_text(s, 0, flags=flags)\n"
          ]
        },
        {
          "output_type": "display_data",
          "data": {
            "text/plain": [
              "<Figure size 1080x2160 with 9 Axes>"
            ],
            "image/png": "[encoded data removed]"
          },
          "metadata": {
            "needs_background": "light"
          }
        }
      ]
    },
    {
      "cell_type": "markdown",
      "source": [
        "* 매출이 큰 날짜 \n",
        "(-상대적으로 매출이 적은 2월은 제외하였습니다.\n",
        "-또한 9월은 판매량이 적고 매출도 눈에 띄게 많이 나온 날짜가 없어 제외하였습니다.)\n",
        "* 1월 - 9일, 24일\n",
        "* 3월 - 13, 14일, 21일\n",
        "* 4월 - 13, 24일\n",
        "* 5월 - 16일, 25일\n",
        "* 6월 - 8일, 9일(3천건), 12일, 25일\n",
        "* 7월 - 4일, 13일, 21일, 27일, 29일\n",
        "* 8월 - 3일, 6일, 7일(가장 많음, 7천건 이상), 17, 25, 31일에도 유독 많음"
      ],
      "metadata": {
        "id": "3VCDbYI1YUhr"
      },
      "id": "3VCDbYI1YUhr"
    },
    {
      "cell_type": "markdown",
      "source": [
        "* 주문건수가 많은 날은 대체로 매출도 높은 경향이 있습니다.\n",
        "* 특히 주문건수, 매출이 모두 높은 날짜\n",
        "\n",
        "* 1월 9, 24일 \n",
        "* 3월 13, 14, 21일, \n",
        "* 4월 24일, \n",
        "* 5월 16, 25일 (5월부터 기하급수적으로 늘어나기 시작) \n",
        "* 6월 8,9,11, 25일, \n",
        "* 7월 4, 13, 21, 27, 29일, \n",
        "* 8월 3, 6, 7일"
      ],
      "metadata": {
        "id": "dg1VEpiDdG3Z"
      },
      "id": "dg1VEpiDdG3Z"
    },
    {
      "cell_type": "markdown",
      "source": [
        "### 1월 데이터 (9, 24일)"
      ],
      "metadata": {
        "id": "JArjEf5hd9lQ"
      },
      "id": "JArjEf5hd9lQ"
    },
    {
      "cell_type": "code",
      "source": [
        "# 1월 데이터 (9, 24일 살펴보기)\n",
        "\n",
        "df0109 = df[df['주문날짜'] == '2022-01-09']\n",
        "df0124 = df[df['주문날짜'] == '2022-01-24']"
      ],
      "metadata": {
        "id": "t9XEJJGiePL-"
      },
      "id": "t9XEJJGiePL-",
      "execution_count": 194,
      "outputs": []
    },
    {
      "cell_type": "markdown",
      "source": [
        "9일부터 살펴보겠습니다."
      ],
      "metadata": {
        "id": "nmHoFrsR6Pvz"
      },
      "id": "nmHoFrsR6Pvz"
    },
    {
      "cell_type": "code",
      "source": [
        "# 왕교자, 사골곰탕, 짬뽕 등이 이날 유독 많이 판매되었습니다.\n",
        "df0109['판매자상품명'].value_counts().head(10)"
      ],
      "metadata": {
        "colab": {
          "base_uri": "https://localhost:8080/"
        },
        "id": "QN-dNZ1sePom",
        "outputId": "ae694a81-5983-4c46-d6a6-0bb261267843"
      },
      "id": "QN-dNZ1sePom",
      "execution_count": 195,
      "outputs": [
        {
          "output_type": "execute_result",
          "data": {
            "text/plain": [
              "[CJ직배송]CJ비비고왕교자1.05KG X 2개           150\n",
              "CJ 비비고 사골곰탕 500g x18봉                 60\n",
              "[CJ직배송]포도씨유 900ML X 2개                28\n",
              "[롯데ON]고메 중화짬뽕 652g X 4개               25\n",
              "[CJ직배송]더건강한 닭가슴살 직화 통살구이100G X 6개     13\n",
              "고메 바삭쫄깃한 탕수육 450gx3개                  12\n",
              "[CJ직배송] CJ 햇반 백미 210g x 36개           10\n",
              "CJ 스팸 클래식 340gx4개                      9\n",
              "CJ 다담 된장찌개양념 530G X 4개                 7\n",
              "CJ 다담 매운버섯칼국수양념 150g x10               6\n",
              "Name: 판매자상품명, dtype: int64"
            ]
          },
          "metadata": {},
          "execution_count": 195
        }
      ]
    },
    {
      "cell_type": "code",
      "source": [
        "df0109['유입채널 대분류'].value_counts()"
      ],
      "metadata": {
        "colab": {
          "base_uri": "https://localhost:8080/"
        },
        "id": "DA4ZmNdWePlx",
        "outputId": "5e6d1b02-b47d-4c11-c809-b95b393c7876"
      },
      "id": "DA4ZmNdWePlx",
      "execution_count": 197,
      "outputs": [
        {
          "output_type": "execute_result",
          "data": {
            "text/plain": [
              "가격비교           184\n",
              "CJ 앱/사이트       183\n",
              "검색              37\n",
              "기타 및 이벤트 광고     36\n",
              "모바일 공유           5\n",
              "Name: 유입채널 대분류, dtype: int64"
            ]
          },
          "metadata": {},
          "execution_count": 197
        }
      ]
    },
    {
      "cell_type": "code",
      "source": [
        "df0109.groupby('판매자상품명')['판매액'].sum().sort_values(ascending=False)"
      ],
      "metadata": {
        "colab": {
          "base_uri": "https://localhost:8080/"
        },
        "id": "93Lkw6nrePi7",
        "outputId": "4c44c1d8-cb73-424f-997a-eea2f509cb3b"
      },
      "id": "93Lkw6nrePi7",
      "execution_count": 198,
      "outputs": [
        {
          "output_type": "execute_result",
          "data": {
            "text/plain": [
              "판매자상품명\n",
              "[CJ직배송]CJ비비고왕교자1.05KG X 2개             2694000\n",
              "[CJ직배송][22년 설 선물세트]21년 설 비비고 토종김 5호    2083300\n",
              "CJ 비비고 사골곰탕 500g x18봉                  1490400\n",
              "[CJ직배송][22년 설 선물세트]스팸마일드8호             1206400\n",
              "[CJ직배송][22년 설 선물세트]백설 고소함가득 참기름 A호     1044000\n",
              "                                        ...   \n",
              "CJ 다담 청국장찌개 양념 130g x10                  13800\n",
              "[CJ직배송]더건강한 닭가슴살 소시지120G X 6개            12000\n",
              "다담 부대찌개 양념 140G *8                       11040\n",
              "[CJ직배송]사계절쌈장500G X 3개                     7440\n",
              "[CJ직배송]백설소불고기양념290g X 2개                  5160\n",
              "Name: 판매액, Length: 87, dtype: int64"
            ]
          },
          "metadata": {},
          "execution_count": 198
        }
      ]
    },
    {
      "cell_type": "code",
      "source": [
        "print(df[df['판매자상품명'] == '[CJ직배송]CJ비비고왕교자1.05KG X 2개']['판매가'].unique())\n",
        "print(df[df['판매자상품명'] == '[CJ직배송][22년 설 선물세트]21년 설 비비고 토종김 5호']['판매가'].unique())"
      ],
      "metadata": {
        "colab": {
          "base_uri": "https://localhost:8080/"
        },
        "id": "N2zEDdqHePf9",
        "outputId": "aead3191-a793-45d0-93e8-35178acb142c"
      },
      "id": "N2zEDdqHePf9",
      "execution_count": 199,
      "outputs": [
        {
          "output_type": "stream",
          "name": "stdout",
          "text": [
            "[21330 17960 19920 22760 23620 23710 26620 19960 27730]\n",
            "[ 8300 10420 10000]\n"
          ]
        }
      ]
    },
    {
      "cell_type": "code",
      "source": [
        "# 9일을 살펴보니 할인을 진행했다는 것을 알 수 있습니다.\n",
        "\n",
        "print(df0109[df0109['판매자상품명'] == '[CJ직배송]CJ비비고왕교자1.05KG X 2개']['판매가'].unique())\n",
        "print(df0109[df0109['판매자상품명'] == '[CJ직배송][22년 설 선물세트]21년 설 비비고 토종김 5호']['판매가'].unique())"
      ],
      "metadata": {
        "colab": {
          "base_uri": "https://localhost:8080/"
        },
        "id": "tfU37OyOePaG",
        "outputId": "08a65102-7b1e-4733-f94a-e78bcff4bd50"
      },
      "id": "tfU37OyOePaG",
      "execution_count": 202,
      "outputs": [
        {
          "output_type": "stream",
          "name": "stdout",
          "text": [
            "[17960]\n",
            "[8300]\n"
          ]
        }
      ]
    },
    {
      "cell_type": "code",
      "source": [
        "# 이건 매출액이 커서 살펴보았더니 주문 한 건에서 250개를 사갔습니다.\n",
        "# 이건 순간적인 효과라서 중요한 변수로 보긴 어려울 것 같습니다.\n",
        "# 수량보다는 주문 건수가 중요한 변수인 것으로 보입니다.\n",
        "\n",
        "df0109[df0109['판매자상품명'] == '[CJ직배송][22년 설 선물세트]21년 설 비비고 토종김 5호']['수량']"
      ],
      "metadata": {
        "id": "VZEkFIUSePWy"
      },
      "id": "VZEkFIUSePWy",
      "execution_count": null,
      "outputs": []
    },
    {
      "cell_type": "code",
      "source": [
        "## 1월 9일날은 가격비교 사이트가 압도적으로 높습니다.\n",
        "\n",
        "df0109.groupby('유입채널 대분류')['판매액'].sum().sort_values(ascending=False)"
      ],
      "metadata": {
        "colab": {
          "base_uri": "https://localhost:8080/"
        },
        "id": "OxZC5_DDePTp",
        "outputId": "8aaba80f-3383-4ea7-99a4-70f484d3ae86"
      },
      "id": "OxZC5_DDePTp",
      "execution_count": 205,
      "outputs": [
        {
          "output_type": "execute_result",
          "data": {
            "text/plain": [
              "유입채널 대분류\n",
              "가격비교           9920380\n",
              "CJ 앱/사이트       5637580\n",
              "검색             1055300\n",
              "기타 및 이벤트 광고     777900\n",
              "모바일 공유           99760\n",
              "Name: 판매액, dtype: int64"
            ]
          },
          "metadata": {},
          "execution_count": 205
        }
      ]
    },
    {
      "cell_type": "code",
      "source": [
        "## 1월 9일날은 가격비교 사이트가 압도적으로 높습니다.\n",
        "\n",
        "df0109.groupby('유입채널')['판매액'].sum().sort_values(ascending=False)"
      ],
      "metadata": {
        "colab": {
          "base_uri": "https://localhost:8080/"
        },
        "id": "DUkPE5ShzSQQ",
        "outputId": "b8bdfa55-523c-4de8-bfd7-bb13cc83910d"
      },
      "id": "DUkPE5ShzSQQ",
      "execution_count": 211,
      "outputs": [
        {
          "output_type": "execute_result",
          "data": {
            "text/plain": [
              "유입채널\n",
              "[네이버] PCS 가격비교_롯데ON                7715860\n",
              "디폴트 채널상세                           5619620\n",
              "[에누리] PCS 가격비교_롯데ON                1349760\n",
              "[네이버] 키워드_쇼핑검색광고_롯데ON              1036300\n",
              "[다나와] PCS 가격비교_롯데ON                 589200\n",
              "[롯데ON][PUSH][실시간 BEST 🕠]            430380\n",
              "[다음카카오] PCS 가격비교_롯데ON               265560\n",
              "[모바일]카카오톡                            99760\n",
              "[롯데ON][알림톡][[롯데ON] 주문 완료 안내]         73700\n",
              "webtoapp                             53960\n",
              "[롯데마트][애프터위크 혜택, 이대로는 못보내지😘]         41960\n",
              "[롯데ON] MO Web 행사장_21.07_월간APP혜택      35920\n",
              "[구글] SA_롯데ON                         24840\n",
              "[네이버] 키워드_롯데ON                       24840\n",
              "브이피                                  20460\n",
              "[네이버] PC_브랜드검색_롯데ON                  19000\n",
              "[롯데ON][알림톡][[롯데ON] 배송완료 안내]          17960\n",
              "[롯데ON][애프터위크 라스트찬스🙋!]                17960\n",
              "[롯데ON][알림톡][[롯데ON] 주문취소 안내]          17960\n",
              "[롯데ON][알림톡][ [롯데ON] 주문완료 안내]         17960\n",
              "유실 채널상세                              17960\n",
              "Name: 판매액, dtype: int64"
            ]
          },
          "metadata": {},
          "execution_count": 211
        }
      ]
    },
    {
      "cell_type": "markdown",
      "source": [
        "1월 설에는 만두나 설 선물세트 할인행사를 활성화하고 가격비교 사이트에 광고를 싣는 것을 제안합니다.\n",
        "또한 CJ/앱 푸시알림을 전 고객에게 활성화하는 것을 제안합니다."
      ],
      "metadata": {
        "id": "-2RijtqYxk_7"
      },
      "id": "-2RijtqYxk_7"
    },
    {
      "cell_type": "code",
      "source": [
        "24일 살펴보겠습니다."
      ],
      "metadata": {
        "id": "oryCAEiU6S5y"
      },
      "id": "oryCAEiU6S5y",
      "execution_count": null,
      "outputs": []
    },
    {
      "cell_type": "code",
      "source": [
        "# 1/24날은 설 선물 세트로 매출을 올린 것 같아 보입니다.\n",
        "df0124.groupby('판매자상품명')['판매액'].sum().sort_values(ascending=False).head(10)"
      ],
      "metadata": {
        "colab": {
          "base_uri": "https://localhost:8080/"
        },
        "id": "vyUG3VDKyZEJ",
        "outputId": "e0ba0d39-12ac-4a0a-e17b-0a9da9b711f3"
      },
      "id": "vyUG3VDKyZEJ",
      "execution_count": 208,
      "outputs": [
        {
          "output_type": "execute_result",
          "data": {
            "text/plain": [
              "판매자상품명\n",
              "[CJ직배송]특별한선택 Y호                    3128850\n",
              "[CJ직배송][22년 설 선물세트]스팸1호            1670720\n",
              "[CJ직배송][22년 설 선물세트]스팸3호            1567280\n",
              "[CJ직배송] 최저가 혜택! 22년 설 선물 스팸 S2호    1313650\n",
              "[CJ직배송][22년 설 선물세트]유러피안 P2호 x4개     463900\n",
              "[CJ직배송]백설100%통참깨참기름300ML X 2개       167520\n",
              "[CJ직배송][22년 설 선물세트]스팸고급유7호          135000\n",
              "비비고 한섬만두 384G*2EA *2                 90480\n",
              "[CJ직배송]비비고 도톰동그랑땡 425G*2 X2개         64140\n",
              "[CJ직배송][22년 설 선물세트]스팸12호             63900\n",
              "Name: 판매액, dtype: int64"
            ]
          },
          "metadata": {},
          "execution_count": 208
        }
      ]
    },
    {
      "cell_type": "code",
      "source": [
        "# 하지만 1/24날 가장 많은 주문이 들어온 상품은 주문건수가 극단적으로 많지 않다.\n",
        "print(df0124[df0124['판매자상품명'] == '[CJ직배송][22년 설 선물세트]스팸3호']['유입채널 대분류'].value_counts())\n",
        "print('\\n')\n",
        "print(df0124[df0124['판매자상품명'] == '[CJ직배송]특별한선택 Y호']['유입채널 대분류'].value_counts())\n",
        "print('\\n')\n",
        "print(df0124[df0124['판매자상품명'] == '[CJ직배송]특별한선택 Y호']['수량'].unique())"
      ],
      "metadata": {
        "colab": {
          "base_uri": "https://localhost:8080/"
        },
        "id": "mEFg2Q3KykUv",
        "outputId": "390c899b-08d8-48b3-da28-7f2b1b4b33f6"
      },
      "id": "mEFg2Q3KykUv",
      "execution_count": 215,
      "outputs": [
        {
          "output_type": "stream",
          "name": "stdout",
          "text": [
            "CJ 앱/사이트    25\n",
            "Name: 유입채널 대분류, dtype: int64\n",
            "\n",
            "\n",
            "가격비교        19\n",
            "CJ 앱/사이트    16\n",
            "검색           1\n",
            "모바일 공유       1\n",
            "Name: 유입채널 대분류, dtype: int64\n",
            "\n",
            "\n",
            "[2 8 1 5]\n"
          ]
        }
      ]
    },
    {
      "cell_type": "code",
      "source": [
        "# 1월 9일날은 가격비교 사이트 9백 만원의 매출을 거두었는데, 이 날은 123만원을 거두었습니다.\n",
        "df0124.groupby('유입채널 대분류')['판매액'].sum().sort_values(ascending=False)"
      ],
      "metadata": {
        "colab": {
          "base_uri": "https://localhost:8080/"
        },
        "id": "QOQ02edqy32q",
        "outputId": "a56a8df0-7ef4-4480-df78-2204022d3c84"
      },
      "id": "QOQ02edqy32q",
      "execution_count": 213,
      "outputs": [
        {
          "output_type": "execute_result",
          "data": {
            "text/plain": [
              "유입채널 대분류\n",
              "CJ 앱/사이트       7994416\n",
              "가격비교           1233348\n",
              "기타 및 이벤트 광고     427540\n",
              "검색               67360\n",
              "모바일 공유           54760\n",
              "Name: 판매액, dtype: int64"
            ]
          },
          "metadata": {},
          "execution_count": 213
        }
      ]
    },
    {
      "cell_type": "markdown",
      "source": [
        "* 1월 9일 판매 데이터는 네이버를 통한 PCS 가격비교_롯데ON이 142건이나 되는데, 1월 24일 판매 데이터는 디폴트 채널에서만 거의 판매되었다. 가격에 대한 메리트가 크지 않아 그런 것이라 생각되지만 설 선물세트는 매출을 크게 차지하는 만큼 광고를 활성화하면 좋을 것을 생각됩니다."
      ],
      "metadata": {
        "id": "Osj5J6Dw0QEF"
      },
      "id": "Osj5J6Dw0QEF"
    },
    {
      "cell_type": "markdown",
      "source": [
        "## 3월 데이터 (13~14, 21일)"
      ],
      "metadata": {
        "id": "d-ezz8h61B2I"
      },
      "id": "d-ezz8h61B2I"
    },
    {
      "cell_type": "code",
      "source": [
        "df0313 = df[(df['주문날짜'] == '2022-03-13') | (df['주문날짜'] == '2022-03-14')]\n",
        "df0321 = df[df['주문날짜'] == '2022-03-21']"
      ],
      "metadata": {
        "id": "4rhtiLiQ1E9S"
      },
      "id": "4rhtiLiQ1E9S",
      "execution_count": 216,
      "outputs": []
    },
    {
      "cell_type": "markdown",
      "source": [
        "13일부터 살펴보겠습니다."
      ],
      "metadata": {
        "id": "298Ic3Ik6HOa"
      },
      "id": "298Ic3Ik6HOa"
    },
    {
      "cell_type": "code",
      "source": [
        "# 이 날은 CJ 만두, 비비고 식품 등이 많이 팔렸습니다.\n",
        "df0313['판매자상품명'].value_counts()"
      ],
      "metadata": {
        "colab": {
          "base_uri": "https://localhost:8080/"
        },
        "id": "Tms5bmuD1Jtu",
        "outputId": "5f282119-3877-4cd6-c343-bd9b3ff61a51"
      },
      "id": "Tms5bmuD1Jtu",
      "execution_count": 217,
      "outputs": [
        {
          "output_type": "execute_result",
          "data": {
            "text/plain": [
              "[CJ직배송][CJ] 비비고 왕교자1.05KG X 3봉 + 수제고기만두 증정           381\n",
              "천일염 소금/ 사골곰탕/비비고 죽/더비비고 특가 골라담기                       96\n",
              "고메 바삭쫄깃한 탕수육 450gx3개                                  23\n",
              "고메 순살 후라이드 치킨 550gx3개                                 12\n",
              "다담 된장찌개양념 530Gx2개                                      9\n",
              "                                                    ... \n",
              "[CJ직배송] 백설 토마토스파게티소스610G+로제 610G+아라비아따610G+면 500G      1\n",
              "[CJ직배송]물냉면908G+비빔냉면474.4GX2개                           1\n",
              "[CJ직배송][CJ]비비고왕교자455GX4봉+김치왕교자X2봉+수제고기만두증정             1\n",
              "[CJ직배송]햇반 저단백밥180G(원형) X10개                            1\n",
              "[사은품] 해찬들 우리쌀태양초골드고추장1kg+쇠고기볶음고추장500GX2                1\n",
              "Name: 판매자상품명, Length: 204, dtype: int64"
            ]
          },
          "metadata": {},
          "execution_count": 217
        }
      ]
    },
    {
      "cell_type": "code",
      "source": [
        "# 가격비교를 통해 약 300~400건, CJ 앱/사이트를 통해 약 500건 정도 주문이 들어왔습니다.\n",
        "df0313['유입채널 대분류'].value_counts()"
      ],
      "metadata": {
        "colab": {
          "base_uri": "https://localhost:8080/"
        },
        "id": "bv7-2zmI1OFO",
        "outputId": "fa9edeb8-248f-4b6f-a299-b9bdfa7ede74"
      },
      "id": "bv7-2zmI1OFO",
      "execution_count": 219,
      "outputs": [
        {
          "output_type": "execute_result",
          "data": {
            "text/plain": [
              "CJ 앱/사이트       474\n",
              "가격비교           380\n",
              "기타 및 이벤트 광고     45\n",
              "검색              25\n",
              "모바일 공유           4\n",
              "Name: 유입채널 대분류, dtype: int64"
            ]
          },
          "metadata": {},
          "execution_count": 219
        }
      ]
    },
    {
      "cell_type": "code",
      "source": [
        "# 이날은 만두가 매출이 무려 1187만원이나 될어 원인을 분석해보았습니다.\n",
        "df0313.groupby('판매자상품명')['판매액'].sum().sort_values(ascending=False).head(10)"
      ],
      "metadata": {
        "colab": {
          "base_uri": "https://localhost:8080/"
        },
        "id": "q_veM1M41eQ9",
        "outputId": "ca7ee435-01b2-4455-9dfa-daa0d12bdeeb"
      },
      "id": "q_veM1M41eQ9",
      "execution_count": 220,
      "outputs": [
        {
          "output_type": "execute_result",
          "data": {
            "text/plain": [
              "판매자상품명\n",
              "[CJ직배송][CJ] 비비고 왕교자1.05KG X 3봉 + 수제고기만두 증정    11877440\n",
              "천일염 소금/ 사골곰탕/비비고 죽/더비비고 특가 골라담기                 938748\n",
              "고메 바삭쫄깃한 탕수육 450gx3개                            666450\n",
              "고메 순살 후라이드 치킨 550gx3개                           549000\n",
              "[3/9 이후 출고][CJ직배송] CJ 햇반 발아현미밥 210Gx24개         363060\n",
              "비비고 왕교자 1.05KGx4개+비비고 찐만두 168gx1개               322920\n",
              "CJ 비비고 수제고기만두x2개+수제김치만두x2개                      262400\n",
              "CJ 비비고 왕교자 1.05x2개+새우왕교자315gx2개                 235600\n",
              "[CJ직배송]사골곰탕 500G X 15봉 +영양꼬리곰탕 증정               225000\n",
              "[특가+증정] CJ 비비고 왕교자 1.05kg X 3개 + 찐만두 증정         223440\n",
              "Name: 판매액, dtype: int64"
            ]
          },
          "metadata": {},
          "execution_count": 220
        }
      ]
    },
    {
      "cell_type": "code",
      "source": [
        "# 할인도 하지 않았습니다.\n",
        "print(df0313[df0313['판매자상품명'] == '[CJ직배송][CJ] 비비고 왕교자1.05KG X 3봉 + 수제고기만두 증정']['판매가'].unique())\n",
        "print(df[df['판매자상품명'] == '[CJ직배송][CJ] 비비고 왕교자1.05KG X 3봉 + 수제고기만두 증정']['판매가'].unique())"
      ],
      "metadata": {
        "colab": {
          "base_uri": "https://localhost:8080/"
        },
        "id": "ncXI9V111eNp",
        "outputId": "0e6cfc70-6cf8-43d6-86b4-57a8880eb1e2"
      },
      "id": "ncXI9V111eNp",
      "execution_count": 221,
      "outputs": [
        {
          "output_type": "stream",
          "name": "stdout",
          "text": [
            "[30560 33440]\n",
            "[30140 26000 30560 33440 27000 34000]\n"
          ]
        }
      ]
    },
    {
      "cell_type": "code",
      "source": [
        "# 수량에 이상치가 있나 확인해보아도 다들 1개나 2개씩 밖에 주문하지 않았습니다.\n",
        "df0313[df0313['판매자상품명'] == '[CJ직배송][CJ] 비비고 왕교자1.05KG X 3봉 + 수제고기만두 증정']['수량'].unique()"
      ],
      "metadata": {
        "colab": {
          "base_uri": "https://localhost:8080/"
        },
        "id": "yjVac1FK1eKg",
        "outputId": "4676b068-7fa8-4527-fc56-f560f89ee71c"
      },
      "id": "yjVac1FK1eKg",
      "execution_count": 222,
      "outputs": [
        {
          "output_type": "execute_result",
          "data": {
            "text/plain": [
              "array([1, 2])"
            ]
          },
          "metadata": {},
          "execution_count": 222
        }
      ]
    },
    {
      "cell_type": "code",
      "source": [
        "# 네이버가 엄청난 매출을 올리는데 도와준 것 같습니다. 원인은 유입매체였습니다.\n",
        "df0313[df0313['판매자상품명'] == '[CJ직배송][CJ] 비비고 왕교자1.05KG X 3봉 + 수제고기만두 증정']['유입채널'].value_counts()"
      ],
      "metadata": {
        "colab": {
          "base_uri": "https://localhost:8080/"
        },
        "id": "GAZB26tz1eGF",
        "outputId": "7c0ae1f5-51d2-44ff-f665-6454d40e1053"
      },
      "id": "GAZB26tz1eGF",
      "execution_count": 223,
      "outputs": [
        {
          "output_type": "execute_result",
          "data": {
            "text/plain": [
              "[네이버] PCS 가격비교_롯데ON             257\n",
              "디폴트 채널상세                         53\n",
              "유실 채널상세                          45\n",
              "[다나와] PCS 가격비교_롯데ON              10\n",
              "[다음카카오] PCS 가격비교_롯데ON             7\n",
              "[모바일]카카오톡                         3\n",
              "[네이버] MO_브랜드검색_롯데ON               2\n",
              "[롯데ON][PUSH][실시간 BEST 🕠]          2\n",
              "[모바일]다른앱공유하기                      1\n",
              "[롯데ON][알림톡][[롯데ON] 주문 완료 안내]      1\n",
              "Name: 유입채널, dtype: int64"
            ]
          },
          "metadata": {},
          "execution_count": 223
        }
      ]
    },
    {
      "cell_type": "markdown",
      "source": [
        "21일 살펴보겠습니다."
      ],
      "metadata": {
        "id": "c4qoaYhE6LoZ"
      },
      "id": "c4qoaYhE6LoZ"
    },
    {
      "cell_type": "code",
      "source": [
        "df0321['판매자상품명'].value_counts()"
      ],
      "metadata": {
        "colab": {
          "base_uri": "https://localhost:8080/"
        },
        "id": "r19Z52uh1eCQ",
        "outputId": "702dc7cf-57cd-49cc-b32e-dab92264cc29"
      },
      "id": "r19Z52uh1eCQ",
      "execution_count": 224,
      "outputs": [
        {
          "output_type": "execute_result",
          "data": {
            "text/plain": [
              "[CJ직배송][CJ] 비비고 왕교자1.05KG X 3봉 + 수제고기만두 증정    305\n",
              "비비고 왕교자 1.05KGx4개+비비고 찐만두 168gx1개              12\n",
              "비비고 사골곰탕 500g X18                               8\n",
              "CJ 해찬들 우리쌀로만든태양초골드고추장2kgP X 2개                  5\n",
              "[특가+증정] CJ 비비고 왕교자 1.05kg X 3개 + 찐만두 증정         5\n",
              "                                             ... \n",
              "[CJ직배송]산들애 한우 250G X2개                          1\n",
              "사천마라탕면 2인분 434G x4                              1\n",
              "프리미엄 햇반컵반 육개장국밥 217g x8                         1\n",
              "[CJ직배송]해바라기씨유 900ML X 2개                        1\n",
              "비비고 열무김치 500G x2                                1\n",
              "Name: 판매자상품명, Length: 79, dtype: int64"
            ]
          },
          "metadata": {},
          "execution_count": 224
        }
      ]
    },
    {
      "cell_type": "code",
      "source": [
        "# 3/13과는 다르게 이번에는 네이버가 원인이지 않습니다.\n",
        "df0321['유입채널 대분류'].value_counts()"
      ],
      "metadata": {
        "colab": {
          "base_uri": "https://localhost:8080/"
        },
        "id": "wNueN0HG1d73",
        "outputId": "1ad4bbaf-b78c-4526-88cd-c17e85b1da45"
      },
      "id": "wNueN0HG1d73",
      "execution_count": 226,
      "outputs": [
        {
          "output_type": "execute_result",
          "data": {
            "text/plain": [
              "CJ 앱/사이트       377\n",
              "가격비교            25\n",
              "기타 및 이벤트 광고     22\n",
              "모바일 공유           4\n",
              "검색               1\n",
              "Name: 유입채널 대분류, dtype: int64"
            ]
          },
          "metadata": {},
          "execution_count": 226
        }
      ]
    },
    {
      "cell_type": "code",
      "source": [
        "# 이번에도 만두의 비율이 매출에 영향을 많이 끼쳤습니다.\n",
        "df0321.groupby('판매자상품명')['판매액'].sum().sort_values(ascending=False).head(10)"
      ],
      "metadata": {
        "colab": {
          "base_uri": "https://localhost:8080/"
        },
        "id": "StijFkFP2dd-",
        "outputId": "3f34d9f4-9f9f-416a-b71a-734624349a0f"
      },
      "id": "StijFkFP2dd-",
      "execution_count": 227,
      "outputs": [
        {
          "output_type": "execute_result",
          "data": {
            "text/plain": [
              "판매자상품명\n",
              "[CJ직배송][CJ] 비비고 왕교자1.05KG X 3봉 + 수제고기만두 증정    8262000\n",
              "비비고 왕교자 1.05KGx4개+비비고 찐만두 168gx1개              420000\n",
              "[CJ직배송]CJ 꼬마 돈까스 450G X3개                      179100\n",
              "비비고 사골곰탕 500g X18                              176000\n",
              "[특가+증정] CJ 비비고 왕교자 1.05kg X 3개 + 찐만두 증정        140000\n",
              "CJ 해찬들 우리쌀로만든태양초골드고추장2kgP X 2개                 130250\n",
              "비비고 찰보리감자만두 600G x6                             96000\n",
              "[CJ직배송]비비고 김스낵 오리지널 36g                         87120\n",
              "고메 함박스테이크 540Gx3개                               78000\n",
              "CJ 비비고 왕교자 1.05x2개+새우왕교자315gx2개                 78000\n",
              "Name: 판매액, dtype: int64"
            ]
          },
          "metadata": {},
          "execution_count": 227
        }
      ]
    },
    {
      "cell_type": "code",
      "source": [
        "# 원인은 할인이였던 것으로 분석되었습니다.\n",
        "print(df0321[df0321['판매자상품명'] == '[CJ직배송][CJ] 비비고 왕교자1.05KG X 3봉 + 수제고기만두 증정']['판매가'].unique())\n",
        "print(df[df['판매자상품명'] == '[CJ직배송][CJ] 비비고 왕교자1.05KG X 3봉 + 수제고기만두 증정']['판매가'].unique())"
      ],
      "metadata": {
        "colab": {
          "base_uri": "https://localhost:8080/"
        },
        "id": "HJw6tDC-2lK7",
        "outputId": "d36d0413-bbad-45f7-f339-7946984ff97d"
      },
      "id": "HJw6tDC-2lK7",
      "execution_count": 228,
      "outputs": [
        {
          "output_type": "stream",
          "name": "stdout",
          "text": [
            "[27000]\n",
            "[30140 26000 30560 33440 27000 34000]\n"
          ]
        }
      ]
    },
    {
      "cell_type": "markdown",
      "source": [
        "만두는 네이버에 광고를 지속적으로 띄우거나 할인행사를 진행할 때 앱 푸시 알림을 더욱더 활성화시켜야 하겠습니다."
      ],
      "metadata": {
        "id": "jO072Q-r2ujH"
      },
      "id": "jO072Q-r2ujH"
    },
    {
      "cell_type": "markdown",
      "source": [
        "## 4월 데이터 (24일)\n",
        "* 4/13은 주문 건수가 적은데, 매출만 커서 1/9때 250개 주문한 효과인 것 같아 24일만 분석해보았습니다."
      ],
      "metadata": {
        "id": "Ah-jDMHd29Yd"
      },
      "id": "Ah-jDMHd29Yd"
    },
    {
      "cell_type": "code",
      "source": [
        "df0424 = df[df['주문날짜'] == '2022-04-24']"
      ],
      "metadata": {
        "id": "Etpbu0wO3MdR"
      },
      "id": "Etpbu0wO3MdR",
      "execution_count": 229,
      "outputs": []
    },
    {
      "cell_type": "code",
      "source": [
        "# 천일염/ 곰탕 특가, 포도씨유의 주문건수가 높습니다.\n",
        "df0424['판매자상품명'].value_counts()"
      ],
      "metadata": {
        "colab": {
          "base_uri": "https://localhost:8080/"
        },
        "id": "o9wfM1ec3Ucg",
        "outputId": "cc74e84e-7846-4e8a-9c65-d42169593a00"
      },
      "id": "o9wfM1ec3Ucg",
      "execution_count": 231,
      "outputs": [
        {
          "output_type": "execute_result",
          "data": {
            "text/plain": [
              "천일염 소금/ 사골곰탕/비비고 죽/더비비고 특가 골라담기          28\n",
              "[CJ직배송]포도씨유 900ML X 2개                   26\n",
              "[6+3]비비고 프리미엄 죽 6개 골라담기 +보양닭백숙죽 3개 증정    13\n",
              "다담 된장찌개양념 530Gx3개                        11\n",
              "다담 된장찌개양념 530G X 4개                      11\n",
              "                                         ..\n",
              "[CJ직배송]비비고 전복미역국 X 3개                     1\n",
              "[비비고X사내맞선] 비비고 육개장 500GX6개                1\n",
              "[비비고X사내맞선]비비고 버섯야채죽 420G X3개              1\n",
              "[비비고X사내맞선]비비고 삼선해물죽 420G X3개              1\n",
              "[비비고X사내맞선]비비고 총각김치 500G x3개               1\n",
              "Name: 판매자상품명, Length: 168, dtype: int64"
            ]
          },
          "metadata": {},
          "execution_count": 231
        }
      ]
    },
    {
      "cell_type": "code",
      "source": [
        "# 많이 팔리고, 매출도 큰 포도씨유를 집중 분석하겠습니다.\n",
        "df0424.groupby('판매자상품명')['판매액'].sum().sort_values(ascending=False).head(10)"
      ],
      "metadata": {
        "colab": {
          "base_uri": "https://localhost:8080/"
        },
        "id": "ymE8ozIY35ak",
        "outputId": "6712c7b8-cb94-48f8-e569-e112c11ac83a"
      },
      "id": "ymE8ozIY35ak",
      "execution_count": 235,
      "outputs": [
        {
          "output_type": "execute_result",
          "data": {
            "text/plain": [
              "판매자상품명\n",
              "[CJ직배송]포도씨유 900ML X 2개                   741200\n",
              "[6+3]비비고 프리미엄 죽 6개 골라담기 +보양닭백숙죽 3개 증정    442000\n",
              "고메 바삭쫄깃한 탕수육 450gx3개                     344520\n",
              "천일염 소금/ 사골곰탕/비비고 죽/더비비고 특가 골라담기          276800\n",
              "다담 된장찌개양념 530G X 4개                      234740\n",
              "[CJ직배송]햇반 발아현미밥 작은공기 130G*3번들 X7개        224560\n",
              "[채식만두]비비고 플랜테이블 왕교자 골라담기                 221220\n",
              "[비비고X사내맞선]왕교자 1.05kgx2 + 김치왕교자 420gx2    202580\n",
              "[CJ직배송] CJ 햇반 매일잡곡밥 210g x 24개           193600\n",
              "[파티컵증정]고메 순살 후라이드 치킨 550gx3개             187920\n",
              "Name: 판매액, dtype: int64"
            ]
          },
          "metadata": {},
          "execution_count": 235
        }
      ]
    },
    {
      "cell_type": "code",
      "source": [
        "# 천일염/ 곰탕은 특가여서 건수가 많지만 포도씨유야가 높은 원인을 살펴봐야겠습니다.\n",
        "df0424['판매자상품명'].value_counts()"
      ],
      "metadata": {
        "colab": {
          "base_uri": "https://localhost:8080/"
        },
        "id": "WKGNjHKI3ktJ",
        "outputId": "c40cc9bc-d31e-4349-8a9f-432c32ead978"
      },
      "id": "WKGNjHKI3ktJ",
      "execution_count": 230,
      "outputs": [
        {
          "output_type": "execute_result",
          "data": {
            "text/plain": [
              "천일염 소금/ 사골곰탕/비비고 죽/더비비고 특가 골라담기          28\n",
              "[CJ직배송]포도씨유 900ML X 2개                   26\n",
              "[6+3]비비고 프리미엄 죽 6개 골라담기 +보양닭백숙죽 3개 증정    13\n",
              "다담 된장찌개양념 530Gx3개                        11\n",
              "다담 된장찌개양념 530G X 4개                      11\n",
              "                                         ..\n",
              "[CJ직배송]비비고 전복미역국 X 3개                     1\n",
              "[비비고X사내맞선] 비비고 육개장 500GX6개                1\n",
              "[비비고X사내맞선]비비고 버섯야채죽 420G X3개              1\n",
              "[비비고X사내맞선]비비고 삼선해물죽 420G X3개              1\n",
              "[비비고X사내맞선]비비고 총각김치 500G x3개               1\n",
              "Name: 판매자상품명, Length: 168, dtype: int64"
            ]
          },
          "metadata": {},
          "execution_count": 230
        }
      ]
    },
    {
      "cell_type": "code",
      "source": [
        "# 보통 유입채널로 들어왔습니다.\n",
        "print(df0424[df0424['판매자상품명'] == '[CJ직배송]포도씨유 900ML X 2개']['유입채널 대분류'].value_counts())"
      ],
      "metadata": {
        "colab": {
          "base_uri": "https://localhost:8080/"
        },
        "id": "M1Vz3EN73klu",
        "outputId": "87623ace-6849-4423-b738-48d554c76972"
      },
      "id": "M1Vz3EN73klu",
      "execution_count": 237,
      "outputs": [
        {
          "output_type": "stream",
          "name": "stdout",
          "text": [
            "CJ 앱/사이트       22\n",
            "가격비교            3\n",
            "기타 및 이벤트 광고     1\n",
            "Name: 유입채널 대분류, dtype: int64\n"
          ]
        }
      ]
    },
    {
      "cell_type": "code",
      "source": [
        "# 할인의 효과도 아닌 것 같습니다.\n",
        "\n",
        "print(df0424[df0424['판매자상품명'] == '[CJ직배송]포도씨유 900ML X 2개']['판매가'].unique())\n",
        "print(df[df['판매자상품명'] == '[CJ직배송]포도씨유 900ML X 2개']['판매가'].unique())\n",
        "print(df[df['판매자상품명'] == '[CJ직배송]포도씨유 900ML X 2개']['판매가'].mean())"
      ],
      "metadata": {
        "colab": {
          "base_uri": "https://localhost:8080/"
        },
        "id": "0ZSmCN8j3kia",
        "outputId": "c22fb55a-3594-4063-a38e-bf66464d75ef"
      },
      "id": "0ZSmCN8j3kia",
      "execution_count": 238,
      "outputs": [
        {
          "output_type": "stream",
          "name": "stdout",
          "text": [
            "[21800]\n",
            "[18240 19000 17030 21800 30000 29170 20000 25000 27000 36000]\n",
            "21414.988186650917\n"
          ]
        }
      ]
    },
    {
      "cell_type": "code",
      "source": [
        "# 수량에 이상치는 없습니다.\n",
        "df0424[df0424['판매자상품명'] == '[CJ직배송]포도씨유 900ML X 2개']['수량'].unique()"
      ],
      "metadata": {
        "id": "-FX_IZi-3ker"
      },
      "id": "-FX_IZi-3ker",
      "execution_count": null,
      "outputs": []
    },
    {
      "cell_type": "markdown",
      "source": [
        "포도씨유는 주문건수가 높지 않더라도 매출액의 큰 비중을 차지하기 때문에 할인행사를 열거나 광고 빈도를 높이는 것을 제안합니다."
      ],
      "metadata": {
        "id": "4MccKDaV4hbg"
      },
      "id": "4MccKDaV4hbg"
    },
    {
      "cell_type": "markdown",
      "source": [
        "## 5월 데이터 16, 25일 분석"
      ],
      "metadata": {
        "id": "J102JpB64x5l"
      },
      "id": "J102JpB64x5l"
    },
    {
      "cell_type": "code",
      "source": [
        "df0516 = df[df['주문날짜'] == '2022-05-16']\n",
        "df0525 = df[df['주문날짜'] == '2022-05-25']"
      ],
      "metadata": {
        "id": "knjQT2Ce3kbD"
      },
      "id": "knjQT2Ce3kbD",
      "execution_count": 239,
      "outputs": []
    },
    {
      "cell_type": "markdown",
      "source": [
        "16일부터 살펴보겠습니다."
      ],
      "metadata": {
        "id": "jOb2bB8G6Xj4"
      },
      "id": "jOb2bB8G6Xj4"
    },
    {
      "cell_type": "code",
      "source": [
        "# 아까 4월에 등장했던 포도씨유의 수량이 높습니다.\n",
        "df0516['판매자상품명'].value_counts().head()"
      ],
      "metadata": {
        "colab": {
          "base_uri": "https://localhost:8080/"
        },
        "id": "JFnNDeQi3kXE",
        "outputId": "770afe6e-c6b1-470f-fb70-24e5c3b9d982"
      },
      "id": "JFnNDeQi3kXE",
      "execution_count": 240,
      "outputs": [
        {
          "output_type": "execute_result",
          "data": {
            "text/plain": [
              "[CJ직배송]포도씨유 900ML X 2개                      1716\n",
              "[CJ직배송]카놀라유 900ML X 2개                        47\n",
              "[비비고X사내맞선]비비고 왕교자1.05KG X 3봉 + 수제고기만두 증정      33\n",
              "[CJ직배송]해바라기씨유 900ML X 2개                      30\n",
              "[사은품]  해찬들 우리쌀로만든태양초골드고추장 1kg X2개             28\n",
              "Name: 판매자상품명, dtype: int64"
            ]
          },
          "metadata": {},
          "execution_count": 240
        }
      ]
    },
    {
      "cell_type": "code",
      "source": [
        "# 모바일에서 홍보를 크게한 모양입니다. 그리고 CJ앱/사이트도 많습니다.\n",
        "# 이건 모바일 어디에서 홍보글 보고 바로 들어왔거나, 읽고 조금 생각해보다 사야겠다 하고 채널로 직접 들어온 거 같습니다.\n",
        "# 결론은 블로그나 SNS를 통한 홍보가 큰 역할을 한 것으로 보입니다.\n",
        "df0516['유입채널 대분류'].value_counts().head()"
      ],
      "metadata": {
        "colab": {
          "base_uri": "https://localhost:8080/"
        },
        "id": "_BydhLaB3kSi",
        "outputId": "72ffdfb4-9119-4cd9-cd4e-23945945712b"
      },
      "id": "_BydhLaB3kSi",
      "execution_count": 242,
      "outputs": [
        {
          "output_type": "execute_result",
          "data": {
            "text/plain": [
              "모바일 공유         979\n",
              "CJ 앱/사이트       844\n",
              "가격비교           136\n",
              "기타 및 이벤트 광고     72\n",
              "검색               9\n",
              "Name: 유입채널 대분류, dtype: int64"
            ]
          },
          "metadata": {},
          "execution_count": 242
        }
      ]
    },
    {
      "cell_type": "code",
      "source": [
        "# 포도씨유의 매출액이 무려 4천 4백만원이나 됩니다.\n",
        "df0516.groupby('판매자상품명')['판매액'].sum().sort_values(ascending=False).head(10)"
      ],
      "metadata": {
        "colab": {
          "base_uri": "https://localhost:8080/"
        },
        "id": "Rchs_yty5cp6",
        "outputId": "15226936-56ea-4f51-dbe1-8a15da72308d"
      },
      "id": "Rchs_yty5cp6",
      "execution_count": 243,
      "outputs": [
        {
          "output_type": "execute_result",
          "data": {
            "text/plain": [
              "판매자상품명\n",
              "[CJ직배송]포도씨유 900ML X 2개                      44311400\n",
              "[비비고X사내맞선]비비고 왕교자1.05KG X 3봉 + 수제고기만두 증정     1039346\n",
              "[CJ직배송]카놀라유 900ML X 2개                        950500\n",
              "[CJ직배송]해바라기씨유 900ML X 2개                      833000\n",
              "[사은품]  해찬들 우리쌀로만든태양초골드고추장 1kg X2개             606120\n",
              "[CJ직배송][한박스]카놀라유 900mlx12개                    446400\n",
              "C J하선정 집김치처럼 시원한 포기김치 5kg                     224000\n",
              "CJ 옥수수식빵믹스 760G x4                            114600\n",
              "[CJ직배송][한박스]해바라기씨유 900mlx12개                  100000\n",
              "CJ 고메 바삭튀겨낸모짜렐라돈카츠 450Gx3개                     87510\n",
              "Name: 판매액, dtype: int64"
            ]
          },
          "metadata": {},
          "execution_count": 243
        }
      ]
    },
    {
      "cell_type": "code",
      "source": [
        "print(df0516[df0516['판매자상품명'] == '[CJ직배송]포도씨유 900ML X 2개']['판매가'].unique())"
      ],
      "metadata": {
        "colab": {
          "base_uri": "https://localhost:8080/"
        },
        "id": "JGF6eekd5cme",
        "outputId": "aac63649-d90d-4ddc-d6cb-0a35e05fc654"
      },
      "id": "JGF6eekd5cme",
      "execution_count": 244,
      "outputs": [
        {
          "output_type": "stream",
          "name": "stdout",
          "text": [
            "[20000 25000 21800 27000]\n"
          ]
        }
      ]
    },
    {
      "cell_type": "code",
      "source": [
        "# SNS에서 2만원에 판다는 홍보글에 사람들이 많이 구매한 것으로 보입니다.\n",
        "df0516[df0516['판매자상품명'] == '[CJ직배송]포도씨유 900ML X 2개'].groupby('유입매체')['판매가'].value_counts().head(20)"
      ],
      "metadata": {
        "colab": {
          "base_uri": "https://localhost:8080/"
        },
        "id": "wTMI-AVY5cjt",
        "outputId": "a7273eab-c1dc-415b-834f-110916bf72a7"
      },
      "id": "wTMI-AVY5cjt",
      "execution_count": 245,
      "outputs": [
        {
          "output_type": "execute_result",
          "data": {
            "text/plain": [
              "유입매체    판매가  \n",
              "APP     20000    851\n",
              "        21800    180\n",
              "        25000     31\n",
              "        27000     15\n",
              "MO WEB  20000    444\n",
              "        21800    140\n",
              "        25000     11\n",
              "        27000      9\n",
              "PC      20000     25\n",
              "        21800      9\n",
              "        25000      1\n",
              "Name: 판매가, dtype: int64"
            ]
          },
          "metadata": {},
          "execution_count": 245
        }
      ]
    },
    {
      "cell_type": "markdown",
      "source": [
        "25일 살펴보겠습니다."
      ],
      "metadata": {
        "id": "T-pFF62z59Zb"
      },
      "id": "T-pFF62z59Zb"
    },
    {
      "cell_type": "code",
      "source": [
        "# 왕교자는 원래 수요가 좋은데 이날은 5% 할인 소식에 많이 구매하는 것으로 보입니다.\n",
        "# 갑자기 이날은 죽 골라담기 주문 또한 할인의 영향으로 많이 유입된 것으로 보입니다.\n",
        "\n",
        "df0525['판매자상품명'].value_counts()"
      ],
      "metadata": {
        "colab": {
          "base_uri": "https://localhost:8080/"
        },
        "id": "8d3n0Efp5chC",
        "outputId": "9de1bed9-2f07-4060-8956-32d4cc317935"
      },
      "id": "8d3n0Efp5chC",
      "execution_count": 246,
      "outputs": [
        {
          "output_type": "execute_result",
          "data": {
            "text/plain": [
              "[6+3+5%추가쿠폰]비비고 프리미엄 죽 6개 골라담기 +보양닭백숙죽 3개 증정              945\n",
              "[5%추가쿠폰 확인!]비비고 왕교자 1.05KGx4개+비비고 찐만두 168gx1개             688\n",
              "비비고 왕교자 1.05KGx4개+비비고 찐만두 168gx1개                         142\n",
              "[6+3+5%추가쿠폰]비비고 프리미엄 죽 6개 골라담기 +보양닭백숙죽/통단팥죽 (택1) 3개 증정     43\n",
              "[2+1][3+2]CJ제일제당 쁘띠첼 미초 석류+청포도+복숭아 外 골라담기                  13\n",
              "                                                         ... \n",
              "[비비고X사내맞선]비비고 차돌깍두기볶음밥 410g x3개                             1\n",
              "[CJ직배송]고기전용쌈장450G X 3개                                      1\n",
              "[CJ직배송]더비비고 영양오리백숙 700g                                     1\n",
              "프리미엄 햇반컵반 철판제육덮밥 250g x6                                    1\n",
              "CJ 스팸 클래식 340gx4개                                           1\n",
              "Name: 판매자상품명, Length: 139, dtype: int64"
            ]
          },
          "metadata": {},
          "execution_count": 246
        }
      ]
    },
    {
      "cell_type": "code",
      "source": [
        "# 아무래도 할인 쿠폰 제공이니 앱/웹을 통한 유입이 많습니다.\n",
        "df0525['유입채널 대분류'].value_counts().head()"
      ],
      "metadata": {
        "colab": {
          "base_uri": "https://localhost:8080/"
        },
        "id": "v5hyRtvr5ceU",
        "outputId": "5a484897-7bb0-44a6-f90e-09dea8f0eb06"
      },
      "id": "v5hyRtvr5ceU",
      "execution_count": 247,
      "outputs": [
        {
          "output_type": "execute_result",
          "data": {
            "text/plain": [
              "CJ 앱/사이트       1892\n",
              "기타 및 이벤트 광고      91\n",
              "가격비교             53\n",
              "모바일 공유           20\n",
              "검색               19\n",
              "Name: 유입채널 대분류, dtype: int64"
            ]
          },
          "metadata": {},
          "execution_count": 247
        }
      ]
    },
    {
      "cell_type": "code",
      "source": [
        "# 엄청난 매출을 두 상품이 차지하고 있습니다.\n",
        "df0525.groupby('판매자상품명')['판매액'].sum().sort_values(ascending=False).head(10)"
      ],
      "metadata": {
        "colab": {
          "base_uri": "https://localhost:8080/"
        },
        "id": "ppBLnBZl6vEc",
        "outputId": "8af393df-cf56-4d62-863a-fb6ffa1de572"
      },
      "id": "ppBLnBZl6vEc",
      "execution_count": 248,
      "outputs": [
        {
          "output_type": "execute_result",
          "data": {
            "text/plain": [
              "판매자상품명\n",
              "[6+3+5%추가쿠폰]비비고 프리미엄 죽 6개 골라담기 +보양닭백숙죽 3개 증정              29840400\n",
              "[5%추가쿠폰 확인!]비비고 왕교자 1.05KGx4개+비비고 찐만두 168gx1개             27934720\n",
              "비비고 왕교자 1.05KGx4개+비비고 찐만두 168gx1개                          5674240\n",
              "[6+3+5%추가쿠폰]비비고 프리미엄 죽 6개 골라담기 +보양닭백숙죽/통단팥죽 (택1) 3개 증정     1473600\n",
              "[비비고X사내맞선]비비고 왕교자1.05KG X 3봉 + 수제고기만두 증정                    312480\n",
              "[2+1][3+2]CJ제일제당 쁘띠첼 미초 석류+청포도+복숭아 外 골라담기                   217080\n",
              "[CJ직배송] 햇반 작은공기 130GX24개                                    199980\n",
              "C J하선정 집김치처럼 시원한 포기김치 5kg                                   194600\n",
              "[CJ직배송]동치미물냉면4인분 1816G X2개                                  187500\n",
              "[비비고X사내맞선]비비고 김치볶음 80G x10개                                 180000\n",
              "Name: 판매액, dtype: int64"
            ]
          },
          "metadata": {},
          "execution_count": 248
        }
      ]
    },
    {
      "cell_type": "markdown",
      "source": [
        "만두는 원래 수요가 좋고 죽 골라담기 상품은 매출이 매우 높으니 주기적으로 할인을 진행하는 것을 제안합니다."
      ],
      "metadata": {
        "id": "NmmRkAAs6yuY"
      },
      "id": "NmmRkAAs6yuY"
    },
    {
      "cell_type": "markdown",
      "source": [
        "# 6월 데이터 분석 (8, 9, 25일) 분석"
      ],
      "metadata": {
        "id": "KB6dq0mo7Afd"
      },
      "id": "KB6dq0mo7Afd"
    },
    {
      "cell_type": "code",
      "source": [
        "df0608 = df[(df['주문날짜'] == '2022-06-08') | (df['주문날짜'] == '2022-06-09')]\n",
        "df0625 = df[df['주문날짜'] == '2022-06-25']"
      ],
      "metadata": {
        "id": "kx8nKKTE69Kx"
      },
      "id": "kx8nKKTE69Kx",
      "execution_count": 251,
      "outputs": []
    },
    {
      "cell_type": "markdown",
      "source": [
        "8일 살펴보겠습니다."
      ],
      "metadata": {
        "id": "nJSoqxyq7Par"
      },
      "id": "nJSoqxyq7Par"
    },
    {
      "cell_type": "code",
      "source": [
        "#8일에는 곰탕, 볶음밥 제품이 압도적입니다.\n",
        "df0608['판매자상품명'].value_counts().head()"
      ],
      "metadata": {
        "colab": {
          "base_uri": "https://localhost:8080/"
        },
        "id": "Cqvp5hyM7Oqw",
        "outputId": "947757e5-67b3-4630-cb59-a6cb822ea5a8"
      },
      "id": "Cqvp5hyM7Oqw",
      "execution_count": 252,
      "outputs": [
        {
          "output_type": "execute_result",
          "data": {
            "text/plain": [
              "비비고 BEST 볶음밥 3종 특가[불고기 비빔밥 + 매콤부추고기볶음밥 + 간장버터장조림볶음밥]    2102\n",
              "비비고 사골곰탕 500g x18봉                                      1248\n",
              "햇반 쿡반불고기500+치즈500+버터장조림500+치즈닭갈비500G                     409\n",
              "CJ 햇반 쿡반 주먹밥 5종 골라담기                                     357\n",
              "미역국 X 5개 + 사골곰탕 X2개+ 영양꼬리곰탕 1봉 증정                        297\n",
              "Name: 판매자상품명, dtype: int64"
            ]
          },
          "metadata": {},
          "execution_count": 252
        }
      ]
    },
    {
      "cell_type": "code",
      "source": [
        "df0608['유입채널 대분류'].value_counts().head()"
      ],
      "metadata": {
        "colab": {
          "base_uri": "https://localhost:8080/"
        },
        "id": "VltmV7W87dkY",
        "outputId": "db888879-8a17-484c-8a93-d2198922d9df"
      },
      "id": "VltmV7W87dkY",
      "execution_count": 254,
      "outputs": [
        {
          "output_type": "execute_result",
          "data": {
            "text/plain": [
              "CJ 앱/사이트       5013\n",
              "기타 및 이벤트 광고     136\n",
              "모바일 공유           38\n",
              "가격비교             21\n",
              "검색                5\n",
              "Name: 유입채널 대분류, dtype: int64"
            ]
          },
          "metadata": {},
          "execution_count": 254
        }
      ]
    },
    {
      "cell_type": "code",
      "source": [
        "df0608.groupby('판매자상품명')['판매액'].sum().sort_values(ascending=False).head(10)"
      ],
      "metadata": {
        "colab": {
          "base_uri": "https://localhost:8080/"
        },
        "id": "fRluvTJU7hqg",
        "outputId": "71e68cfd-db05-490e-8e19-1bdcdaa457de"
      },
      "id": "fRluvTJU7hqg",
      "execution_count": 255,
      "outputs": [
        {
          "output_type": "execute_result",
          "data": {
            "text/plain": [
              "판매자상품명\n",
              "비비고 BEST 볶음밥 3종 특가[불고기 비빔밥 + 매콤부추고기볶음밥 + 간장버터장조림볶음밥]    61240100\n",
              "비비고 사골곰탕 500g x18봉                                      29952000\n",
              "햇반 쿡반불고기500+치즈500+버터장조림500+치즈닭갈비500G                    13175000\n",
              "CJ 햇반 쿡반 주먹밥 5종 골라담기                                     7918900\n",
              "미역국 X 5개 + 사골곰탕 X2개+ 영양꼬리곰탕 1봉 증정                        6776000\n",
              "[CJ직배송][한박스]비비고 한우사골곰탕 500gx18개                          4557000\n",
              "육개장 X 5개 + 사골곰탕 X2개 +육개장300g 증정                          1536000\n",
              "비비고 진국육수 3종 + 한우사골곰탕 500G 구매시 육개장300g 1봉 증정              1066500\n",
              "해찬들 우리쌀로만든태양초골드고추장 1kg X2개                                877815\n",
              "비비고 왕교자 1.05KGx4개+비비고 찐만두 168gx1개                         680000\n",
              "Name: 판매액, dtype: int64"
            ]
          },
          "metadata": {},
          "execution_count": 255
        }
      ]
    },
    {
      "cell_type": "code",
      "source": [
        "# 원인은 할인이였고 그렇기에 앱/웹을 통한 유입이 많았더것으로 보입니다.\n",
        "\n",
        "print(df0608[df0608['판매자상품명'] == '비비고 BEST 볶음밥 3종 특가[불고기 비빔밥 + 매콤부추고기볶음밥 + 간장버터장조림볶음밥]']['판매가'].unique())\n",
        "print(df[df['판매자상품명'] == '비비고 BEST 볶음밥 3종 특가[불고기 비빔밥 + 매콤부추고기볶음밥 + 간장버터장조림볶음밥]']['판매가'].unique())\n",
        "print(df[df['판매자상품명'] == '비비고 BEST 볶음밥 3종 특가[불고기 비빔밥 + 매콤부추고기볶음밥 + 간장버터장조림볶음밥]']['판매가'].mean())"
      ],
      "metadata": {
        "colab": {
          "base_uri": "https://localhost:8080/"
        },
        "id": "OxHskVqh7k_r",
        "outputId": "72a1e9b7-b651-4d45-8088-928ee1b68be0"
      },
      "id": "OxHskVqh7k_r",
      "execution_count": 260,
      "outputs": [
        {
          "output_type": "stream",
          "name": "stdout",
          "text": [
            "[11000 14700]\n",
            "[11000 14700 15400 14900 15900]\n",
            "14755.401111993646\n"
          ]
        }
      ]
    },
    {
      "cell_type": "code",
      "source": [
        "print(df0608[df0608['판매자상품명'] == '비비고 BEST 볶음밥 3종 특가[불고기 비빔밥 + 매콤부추고기볶음밥 + 간장버터장조림볶음밥]']['판매가'].value_counts())"
      ],
      "metadata": {
        "id": "OocZ3RNo70SK"
      },
      "id": "OocZ3RNo70SK",
      "execution_count": null,
      "outputs": []
    },
    {
      "cell_type": "markdown",
      "source": [
        "25일 살펴보겠습니다."
      ],
      "metadata": {
        "id": "s5wtuRu279vO"
      },
      "id": "s5wtuRu279vO"
    },
    {
      "cell_type": "code",
      "source": [
        "df0625['판매자상품명'].value_counts().head()"
      ],
      "metadata": {
        "colab": {
          "base_uri": "https://localhost:8080/"
        },
        "id": "xOMTJZtK79cG",
        "outputId": "a13ccfd5-b4c4-4ec1-c17e-7e17193a5963"
      },
      "id": "xOMTJZtK79cG",
      "execution_count": 261,
      "outputs": [
        {
          "output_type": "execute_result",
          "data": {
            "text/plain": [
              "[Lpoint 1,000P 지급]햇반 작은공기, 100% 현미밥 x 36개 특가 (1,000set 한정)    1495\n",
              "비비고 사골곰탕 500g x18봉                                              67\n",
              "[한박스]비비고 한우사골곰탕 500gx18개                                        39\n",
              "[CJ직배송]햇반 100%현미로 지은밥 130G x36개                                 21\n",
              "[복날 준비 특가]누룽지닭백숙죽/전복삼계죽/녹두닭죽 外 + 보양닭백숙죽 증정                      17\n",
              "Name: 판매자상품명, dtype: int64"
            ]
          },
          "metadata": {},
          "execution_count": 261
        }
      ]
    },
    {
      "cell_type": "code",
      "source": [
        "df0625['유입채널 대분류'].value_counts().head()"
      ],
      "metadata": {
        "colab": {
          "base_uri": "https://localhost:8080/"
        },
        "id": "wnk9GEUd8DLa",
        "outputId": "4e52f83d-3eeb-46bb-8ce2-a3cd5a6eb574"
      },
      "id": "wnk9GEUd8DLa",
      "execution_count": 263,
      "outputs": [
        {
          "output_type": "execute_result",
          "data": {
            "text/plain": [
              "CJ 앱/사이트       1729\n",
              "기타 및 이벤트 광고      46\n",
              "가격비교             20\n",
              "모바일 공유           18\n",
              "검색               11\n",
              "Name: 유입채널 대분류, dtype: int64"
            ]
          },
          "metadata": {},
          "execution_count": 263
        }
      ]
    },
    {
      "cell_type": "code",
      "source": [
        "df0625.groupby('판매자상품명')['판매액'].sum().sort_values(ascending=False).head(10)"
      ],
      "metadata": {
        "colab": {
          "base_uri": "https://localhost:8080/"
        },
        "id": "8fhu71dd8K7G",
        "outputId": "8ef2fb17-dd38-4d09-a691-ea3fa37e1d16"
      },
      "id": "8fhu71dd8K7G",
      "execution_count": 264,
      "outputs": [
        {
          "output_type": "execute_result",
          "data": {
            "text/plain": [
              "판매자상품명\n",
              "[Lpoint 1,000P 지급]햇반 작은공기, 100% 현미밥 x 36개 특가 (1,000set 한정)    59317800\n",
              "비비고 사골곰탕 500g x18봉                                             1752000\n",
              "[한박스]비비고 한우사골곰탕 500gx18개                                       1066000\n",
              "[CJ직배송]햇반 100%현미로 지은밥 130G x36개                                1035000\n",
              "[복날 준비 특가]누룽지닭백숙죽/전복삼계죽/녹두닭죽 外 + 보양닭백숙죽 증정                      335750\n",
              "비비고 왕교자 1.05KGx4개+비비고 찐만두 168gx1개                               240000\n",
              "CJ 햇반 쿡반 주먹밥 5종 골라담기                                            240000\n",
              "비비고 국물요리 BEST 9종                                                219000\n",
              "[6+2]비비고 용기형 단호박죽/통단팥죽/흑임자죽 + 버섯야채죽 280GX2개 증정                  210000\n",
              "[CJ직배송]햇반작은공기130G x36개                                          208800\n",
              "Name: 판매액, dtype: int64"
            ]
          },
          "metadata": {},
          "execution_count": 264
        }
      ]
    },
    {
      "cell_type": "code",
      "source": [
        "print(df0625[df0625['판매자상품명'] == '[Lpoint 1,000P 지급]햇반 작은공기, 100% 현미밥 x 36개 특가 (1,000set 한정)']['판매가'].unique())\n",
        "print(df[df['판매자상품명'] == '[Lpoint 1,000P 지급]햇반 작은공기, 100% 현미밥 x 36개 특가 (1,000set 한정)']['판매가'].unique())\n",
        "print(df[df['판매자상품명'] == '[Lpoint 1,000P 지급]햇반 작은공기, 100% 현미밥 x 36개 특가 (1,000set 한정)']['판매가'].mean())"
      ],
      "metadata": {
        "colab": {
          "base_uri": "https://localhost:8080/"
        },
        "id": "ywROvcRL8K3f",
        "outputId": "bf6545ba-8436-4f1a-e987-0c7d789d0959"
      },
      "id": "ywROvcRL8K3f",
      "execution_count": 265,
      "outputs": [
        {
          "output_type": "stream",
          "name": "stdout",
          "text": [
            "[34800 45000]\n",
            "[34800 45000]\n",
            "38040.6976744186\n"
          ]
        }
      ]
    },
    {
      "cell_type": "markdown",
      "source": [
        "특가 행사로 인하여 매출이 많은 것으로 보입니다. 앱, 웹을 통해 매출이 높은 햇반 종류 할인을 할 때 푸시알림을 활성화하는 것이 좋을 것 같습니다."
      ],
      "metadata": {
        "id": "SGTERF4Q8SRL"
      },
      "id": "SGTERF4Q8SRL"
    }
  ],
  "metadata": {
    "kernelspec": {
      "display_name": "Python 3",
      "language": "python",
      "name": "python3"
    },
    "language_info": {
      "codemirror_mode": {
        "name": "ipython",
        "version": 3
      },
      "file_extension": ".py",
      "mimetype": "text/x-python",
      "name": "python",
      "nbconvert_exporter": "python",
      "pygments_lexer": "ipython3",
      "version": "3.8.8"
    },
    "colab": {
      "provenance": [],
      "toc_visible": true,
      "include_colab_link": true
    }
  },
  "nbformat": 4,
  "nbformat_minor": 5
}